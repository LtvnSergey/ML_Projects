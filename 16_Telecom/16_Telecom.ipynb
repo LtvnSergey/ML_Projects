{
 "cells": [
  {
   "cell_type": "markdown",
   "metadata": {},
   "source": [
    "<h1><center>Проект Телеком</center></h1>"
   ]
  },
  {
   "cell_type": "markdown",
   "metadata": {},
   "source": [
    "# Условие задачи <a class=\"anchor\" id=\"1-bullet\"></a>"
   ]
  },
  {
   "cell_type": "markdown",
   "metadata": {},
   "source": [
    "Оператор связи «Ниединогоразрыва.ком» хочет научиться прогнозировать отток клиентов. Если выяснится, что пользователь планирует уйти, ему будут предложены промокоды и специальные условия. Команда оператора собрала персональные данные о некоторых клиентах, информацию об их тарифах и договорах.\n",
    "\n",
    "- Целевой признак: столбец `'EndDate'` равен `'No'`.\n",
    "\n",
    "\n",
    "- Основная метрика: AUC-ROC.\n",
    "\n",
    "\n",
    "- Дополнительная метрика: Accuracy.\n",
    "\n",
    "\n",
    "- Критерии оценки:\n",
    "\n",
    "    - AUC-ROC < 0.75 — 0 sp\n",
    "    - 0.75 ≤ AUC-ROC < 0.81 — 4 sp\n",
    "    - 0.81 ≤ AUC-ROC < 0.85 — 4.5 sp\n",
    "    - 0.85 ≤ AUC-ROC < 0.87 — 5 sp\n",
    "    - 0.87 ≤ AUC-ROC < 0.88 — 5.5 sp\n",
    "    - AUC-ROC ≥ 0.88 — 6 sp"
   ]
  },
  {
   "cell_type": "markdown",
   "metadata": {},
   "source": [
    "# Содержание:\n",
    "\n",
    "* [Условие задачи](#1-bullet)\n",
    "\n",
    "\n",
    "* [Описание услуг](#2-bullet)\n",
    "\n",
    "\n",
    "* [Описание данных](#3-bullet)\n",
    "\n",
    "\n",
    "* [Импорт модулей](#4-bullet)\n",
    "\n",
    "\n",
    "* [Константы](#4.1-bullet)\n",
    "\n",
    "\n",
    "* [Функции](#4.2-bullet)\n",
    "\n",
    "\n",
    "* [Загрузка данных](#5-bullet)\n",
    "\n",
    "\n",
    "* [Исследовательский анализ данных](#6-bullet)\n",
    "\n",
    "\n",
    "* [Подготовка признаков](#6.2-bullet)\n",
    "\n",
    "\n",
    "* [Построение моделей](#7-bullet)\n",
    "\n",
    "\n",
    "* [Тестирование моделей](#8-bullet)\n",
    "\n",
    "\n",
    "* [Общий вывод](#9-bullet)\n",
    "\n",
    "\n",
    "* [Отчет](#10-bullet)"
   ]
  },
  {
   "cell_type": "markdown",
   "metadata": {},
   "source": [
    "# Описание услуг <a class=\"anchor\" id=\"2-bullet\"></a>"
   ]
  },
  {
   "cell_type": "markdown",
   "metadata": {},
   "source": [
    "Оператор предоставляет два основных типа услуг: \n",
    "\n",
    "1. Стационарную телефонную связь. Возможно подключение телефонного аппарата к нескольким линиям одновременно.\n",
    "\n",
    "\n",
    "2. Интернет. Подключение может быть двух типов: через телефонную линию (DSL*,* от англ. *digital subscriber line*, «цифровая абонентская линия») или оптоволоконный кабель (*Fiber optic*).\n",
    "\n",
    "Также доступны такие услуги:\n",
    "\n",
    "- Интернет-безопасность: антивирус (*DeviceProtection*) и блокировка небезопасных сайтов (*OnlineSecurity*);\n",
    "\n",
    "\n",
    "- Выделенная линия технической поддержки (*TechSupport*);\n",
    "\n",
    "\n",
    "- Облачное хранилище файлов для резервного копирования данных (*OnlineBackup*);\n",
    "\n",
    "\n",
    "- Стриминговое телевидение (*StreamingTV*) и каталог фильмов (*StreamingMovies*).\n",
    "\n",
    "За услуги клиенты могут платить каждый месяц или заключить договор на 1–2 года. Доступны различные способы расчёта и возможность получения электронного чека."
   ]
  },
  {
   "cell_type": "markdown",
   "metadata": {},
   "source": [
    "# Описание данных <a class=\"anchor\" id=\"3-bullet\"></a>"
   ]
  },
  {
   "cell_type": "markdown",
   "metadata": {},
   "source": [
    "Данные состоят из файлов, полученных из разных источников:\n",
    "\n",
    "- `contract.csv` — информация о договоре;\n",
    "- `personal.csv` — персональные данные клиента;\n",
    "- `internet.csv` — информация об интернет-услугах;\n",
    "- `phone.csv` — информация об услугах телефонии.\n",
    "\n",
    "Во всех файлах столбец `customerID` содержит код клиента.\n",
    "\n",
    "Информация о договорах актуальна на 1 февраля 2020."
   ]
  },
  {
   "cell_type": "markdown",
   "metadata": {},
   "source": [
    "# Импорт модулей <a class=\"anchor\" id=\"4-bullet\"></a>"
   ]
  },
  {
   "cell_type": "code",
   "execution_count": 5,
   "metadata": {},
   "outputs": [],
   "source": [
    "import pandas as pd\n",
    "import numpy as np\n",
    "import seaborn as sns\n",
    "import matplotlib.pyplot as plt\n",
    "import datetime\n",
    "from scipy import stats\n",
    "import warnings\n",
    "import time\n",
    "\n",
    "from sklearn.preprocessing import MinMaxScaler\n",
    "from sklearn.model_selection import train_test_split, cross_validate, RandomizedSearchCV, StratifiedShuffleSplit, ParameterGrid\n",
    "from sklearn.ensemble import RandomForestClassifier, GradientBoostingClassifier\n",
    "from sklearn.metrics import auc, roc_curve, accuracy_score, roc_auc_score\n",
    "from sklearn.utils import shuffle"
   ]
  },
  {
   "cell_type": "markdown",
   "metadata": {},
   "source": [
    "# Константы <a class=\"anchor\" id=\"4.1-bullet\"></a>"
   ]
  },
  {
   "cell_type": "code",
   "execution_count": 6,
   "metadata": {},
   "outputs": [],
   "source": [
    "MAX_DATE = datetime.datetime(2020, 2, 1)\n",
    "RANDOM_STATE = 12345"
   ]
  },
  {
   "cell_type": "markdown",
   "metadata": {},
   "source": [
    "# Функции <a class=\"anchor\" id=\"4.2-bullet\"></a>"
   ]
  },
  {
   "cell_type": "code",
   "execution_count": 7,
   "metadata": {},
   "outputs": [],
   "source": [
    "# Функция построения ROC-кривых для кросс-валидационных выборок\n",
    "\n",
    "def cv_auc_roc_curve(X_train, y_train, cv, grid_cv):\n",
    "    fig1 = plt.figure(figsize=[7,7])\n",
    "    ax1 = fig1.add_subplot(111,aspect = 'equal')\n",
    "\n",
    "    tprs = []\n",
    "    aucs = []\n",
    "    mean_fpr = np.linspace(0,1,100)\n",
    "    i = 1\n",
    "    for train,test in cv.split(X_train, y_train):\n",
    "        prediction = grid_cv.fit(X_train.iloc[train],y_train.iloc[train]).predict_proba(X_train.iloc[test])\n",
    "        fpr, tpr, t = roc_curve(y_train.iloc[test], prediction[:, 1])\n",
    "        tprs.append(np.interp(mean_fpr, fpr, tpr))\n",
    "        roc_auc = auc(fpr, tpr)\n",
    "        aucs.append(roc_auc)\n",
    "        plt.plot(fpr, tpr, lw=2, alpha=0.3, label='ROC fold %d (AUC = %0.2f)' % (i, roc_auc))\n",
    "        i= i+1   \n",
    "\n",
    "    \n",
    "    mean_tpr = np.mean(tprs, axis=0)\n",
    "    mean_auc = auc(mean_fpr, mean_tpr)\n",
    "    plt.plot(mean_fpr, mean_tpr, color='blue',\n",
    "             label=r'Mean ROC (AUC = %0.2f )' % (mean_auc),lw=2, alpha=1)\n",
    "\n",
    "    plt.plot([0,1],[0,1],linestyle = '--',lw = 2,color = 'black',\n",
    "            label='Random model')\n",
    "    \n",
    "    plt.xlabel('False Positive Rate')\n",
    "    plt.ylabel('True Positive Rate')\n",
    "    plt.title('ROC для выборок кросс-валидации модели '+str(type(grid_cv.best_estimator_).__name__))\n",
    "    plt.xlim([0, 1])\n",
    "    plt.ylim([0, 1])\n",
    "    plt.legend(loc=\"lower right\")\n",
    "    plt.show()\n",
    "    "
   ]
  },
  {
   "cell_type": "markdown",
   "metadata": {},
   "source": [
    "# Загрузка данных <a class=\"anchor\" id=\"5-bullet\"></a>"
   ]
  },
  {
   "cell_type": "markdown",
   "metadata": {},
   "source": [
    "* ####  Заргузим исходные датасеты"
   ]
  },
  {
   "cell_type": "code",
   "execution_count": 8,
   "metadata": {},
   "outputs": [],
   "source": [
    "contract = pd.read_csv('datasets/final_provider/contract.csv')\n",
    "personal = pd.read_csv('datasets/final_provider/personal.csv')\n",
    "internet = pd.read_csv('datasets/final_provider/internet.csv')\n",
    "phone = pd.read_csv('datasets/final_provider/phone.csv')"
   ]
  },
  {
   "cell_type": "markdown",
   "metadata": {},
   "source": [
    "* #### Рассмотрим информацию о договоре"
   ]
  },
  {
   "cell_type": "code",
   "execution_count": 9,
   "metadata": {
    "scrolled": false
   },
   "outputs": [
    {
     "name": "stdout",
     "output_type": "stream",
     "text": [
      "<class 'pandas.core.frame.DataFrame'>\n",
      "RangeIndex: 7043 entries, 0 to 7042\n",
      "Data columns (total 8 columns):\n",
      " #   Column            Non-Null Count  Dtype  \n",
      "---  ------            --------------  -----  \n",
      " 0   customerID        7043 non-null   object \n",
      " 1   BeginDate         7043 non-null   object \n",
      " 2   EndDate           7043 non-null   object \n",
      " 3   Type              7043 non-null   object \n",
      " 4   PaperlessBilling  7043 non-null   object \n",
      " 5   PaymentMethod     7043 non-null   object \n",
      " 6   MonthlyCharges    7043 non-null   float64\n",
      " 7   TotalCharges      7043 non-null   object \n",
      "dtypes: float64(1), object(7)\n",
      "memory usage: 440.3+ KB\n"
     ]
    },
    {
     "data": {
      "text/html": [
       "<div>\n",
       "<style scoped>\n",
       "    .dataframe tbody tr th:only-of-type {\n",
       "        vertical-align: middle;\n",
       "    }\n",
       "\n",
       "    .dataframe tbody tr th {\n",
       "        vertical-align: top;\n",
       "    }\n",
       "\n",
       "    .dataframe thead th {\n",
       "        text-align: right;\n",
       "    }\n",
       "</style>\n",
       "<table border=\"1\" class=\"dataframe\">\n",
       "  <thead>\n",
       "    <tr style=\"text-align: right;\">\n",
       "      <th></th>\n",
       "      <th>customerID</th>\n",
       "      <th>BeginDate</th>\n",
       "      <th>EndDate</th>\n",
       "      <th>Type</th>\n",
       "      <th>PaperlessBilling</th>\n",
       "      <th>PaymentMethod</th>\n",
       "      <th>MonthlyCharges</th>\n",
       "      <th>TotalCharges</th>\n",
       "    </tr>\n",
       "  </thead>\n",
       "  <tbody>\n",
       "    <tr>\n",
       "      <th>0</th>\n",
       "      <td>7590-VHVEG</td>\n",
       "      <td>2020-01-01</td>\n",
       "      <td>No</td>\n",
       "      <td>Month-to-month</td>\n",
       "      <td>Yes</td>\n",
       "      <td>Electronic check</td>\n",
       "      <td>29.85</td>\n",
       "      <td>29.85</td>\n",
       "    </tr>\n",
       "    <tr>\n",
       "      <th>1</th>\n",
       "      <td>5575-GNVDE</td>\n",
       "      <td>2017-04-01</td>\n",
       "      <td>No</td>\n",
       "      <td>One year</td>\n",
       "      <td>No</td>\n",
       "      <td>Mailed check</td>\n",
       "      <td>56.95</td>\n",
       "      <td>1889.5</td>\n",
       "    </tr>\n",
       "    <tr>\n",
       "      <th>2</th>\n",
       "      <td>3668-QPYBK</td>\n",
       "      <td>2019-10-01</td>\n",
       "      <td>2019-12-01 00:00:00</td>\n",
       "      <td>Month-to-month</td>\n",
       "      <td>Yes</td>\n",
       "      <td>Mailed check</td>\n",
       "      <td>53.85</td>\n",
       "      <td>108.15</td>\n",
       "    </tr>\n",
       "    <tr>\n",
       "      <th>3</th>\n",
       "      <td>7795-CFOCW</td>\n",
       "      <td>2016-05-01</td>\n",
       "      <td>No</td>\n",
       "      <td>One year</td>\n",
       "      <td>No</td>\n",
       "      <td>Bank transfer (automatic)</td>\n",
       "      <td>42.30</td>\n",
       "      <td>1840.75</td>\n",
       "    </tr>\n",
       "    <tr>\n",
       "      <th>4</th>\n",
       "      <td>9237-HQITU</td>\n",
       "      <td>2019-09-01</td>\n",
       "      <td>2019-11-01 00:00:00</td>\n",
       "      <td>Month-to-month</td>\n",
       "      <td>Yes</td>\n",
       "      <td>Electronic check</td>\n",
       "      <td>70.70</td>\n",
       "      <td>151.65</td>\n",
       "    </tr>\n",
       "  </tbody>\n",
       "</table>\n",
       "</div>"
      ],
      "text/plain": [
       "   customerID   BeginDate              EndDate            Type  \\\n",
       "0  7590-VHVEG  2020-01-01                   No  Month-to-month   \n",
       "1  5575-GNVDE  2017-04-01                   No        One year   \n",
       "2  3668-QPYBK  2019-10-01  2019-12-01 00:00:00  Month-to-month   \n",
       "3  7795-CFOCW  2016-05-01                   No        One year   \n",
       "4  9237-HQITU  2019-09-01  2019-11-01 00:00:00  Month-to-month   \n",
       "\n",
       "  PaperlessBilling              PaymentMethod  MonthlyCharges TotalCharges  \n",
       "0              Yes           Electronic check           29.85        29.85  \n",
       "1               No               Mailed check           56.95       1889.5  \n",
       "2              Yes               Mailed check           53.85       108.15  \n",
       "3               No  Bank transfer (automatic)           42.30      1840.75  \n",
       "4              Yes           Electronic check           70.70       151.65  "
      ]
     },
     "metadata": {},
     "output_type": "display_data"
    }
   ],
   "source": [
    "contract.info()\n",
    "display(contract.head())"
   ]
  },
  {
   "cell_type": "markdown",
   "metadata": {},
   "source": [
    "* #### Рассмотрим персональные данные клиента"
   ]
  },
  {
   "cell_type": "code",
   "execution_count": 10,
   "metadata": {
    "scrolled": false
   },
   "outputs": [
    {
     "name": "stdout",
     "output_type": "stream",
     "text": [
      "<class 'pandas.core.frame.DataFrame'>\n",
      "RangeIndex: 7043 entries, 0 to 7042\n",
      "Data columns (total 5 columns):\n",
      " #   Column         Non-Null Count  Dtype \n",
      "---  ------         --------------  ----- \n",
      " 0   customerID     7043 non-null   object\n",
      " 1   gender         7043 non-null   object\n",
      " 2   SeniorCitizen  7043 non-null   int64 \n",
      " 3   Partner        7043 non-null   object\n",
      " 4   Dependents     7043 non-null   object\n",
      "dtypes: int64(1), object(4)\n",
      "memory usage: 275.2+ KB\n"
     ]
    },
    {
     "data": {
      "text/html": [
       "<div>\n",
       "<style scoped>\n",
       "    .dataframe tbody tr th:only-of-type {\n",
       "        vertical-align: middle;\n",
       "    }\n",
       "\n",
       "    .dataframe tbody tr th {\n",
       "        vertical-align: top;\n",
       "    }\n",
       "\n",
       "    .dataframe thead th {\n",
       "        text-align: right;\n",
       "    }\n",
       "</style>\n",
       "<table border=\"1\" class=\"dataframe\">\n",
       "  <thead>\n",
       "    <tr style=\"text-align: right;\">\n",
       "      <th></th>\n",
       "      <th>customerID</th>\n",
       "      <th>gender</th>\n",
       "      <th>SeniorCitizen</th>\n",
       "      <th>Partner</th>\n",
       "      <th>Dependents</th>\n",
       "    </tr>\n",
       "  </thead>\n",
       "  <tbody>\n",
       "    <tr>\n",
       "      <th>0</th>\n",
       "      <td>7590-VHVEG</td>\n",
       "      <td>Female</td>\n",
       "      <td>0</td>\n",
       "      <td>Yes</td>\n",
       "      <td>No</td>\n",
       "    </tr>\n",
       "    <tr>\n",
       "      <th>1</th>\n",
       "      <td>5575-GNVDE</td>\n",
       "      <td>Male</td>\n",
       "      <td>0</td>\n",
       "      <td>No</td>\n",
       "      <td>No</td>\n",
       "    </tr>\n",
       "    <tr>\n",
       "      <th>2</th>\n",
       "      <td>3668-QPYBK</td>\n",
       "      <td>Male</td>\n",
       "      <td>0</td>\n",
       "      <td>No</td>\n",
       "      <td>No</td>\n",
       "    </tr>\n",
       "    <tr>\n",
       "      <th>3</th>\n",
       "      <td>7795-CFOCW</td>\n",
       "      <td>Male</td>\n",
       "      <td>0</td>\n",
       "      <td>No</td>\n",
       "      <td>No</td>\n",
       "    </tr>\n",
       "    <tr>\n",
       "      <th>4</th>\n",
       "      <td>9237-HQITU</td>\n",
       "      <td>Female</td>\n",
       "      <td>0</td>\n",
       "      <td>No</td>\n",
       "      <td>No</td>\n",
       "    </tr>\n",
       "  </tbody>\n",
       "</table>\n",
       "</div>"
      ],
      "text/plain": [
       "   customerID  gender  SeniorCitizen Partner Dependents\n",
       "0  7590-VHVEG  Female              0     Yes         No\n",
       "1  5575-GNVDE    Male              0      No         No\n",
       "2  3668-QPYBK    Male              0      No         No\n",
       "3  7795-CFOCW    Male              0      No         No\n",
       "4  9237-HQITU  Female              0      No         No"
      ]
     },
     "metadata": {},
     "output_type": "display_data"
    }
   ],
   "source": [
    "personal.info()\n",
    "display(personal.head())"
   ]
  },
  {
   "cell_type": "markdown",
   "metadata": {},
   "source": [
    "* #### Рассмотрим информация об интернет-услугах"
   ]
  },
  {
   "cell_type": "code",
   "execution_count": 11,
   "metadata": {},
   "outputs": [
    {
     "name": "stdout",
     "output_type": "stream",
     "text": [
      "<class 'pandas.core.frame.DataFrame'>\n",
      "RangeIndex: 5517 entries, 0 to 5516\n",
      "Data columns (total 8 columns):\n",
      " #   Column            Non-Null Count  Dtype \n",
      "---  ------            --------------  ----- \n",
      " 0   customerID        5517 non-null   object\n",
      " 1   InternetService   5517 non-null   object\n",
      " 2   OnlineSecurity    5517 non-null   object\n",
      " 3   OnlineBackup      5517 non-null   object\n",
      " 4   DeviceProtection  5517 non-null   object\n",
      " 5   TechSupport       5517 non-null   object\n",
      " 6   StreamingTV       5517 non-null   object\n",
      " 7   StreamingMovies   5517 non-null   object\n",
      "dtypes: object(8)\n",
      "memory usage: 344.9+ KB\n"
     ]
    },
    {
     "data": {
      "text/html": [
       "<div>\n",
       "<style scoped>\n",
       "    .dataframe tbody tr th:only-of-type {\n",
       "        vertical-align: middle;\n",
       "    }\n",
       "\n",
       "    .dataframe tbody tr th {\n",
       "        vertical-align: top;\n",
       "    }\n",
       "\n",
       "    .dataframe thead th {\n",
       "        text-align: right;\n",
       "    }\n",
       "</style>\n",
       "<table border=\"1\" class=\"dataframe\">\n",
       "  <thead>\n",
       "    <tr style=\"text-align: right;\">\n",
       "      <th></th>\n",
       "      <th>customerID</th>\n",
       "      <th>InternetService</th>\n",
       "      <th>OnlineSecurity</th>\n",
       "      <th>OnlineBackup</th>\n",
       "      <th>DeviceProtection</th>\n",
       "      <th>TechSupport</th>\n",
       "      <th>StreamingTV</th>\n",
       "      <th>StreamingMovies</th>\n",
       "    </tr>\n",
       "  </thead>\n",
       "  <tbody>\n",
       "    <tr>\n",
       "      <th>0</th>\n",
       "      <td>7590-VHVEG</td>\n",
       "      <td>DSL</td>\n",
       "      <td>No</td>\n",
       "      <td>Yes</td>\n",
       "      <td>No</td>\n",
       "      <td>No</td>\n",
       "      <td>No</td>\n",
       "      <td>No</td>\n",
       "    </tr>\n",
       "    <tr>\n",
       "      <th>1</th>\n",
       "      <td>5575-GNVDE</td>\n",
       "      <td>DSL</td>\n",
       "      <td>Yes</td>\n",
       "      <td>No</td>\n",
       "      <td>Yes</td>\n",
       "      <td>No</td>\n",
       "      <td>No</td>\n",
       "      <td>No</td>\n",
       "    </tr>\n",
       "    <tr>\n",
       "      <th>2</th>\n",
       "      <td>3668-QPYBK</td>\n",
       "      <td>DSL</td>\n",
       "      <td>Yes</td>\n",
       "      <td>Yes</td>\n",
       "      <td>No</td>\n",
       "      <td>No</td>\n",
       "      <td>No</td>\n",
       "      <td>No</td>\n",
       "    </tr>\n",
       "    <tr>\n",
       "      <th>3</th>\n",
       "      <td>7795-CFOCW</td>\n",
       "      <td>DSL</td>\n",
       "      <td>Yes</td>\n",
       "      <td>No</td>\n",
       "      <td>Yes</td>\n",
       "      <td>Yes</td>\n",
       "      <td>No</td>\n",
       "      <td>No</td>\n",
       "    </tr>\n",
       "    <tr>\n",
       "      <th>4</th>\n",
       "      <td>9237-HQITU</td>\n",
       "      <td>Fiber optic</td>\n",
       "      <td>No</td>\n",
       "      <td>No</td>\n",
       "      <td>No</td>\n",
       "      <td>No</td>\n",
       "      <td>No</td>\n",
       "      <td>No</td>\n",
       "    </tr>\n",
       "  </tbody>\n",
       "</table>\n",
       "</div>"
      ],
      "text/plain": [
       "   customerID InternetService OnlineSecurity OnlineBackup DeviceProtection  \\\n",
       "0  7590-VHVEG             DSL             No          Yes               No   \n",
       "1  5575-GNVDE             DSL            Yes           No              Yes   \n",
       "2  3668-QPYBK             DSL            Yes          Yes               No   \n",
       "3  7795-CFOCW             DSL            Yes           No              Yes   \n",
       "4  9237-HQITU     Fiber optic             No           No               No   \n",
       "\n",
       "  TechSupport StreamingTV StreamingMovies  \n",
       "0          No          No              No  \n",
       "1          No          No              No  \n",
       "2          No          No              No  \n",
       "3         Yes          No              No  \n",
       "4          No          No              No  "
      ]
     },
     "metadata": {},
     "output_type": "display_data"
    }
   ],
   "source": [
    "internet.info()\n",
    "display(internet.head())"
   ]
  },
  {
   "cell_type": "markdown",
   "metadata": {},
   "source": [
    "* #### Рассмотрим персональные данные клиента"
   ]
  },
  {
   "cell_type": "code",
   "execution_count": 12,
   "metadata": {},
   "outputs": [
    {
     "name": "stdout",
     "output_type": "stream",
     "text": [
      "<class 'pandas.core.frame.DataFrame'>\n",
      "RangeIndex: 6361 entries, 0 to 6360\n",
      "Data columns (total 2 columns):\n",
      " #   Column         Non-Null Count  Dtype \n",
      "---  ------         --------------  ----- \n",
      " 0   customerID     6361 non-null   object\n",
      " 1   MultipleLines  6361 non-null   object\n",
      "dtypes: object(2)\n",
      "memory usage: 99.5+ KB\n"
     ]
    },
    {
     "data": {
      "text/html": [
       "<div>\n",
       "<style scoped>\n",
       "    .dataframe tbody tr th:only-of-type {\n",
       "        vertical-align: middle;\n",
       "    }\n",
       "\n",
       "    .dataframe tbody tr th {\n",
       "        vertical-align: top;\n",
       "    }\n",
       "\n",
       "    .dataframe thead th {\n",
       "        text-align: right;\n",
       "    }\n",
       "</style>\n",
       "<table border=\"1\" class=\"dataframe\">\n",
       "  <thead>\n",
       "    <tr style=\"text-align: right;\">\n",
       "      <th></th>\n",
       "      <th>customerID</th>\n",
       "      <th>MultipleLines</th>\n",
       "    </tr>\n",
       "  </thead>\n",
       "  <tbody>\n",
       "    <tr>\n",
       "      <th>0</th>\n",
       "      <td>5575-GNVDE</td>\n",
       "      <td>No</td>\n",
       "    </tr>\n",
       "    <tr>\n",
       "      <th>1</th>\n",
       "      <td>3668-QPYBK</td>\n",
       "      <td>No</td>\n",
       "    </tr>\n",
       "    <tr>\n",
       "      <th>2</th>\n",
       "      <td>9237-HQITU</td>\n",
       "      <td>No</td>\n",
       "    </tr>\n",
       "    <tr>\n",
       "      <th>3</th>\n",
       "      <td>9305-CDSKC</td>\n",
       "      <td>Yes</td>\n",
       "    </tr>\n",
       "    <tr>\n",
       "      <th>4</th>\n",
       "      <td>1452-KIOVK</td>\n",
       "      <td>Yes</td>\n",
       "    </tr>\n",
       "  </tbody>\n",
       "</table>\n",
       "</div>"
      ],
      "text/plain": [
       "   customerID MultipleLines\n",
       "0  5575-GNVDE            No\n",
       "1  3668-QPYBK            No\n",
       "2  9237-HQITU            No\n",
       "3  9305-CDSKC           Yes\n",
       "4  1452-KIOVK           Yes"
      ]
     },
     "metadata": {},
     "output_type": "display_data"
    }
   ],
   "source": [
    "phone.info()\n",
    "display(phone.head())"
   ]
  },
  {
   "cell_type": "markdown",
   "metadata": {},
   "source": [
    "* #### Выводы по этапу загрузки данных:\n",
    "\n",
    "    1. Данные загружены\n",
    "    2. Пропусков не наблюдается\n",
    "    3. Все таблицы связаны ключевым заголовком customerID "
   ]
  },
  {
   "cell_type": "markdown",
   "metadata": {},
   "source": [
    "# Исследовательский анализ данных <a class=\"anchor\" id=\"6-bullet\"></a>"
   ]
  },
  {
   "cell_type": "markdown",
   "metadata": {},
   "source": [
    "* #### Объединим все данные в сводную таблицу по заголовку customerID\n",
    "\n",
    "* #### Ключевая информация для решения задачи находится в таблице контрактов (начало-конец договора), поэтому данные из других таблиц добавим в качестве вспомогательных  "
   ]
  },
  {
   "cell_type": "code",
   "execution_count": 13,
   "metadata": {
    "scrolled": false
   },
   "outputs": [
    {
     "name": "stdout",
     "output_type": "stream",
     "text": [
      "<class 'pandas.core.frame.DataFrame'>\n",
      "Int64Index: 7043 entries, 0 to 7042\n",
      "Data columns (total 20 columns):\n",
      " #   Column            Non-Null Count  Dtype  \n",
      "---  ------            --------------  -----  \n",
      " 0   customerID        7043 non-null   object \n",
      " 1   BeginDate         7043 non-null   object \n",
      " 2   EndDate           7043 non-null   object \n",
      " 3   Type              7043 non-null   object \n",
      " 4   PaperlessBilling  7043 non-null   object \n",
      " 5   PaymentMethod     7043 non-null   object \n",
      " 6   MonthlyCharges    7043 non-null   float64\n",
      " 7   TotalCharges      7043 non-null   object \n",
      " 8   gender            7043 non-null   object \n",
      " 9   SeniorCitizen     7043 non-null   int64  \n",
      " 10  Partner           7043 non-null   object \n",
      " 11  Dependents        7043 non-null   object \n",
      " 12  InternetService   5517 non-null   object \n",
      " 13  OnlineSecurity    5517 non-null   object \n",
      " 14  OnlineBackup      5517 non-null   object \n",
      " 15  DeviceProtection  5517 non-null   object \n",
      " 16  TechSupport       5517 non-null   object \n",
      " 17  StreamingTV       5517 non-null   object \n",
      " 18  StreamingMovies   5517 non-null   object \n",
      " 19  MultipleLines     6361 non-null   object \n",
      "dtypes: float64(1), int64(1), object(18)\n",
      "memory usage: 1.1+ MB\n"
     ]
    },
    {
     "data": {
      "text/html": [
       "<div>\n",
       "<style scoped>\n",
       "    .dataframe tbody tr th:only-of-type {\n",
       "        vertical-align: middle;\n",
       "    }\n",
       "\n",
       "    .dataframe tbody tr th {\n",
       "        vertical-align: top;\n",
       "    }\n",
       "\n",
       "    .dataframe thead th {\n",
       "        text-align: right;\n",
       "    }\n",
       "</style>\n",
       "<table border=\"1\" class=\"dataframe\">\n",
       "  <thead>\n",
       "    <tr style=\"text-align: right;\">\n",
       "      <th></th>\n",
       "      <th>customerID</th>\n",
       "      <th>BeginDate</th>\n",
       "      <th>EndDate</th>\n",
       "      <th>Type</th>\n",
       "      <th>PaperlessBilling</th>\n",
       "      <th>PaymentMethod</th>\n",
       "      <th>MonthlyCharges</th>\n",
       "      <th>TotalCharges</th>\n",
       "      <th>gender</th>\n",
       "      <th>SeniorCitizen</th>\n",
       "      <th>Partner</th>\n",
       "      <th>Dependents</th>\n",
       "      <th>InternetService</th>\n",
       "      <th>OnlineSecurity</th>\n",
       "      <th>OnlineBackup</th>\n",
       "      <th>DeviceProtection</th>\n",
       "      <th>TechSupport</th>\n",
       "      <th>StreamingTV</th>\n",
       "      <th>StreamingMovies</th>\n",
       "      <th>MultipleLines</th>\n",
       "    </tr>\n",
       "  </thead>\n",
       "  <tbody>\n",
       "    <tr>\n",
       "      <th>0</th>\n",
       "      <td>7590-VHVEG</td>\n",
       "      <td>2020-01-01</td>\n",
       "      <td>No</td>\n",
       "      <td>Month-to-month</td>\n",
       "      <td>Yes</td>\n",
       "      <td>Electronic check</td>\n",
       "      <td>29.85</td>\n",
       "      <td>29.85</td>\n",
       "      <td>Female</td>\n",
       "      <td>0</td>\n",
       "      <td>Yes</td>\n",
       "      <td>No</td>\n",
       "      <td>DSL</td>\n",
       "      <td>No</td>\n",
       "      <td>Yes</td>\n",
       "      <td>No</td>\n",
       "      <td>No</td>\n",
       "      <td>No</td>\n",
       "      <td>No</td>\n",
       "      <td>NaN</td>\n",
       "    </tr>\n",
       "    <tr>\n",
       "      <th>1</th>\n",
       "      <td>5575-GNVDE</td>\n",
       "      <td>2017-04-01</td>\n",
       "      <td>No</td>\n",
       "      <td>One year</td>\n",
       "      <td>No</td>\n",
       "      <td>Mailed check</td>\n",
       "      <td>56.95</td>\n",
       "      <td>1889.5</td>\n",
       "      <td>Male</td>\n",
       "      <td>0</td>\n",
       "      <td>No</td>\n",
       "      <td>No</td>\n",
       "      <td>DSL</td>\n",
       "      <td>Yes</td>\n",
       "      <td>No</td>\n",
       "      <td>Yes</td>\n",
       "      <td>No</td>\n",
       "      <td>No</td>\n",
       "      <td>No</td>\n",
       "      <td>No</td>\n",
       "    </tr>\n",
       "    <tr>\n",
       "      <th>2</th>\n",
       "      <td>3668-QPYBK</td>\n",
       "      <td>2019-10-01</td>\n",
       "      <td>2019-12-01 00:00:00</td>\n",
       "      <td>Month-to-month</td>\n",
       "      <td>Yes</td>\n",
       "      <td>Mailed check</td>\n",
       "      <td>53.85</td>\n",
       "      <td>108.15</td>\n",
       "      <td>Male</td>\n",
       "      <td>0</td>\n",
       "      <td>No</td>\n",
       "      <td>No</td>\n",
       "      <td>DSL</td>\n",
       "      <td>Yes</td>\n",
       "      <td>Yes</td>\n",
       "      <td>No</td>\n",
       "      <td>No</td>\n",
       "      <td>No</td>\n",
       "      <td>No</td>\n",
       "      <td>No</td>\n",
       "    </tr>\n",
       "    <tr>\n",
       "      <th>3</th>\n",
       "      <td>7795-CFOCW</td>\n",
       "      <td>2016-05-01</td>\n",
       "      <td>No</td>\n",
       "      <td>One year</td>\n",
       "      <td>No</td>\n",
       "      <td>Bank transfer (automatic)</td>\n",
       "      <td>42.30</td>\n",
       "      <td>1840.75</td>\n",
       "      <td>Male</td>\n",
       "      <td>0</td>\n",
       "      <td>No</td>\n",
       "      <td>No</td>\n",
       "      <td>DSL</td>\n",
       "      <td>Yes</td>\n",
       "      <td>No</td>\n",
       "      <td>Yes</td>\n",
       "      <td>Yes</td>\n",
       "      <td>No</td>\n",
       "      <td>No</td>\n",
       "      <td>NaN</td>\n",
       "    </tr>\n",
       "    <tr>\n",
       "      <th>4</th>\n",
       "      <td>9237-HQITU</td>\n",
       "      <td>2019-09-01</td>\n",
       "      <td>2019-11-01 00:00:00</td>\n",
       "      <td>Month-to-month</td>\n",
       "      <td>Yes</td>\n",
       "      <td>Electronic check</td>\n",
       "      <td>70.70</td>\n",
       "      <td>151.65</td>\n",
       "      <td>Female</td>\n",
       "      <td>0</td>\n",
       "      <td>No</td>\n",
       "      <td>No</td>\n",
       "      <td>Fiber optic</td>\n",
       "      <td>No</td>\n",
       "      <td>No</td>\n",
       "      <td>No</td>\n",
       "      <td>No</td>\n",
       "      <td>No</td>\n",
       "      <td>No</td>\n",
       "      <td>No</td>\n",
       "    </tr>\n",
       "  </tbody>\n",
       "</table>\n",
       "</div>"
      ],
      "text/plain": [
       "   customerID   BeginDate              EndDate            Type  \\\n",
       "0  7590-VHVEG  2020-01-01                   No  Month-to-month   \n",
       "1  5575-GNVDE  2017-04-01                   No        One year   \n",
       "2  3668-QPYBK  2019-10-01  2019-12-01 00:00:00  Month-to-month   \n",
       "3  7795-CFOCW  2016-05-01                   No        One year   \n",
       "4  9237-HQITU  2019-09-01  2019-11-01 00:00:00  Month-to-month   \n",
       "\n",
       "  PaperlessBilling              PaymentMethod  MonthlyCharges TotalCharges  \\\n",
       "0              Yes           Electronic check           29.85        29.85   \n",
       "1               No               Mailed check           56.95       1889.5   \n",
       "2              Yes               Mailed check           53.85       108.15   \n",
       "3               No  Bank transfer (automatic)           42.30      1840.75   \n",
       "4              Yes           Electronic check           70.70       151.65   \n",
       "\n",
       "   gender  SeniorCitizen Partner Dependents InternetService OnlineSecurity  \\\n",
       "0  Female              0     Yes         No             DSL             No   \n",
       "1    Male              0      No         No             DSL            Yes   \n",
       "2    Male              0      No         No             DSL            Yes   \n",
       "3    Male              0      No         No             DSL            Yes   \n",
       "4  Female              0      No         No     Fiber optic             No   \n",
       "\n",
       "  OnlineBackup DeviceProtection TechSupport StreamingTV StreamingMovies  \\\n",
       "0          Yes               No          No          No              No   \n",
       "1           No              Yes          No          No              No   \n",
       "2          Yes               No          No          No              No   \n",
       "3           No              Yes         Yes          No              No   \n",
       "4           No               No          No          No              No   \n",
       "\n",
       "  MultipleLines  \n",
       "0           NaN  \n",
       "1            No  \n",
       "2            No  \n",
       "3           NaN  \n",
       "4            No  "
      ]
     },
     "metadata": {},
     "output_type": "display_data"
    }
   ],
   "source": [
    "data = contract.merge(personal, on='customerID', how='left').merge(internet, on='customerID', how='left').merge(phone, on='customerID', how='left')\n",
    "\n",
    "data.info()\n",
    "display(data.head())"
   ]
  },
  {
   "cell_type": "markdown",
   "metadata": {},
   "source": [
    "* #### Приведем столбцы начала и конца договора к типу дата "
   ]
  },
  {
   "cell_type": "code",
   "execution_count": 14,
   "metadata": {
    "scrolled": false
   },
   "outputs": [
    {
     "name": "stdout",
     "output_type": "stream",
     "text": [
      "<class 'pandas.core.frame.DataFrame'>\n",
      "Int64Index: 7043 entries, 0 to 7042\n",
      "Data columns (total 2 columns):\n",
      " #   Column     Non-Null Count  Dtype         \n",
      "---  ------     --------------  -----         \n",
      " 0   BeginDate  7043 non-null   datetime64[ns]\n",
      " 1   EndDate    1869 non-null   datetime64[ns]\n",
      "dtypes: datetime64[ns](2)\n",
      "memory usage: 165.1 KB\n"
     ]
    },
    {
     "data": {
      "text/html": [
       "<div>\n",
       "<style scoped>\n",
       "    .dataframe tbody tr th:only-of-type {\n",
       "        vertical-align: middle;\n",
       "    }\n",
       "\n",
       "    .dataframe tbody tr th {\n",
       "        vertical-align: top;\n",
       "    }\n",
       "\n",
       "    .dataframe thead th {\n",
       "        text-align: right;\n",
       "    }\n",
       "</style>\n",
       "<table border=\"1\" class=\"dataframe\">\n",
       "  <thead>\n",
       "    <tr style=\"text-align: right;\">\n",
       "      <th></th>\n",
       "      <th>BeginDate</th>\n",
       "      <th>EndDate</th>\n",
       "    </tr>\n",
       "  </thead>\n",
       "  <tbody>\n",
       "    <tr>\n",
       "      <th>0</th>\n",
       "      <td>2020-01-01</td>\n",
       "      <td>NaT</td>\n",
       "    </tr>\n",
       "    <tr>\n",
       "      <th>1</th>\n",
       "      <td>2017-04-01</td>\n",
       "      <td>NaT</td>\n",
       "    </tr>\n",
       "    <tr>\n",
       "      <th>2</th>\n",
       "      <td>2019-10-01</td>\n",
       "      <td>2019-12-01</td>\n",
       "    </tr>\n",
       "    <tr>\n",
       "      <th>3</th>\n",
       "      <td>2016-05-01</td>\n",
       "      <td>NaT</td>\n",
       "    </tr>\n",
       "    <tr>\n",
       "      <th>4</th>\n",
       "      <td>2019-09-01</td>\n",
       "      <td>2019-11-01</td>\n",
       "    </tr>\n",
       "  </tbody>\n",
       "</table>\n",
       "</div>"
      ],
      "text/plain": [
       "   BeginDate    EndDate\n",
       "0 2020-01-01        NaT\n",
       "1 2017-04-01        NaT\n",
       "2 2019-10-01 2019-12-01\n",
       "3 2016-05-01        NaT\n",
       "4 2019-09-01 2019-11-01"
      ]
     },
     "metadata": {},
     "output_type": "display_data"
    }
   ],
   "source": [
    "data['BeginDate'] = pd.to_datetime(data['BeginDate'], format='%Y-%m-%d')\n",
    "data['EndDate'] = pd.to_datetime(data['EndDate'], format='%Y-%m-%d', errors='coerce')\n",
    "\n",
    "data[['BeginDate', 'EndDate']].info()\n",
    "display(data[['BeginDate', 'EndDate']].head())"
   ]
  },
  {
   "cell_type": "markdown",
   "metadata": {},
   "source": [
    "- #### На основе наличия даты окончания договора добавим признак активности клиента: Status - \"0\" - клиент не активный, \"1\" - клиент действующий"
   ]
  },
  {
   "cell_type": "code",
   "execution_count": 15,
   "metadata": {
    "scrolled": false
   },
   "outputs": [
    {
     "data": {
      "text/html": [
       "<div>\n",
       "<style scoped>\n",
       "    .dataframe tbody tr th:only-of-type {\n",
       "        vertical-align: middle;\n",
       "    }\n",
       "\n",
       "    .dataframe tbody tr th {\n",
       "        vertical-align: top;\n",
       "    }\n",
       "\n",
       "    .dataframe thead th {\n",
       "        text-align: right;\n",
       "    }\n",
       "</style>\n",
       "<table border=\"1\" class=\"dataframe\">\n",
       "  <thead>\n",
       "    <tr style=\"text-align: right;\">\n",
       "      <th></th>\n",
       "      <th>BeginDate</th>\n",
       "      <th>EndDate</th>\n",
       "      <th>Status</th>\n",
       "    </tr>\n",
       "  </thead>\n",
       "  <tbody>\n",
       "    <tr>\n",
       "      <th>0</th>\n",
       "      <td>2020-01-01</td>\n",
       "      <td>NaT</td>\n",
       "      <td>1</td>\n",
       "    </tr>\n",
       "    <tr>\n",
       "      <th>1</th>\n",
       "      <td>2017-04-01</td>\n",
       "      <td>NaT</td>\n",
       "      <td>1</td>\n",
       "    </tr>\n",
       "    <tr>\n",
       "      <th>2</th>\n",
       "      <td>2019-10-01</td>\n",
       "      <td>2019-12-01</td>\n",
       "      <td>0</td>\n",
       "    </tr>\n",
       "    <tr>\n",
       "      <th>3</th>\n",
       "      <td>2016-05-01</td>\n",
       "      <td>NaT</td>\n",
       "      <td>1</td>\n",
       "    </tr>\n",
       "    <tr>\n",
       "      <th>4</th>\n",
       "      <td>2019-09-01</td>\n",
       "      <td>2019-11-01</td>\n",
       "      <td>0</td>\n",
       "    </tr>\n",
       "  </tbody>\n",
       "</table>\n",
       "</div>"
      ],
      "text/plain": [
       "   BeginDate    EndDate  Status\n",
       "0 2020-01-01        NaT       1\n",
       "1 2017-04-01        NaT       1\n",
       "2 2019-10-01 2019-12-01       0\n",
       "3 2016-05-01        NaT       1\n",
       "4 2019-09-01 2019-11-01       0"
      ]
     },
     "metadata": {},
     "output_type": "display_data"
    },
    {
     "data": {
      "image/png": "[encoded data removed]",
      "text/plain": [
       "<Figure size 252x252 with 1 Axes>"
      ]
     },
     "metadata": {
      "needs_background": "light"
     },
     "output_type": "display_data"
    }
   ],
   "source": [
    "data.loc[data['EndDate'].isnull()==True, 'Status'] = 1\n",
    "data.loc[data['EndDate'].isnull()==False, 'Status'] = 0\n",
    "data['Status'] = data['Status'].astype('int64')\n",
    "\n",
    "display(data[['BeginDate', 'EndDate', 'Status']].head())\n",
    "\n",
    "sns.catplot(x='Status', data=data, kind='count', height=3.5)\n",
    "plt.title('График количества действующих \\n и неактивых клиентов')\n",
    "plt.show()"
   ]
  },
  {
   "cell_type": "markdown",
   "metadata": {},
   "source": [
    "- Из графика видно, что число действующих клиентов более чем в 2 раза превышает количество неактивных"
   ]
  },
  {
   "cell_type": "markdown",
   "metadata": {},
   "source": [
    "* #### Оценим продолжительность договора для неактивных и действующих клиентов на момент 1 февраля 2020 года"
   ]
  },
  {
   "cell_type": "code",
   "execution_count": 16,
   "metadata": {},
   "outputs": [
    {
     "data": {
      "image/png": "[encoded data removed]",
      "text/plain": [
       "<Figure size 720x360 with 1 Axes>"
      ]
     },
     "metadata": {
      "needs_background": "light"
     },
     "output_type": "display_data"
    }
   ],
   "source": [
    "data.loc[data['Status'] == 0, 'ContractDuration'] = (data['EndDate']-data['BeginDate']).dt.days \n",
    "data.loc[data['Status'] == 1, 'ContractDuration'] = (MAX_DATE-data['BeginDate']).dt.days \n",
    "\n",
    "\n",
    "fig, ax = plt.subplots(figsize=(10,5))\n",
    "\n",
    "sns.histplot(data.loc[data['Status'] == 1, 'ContractDuration'], \n",
    "             color='orange',\n",
    "             label='Действующие клиенты на 1 февраля 2020',\n",
    "             kde_kws={'alpha':.7},\n",
    "             ax=ax)\n",
    "\n",
    "sns.histplot(data.loc[data['Status'] == 0, 'ContractDuration'], \n",
    "             color='dodgerblue',\n",
    "             label='Неактивные клиенты',\n",
    "             kde_kws={'alpha':.7},\n",
    "             ax=ax)\n",
    "\n",
    "ax.set_xlim(0, 2300)\n",
    "ax.set_xlabel('Количество дней договора')\n",
    "ax.set_ylabel('Количество пользователей')\n",
    "plt.xticks(np.arange(0, 2300, 200))\n",
    "\n",
    "plt.title('Гистограмма продолжительности договора для неактивных и действующих клиентов на 1 февраля 2020', y=1.1)\n",
    "plt.legend()\n",
    "plt.show()\n"
   ]
  },
  {
   "cell_type": "markdown",
   "metadata": {},
   "source": [
    "- На гистограмме распределения длительности договора для действующих клиентов выделяются два максимума - до 200 дней - новые клиенты и более 2000 дней - долговременные. Промежуточные варианты длительности договора представлены достаточно равномерно\n",
    "\n",
    "\n",
    "- Из распределения длительности договора для неактивных клиентов можно сделать вывод, что большинство ушедших клиентов пользовались услугами менее 200 дней\n",
    "\n",
    "\n",
    "- Пока можно сказать, что клиенты, отказавшиеся от предоставляемых услуг, в основном уходят в первые 200 дней пользования\n",
    "\n",
    "\n",
    "- И наоборот, клиенты, пользующиеся услугами порядка 6 лет и больше, наименее вероятно уйдут"
   ]
  },
  {
   "cell_type": "markdown",
   "metadata": {},
   "source": [
    "* #### Рассмотрим типы договоров среди неактивных и действующих клиентов"
   ]
  },
  {
   "cell_type": "code",
   "execution_count": 17,
   "metadata": {},
   "outputs": [
    {
     "data": {
      "image/png": "[encoded data removed]",
      "text/plain": [
       "<Figure size 504x252 with 2 Axes>"
      ]
     },
     "metadata": {
      "needs_background": "light"
     },
     "output_type": "display_data"
    }
   ],
   "source": [
    "g = sns.catplot(x='Type', data=data, kind='count', col='Status', height=3.5)\n",
    "axes = g.axes.flatten()\n",
    "axes[0].set_title(\"Ушедшие клиенты\")\n",
    "axes[1].set_title(\"Действующие клиенты\")\n",
    "(g.set_axis_labels('Тип договора', 'Количество клиентов')\n",
    "  .fig.suptitle('Графики типа договора для ушедших и действующих клиентов', y=1.2))\n",
    "\n",
    "plt.show()"
   ]
  },
  {
   "cell_type": "markdown",
   "metadata": {},
   "source": [
    "- Ожидаемо, клиенты, которые ушли, чаще всего заключали договор с ежемесячной оплатой. Это соотносится с преимущественной длительностью договора для неактивных пользователей - меньше года. Лишь малая часть ушедших клиентов заключала длительные договоры на 1-2 года\n",
    "\n",
    "\n",
    "- Среди действующих клиентов также преобладают догоры с помесяцной оплатой, однако суммарная доля долгосрочных контрактов (1-2 года) выше доли краткосрочных \n",
    "\n"
   ]
  },
  {
   "cell_type": "markdown",
   "metadata": {},
   "source": [
    "- #### Оценим расходы неактивных и действующих клиентов"
   ]
  },
  {
   "cell_type": "markdown",
   "metadata": {},
   "source": [
    "- Сперва изменим тип столбца TotalCharges, предварительно заменив пустые значения на произведение длительности контракта и ежемесяцной оплаты"
   ]
  },
  {
   "cell_type": "code",
   "execution_count": 18,
   "metadata": {},
   "outputs": [
    {
     "name": "stdout",
     "output_type": "stream",
     "text": [
      "<class 'pandas.core.frame.DataFrame'>\n",
      "Int64Index: 7043 entries, 0 to 7042\n",
      "Data columns (total 22 columns):\n",
      " #   Column            Non-Null Count  Dtype         \n",
      "---  ------            --------------  -----         \n",
      " 0   customerID        7043 non-null   object        \n",
      " 1   BeginDate         7043 non-null   datetime64[ns]\n",
      " 2   EndDate           1869 non-null   datetime64[ns]\n",
      " 3   Type              7043 non-null   object        \n",
      " 4   PaperlessBilling  7043 non-null   object        \n",
      " 5   PaymentMethod     7043 non-null   object        \n",
      " 6   MonthlyCharges    7043 non-null   float64       \n",
      " 7   TotalCharges      7043 non-null   float64       \n",
      " 8   gender            7043 non-null   object        \n",
      " 9   SeniorCitizen     7043 non-null   int64         \n",
      " 10  Partner           7043 non-null   object        \n",
      " 11  Dependents        7043 non-null   object        \n",
      " 12  InternetService   5517 non-null   object        \n",
      " 13  OnlineSecurity    5517 non-null   object        \n",
      " 14  OnlineBackup      5517 non-null   object        \n",
      " 15  DeviceProtection  5517 non-null   object        \n",
      " 16  TechSupport       5517 non-null   object        \n",
      " 17  StreamingTV       5517 non-null   object        \n",
      " 18  StreamingMovies   5517 non-null   object        \n",
      " 19  MultipleLines     6361 non-null   object        \n",
      " 20  Status            7043 non-null   int64         \n",
      " 21  ContractDuration  7043 non-null   float64       \n",
      "dtypes: datetime64[ns](2), float64(3), int64(2), object(15)\n",
      "memory usage: 1.5+ MB\n"
     ]
    },
    {
     "name": "stderr",
     "output_type": "stream",
     "text": [
      "C:\\ProgramData\\Anaconda3\\lib\\site-packages\\pandas\\core\\indexing.py:670: SettingWithCopyWarning: \n",
      "A value is trying to be set on a copy of a slice from a DataFrame\n",
      "\n",
      "See the caveats in the documentation: https://pandas.pydata.org/pandas-docs/stable/user_guide/indexing.html#returning-a-view-versus-a-copy\n",
      "  iloc._setitem_with_indexer(indexer, value)\n"
     ]
    }
   ],
   "source": [
    "data['TotalCharges'].loc[data['TotalCharges']==' '] = data['MonthlyCharges']*data['ContractDuration']/30\n",
    "data['TotalCharges'] = data['TotalCharges'].astype('float64')\n",
    "data.info()"
   ]
  },
  {
   "cell_type": "code",
   "execution_count": 19,
   "metadata": {},
   "outputs": [
    {
     "data": {
      "image/png": "[encoded data removed]",
      "text/plain": [
       "<Figure size 720x360 with 1 Axes>"
      ]
     },
     "metadata": {
      "needs_background": "light"
     },
     "output_type": "display_data"
    }
   ],
   "source": [
    "fig, ax = plt.subplots(figsize=(10,5))\n",
    "\n",
    "sns.histplot(data.loc[data['Status'] == 1, 'MonthlyCharges'], \n",
    "             color='orange',\n",
    "             label='Действующие клиенты на 1 февраля 2020',\n",
    "             kde_kws={'alpha':.7},\n",
    "             ax=ax)\n",
    "\n",
    "sns.histplot(data.loc[data['Status'] == 0, 'MonthlyCharges'], \n",
    "             color='dodgerblue',\n",
    "             label='Неактивные клиенты',\n",
    "             kde_kws={'alpha':.7},\n",
    "             ax=ax)\n",
    "\n",
    "ax.set_xlim(10, 120)\n",
    "ax.set_xlabel('Расходы в месяц, у.е.')\n",
    "ax.set_ylabel('Количество пользователей')\n",
    "plt.xticks(np.arange(10, 130, 10))\n",
    "\n",
    "plt.title('Гистограмма расходов в месяц для неактивных и действующих клиентов на 1 февраля 2020', y=1.1)\n",
    "plt.legend()\n",
    "plt.show()"
   ]
  },
  {
   "cell_type": "markdown",
   "metadata": {},
   "source": [
    "- Из гистограмм распределениям можно выделить явно выраженный максимум ежемесячной оплаты для действующих клиентов 20-25 у.е., для ушедших клиентов этот интервал  не является преобладающим"
   ]
  },
  {
   "cell_type": "markdown",
   "metadata": {},
   "source": [
    "- Рассчитаем общие расходы из ежемесячной оплаты и длительности контракта и сравним с приведенными общими расходами, чтобы понять есть ли корреляция"
   ]
  },
  {
   "cell_type": "code",
   "execution_count": 20,
   "metadata": {},
   "outputs": [
    {
     "data": {
      "image/png": "[encoded data removed]",
      "text/plain": [
       "<Figure size 360x360 with 1 Axes>"
      ]
     },
     "metadata": {
      "needs_background": "light"
     },
     "output_type": "display_data"
    },
    {
     "name": "stdout",
     "output_type": "stream",
     "text": [
      "Корреляция между расcчитанными и приведенными расходами составляет 0.9996\n"
     ]
    }
   ],
   "source": [
    "total_charges = data['TotalCharges']\n",
    "calculated_charges = data['MonthlyCharges']*data['ContractDuration']/30.5\n",
    "\n",
    "fig, ax = plt.subplots( figsize=(5,5))\n",
    "ax.scatter(x=total_charges, y=calculated_charges)\n",
    "ax.set_xlabel('Приведенные общие расходы, у.е.')\n",
    "ax.set_ylabel('Рассчитанные общие расходы, у.е.')\n",
    "ax.grid()\n",
    "plt.title('График рассчитанных и приведенных общих расходов', y=1.1)\n",
    "plt.show()\n",
    "\n",
    "charges_corr, _ = stats.pearsonr(calculated_charges, total_charges)\n",
    "print('Корреляция между расcчитанными и приведенными расходами составляет', round(charges_corr, 4))"
   ]
  },
  {
   "cell_type": "markdown",
   "metadata": {},
   "source": [
    "- Ожидаемо, корреляция между рассчитанными и приведенными общими расходами практически равна 1, поэтому приведенные общие расходы можно не рассматривать в качестве признака "
   ]
  },
  {
   "cell_type": "markdown",
   "metadata": {},
   "source": [
    "- Дополнительно оценим корреляцию между ежемесячным платежом и длительностью контракта"
   ]
  },
  {
   "cell_type": "code",
   "execution_count": 21,
   "metadata": {},
   "outputs": [
    {
     "data": {
      "image/png": "[encoded data removed]",
      "text/plain": [
       "<Figure size 360x360 with 1 Axes>"
      ]
     },
     "metadata": {
      "needs_background": "light"
     },
     "output_type": "display_data"
    },
    {
     "name": "stdout",
     "output_type": "stream",
     "text": [
      "Корреляция между ежемесячными расходами и длительностью контракта составляет 0.25\n"
     ]
    }
   ],
   "source": [
    "monthly_charges = data['MonthlyCharges']\n",
    "contract_duration = data['ContractDuration']\n",
    "\n",
    "fig, ax = plt.subplots( figsize=(5,5))\n",
    "ax.scatter(x=monthly_charges, y=contract_duration)\n",
    "ax.set_xlabel('Ежемесячные расходы, у.е.')\n",
    "ax.set_ylabel('Длительтность контракта, дни')\n",
    "ax.grid()\n",
    "plt.title('График ежемесячных расходов и длительности контрактов', y=1.1)\n",
    "plt.show()\n",
    "\n",
    "charges_corr, _ = stats.pearsonr(monthly_charges, contract_duration)\n",
    "print('Корреляция между ежемесячными расходами и длительностью контракта составляет', round(charges_corr, 2))"
   ]
  },
  {
   "cell_type": "markdown",
   "metadata": {},
   "source": [
    "- Корреляции между ежемесячными расходами и длительностью контракта не наблюдается"
   ]
  },
  {
   "cell_type": "markdown",
   "metadata": {},
   "source": [
    "- #### Рассмотрим методы оплаты для действующих и неактивных клиентов"
   ]
  },
  {
   "cell_type": "code",
   "execution_count": 22,
   "metadata": {},
   "outputs": [
    {
     "data": {
      "image/png": "[encoded data removed]",
      "text/plain": [
       "<Figure size 1080x360 with 2 Axes>"
      ]
     },
     "metadata": {
      "needs_background": "light"
     },
     "output_type": "display_data"
    }
   ],
   "source": [
    "g = sns.catplot(x='PaymentMethod', data=data.sort_values(by='PaymentMethod'), kind='count', col='Status', height=5, aspect=1.5/1)\n",
    "axes = g.axes.flatten()\n",
    "axes[0].set_title(\"Ушедшие клиенты\")\n",
    "axes[1].set_title(\"Действующие клиенты\")\n",
    "(g.set_axis_labels('Тип оплаты', 'Количество клиентов')\n",
    "  .fig.suptitle('Графики типа оплаты для ушедших и действующих клиентов', y=1.2))\n",
    "\n",
    "plt.show()"
   ]
  },
  {
   "cell_type": "markdown",
   "metadata": {},
   "source": [
    "- Можно отметить, что для ушедших клиентов более характерно использование электроннго чека, для действующих клиентов - все методы представлены равномерно"
   ]
  },
  {
   "cell_type": "markdown",
   "metadata": {},
   "source": [
    "- #### Оценим наличие или отсутствие небумажного чека среди неактивных и действующих пользователей"
   ]
  },
  {
   "cell_type": "code",
   "execution_count": 23,
   "metadata": {},
   "outputs": [
    {
     "data": {
      "image/png": "[encoded data removed]",
      "text/plain": [
       "<Figure size 504x252 with 2 Axes>"
      ]
     },
     "metadata": {
      "needs_background": "light"
     },
     "output_type": "display_data"
    }
   ],
   "source": [
    "g = sns.catplot(x='PaperlessBilling', data=data, kind='count', col='Status', height=3.5)\n",
    "axes = g.axes.flatten()\n",
    "axes[0].set_title(\"Ушедшие клиенты\")\n",
    "axes[1].set_title(\"Действующие клиенты\")\n",
    "(g.set_axis_labels('Небумажный чек', 'Количество клиентов')\n",
    "  .fig.suptitle('Графики наличия небумажного чека среди ушедших и действующих клиентов', y=1.2))\n",
    "plt.show()"
   ]
  },
  {
   "cell_type": "markdown",
   "metadata": {},
   "source": [
    "- Можно отметить, что для ушедших клиентов более характерно отсутствие бумажного чека, для действующих клиентов - разделение практически 50/50"
   ]
  },
  {
   "cell_type": "markdown",
   "metadata": {},
   "source": [
    "- Оценим персональные характеристики для неактивных и действующих пользователей"
   ]
  },
  {
   "cell_type": "code",
   "execution_count": 24,
   "metadata": {},
   "outputs": [
    {
     "data": {
      "image/png": "[encoded data removed]",
      "text/plain": [
       "<Figure size 504x252 with 2 Axes>"
      ]
     },
     "metadata": {
      "needs_background": "light"
     },
     "output_type": "display_data"
    },
    {
     "data": {
      "image/png": "[encoded data removed]",
      "text/plain": [
       "<Figure size 504x252 with 2 Axes>"
      ]
     },
     "metadata": {
      "needs_background": "light"
     },
     "output_type": "display_data"
    },
    {
     "data": {
      "image/png": "[encoded data removed]",
      "text/plain": [
       "<Figure size 504x252 with 2 Axes>"
      ]
     },
     "metadata": {
      "needs_background": "light"
     },
     "output_type": "display_data"
    },
    {
     "data": {
      "image/png": "[encoded data removed]",
      "text/plain": [
       "<Figure size 504x252 with 2 Axes>"
      ]
     },
     "metadata": {
      "needs_background": "light"
     },
     "output_type": "display_data"
    }
   ],
   "source": [
    "g = sns.catplot(x='gender', data=data, kind='count', col='Status', height=3.5)\n",
    "axes = g.axes.flatten()\n",
    "axes[0].set_title(\"Ушедшие клиенты\")\n",
    "axes[1].set_title(\"Действующие клиенты\")\n",
    "(g.set_axis_labels('Пол', 'Количество клиентов')\n",
    "  .set_xticklabels([\"Женщина\", \"Мужчина\"])\n",
    "  .fig.suptitle('Графики соотношения полов среди ушедших и действующих клиентов', y=1.2))\n",
    "\n",
    "g = sns.catplot(x='SeniorCitizen', data=data, kind='count', col='Status', height=3.5)\n",
    "axes = g.axes.flatten()\n",
    "axes[0].set_title(\"Ушедшие клиенты\")\n",
    "axes[1].set_title(\"Действующие клиенты\")\n",
    "(g.set_axis_labels('Возраст', 'Количество клиентов')\n",
    "  .set_xticklabels([\"Молодой\", \"Пожилой\"])\n",
    "  .fig.suptitle('Графики соотношения молодых и пожилых людей\\n среди ушедших и действующих клиентов', y=1.2))\n",
    "\n",
    "g = sns.catplot(x='Partner', data=data, kind='count', col='Status', height=3.5)\n",
    "axes = g.axes.flatten()\n",
    "axes[0].set_title(\"Ушедшие клиенты\")\n",
    "axes[1].set_title(\"Действующие клиенты\")\n",
    "(g.set_axis_labels('Партнер', 'Количество клиентов')\n",
    "  .set_xticklabels([\"Есть\", \"Нет\"])\n",
    "  .fig.suptitle('Графики наличия партнера среди ушедших и действующих клиентов', y=1.2))\n",
    "\n",
    "g = sns.catplot(x='Dependents', data=data, kind='count', col='Status', height=3.5)\n",
    "axes = g.axes.flatten()\n",
    "axes[0].set_title(\"Ушедшие клиенты\")\n",
    "axes[1].set_title(\"Действующие клиенты\")\n",
    "(g.set_axis_labels('Дети', 'Количество клиентов')\n",
    "  .set_xticklabels([\"Нет\", \"Есть\"])\n",
    "  .fig.suptitle('Графики наличия детей среди ушедших и действующих клиентов', y=1.2))\n",
    "\n",
    "plt.show()"
   ]
  },
  {
   "cell_type": "markdown",
   "metadata": {},
   "source": [
    "- По графикам можно сделать следующие выводы:\n",
    "    1. Мужчины и женщины в одинаковой степени представлены среди действующих и неактивных клиентов\n",
    "    2. Количество молодых людей по отношению к пожилым выше среди действующих клиентов, но в целом в обеих группах молодых людей значительно больше\n",
    "    3. Среди ушедших клиентов больше людей без партнера\n",
    "    4. Количество людей без детей по отношению к клиентам с детьми среди ушедших выше, чем среди действующих"
   ]
  },
  {
   "cell_type": "markdown",
   "metadata": {},
   "source": [
    "- #### Рассмотрим предоставляемы услуги среди неактивных и действующих клиентов"
   ]
  },
  {
   "cell_type": "markdown",
   "metadata": {},
   "source": [
    "- Будем считать, что если данные об услуге не указаны, значит она не предоставляется. Таким образом заполним пропуски"
   ]
  },
  {
   "cell_type": "code",
   "execution_count": 25,
   "metadata": {},
   "outputs": [
    {
     "name": "stdout",
     "output_type": "stream",
     "text": [
      "<class 'pandas.core.frame.DataFrame'>\n",
      "Int64Index: 7043 entries, 0 to 7042\n",
      "Data columns (total 22 columns):\n",
      " #   Column            Non-Null Count  Dtype         \n",
      "---  ------            --------------  -----         \n",
      " 0   customerID        7043 non-null   object        \n",
      " 1   BeginDate         7043 non-null   datetime64[ns]\n",
      " 2   EndDate           7043 non-null   object        \n",
      " 3   Type              7043 non-null   object        \n",
      " 4   PaperlessBilling  7043 non-null   object        \n",
      " 5   PaymentMethod     7043 non-null   object        \n",
      " 6   MonthlyCharges    7043 non-null   float64       \n",
      " 7   TotalCharges      7043 non-null   float64       \n",
      " 8   gender            7043 non-null   object        \n",
      " 9   SeniorCitizen     7043 non-null   int64         \n",
      " 10  Partner           7043 non-null   object        \n",
      " 11  Dependents        7043 non-null   object        \n",
      " 12  InternetService   7043 non-null   object        \n",
      " 13  OnlineSecurity    7043 non-null   object        \n",
      " 14  OnlineBackup      7043 non-null   object        \n",
      " 15  DeviceProtection  7043 non-null   object        \n",
      " 16  TechSupport       7043 non-null   object        \n",
      " 17  StreamingTV       7043 non-null   object        \n",
      " 18  StreamingMovies   7043 non-null   object        \n",
      " 19  MultipleLines     7043 non-null   object        \n",
      " 20  Status            7043 non-null   int64         \n",
      " 21  ContractDuration  7043 non-null   float64       \n",
      "dtypes: datetime64[ns](1), float64(3), int64(2), object(16)\n",
      "memory usage: 1.5+ MB\n"
     ]
    }
   ],
   "source": [
    "data = data.fillna('No')\n",
    "data.info()"
   ]
  },
  {
   "cell_type": "code",
   "execution_count": 26,
   "metadata": {
    "scrolled": false
   },
   "outputs": [
    {
     "data": {
      "image/png": "[encoded data removed]",
      "text/plain": [
       "<Figure size 504x252 with 2 Axes>"
      ]
     },
     "metadata": {
      "needs_background": "light"
     },
     "output_type": "display_data"
    },
    {
     "data": {
      "image/png": "[encoded data removed]",
      "text/plain": [
       "<Figure size 504x252 with 2 Axes>"
      ]
     },
     "metadata": {
      "needs_background": "light"
     },
     "output_type": "display_data"
    },
    {
     "data": {
      "image/png": "[encoded data removed]",
      "text/plain": [
       "<Figure size 504x252 with 2 Axes>"
      ]
     },
     "metadata": {
      "needs_background": "light"
     },
     "output_type": "display_data"
    },
    {
     "data": {
      "image/png": "[encoded data removed]",
      "text/plain": [
       "<Figure size 504x252 with 2 Axes>"
      ]
     },
     "metadata": {
      "needs_background": "light"
     },
     "output_type": "display_data"
    },
    {
     "data": {
      "image/png": "[encoded data removed]",
      "text/plain": [
       "<Figure size 504x252 with 2 Axes>"
      ]
     },
     "metadata": {
      "needs_background": "light"
     },
     "output_type": "display_data"
    },
    {
     "data": {
      "image/png": "[encoded data removed]",
      "text/plain": [
       "<Figure size 504x252 with 2 Axes>"
      ]
     },
     "metadata": {
      "needs_background": "light"
     },
     "output_type": "display_data"
    },
    {
     "data": {
      "image/png": "[encoded data removed]",
      "text/plain": [
       "<Figure size 504x252 with 2 Axes>"
      ]
     },
     "metadata": {
      "needs_background": "light"
     },
     "output_type": "display_data"
    }
   ],
   "source": [
    "service_columns = ['InternetService', 'OnlineSecurity', 'OnlineBackup', 'DeviceProtection', 'TechSupport', 'StreamingTV', 'MultipleLines']\n",
    "\n",
    "for i in range(len(service_columns)):\n",
    "    g = sns.catplot(x=service_columns[i], data=data.sort_values(by=service_columns[i]), kind='count', col='Status', height=3.5)\n",
    "    axes = g.axes.flatten()\n",
    "    if i==0:\n",
    "        axes[0].set_title(\"Ушедшие клиенты\")\n",
    "        axes[1].set_title(\"Действующие клиенты\")\n",
    "    else:\n",
    "        axes[0].set_title(\"\")\n",
    "        axes[1].set_title(\"\")        \n",
    "    (g.set_axis_labels(service_columns[i], 'Количество клиентов'))\n",
    "\n",
    "plt.show()\n"
   ]
  },
  {
   "cell_type": "markdown",
   "metadata": {},
   "source": [
    "- Из графиков можно сделать следующие выводы:\n",
    "\n",
    "\n",
    "    1. За исключением интернета, соотношение предоставляемых и отключенных услуг среди ушедших и действующих клиентов схожее с небольшими девиациями например по техподдержке, онлайн-безопасности и стримингу\n",
    "    \n",
    "    2. Среди ушедших клиентов почти все пользовались подключением к интернету, преимущественно по оптоволокну, тогда как примерно треть дейстующих клиентов интернет подключение не использует, а остальная часть в равной степени выбирает оптоволоконное соединение и цифровую абонентскую линию"
   ]
  },
  {
   "cell_type": "markdown",
   "metadata": {},
   "source": [
    "# Подготовка признаков <a class=\"anchor\" id=\"6.2-bullet\"></a>"
   ]
  },
  {
   "cell_type": "markdown",
   "metadata": {},
   "source": [
    "- #### Изучив различные параметры и их соотношения, необходимо понять насколько достоверно для целей обучения модели мы можем предполагать, что активные новые клиенты, появившиеся к концу 2019 началу 2020 года, не являются \"потенциально ушедшими\" в коротктой перспективе. Т.е. надо определить, характеризуются ли новые клиенты как активные или склонные к тому, чтобы уйти. "
   ]
  },
  {
   "cell_type": "markdown",
   "metadata": {},
   "source": [
    "- Мы определили, что в большинстве случаев, если клиент собирается уйти, то скорее всего он сделает это в первые 200 дней пользования. \n",
    "\n",
    "\n",
    "- Среди новых активных клиентов попробуем выделить тех, кто потенциально уйдет через короткое время по следующим характерным криетриям:\n",
    "    1. Тип договора: на месяц \n",
    "    2. Тип оплаты: электронный чек\n",
    "    3. Подключение к интернету через оптоволокно"
   ]
  },
  {
   "cell_type": "code",
   "execution_count": 27,
   "metadata": {},
   "outputs": [
    {
     "data": {
      "image/png": "[encoded data removed]",
      "text/plain": [
       "<Figure size 252x252 with 1 Axes>"
      ]
     },
     "metadata": {
      "needs_background": "light"
     },
     "output_type": "display_data"
    },
    {
     "data": {
      "image/png": "[encoded data removed]",
      "text/plain": [
       "<Figure size 252x252 with 1 Axes>"
      ]
     },
     "metadata": {
      "needs_background": "light"
     },
     "output_type": "display_data"
    },
    {
     "data": {
      "image/png": "[encoded data removed]",
      "text/plain": [
       "<Figure size 756x252 with 1 Axes>"
      ]
     },
     "metadata": {
      "needs_background": "light"
     },
     "output_type": "display_data"
    }
   ],
   "source": [
    "g = sns.catplot(x='Type', data=data.query('Status==1 and ContractDuration<200'), kind='count', col='Status', height=3.5)\n",
    "axes = g.axes.flatten()\n",
    "axes[0].set_title(\"\")\n",
    "(g.set_axis_labels('Тип договора', 'Количество клиентов')\n",
    "  .fig.suptitle('Графики типа договора \\n для новых действующих клиентов', y=1.2))\n",
    "\n",
    "g = sns.catplot(x='InternetService', data=data.query('Status==1 and ContractDuration<200').sort_values(by='InternetService'), kind='count', col='Status', height=3.5)\n",
    "axes = g.axes.flatten()\n",
    "axes[0].set_title(\"\")\n",
    "(g.set_axis_labels('InternetService', 'Количество клиентов')\n",
    "  .fig.suptitle('Графики интернет сервиса \\n для новых действующих клиентов', y=1.2))\n",
    "\n",
    "g = sns.catplot(x='PaymentMethod', data=data.query('Status==1 and ContractDuration<200').sort_values(by='PaymentMethod'), kind='count', col='Status', height=3.5, aspect=3/1)\n",
    "axes = g.axes.flatten()\n",
    "axes[0].set_title(\"\")\n",
    "(g.set_axis_labels('Тип оплаты', 'Количество клиентов')\n",
    "  .fig.suptitle('Графики типа оплаты для новых действующих клиентов', y=1.2))\n",
    "\n",
    "plt.show()"
   ]
  },
  {
   "cell_type": "markdown",
   "metadata": {},
   "source": [
    "- Из новых клиентов значительную часть составляют те, кто выбрал помесячный договор. \n",
    "\n",
    "\n",
    "- Новых клиентов с продолжительным договором (1-2 года) точно возьмем для обучения. Чтобы не обрасывать слишком много остальных новых клиентов, попробуем среди них сделать выбор на основе интернет сервиса и типа оплаты"
   ]
  },
  {
   "cell_type": "code",
   "execution_count": 28,
   "metadata": {},
   "outputs": [
    {
     "data": {
      "image/png": "[encoded data removed]",
      "text/plain": [
       "<Figure size 252x252 with 1 Axes>"
      ]
     },
     "metadata": {
      "needs_background": "light"
     },
     "output_type": "display_data"
    },
    {
     "data": {
      "image/png": "[encoded data removed]",
      "text/plain": [
       "<Figure size 756x252 with 1 Axes>"
      ]
     },
     "metadata": {
      "needs_background": "light"
     },
     "output_type": "display_data"
    }
   ],
   "source": [
    "condition = 'Status==1 and ContractDuration<200 and Type==\"Month-to-month\"'\n",
    "\n",
    "g = sns.catplot(x='InternetService', data=data.query(condition).sort_values(by='InternetService'), kind='count', col='Status', height=3.5)\n",
    "axes = g.axes.flatten()\n",
    "axes[0].set_title(\"\")\n",
    "(g.set_axis_labels('InternetService', 'Количество клиентов')\n",
    "  .fig.suptitle('Графики интернет сервиса \\n для новых действующих клиентов', y=1.2))\n",
    "\n",
    "g = sns.catplot(x='PaymentMethod', data=data.query(condition).sort_values(by='PaymentMethod'), kind='count', col='Status', height=3.5, aspect=3/1)\n",
    "axes = g.axes.flatten()\n",
    "axes[0].set_title(\"\")\n",
    "(g.set_axis_labels('Тип оплаты', 'Количество клиентов')\n",
    "  .fig.suptitle('Графики типа оплаты для новых действующих клиентов', y=1.2))\n",
    "\n",
    "plt.show()"
   ]
  },
  {
   "cell_type": "markdown",
   "metadata": {},
   "source": [
    "- Среди оставшихся новых клиентов выберем тех кто не подключал интернет"
   ]
  },
  {
   "cell_type": "code",
   "execution_count": 29,
   "metadata": {},
   "outputs": [
    {
     "data": {
      "image/png": "[encoded data removed]",
      "text/plain": [
       "<Figure size 756x252 with 1 Axes>"
      ]
     },
     "metadata": {
      "needs_background": "light"
     },
     "output_type": "display_data"
    }
   ],
   "source": [
    "condition = 'Status==1 and ContractDuration<200 and Type==\"Month-to-month\" and InternetService==\"No\"'\n",
    "\n",
    "g = sns.catplot(x='PaymentMethod', data=data.query(condition).sort_values(by='PaymentMethod'), kind='count', col='Status', height=3.5, aspect=3/1)\n",
    "axes = g.axes.flatten()\n",
    "axes[0].set_title(\"\")\n",
    "(g.set_axis_labels('Тип оплаты', 'Количество клиентов')\n",
    "  .fig.suptitle('Графики типа оплаты для новых действующих клиентов', y=1.2))\n",
    "\n",
    "plt.show()"
   ]
  },
  {
   "cell_type": "markdown",
   "metadata": {},
   "source": [
    "- Дополнительно проведем фильтрацию новых клиентов, которые не использовали электорнный чек для оплаты"
   ]
  },
  {
   "cell_type": "code",
   "execution_count": 30,
   "metadata": {},
   "outputs": [
    {
     "name": "stdout",
     "output_type": "stream",
     "text": [
      "Исходное количество новых активных клиентов:  697\n",
      "Количество вероятных новых активных клиентов:  265\n"
     ]
    }
   ],
   "source": [
    "condition_new_active_clients = 'Status==1 and ContractDuration<200'\n",
    "condition_filt_new_active_clients = 'Status==1 and ContractDuration<200 and ((Type!=\"Month-to-month\") or (Type==\"Month-to-month\"and InternetService==\"No\" and PaymentMethod!=\"Electronic check\"))'\n",
    "\n",
    "print('Исходное количество новых активных клиентов: ', len(data.query(condition_new_active_clients)))\n",
    "print('Количество вероятных новых активных клиентов: ', len(data.query(condition_filt_new_active_clients)))\n"
   ]
  },
  {
   "cell_type": "markdown",
   "metadata": {},
   "source": [
    "- Таким образом, мы оставили новых клиентов с наиболее вероятными характеристиками пользователей, которые не уйдут в ближайшее время. Тем самым мы не внесем потенциальную ошибку при обучение модели "
   ]
  },
  {
   "cell_type": "code",
   "execution_count": 31,
   "metadata": {},
   "outputs": [
    {
     "name": "stdout",
     "output_type": "stream",
     "text": [
      "<class 'pandas.core.frame.DataFrame'>\n",
      "Int64Index: 6778 entries, 0 to 7042\n",
      "Data columns (total 22 columns):\n",
      " #   Column            Non-Null Count  Dtype         \n",
      "---  ------            --------------  -----         \n",
      " 0   customerID        6778 non-null   object        \n",
      " 1   BeginDate         6778 non-null   datetime64[ns]\n",
      " 2   EndDate           6778 non-null   object        \n",
      " 3   Type              6778 non-null   object        \n",
      " 4   PaperlessBilling  6778 non-null   object        \n",
      " 5   PaymentMethod     6778 non-null   object        \n",
      " 6   MonthlyCharges    6778 non-null   float64       \n",
      " 7   TotalCharges      6778 non-null   float64       \n",
      " 8   gender            6778 non-null   object        \n",
      " 9   SeniorCitizen     6778 non-null   int64         \n",
      " 10  Partner           6778 non-null   object        \n",
      " 11  Dependents        6778 non-null   object        \n",
      " 12  InternetService   6778 non-null   object        \n",
      " 13  OnlineSecurity    6778 non-null   object        \n",
      " 14  OnlineBackup      6778 non-null   object        \n",
      " 15  DeviceProtection  6778 non-null   object        \n",
      " 16  TechSupport       6778 non-null   object        \n",
      " 17  StreamingTV       6778 non-null   object        \n",
      " 18  StreamingMovies   6778 non-null   object        \n",
      " 19  MultipleLines     6778 non-null   object        \n",
      " 20  Status            6778 non-null   int64         \n",
      " 21  ContractDuration  6778 non-null   float64       \n",
      "dtypes: datetime64[ns](1), float64(3), int64(2), object(16)\n",
      "memory usage: 1.2+ MB\n"
     ]
    },
    {
     "data": {
      "text/html": [
       "<div>\n",
       "<style scoped>\n",
       "    .dataframe tbody tr th:only-of-type {\n",
       "        vertical-align: middle;\n",
       "    }\n",
       "\n",
       "    .dataframe tbody tr th {\n",
       "        vertical-align: top;\n",
       "    }\n",
       "\n",
       "    .dataframe thead th {\n",
       "        text-align: right;\n",
       "    }\n",
       "</style>\n",
       "<table border=\"1\" class=\"dataframe\">\n",
       "  <thead>\n",
       "    <tr style=\"text-align: right;\">\n",
       "      <th></th>\n",
       "      <th>customerID</th>\n",
       "      <th>BeginDate</th>\n",
       "      <th>EndDate</th>\n",
       "      <th>Type</th>\n",
       "      <th>PaperlessBilling</th>\n",
       "      <th>PaymentMethod</th>\n",
       "      <th>MonthlyCharges</th>\n",
       "      <th>TotalCharges</th>\n",
       "      <th>gender</th>\n",
       "      <th>SeniorCitizen</th>\n",
       "      <th>...</th>\n",
       "      <th>InternetService</th>\n",
       "      <th>OnlineSecurity</th>\n",
       "      <th>OnlineBackup</th>\n",
       "      <th>DeviceProtection</th>\n",
       "      <th>TechSupport</th>\n",
       "      <th>StreamingTV</th>\n",
       "      <th>StreamingMovies</th>\n",
       "      <th>MultipleLines</th>\n",
       "      <th>Status</th>\n",
       "      <th>ContractDuration</th>\n",
       "    </tr>\n",
       "  </thead>\n",
       "  <tbody>\n",
       "    <tr>\n",
       "      <th>0</th>\n",
       "      <td>7590-VHVEG</td>\n",
       "      <td>2020-01-01</td>\n",
       "      <td>No</td>\n",
       "      <td>Month-to-month</td>\n",
       "      <td>Yes</td>\n",
       "      <td>Electronic check</td>\n",
       "      <td>29.85</td>\n",
       "      <td>29.85</td>\n",
       "      <td>Female</td>\n",
       "      <td>0</td>\n",
       "      <td>...</td>\n",
       "      <td>DSL</td>\n",
       "      <td>No</td>\n",
       "      <td>Yes</td>\n",
       "      <td>No</td>\n",
       "      <td>No</td>\n",
       "      <td>No</td>\n",
       "      <td>No</td>\n",
       "      <td>No</td>\n",
       "      <td>1</td>\n",
       "      <td>31.0</td>\n",
       "    </tr>\n",
       "    <tr>\n",
       "      <th>1</th>\n",
       "      <td>5575-GNVDE</td>\n",
       "      <td>2017-04-01</td>\n",
       "      <td>No</td>\n",
       "      <td>One year</td>\n",
       "      <td>No</td>\n",
       "      <td>Mailed check</td>\n",
       "      <td>56.95</td>\n",
       "      <td>1889.50</td>\n",
       "      <td>Male</td>\n",
       "      <td>0</td>\n",
       "      <td>...</td>\n",
       "      <td>DSL</td>\n",
       "      <td>Yes</td>\n",
       "      <td>No</td>\n",
       "      <td>Yes</td>\n",
       "      <td>No</td>\n",
       "      <td>No</td>\n",
       "      <td>No</td>\n",
       "      <td>No</td>\n",
       "      <td>1</td>\n",
       "      <td>1036.0</td>\n",
       "    </tr>\n",
       "    <tr>\n",
       "      <th>2</th>\n",
       "      <td>3668-QPYBK</td>\n",
       "      <td>2019-10-01</td>\n",
       "      <td>2019-12-01 00:00:00</td>\n",
       "      <td>Month-to-month</td>\n",
       "      <td>Yes</td>\n",
       "      <td>Mailed check</td>\n",
       "      <td>53.85</td>\n",
       "      <td>108.15</td>\n",
       "      <td>Male</td>\n",
       "      <td>0</td>\n",
       "      <td>...</td>\n",
       "      <td>DSL</td>\n",
       "      <td>Yes</td>\n",
       "      <td>Yes</td>\n",
       "      <td>No</td>\n",
       "      <td>No</td>\n",
       "      <td>No</td>\n",
       "      <td>No</td>\n",
       "      <td>No</td>\n",
       "      <td>0</td>\n",
       "      <td>61.0</td>\n",
       "    </tr>\n",
       "    <tr>\n",
       "      <th>3</th>\n",
       "      <td>7795-CFOCW</td>\n",
       "      <td>2016-05-01</td>\n",
       "      <td>No</td>\n",
       "      <td>One year</td>\n",
       "      <td>No</td>\n",
       "      <td>Bank transfer (automatic)</td>\n",
       "      <td>42.30</td>\n",
       "      <td>1840.75</td>\n",
       "      <td>Male</td>\n",
       "      <td>0</td>\n",
       "      <td>...</td>\n",
       "      <td>DSL</td>\n",
       "      <td>Yes</td>\n",
       "      <td>No</td>\n",
       "      <td>Yes</td>\n",
       "      <td>Yes</td>\n",
       "      <td>No</td>\n",
       "      <td>No</td>\n",
       "      <td>No</td>\n",
       "      <td>1</td>\n",
       "      <td>1371.0</td>\n",
       "    </tr>\n",
       "    <tr>\n",
       "      <th>4</th>\n",
       "      <td>9237-HQITU</td>\n",
       "      <td>2019-09-01</td>\n",
       "      <td>2019-11-01 00:00:00</td>\n",
       "      <td>Month-to-month</td>\n",
       "      <td>Yes</td>\n",
       "      <td>Electronic check</td>\n",
       "      <td>70.70</td>\n",
       "      <td>151.65</td>\n",
       "      <td>Female</td>\n",
       "      <td>0</td>\n",
       "      <td>...</td>\n",
       "      <td>Fiber optic</td>\n",
       "      <td>No</td>\n",
       "      <td>No</td>\n",
       "      <td>No</td>\n",
       "      <td>No</td>\n",
       "      <td>No</td>\n",
       "      <td>No</td>\n",
       "      <td>No</td>\n",
       "      <td>0</td>\n",
       "      <td>61.0</td>\n",
       "    </tr>\n",
       "  </tbody>\n",
       "</table>\n",
       "<p>5 rows × 22 columns</p>\n",
       "</div>"
      ],
      "text/plain": [
       "   customerID  BeginDate              EndDate            Type  \\\n",
       "0  7590-VHVEG 2020-01-01                   No  Month-to-month   \n",
       "1  5575-GNVDE 2017-04-01                   No        One year   \n",
       "2  3668-QPYBK 2019-10-01  2019-12-01 00:00:00  Month-to-month   \n",
       "3  7795-CFOCW 2016-05-01                   No        One year   \n",
       "4  9237-HQITU 2019-09-01  2019-11-01 00:00:00  Month-to-month   \n",
       "\n",
       "  PaperlessBilling              PaymentMethod  MonthlyCharges  TotalCharges  \\\n",
       "0              Yes           Electronic check           29.85         29.85   \n",
       "1               No               Mailed check           56.95       1889.50   \n",
       "2              Yes               Mailed check           53.85        108.15   \n",
       "3               No  Bank transfer (automatic)           42.30       1840.75   \n",
       "4              Yes           Electronic check           70.70        151.65   \n",
       "\n",
       "   gender  SeniorCitizen  ... InternetService OnlineSecurity OnlineBackup  \\\n",
       "0  Female              0  ...             DSL             No          Yes   \n",
       "1    Male              0  ...             DSL            Yes           No   \n",
       "2    Male              0  ...             DSL            Yes          Yes   \n",
       "3    Male              0  ...             DSL            Yes           No   \n",
       "4  Female              0  ...     Fiber optic             No           No   \n",
       "\n",
       "  DeviceProtection TechSupport StreamingTV StreamingMovies MultipleLines  \\\n",
       "0               No          No          No              No            No   \n",
       "1              Yes          No          No              No            No   \n",
       "2               No          No          No              No            No   \n",
       "3              Yes         Yes          No              No            No   \n",
       "4               No          No          No              No            No   \n",
       "\n",
       "  Status ContractDuration  \n",
       "0      1             31.0  \n",
       "1      1           1036.0  \n",
       "2      0             61.0  \n",
       "3      1           1371.0  \n",
       "4      0             61.0  \n",
       "\n",
       "[5 rows x 22 columns]"
      ]
     },
     "metadata": {},
     "output_type": "display_data"
    }
   ],
   "source": [
    "data_precon = data.drop(data.query(condition_filt_new_active_clients).index)\n",
    "\n",
    "data_precon.info()\n",
    "display(data_precon.head(5))"
   ]
  },
  {
   "cell_type": "markdown",
   "metadata": {},
   "source": [
    "- #### Удалим лишние столбцы:\n",
    "\n",
    "\n",
    "    - customerID - неиформативный\n",
    "    - BeginDate/EndDate заменяют ContractDuration и целевым Status\n",
    "    - TotalCharges - выводится из ContractDuration и MonthlyCharges"
   ]
  },
  {
   "cell_type": "code",
   "execution_count": 32,
   "metadata": {},
   "outputs": [
    {
     "name": "stdout",
     "output_type": "stream",
     "text": [
      "<class 'pandas.core.frame.DataFrame'>\n",
      "Int64Index: 6778 entries, 0 to 7042\n",
      "Data columns (total 18 columns):\n",
      " #   Column            Non-Null Count  Dtype  \n",
      "---  ------            --------------  -----  \n",
      " 0   Type              6778 non-null   object \n",
      " 1   PaperlessBilling  6778 non-null   object \n",
      " 2   PaymentMethod     6778 non-null   object \n",
      " 3   MonthlyCharges    6778 non-null   float64\n",
      " 4   gender            6778 non-null   object \n",
      " 5   SeniorCitizen     6778 non-null   int64  \n",
      " 6   Partner           6778 non-null   object \n",
      " 7   Dependents        6778 non-null   object \n",
      " 8   InternetService   6778 non-null   object \n",
      " 9   OnlineSecurity    6778 non-null   object \n",
      " 10  OnlineBackup      6778 non-null   object \n",
      " 11  DeviceProtection  6778 non-null   object \n",
      " 12  TechSupport       6778 non-null   object \n",
      " 13  StreamingTV       6778 non-null   object \n",
      " 14  StreamingMovies   6778 non-null   object \n",
      " 15  MultipleLines     6778 non-null   object \n",
      " 16  Status            6778 non-null   int64  \n",
      " 17  ContractDuration  6778 non-null   float64\n",
      "dtypes: float64(2), int64(2), object(14)\n",
      "memory usage: 1006.1+ KB\n"
     ]
    }
   ],
   "source": [
    "data_precon.drop(columns=['customerID', 'BeginDate', 'EndDate', 'TotalCharges'], inplace=True)\n",
    "data_precon.info()"
   ]
  },
  {
   "cell_type": "markdown",
   "metadata": {},
   "source": [
    "- #### Проведем кодировку категориальных признаков"
   ]
  },
  {
   "cell_type": "markdown",
   "metadata": {},
   "source": [
    "- Для удобства заменим 'да/нет' в различных признаках на 1 и 0 соответственно"
   ]
  },
  {
   "cell_type": "code",
   "execution_count": 33,
   "metadata": {},
   "outputs": [
    {
     "data": {
      "text/html": [
       "<div>\n",
       "<style scoped>\n",
       "    .dataframe tbody tr th:only-of-type {\n",
       "        vertical-align: middle;\n",
       "    }\n",
       "\n",
       "    .dataframe tbody tr th {\n",
       "        vertical-align: top;\n",
       "    }\n",
       "\n",
       "    .dataframe thead th {\n",
       "        text-align: right;\n",
       "    }\n",
       "</style>\n",
       "<table border=\"1\" class=\"dataframe\">\n",
       "  <thead>\n",
       "    <tr style=\"text-align: right;\">\n",
       "      <th></th>\n",
       "      <th>Type</th>\n",
       "      <th>PaperlessBilling</th>\n",
       "      <th>PaymentMethod</th>\n",
       "      <th>MonthlyCharges</th>\n",
       "      <th>gender</th>\n",
       "      <th>SeniorCitizen</th>\n",
       "      <th>Partner</th>\n",
       "      <th>Dependents</th>\n",
       "      <th>InternetService</th>\n",
       "      <th>OnlineSecurity</th>\n",
       "      <th>OnlineBackup</th>\n",
       "      <th>DeviceProtection</th>\n",
       "      <th>TechSupport</th>\n",
       "      <th>StreamingTV</th>\n",
       "      <th>StreamingMovies</th>\n",
       "      <th>MultipleLines</th>\n",
       "      <th>Status</th>\n",
       "      <th>ContractDuration</th>\n",
       "    </tr>\n",
       "  </thead>\n",
       "  <tbody>\n",
       "    <tr>\n",
       "      <th>0</th>\n",
       "      <td>Month-to-month</td>\n",
       "      <td>1</td>\n",
       "      <td>Electronic check</td>\n",
       "      <td>29.85</td>\n",
       "      <td>Female</td>\n",
       "      <td>0</td>\n",
       "      <td>1</td>\n",
       "      <td>0</td>\n",
       "      <td>DSL</td>\n",
       "      <td>0</td>\n",
       "      <td>1</td>\n",
       "      <td>0</td>\n",
       "      <td>0</td>\n",
       "      <td>0</td>\n",
       "      <td>0</td>\n",
       "      <td>0</td>\n",
       "      <td>1</td>\n",
       "      <td>31.0</td>\n",
       "    </tr>\n",
       "    <tr>\n",
       "      <th>1</th>\n",
       "      <td>One year</td>\n",
       "      <td>0</td>\n",
       "      <td>Mailed check</td>\n",
       "      <td>56.95</td>\n",
       "      <td>Male</td>\n",
       "      <td>0</td>\n",
       "      <td>0</td>\n",
       "      <td>0</td>\n",
       "      <td>DSL</td>\n",
       "      <td>1</td>\n",
       "      <td>0</td>\n",
       "      <td>1</td>\n",
       "      <td>0</td>\n",
       "      <td>0</td>\n",
       "      <td>0</td>\n",
       "      <td>0</td>\n",
       "      <td>1</td>\n",
       "      <td>1036.0</td>\n",
       "    </tr>\n",
       "    <tr>\n",
       "      <th>2</th>\n",
       "      <td>Month-to-month</td>\n",
       "      <td>1</td>\n",
       "      <td>Mailed check</td>\n",
       "      <td>53.85</td>\n",
       "      <td>Male</td>\n",
       "      <td>0</td>\n",
       "      <td>0</td>\n",
       "      <td>0</td>\n",
       "      <td>DSL</td>\n",
       "      <td>1</td>\n",
       "      <td>1</td>\n",
       "      <td>0</td>\n",
       "      <td>0</td>\n",
       "      <td>0</td>\n",
       "      <td>0</td>\n",
       "      <td>0</td>\n",
       "      <td>0</td>\n",
       "      <td>61.0</td>\n",
       "    </tr>\n",
       "    <tr>\n",
       "      <th>3</th>\n",
       "      <td>One year</td>\n",
       "      <td>0</td>\n",
       "      <td>Bank transfer (automatic)</td>\n",
       "      <td>42.30</td>\n",
       "      <td>Male</td>\n",
       "      <td>0</td>\n",
       "      <td>0</td>\n",
       "      <td>0</td>\n",
       "      <td>DSL</td>\n",
       "      <td>1</td>\n",
       "      <td>0</td>\n",
       "      <td>1</td>\n",
       "      <td>1</td>\n",
       "      <td>0</td>\n",
       "      <td>0</td>\n",
       "      <td>0</td>\n",
       "      <td>1</td>\n",
       "      <td>1371.0</td>\n",
       "    </tr>\n",
       "    <tr>\n",
       "      <th>4</th>\n",
       "      <td>Month-to-month</td>\n",
       "      <td>1</td>\n",
       "      <td>Electronic check</td>\n",
       "      <td>70.70</td>\n",
       "      <td>Female</td>\n",
       "      <td>0</td>\n",
       "      <td>0</td>\n",
       "      <td>0</td>\n",
       "      <td>Fiber optic</td>\n",
       "      <td>0</td>\n",
       "      <td>0</td>\n",
       "      <td>0</td>\n",
       "      <td>0</td>\n",
       "      <td>0</td>\n",
       "      <td>0</td>\n",
       "      <td>0</td>\n",
       "      <td>0</td>\n",
       "      <td>61.0</td>\n",
       "    </tr>\n",
       "  </tbody>\n",
       "</table>\n",
       "</div>"
      ],
      "text/plain": [
       "             Type  PaperlessBilling              PaymentMethod  \\\n",
       "0  Month-to-month                 1           Electronic check   \n",
       "1        One year                 0               Mailed check   \n",
       "2  Month-to-month                 1               Mailed check   \n",
       "3        One year                 0  Bank transfer (automatic)   \n",
       "4  Month-to-month                 1           Electronic check   \n",
       "\n",
       "   MonthlyCharges  gender  SeniorCitizen  Partner  Dependents InternetService  \\\n",
       "0           29.85  Female              0        1           0             DSL   \n",
       "1           56.95    Male              0        0           0             DSL   \n",
       "2           53.85    Male              0        0           0             DSL   \n",
       "3           42.30    Male              0        0           0             DSL   \n",
       "4           70.70  Female              0        0           0     Fiber optic   \n",
       "\n",
       "   OnlineSecurity  OnlineBackup  DeviceProtection  TechSupport  StreamingTV  \\\n",
       "0               0             1                 0            0            0   \n",
       "1               1             0                 1            0            0   \n",
       "2               1             1                 0            0            0   \n",
       "3               1             0                 1            1            0   \n",
       "4               0             0                 0            0            0   \n",
       "\n",
       "   StreamingMovies  MultipleLines  Status  ContractDuration  \n",
       "0                0              0       1              31.0  \n",
       "1                0              0       1            1036.0  \n",
       "2                0              0       0              61.0  \n",
       "3                0              0       1            1371.0  \n",
       "4                0              0       0              61.0  "
      ]
     },
     "metadata": {},
     "output_type": "display_data"
    }
   ],
   "source": [
    "data_precon = data_precon.replace('No', 0)\n",
    "data_precon = data_precon.replace('Yes', 1)\n",
    "display(data_precon.head(5))"
   ]
  },
  {
   "cell_type": "markdown",
   "metadata": {},
   "source": [
    "- Для остальных категориальных признаков используем автоматическое кодирование OHE"
   ]
  },
  {
   "cell_type": "code",
   "execution_count": 34,
   "metadata": {},
   "outputs": [
    {
     "name": "stdout",
     "output_type": "stream",
     "text": [
      "<class 'pandas.core.frame.DataFrame'>\n",
      "Int64Index: 6778 entries, 0 to 7042\n",
      "Data columns (total 22 columns):\n",
      " #   Column                                 Non-Null Count  Dtype  \n",
      "---  ------                                 --------------  -----  \n",
      " 0   PaperlessBilling                       6778 non-null   int64  \n",
      " 1   MonthlyCharges                         6778 non-null   float64\n",
      " 2   SeniorCitizen                          6778 non-null   int64  \n",
      " 3   Partner                                6778 non-null   int64  \n",
      " 4   Dependents                             6778 non-null   int64  \n",
      " 5   OnlineSecurity                         6778 non-null   int64  \n",
      " 6   OnlineBackup                           6778 non-null   int64  \n",
      " 7   DeviceProtection                       6778 non-null   int64  \n",
      " 8   TechSupport                            6778 non-null   int64  \n",
      " 9   StreamingTV                            6778 non-null   int64  \n",
      " 10  StreamingMovies                        6778 non-null   int64  \n",
      " 11  MultipleLines                          6778 non-null   int64  \n",
      " 12  Status                                 6778 non-null   int64  \n",
      " 13  ContractDuration                       6778 non-null   float64\n",
      " 14  Type_One year                          6778 non-null   uint8  \n",
      " 15  Type_Two year                          6778 non-null   uint8  \n",
      " 16  PaymentMethod_Credit card (automatic)  6778 non-null   uint8  \n",
      " 17  PaymentMethod_Electronic check         6778 non-null   uint8  \n",
      " 18  PaymentMethod_Mailed check             6778 non-null   uint8  \n",
      " 19  gender_Male                            6778 non-null   uint8  \n",
      " 20  InternetService_DSL                    6778 non-null   uint8  \n",
      " 21  InternetService_Fiber optic            6778 non-null   uint8  \n",
      "dtypes: float64(2), int64(12), uint8(8)\n",
      "memory usage: 847.2 KB\n"
     ]
    },
    {
     "data": {
      "text/html": [
       "<div>\n",
       "<style scoped>\n",
       "    .dataframe tbody tr th:only-of-type {\n",
       "        vertical-align: middle;\n",
       "    }\n",
       "\n",
       "    .dataframe tbody tr th {\n",
       "        vertical-align: top;\n",
       "    }\n",
       "\n",
       "    .dataframe thead th {\n",
       "        text-align: right;\n",
       "    }\n",
       "</style>\n",
       "<table border=\"1\" class=\"dataframe\">\n",
       "  <thead>\n",
       "    <tr style=\"text-align: right;\">\n",
       "      <th></th>\n",
       "      <th>PaperlessBilling</th>\n",
       "      <th>MonthlyCharges</th>\n",
       "      <th>SeniorCitizen</th>\n",
       "      <th>Partner</th>\n",
       "      <th>Dependents</th>\n",
       "      <th>OnlineSecurity</th>\n",
       "      <th>OnlineBackup</th>\n",
       "      <th>DeviceProtection</th>\n",
       "      <th>TechSupport</th>\n",
       "      <th>StreamingTV</th>\n",
       "      <th>...</th>\n",
       "      <th>Status</th>\n",
       "      <th>ContractDuration</th>\n",
       "      <th>Type_One year</th>\n",
       "      <th>Type_Two year</th>\n",
       "      <th>PaymentMethod_Credit card (automatic)</th>\n",
       "      <th>PaymentMethod_Electronic check</th>\n",
       "      <th>PaymentMethod_Mailed check</th>\n",
       "      <th>gender_Male</th>\n",
       "      <th>InternetService_DSL</th>\n",
       "      <th>InternetService_Fiber optic</th>\n",
       "    </tr>\n",
       "  </thead>\n",
       "  <tbody>\n",
       "    <tr>\n",
       "      <th>0</th>\n",
       "      <td>1</td>\n",
       "      <td>29.85</td>\n",
       "      <td>0</td>\n",
       "      <td>1</td>\n",
       "      <td>0</td>\n",
       "      <td>0</td>\n",
       "      <td>1</td>\n",
       "      <td>0</td>\n",
       "      <td>0</td>\n",
       "      <td>0</td>\n",
       "      <td>...</td>\n",
       "      <td>1</td>\n",
       "      <td>31.0</td>\n",
       "      <td>0</td>\n",
       "      <td>0</td>\n",
       "      <td>0</td>\n",
       "      <td>1</td>\n",
       "      <td>0</td>\n",
       "      <td>0</td>\n",
       "      <td>1</td>\n",
       "      <td>0</td>\n",
       "    </tr>\n",
       "    <tr>\n",
       "      <th>1</th>\n",
       "      <td>0</td>\n",
       "      <td>56.95</td>\n",
       "      <td>0</td>\n",
       "      <td>0</td>\n",
       "      <td>0</td>\n",
       "      <td>1</td>\n",
       "      <td>0</td>\n",
       "      <td>1</td>\n",
       "      <td>0</td>\n",
       "      <td>0</td>\n",
       "      <td>...</td>\n",
       "      <td>1</td>\n",
       "      <td>1036.0</td>\n",
       "      <td>1</td>\n",
       "      <td>0</td>\n",
       "      <td>0</td>\n",
       "      <td>0</td>\n",
       "      <td>1</td>\n",
       "      <td>1</td>\n",
       "      <td>1</td>\n",
       "      <td>0</td>\n",
       "    </tr>\n",
       "    <tr>\n",
       "      <th>2</th>\n",
       "      <td>1</td>\n",
       "      <td>53.85</td>\n",
       "      <td>0</td>\n",
       "      <td>0</td>\n",
       "      <td>0</td>\n",
       "      <td>1</td>\n",
       "      <td>1</td>\n",
       "      <td>0</td>\n",
       "      <td>0</td>\n",
       "      <td>0</td>\n",
       "      <td>...</td>\n",
       "      <td>0</td>\n",
       "      <td>61.0</td>\n",
       "      <td>0</td>\n",
       "      <td>0</td>\n",
       "      <td>0</td>\n",
       "      <td>0</td>\n",
       "      <td>1</td>\n",
       "      <td>1</td>\n",
       "      <td>1</td>\n",
       "      <td>0</td>\n",
       "    </tr>\n",
       "    <tr>\n",
       "      <th>3</th>\n",
       "      <td>0</td>\n",
       "      <td>42.30</td>\n",
       "      <td>0</td>\n",
       "      <td>0</td>\n",
       "      <td>0</td>\n",
       "      <td>1</td>\n",
       "      <td>0</td>\n",
       "      <td>1</td>\n",
       "      <td>1</td>\n",
       "      <td>0</td>\n",
       "      <td>...</td>\n",
       "      <td>1</td>\n",
       "      <td>1371.0</td>\n",
       "      <td>1</td>\n",
       "      <td>0</td>\n",
       "      <td>0</td>\n",
       "      <td>0</td>\n",
       "      <td>0</td>\n",
       "      <td>1</td>\n",
       "      <td>1</td>\n",
       "      <td>0</td>\n",
       "    </tr>\n",
       "    <tr>\n",
       "      <th>4</th>\n",
       "      <td>1</td>\n",
       "      <td>70.70</td>\n",
       "      <td>0</td>\n",
       "      <td>0</td>\n",
       "      <td>0</td>\n",
       "      <td>0</td>\n",
       "      <td>0</td>\n",
       "      <td>0</td>\n",
       "      <td>0</td>\n",
       "      <td>0</td>\n",
       "      <td>...</td>\n",
       "      <td>0</td>\n",
       "      <td>61.0</td>\n",
       "      <td>0</td>\n",
       "      <td>0</td>\n",
       "      <td>0</td>\n",
       "      <td>1</td>\n",
       "      <td>0</td>\n",
       "      <td>0</td>\n",
       "      <td>0</td>\n",
       "      <td>1</td>\n",
       "    </tr>\n",
       "  </tbody>\n",
       "</table>\n",
       "<p>5 rows × 22 columns</p>\n",
       "</div>"
      ],
      "text/plain": [
       "   PaperlessBilling  MonthlyCharges  SeniorCitizen  Partner  Dependents  \\\n",
       "0                 1           29.85              0        1           0   \n",
       "1                 0           56.95              0        0           0   \n",
       "2                 1           53.85              0        0           0   \n",
       "3                 0           42.30              0        0           0   \n",
       "4                 1           70.70              0        0           0   \n",
       "\n",
       "   OnlineSecurity  OnlineBackup  DeviceProtection  TechSupport  StreamingTV  \\\n",
       "0               0             1                 0            0            0   \n",
       "1               1             0                 1            0            0   \n",
       "2               1             1                 0            0            0   \n",
       "3               1             0                 1            1            0   \n",
       "4               0             0                 0            0            0   \n",
       "\n",
       "   ...  Status  ContractDuration  Type_One year  Type_Two year  \\\n",
       "0  ...       1              31.0              0              0   \n",
       "1  ...       1            1036.0              1              0   \n",
       "2  ...       0              61.0              0              0   \n",
       "3  ...       1            1371.0              1              0   \n",
       "4  ...       0              61.0              0              0   \n",
       "\n",
       "   PaymentMethod_Credit card (automatic)  PaymentMethod_Electronic check  \\\n",
       "0                                      0                               1   \n",
       "1                                      0                               0   \n",
       "2                                      0                               0   \n",
       "3                                      0                               0   \n",
       "4                                      0                               1   \n",
       "\n",
       "   PaymentMethod_Mailed check  gender_Male  InternetService_DSL  \\\n",
       "0                           0            0                    1   \n",
       "1                           1            1                    1   \n",
       "2                           1            1                    1   \n",
       "3                           0            1                    1   \n",
       "4                           0            0                    0   \n",
       "\n",
       "   InternetService_Fiber optic  \n",
       "0                            0  \n",
       "1                            0  \n",
       "2                            0  \n",
       "3                            0  \n",
       "4                            1  \n",
       "\n",
       "[5 rows x 22 columns]"
      ]
     },
     "metadata": {},
     "output_type": "display_data"
    }
   ],
   "source": [
    "data_precon = pd.get_dummies(data_precon, drop_first=True)\n",
    "\n",
    "data_precon.info()\n",
    "\n",
    "display(data_precon.head(5))"
   ]
  },
  {
   "cell_type": "markdown",
   "metadata": {},
   "source": [
    "- #### Разделим данные на тестовую и обучающую выборку в отношении 1:4"
   ]
  },
  {
   "cell_type": "code",
   "execution_count": 35,
   "metadata": {},
   "outputs": [
    {
     "name": "stdout",
     "output_type": "stream",
     "text": [
      "\n",
      "----- Обучающая выборка: -----\n",
      "\n",
      "<class 'pandas.core.frame.DataFrame'>\n",
      "Int64Index: 5422 entries, 3851 to 4755\n",
      "Data columns (total 22 columns):\n",
      " #   Column                                 Non-Null Count  Dtype  \n",
      "---  ------                                 --------------  -----  \n",
      " 0   PaperlessBilling                       5422 non-null   int64  \n",
      " 1   MonthlyCharges                         5422 non-null   float64\n",
      " 2   SeniorCitizen                          5422 non-null   int64  \n",
      " 3   Partner                                5422 non-null   int64  \n",
      " 4   Dependents                             5422 non-null   int64  \n",
      " 5   OnlineSecurity                         5422 non-null   int64  \n",
      " 6   OnlineBackup                           5422 non-null   int64  \n",
      " 7   DeviceProtection                       5422 non-null   int64  \n",
      " 8   TechSupport                            5422 non-null   int64  \n",
      " 9   StreamingTV                            5422 non-null   int64  \n",
      " 10  StreamingMovies                        5422 non-null   int64  \n",
      " 11  MultipleLines                          5422 non-null   int64  \n",
      " 12  Status                                 5422 non-null   int64  \n",
      " 13  ContractDuration                       5422 non-null   float64\n",
      " 14  Type_One year                          5422 non-null   uint8  \n",
      " 15  Type_Two year                          5422 non-null   uint8  \n",
      " 16  PaymentMethod_Credit card (automatic)  5422 non-null   uint8  \n",
      " 17  PaymentMethod_Electronic check         5422 non-null   uint8  \n",
      " 18  PaymentMethod_Mailed check             5422 non-null   uint8  \n",
      " 19  gender_Male                            5422 non-null   uint8  \n",
      " 20  InternetService_DSL                    5422 non-null   uint8  \n",
      " 21  InternetService_Fiber optic            5422 non-null   uint8  \n",
      "dtypes: float64(2), int64(12), uint8(8)\n",
      "memory usage: 677.8 KB\n",
      "\n",
      "----- Тестовая выборка: -----\n",
      "\n",
      "<class 'pandas.core.frame.DataFrame'>\n",
      "Int64Index: 1356 entries, 2287 to 3786\n",
      "Data columns (total 22 columns):\n",
      " #   Column                                 Non-Null Count  Dtype  \n",
      "---  ------                                 --------------  -----  \n",
      " 0   PaperlessBilling                       1356 non-null   int64  \n",
      " 1   MonthlyCharges                         1356 non-null   float64\n",
      " 2   SeniorCitizen                          1356 non-null   int64  \n",
      " 3   Partner                                1356 non-null   int64  \n",
      " 4   Dependents                             1356 non-null   int64  \n",
      " 5   OnlineSecurity                         1356 non-null   int64  \n",
      " 6   OnlineBackup                           1356 non-null   int64  \n",
      " 7   DeviceProtection                       1356 non-null   int64  \n",
      " 8   TechSupport                            1356 non-null   int64  \n",
      " 9   StreamingTV                            1356 non-null   int64  \n",
      " 10  StreamingMovies                        1356 non-null   int64  \n",
      " 11  MultipleLines                          1356 non-null   int64  \n",
      " 12  Status                                 1356 non-null   int64  \n",
      " 13  ContractDuration                       1356 non-null   float64\n",
      " 14  Type_One year                          1356 non-null   uint8  \n",
      " 15  Type_Two year                          1356 non-null   uint8  \n",
      " 16  PaymentMethod_Credit card (automatic)  1356 non-null   uint8  \n",
      " 17  PaymentMethod_Electronic check         1356 non-null   uint8  \n",
      " 18  PaymentMethod_Mailed check             1356 non-null   uint8  \n",
      " 19  gender_Male                            1356 non-null   uint8  \n",
      " 20  InternetService_DSL                    1356 non-null   uint8  \n",
      " 21  InternetService_Fiber optic            1356 non-null   uint8  \n",
      "dtypes: float64(2), int64(12), uint8(8)\n",
      "memory usage: 169.5 KB\n"
     ]
    },
    {
     "data": {
      "image/png": "[encoded data removed]",
      "text/plain": [
       "<Figure size 252x252 with 1 Axes>"
      ]
     },
     "metadata": {
      "needs_background": "light"
     },
     "output_type": "display_data"
    },
    {
     "data": {
      "image/png": "[encoded data removed]",
      "text/plain": [
       "<Figure size 252x252 with 1 Axes>"
      ]
     },
     "metadata": {
      "needs_background": "light"
     },
     "output_type": "display_data"
    }
   ],
   "source": [
    "train, test = train_test_split(data_precon, test_size=0.2, random_state=RANDOM_STATE)\n",
    "\n",
    "print()\n",
    "print('----- Обучающая выборка: -----')\n",
    "print()\n",
    "train.info()\n",
    "\n",
    "print()\n",
    "print('----- Тестовая выборка: -----')\n",
    "print()\n",
    "test.info()\n",
    "\n",
    "sns.catplot(x='Status', data=train, kind='count', height=3.5)\n",
    "plt.title('График количества действующих \\n и неактивых клиентов в обучающей выборке')\n",
    "plt.show()\n",
    "\n",
    "sns.catplot(x='Status', data=test, kind='count', height=3.5)\n",
    "plt.title('График количества действующих \\n и неактивых клиентов в тестовой выборке')\n",
    "plt.show()"
   ]
  },
  {
   "cell_type": "markdown",
   "metadata": {},
   "source": [
    "- #### Мы имеем дело с несбалансированными данными - число ушедших клиентов более чем в 2 раза меньше количества действующих. Эту информацию необходимо учитывать при построении модели. \n",
    "\n",
    "- #### Если дисбаланс классов снизит качество предсказания, мы можем применить следующие подходы на этапе построения модели:\n",
    "\n",
    "\n",
    "    - Учет дисбаланса в алгоритме модели\n",
    "    - Балансировка добавлением значений наименнее представленного класса - Upsampling\n",
    "    - Балансировка удалением значений наиболее представленного класса - Downsampling\n",
    "    - Использование стратифицированной кросс-валидации"
   ]
  },
  {
   "cell_type": "markdown",
   "metadata": {},
   "source": [
    "- #### Проведем масштабирование количественных признаков"
   ]
  },
  {
   "cell_type": "code",
   "execution_count": 36,
   "metadata": {},
   "outputs": [
    {
     "name": "stdout",
     "output_type": "stream",
     "text": [
      "Количественные признаки до масштабирования:\n"
     ]
    },
    {
     "data": {
      "text/html": [
       "<div>\n",
       "<style scoped>\n",
       "    .dataframe tbody tr th:only-of-type {\n",
       "        vertical-align: middle;\n",
       "    }\n",
       "\n",
       "    .dataframe tbody tr th {\n",
       "        vertical-align: top;\n",
       "    }\n",
       "\n",
       "    .dataframe thead th {\n",
       "        text-align: right;\n",
       "    }\n",
       "</style>\n",
       "<table border=\"1\" class=\"dataframe\">\n",
       "  <thead>\n",
       "    <tr style=\"text-align: right;\">\n",
       "      <th></th>\n",
       "      <th>MonthlyCharges</th>\n",
       "      <th>ContractDuration</th>\n",
       "    </tr>\n",
       "  </thead>\n",
       "  <tbody>\n",
       "    <tr>\n",
       "      <th>3851</th>\n",
       "      <td>19.25</td>\n",
       "      <td>1401.0</td>\n",
       "    </tr>\n",
       "    <tr>\n",
       "      <th>4110</th>\n",
       "      <td>67.95</td>\n",
       "      <td>2132.0</td>\n",
       "    </tr>\n",
       "    <tr>\n",
       "      <th>6016</th>\n",
       "      <td>108.45</td>\n",
       "      <td>2068.0</td>\n",
       "    </tr>\n",
       "    <tr>\n",
       "      <th>1671</th>\n",
       "      <td>103.15</td>\n",
       "      <td>2010.0</td>\n",
       "    </tr>\n",
       "    <tr>\n",
       "      <th>5567</th>\n",
       "      <td>103.00</td>\n",
       "      <td>1492.0</td>\n",
       "    </tr>\n",
       "  </tbody>\n",
       "</table>\n",
       "</div>"
      ],
      "text/plain": [
       "      MonthlyCharges  ContractDuration\n",
       "3851           19.25            1401.0\n",
       "4110           67.95            2132.0\n",
       "6016          108.45            2068.0\n",
       "1671          103.15            2010.0\n",
       "5567          103.00            1492.0"
      ]
     },
     "metadata": {},
     "output_type": "display_data"
    },
    {
     "name": "stdout",
     "output_type": "stream",
     "text": [
      "\n",
      "Количественные признаки после масштабирования:\n"
     ]
    },
    {
     "data": {
      "text/html": [
       "<div>\n",
       "<style scoped>\n",
       "    .dataframe tbody tr th:only-of-type {\n",
       "        vertical-align: middle;\n",
       "    }\n",
       "\n",
       "    .dataframe tbody tr th {\n",
       "        vertical-align: top;\n",
       "    }\n",
       "\n",
       "    .dataframe thead th {\n",
       "        text-align: right;\n",
       "    }\n",
       "</style>\n",
       "<table border=\"1\" class=\"dataframe\">\n",
       "  <thead>\n",
       "    <tr style=\"text-align: right;\">\n",
       "      <th></th>\n",
       "      <th>MonthlyCharges</th>\n",
       "      <th>ContractDuration</th>\n",
       "    </tr>\n",
       "  </thead>\n",
       "  <tbody>\n",
       "    <tr>\n",
       "      <th>3851</th>\n",
       "      <td>0.009960</td>\n",
       "      <td>0.634429</td>\n",
       "    </tr>\n",
       "    <tr>\n",
       "      <th>4110</th>\n",
       "      <td>0.495020</td>\n",
       "      <td>0.972698</td>\n",
       "    </tr>\n",
       "    <tr>\n",
       "      <th>6016</th>\n",
       "      <td>0.898406</td>\n",
       "      <td>0.943082</td>\n",
       "    </tr>\n",
       "    <tr>\n",
       "      <th>1671</th>\n",
       "      <td>0.845618</td>\n",
       "      <td>0.916242</td>\n",
       "    </tr>\n",
       "    <tr>\n",
       "      <th>5567</th>\n",
       "      <td>0.844124</td>\n",
       "      <td>0.676539</td>\n",
       "    </tr>\n",
       "  </tbody>\n",
       "</table>\n",
       "</div>"
      ],
      "text/plain": [
       "      MonthlyCharges  ContractDuration\n",
       "3851        0.009960          0.634429\n",
       "4110        0.495020          0.972698\n",
       "6016        0.898406          0.943082\n",
       "1671        0.845618          0.916242\n",
       "5567        0.844124          0.676539"
      ]
     },
     "metadata": {},
     "output_type": "display_data"
    }
   ],
   "source": [
    "warnings.filterwarnings('ignore')\n",
    "\n",
    "numerical_columns = ['MonthlyCharges', 'ContractDuration']\n",
    "\n",
    "print('Количественные признаки до масштабирования:')\n",
    "display(train[numerical_columns].head(5))\n",
    "\n",
    "scaler = MinMaxScaler(feature_range=(0, 1))\n",
    "\n",
    "scaler.fit(train[numerical_columns]) \n",
    "\n",
    "train[numerical_columns] = scaler.transform(train[numerical_columns])\n",
    "test[numerical_columns] = scaler.transform(test[numerical_columns])\n",
    "\n",
    "print('\\nКоличественные признаки после масштабирования:')\n",
    "display(train[numerical_columns].head(5))"
   ]
  },
  {
   "cell_type": "markdown",
   "metadata": {},
   "source": [
    "- #### Разделим признаки на обучающие и целевой"
   ]
  },
  {
   "cell_type": "code",
   "execution_count": 37,
   "metadata": {},
   "outputs": [],
   "source": [
    "X_train = train.drop(['Status'], axis=1)\n",
    "y_train = train['Status']\n",
    "\n",
    "X_test = test.drop(['Status'], axis=1)\n",
    "y_test = test['Status']"
   ]
  },
  {
   "cell_type": "markdown",
   "metadata": {},
   "source": [
    "# Построение моделей <a class=\"anchor\" id=\"7-bullet\"></a>"
   ]
  },
  {
   "cell_type": "markdown",
   "metadata": {},
   "source": [
    "- #### При обучении с учетом дисбаланса классов воспользуемся кросс-валидацией"
   ]
  },
  {
   "cell_type": "code",
   "execution_count": 38,
   "metadata": {},
   "outputs": [],
   "source": [
    "cv = StratifiedShuffleSplit(n_splits=5, random_state=RANDOM_STATE)"
   ]
  },
  {
   "cell_type": "markdown",
   "metadata": {},
   "source": [
    "### 1. Модель случайный лес с весами"
   ]
  },
  {
   "cell_type": "markdown",
   "metadata": {},
   "source": [
    "- #### Создадим модель"
   ]
  },
  {
   "cell_type": "code",
   "execution_count": 39,
   "metadata": {},
   "outputs": [],
   "source": [
    "random_forest_model = RandomForestClassifier(random_state=RANDOM_STATE, class_weight='balanced')"
   ]
  },
  {
   "cell_type": "markdown",
   "metadata": {},
   "source": [
    "- #### Создадим сетку гипер-параметров"
   ]
  },
  {
   "cell_type": "code",
   "execution_count": 40,
   "metadata": {},
   "outputs": [],
   "source": [
    "param_grid_random_forest = {\n",
    "    'criterion' : ['gini', 'entropy'],\n",
    "    'max_depth' : range(1, 200, 10),\n",
    "    'max_features' : ['auto', 'sqrt', 'log2', None],\n",
    "    'min_samples_leaf' :  range(1, 20),\n",
    "    'n_estimators' :  range(1, 300, 10)\n",
    "}"
   ]
  },
  {
   "cell_type": "markdown",
   "metadata": {},
   "source": [
    "- #### Найдем наилучшие гипер-параметры на заданной сетке по метрике 'ROC-AUC' с помощью метода рандомизированного поиска"
   ]
  },
  {
   "cell_type": "code",
   "execution_count": 41,
   "metadata": {},
   "outputs": [
    {
     "name": "stdout",
     "output_type": "stream",
     "text": [
      "Wall time: 6min\n"
     ]
    }
   ],
   "source": [
    "%%time\n",
    "\n",
    "grid_cv_random_forest = RandomizedSearchCV(random_forest_model, param_grid_random_forest, cv=cv, n_iter=100, scoring='roc_auc').fit(X_train, y_train)"
   ]
  },
  {
   "cell_type": "markdown",
   "metadata": {},
   "source": [
    "- #### Оценим результат\n",
    "\n",
    "\n",
    "- Построим график важности признаков для модели \"Случайный лес\"\n"
   ]
  },
  {
   "cell_type": "code",
   "execution_count": 65,
   "metadata": {},
   "outputs": [
    {
     "data": {
      "image/png": "[encoded data removed]",
      "text/plain": [
       "<Figure size 720x1080 with 1 Axes>"
      ]
     },
     "metadata": {
      "needs_background": "light"
     },
     "output_type": "display_data"
    }
   ],
   "source": [
    "importance = grid_cv_random_forest.best_estimator_.feature_importances_\n",
    "df_importance = pd.DataFrame(importance, columns=['Importance'],index=X_train.columns).sort_values(by='Importance', ascending=False)\n",
    "fig, ax = plt.subplots(figsize=(10,15))\n",
    "ax = sns.barplot(df_importance['Importance'], df_importance.index)\n",
    "\n",
    "plt.title('График важности признаков для модели Случайный лес с весами')\n",
    "plt.show()\n"
   ]
  },
  {
   "cell_type": "markdown",
   "metadata": {},
   "source": [
    "- Из графика важности признаков для модели \"Случайный лес\" можно сделать вывод, что как и следовало из анализа данных наиболее значимыми оказались признаки: \n",
    "\n",
    "    1. Длительность контракта\n",
    "    2. Тип контракта (1-2 года)\n",
    "    3. Ежемесячный платеж\n",
    "    4. Наличие оптоволоконного соединения\n",
    "    \n",
    "    \n",
    "- Кривые ROC и площадь под ней - основная метрика AUC-ROC повзволяет оценить насколько хорошо наша модель предсказала правильные ответы, в том числе по сравнению со случайной. Также мы можем понять соотношение положительных и ложно положительных ответов модели"
   ]
  },
  {
   "cell_type": "code",
   "execution_count": 42,
   "metadata": {},
   "outputs": [
    {
     "data": {
      "image/png": "[encoded data removed]",
      "text/plain": [
       "<Figure size 504x504 with 1 Axes>"
      ]
     },
     "metadata": {
      "needs_background": "light"
     },
     "output_type": "display_data"
    },
    {
     "data": {
      "text/html": [
       "<div>\n",
       "<style scoped>\n",
       "    .dataframe tbody tr th:only-of-type {\n",
       "        vertical-align: middle;\n",
       "    }\n",
       "\n",
       "    .dataframe tbody tr th {\n",
       "        vertical-align: top;\n",
       "    }\n",
       "\n",
       "    .dataframe thead th {\n",
       "        text-align: right;\n",
       "    }\n",
       "</style>\n",
       "<table border=\"1\" class=\"dataframe\">\n",
       "  <thead>\n",
       "    <tr style=\"text-align: right;\">\n",
       "      <th></th>\n",
       "      <th>Модель</th>\n",
       "      <th>Метрика AUC-ROC</th>\n",
       "    </tr>\n",
       "  </thead>\n",
       "  <tbody>\n",
       "    <tr>\n",
       "      <th>0</th>\n",
       "      <td>Случайный лес с весами</td>\n",
       "      <td>0.87</td>\n",
       "    </tr>\n",
       "  </tbody>\n",
       "</table>\n",
       "</div>"
      ],
      "text/plain": [
       "                   Модель  Метрика AUC-ROC\n",
       "0  Случайный лес с весами             0.87"
      ]
     },
     "metadata": {},
     "output_type": "display_data"
    }
   ],
   "source": [
    "cv_auc_roc_curve(X_train, y_train, cv, grid_cv_random_forest)\n",
    "\n",
    "auc_roc_random_forest = round(grid_cv_random_forest.best_score_, 2)\n",
    "\n",
    "columns = ['Модель', 'Метрика AUC-ROC']\n",
    "random_forest_results = { 'Модель' : 'Случайный лес с весами',\n",
    "                          'Метрика AUC-ROC' : [auc_roc_random_forest],\n",
    "                        }\n",
    "display(pd.DataFrame(random_forest_results, columns=columns))"
   ]
  },
  {
   "cell_type": "markdown",
   "metadata": {},
   "source": [
    "- #### Модель случайный лес с весами показала удовлетворительный результат на валидационной выборке (0.85 ≤ AUC-ROC < 0.87)\n",
    "\n",
    "- #### Попробуем рассмотреть другой алгоритм обучения"
   ]
  },
  {
   "cell_type": "markdown",
   "metadata": {},
   "source": [
    "### 2. Модель градиентного бустинга"
   ]
  },
  {
   "cell_type": "markdown",
   "metadata": {},
   "source": [
    "- #### Создадим модель"
   ]
  },
  {
   "cell_type": "code",
   "execution_count": 43,
   "metadata": {},
   "outputs": [],
   "source": [
    "gb_model = GradientBoostingClassifier(random_state=RANDOM_STATE) "
   ]
  },
  {
   "cell_type": "markdown",
   "metadata": {},
   "source": [
    "- #### Создадим сетку гипер-параметров"
   ]
  },
  {
   "cell_type": "code",
   "execution_count": 44,
   "metadata": {},
   "outputs": [],
   "source": [
    "param_grid_gb = {\n",
    "    'loss' : ['deviance', 'exponential'],\n",
    "    'learning_rate' : [0.1],\n",
    "    'n_estimators' : range(1, 100, 10),\n",
    "    'max_depth' : range(1, 200, 10)\n",
    "}"
   ]
  },
  {
   "cell_type": "markdown",
   "metadata": {},
   "source": [
    "- #### Найдем наилучшие гипер-параметры на заданной сетке по метрике 'ROC-AUC' с помощью метода рандомизированного поиска"
   ]
  },
  {
   "cell_type": "code",
   "execution_count": 45,
   "metadata": {},
   "outputs": [
    {
     "name": "stdout",
     "output_type": "stream",
     "text": [
      "Wall time: 15min 8s\n"
     ]
    }
   ],
   "source": [
    "%%time\n",
    "\n",
    "grid_cv_gb = RandomizedSearchCV(gb_model, param_grid_gb, cv=cv, n_iter=100, scoring='roc_auc').fit(X_train, y_train)"
   ]
  },
  {
   "cell_type": "markdown",
   "metadata": {},
   "source": [
    "- #### Оценим результат"
   ]
  },
  {
   "cell_type": "code",
   "execution_count": 67,
   "metadata": {},
   "outputs": [
    {
     "data": {
      "image/png": "[encoded data removed]",
      "text/plain": [
       "<Figure size 720x1080 with 1 Axes>"
      ]
     },
     "metadata": {
      "needs_background": "light"
     },
     "output_type": "display_data"
    }
   ],
   "source": [
    "importance = grid_cv_gb.best_estimator_.feature_importances_\n",
    "df_importance = pd.DataFrame(importance, columns=['Importance'],index=X_train.columns).sort_values(by='Importance', ascending=False)\n",
    "fig, ax = plt.subplots(figsize=(10,15))\n",
    "ax = sns.barplot(df_importance['Importance'], df_importance.index)\n",
    "\n",
    "plt.title('График важности признаков для модели Градиентного бустинга')\n",
    "plt.show()\n"
   ]
  },
  {
   "cell_type": "markdown",
   "metadata": {},
   "source": [
    "- Из графика важности признаков для модели \"Градиентный бустинг\" можно сделать вывод, что наибольшое влияние оказывают признаки: \n",
    "\n",
    "    1. Длительность контракта\n",
    "    2. Ежемесячный платеж\n",
    "    3. Наличие оптоволоконного соединения"
   ]
  },
  {
   "cell_type": "code",
   "execution_count": 46,
   "metadata": {},
   "outputs": [
    {
     "data": {
      "image/png": "[encoded data removed]",
      "text/plain": [
       "<Figure size 504x504 with 1 Axes>"
      ]
     },
     "metadata": {
      "needs_background": "light"
     },
     "output_type": "display_data"
    },
    {
     "data": {
      "text/html": [
       "<div>\n",
       "<style scoped>\n",
       "    .dataframe tbody tr th:only-of-type {\n",
       "        vertical-align: middle;\n",
       "    }\n",
       "\n",
       "    .dataframe tbody tr th {\n",
       "        vertical-align: top;\n",
       "    }\n",
       "\n",
       "    .dataframe thead th {\n",
       "        text-align: right;\n",
       "    }\n",
       "</style>\n",
       "<table border=\"1\" class=\"dataframe\">\n",
       "  <thead>\n",
       "    <tr style=\"text-align: right;\">\n",
       "      <th></th>\n",
       "      <th>Модель</th>\n",
       "      <th>Метрика AUC-ROC</th>\n",
       "    </tr>\n",
       "  </thead>\n",
       "  <tbody>\n",
       "    <tr>\n",
       "      <th>0</th>\n",
       "      <td>Градиентный бустинг</td>\n",
       "      <td>0.9</td>\n",
       "    </tr>\n",
       "  </tbody>\n",
       "</table>\n",
       "</div>"
      ],
      "text/plain": [
       "                Модель  Метрика AUC-ROC\n",
       "0  Градиентный бустинг              0.9"
      ]
     },
     "metadata": {},
     "output_type": "display_data"
    }
   ],
   "source": [
    "cv_auc_roc_curve(X_train, y_train, cv, grid_cv_gb)\n",
    "\n",
    "auc_roc_gradient_boosting = round(grid_cv_gb.best_score_, 2)\n",
    "\n",
    "columns = ['Модель', 'Метрика AUC-ROC']\n",
    "gradient_boosting_results = { 'Модель' : 'Градиентный бустинг',\n",
    "                          'Метрика AUC-ROC' : [auc_roc_gradient_boosting],\n",
    "                        }\n",
    "display(pd.DataFrame(gradient_boosting_results, columns=columns))"
   ]
  },
  {
   "cell_type": "markdown",
   "metadata": {},
   "source": [
    "- #### Модель градиентного бустинга также показала хороший результат на валидационной выборке "
   ]
  },
  {
   "cell_type": "markdown",
   "metadata": {},
   "source": [
    "# Тестирование моделей <a class=\"anchor\" id=\"8-bullet\"></a>"
   ]
  },
  {
   "cell_type": "markdown",
   "metadata": {},
   "source": [
    "- #### Проведем тестирование моделей с подобранными при построении параметрами"
   ]
  },
  {
   "cell_type": "code",
   "execution_count": 47,
   "metadata": {},
   "outputs": [],
   "source": [
    "random_forest_model = RandomForestClassifier(random_state=RANDOM_STATE, \n",
    "                                             class_weight='balanced', \n",
    "                                             **grid_cv_random_forest.best_params_).fit(X_train, y_train)\n",
    "\n",
    "roc_auc_random_forest = roc_auc_score(y_test, random_forest_model.predict_proba(X_test)[:, 1])\n",
    "\n",
    "accuracy_random_forest = accuracy_score(y_test, random_forest_model.predict(X_test))"
   ]
  },
  {
   "cell_type": "code",
   "execution_count": 48,
   "metadata": {},
   "outputs": [],
   "source": [
    "gradient_boosting_model = GradientBoostingClassifier(**grid_cv_gb.best_params_).fit(X_train, y_train)\n",
    "\n",
    "roc_auc_gradient_boosting = roc_auc_score(y_test, gradient_boosting_model.predict_proba(X_test)[:, 1])\n",
    "\n",
    "accuracy_gradient_boosting = accuracy_score(y_test, gradient_boosting_model.predict(X_test))"
   ]
  },
  {
   "cell_type": "markdown",
   "metadata": {},
   "source": [
    "- #### Сведем результаты тестирования в общую таблицу\n",
    "\n",
    "\n",
    "- Оценивать будем главным образом метрику AUC-ROC и вспомогательную Accuracy-точность\n",
    "\n",
    "\n",
    "- Скорость предсказания и построения модели в данном случае будут не показательными, т.к. наборы очень маленькие"
   ]
  },
  {
   "cell_type": "code",
   "execution_count": 49,
   "metadata": {},
   "outputs": [
    {
     "data": {
      "text/html": [
       "<div>\n",
       "<style scoped>\n",
       "    .dataframe tbody tr th:only-of-type {\n",
       "        vertical-align: middle;\n",
       "    }\n",
       "\n",
       "    .dataframe tbody tr th {\n",
       "        vertical-align: top;\n",
       "    }\n",
       "\n",
       "    .dataframe thead th {\n",
       "        text-align: right;\n",
       "    }\n",
       "</style>\n",
       "<table border=\"1\" class=\"dataframe\">\n",
       "  <thead>\n",
       "    <tr style=\"text-align: right;\">\n",
       "      <th></th>\n",
       "      <th>Метрика AUC-ROC</th>\n",
       "      <th>Метрика Accuracy</th>\n",
       "    </tr>\n",
       "  </thead>\n",
       "  <tbody>\n",
       "    <tr>\n",
       "      <th>Модель случайный лес с весами</th>\n",
       "      <td>0.89</td>\n",
       "      <td>0.83</td>\n",
       "    </tr>\n",
       "    <tr>\n",
       "      <th>Модель градиентного бустинга</th>\n",
       "      <td>0.91</td>\n",
       "      <td>0.85</td>\n",
       "    </tr>\n",
       "  </tbody>\n",
       "</table>\n",
       "</div>"
      ],
      "text/plain": [
       "                               Метрика AUC-ROC  Метрика Accuracy\n",
       "Модель случайный лес с весами             0.89              0.83\n",
       "Модель градиентного бустинга              0.91              0.85"
      ]
     },
     "metadata": {},
     "output_type": "display_data"
    }
   ],
   "source": [
    "columns = ['Метрика AUC-ROC', 'Метрика Accuracy']\n",
    "\n",
    "test_results = { 'Метрика AUC-ROC' : [roc_auc_random_forest, roc_auc_gradient_boosting],\n",
    "                          'Метрика Accuracy': [accuracy_random_forest, accuracy_gradient_boosting]\n",
    "                        }\n",
    "\n",
    "index = ['Модель случайный лес с весами', 'Модель градиентного бустинга']\n",
    "\n",
    "display(round(pd.DataFrame(test_results, columns=columns, index=index), 2))"
   ]
  },
  {
   "cell_type": "markdown",
   "metadata": {},
   "source": [
    "- #### Метрики моделей на тестовых выборках достаточно высокие, однако модель градиентного бустинга показала более хорошие результаты (AUC-ROC > 0.88)"
   ]
  },
  {
   "cell_type": "markdown",
   "metadata": {},
   "source": [
    "# Общий вывод <a class=\"anchor\" id=\"9-bullet\"></a>"
   ]
  },
  {
   "cell_type": "markdown",
   "metadata": {},
   "source": [
    "1. Были проанализированный все предоставленные данные о пользователях\n",
    "\n",
    "\n",
    "2. На основании анализа можно выделить следующие характерные признаки клиентов, которые собираются уйти: \n",
    "    а) В основном клиенты принимают решение об уходе в первые 6-7 месяцев пользования\n",
    "    б) Тип договора в основном ежемесячный\n",
    "    в) Большинство выбирает подключение к интернету по оптоволокну\n",
    "\n",
    "\n",
    "3. Персональная информация о клиентах является наиболее малоинформативной для целей задачи\n",
    "\n",
    "\n",
    "4. Данные были предобработаны. Часть данных о новых клиентах была отброшена перед обучением моделей, т.к. малая длительность контракта не позволяет с уверенностью разделить пользователей на классы\n",
    "\n",
    "\n",
    "6. С учетом дисбаланса данных были опробованы два типа алгортима обучения - \"Случайный лес с весами\" и \"Градиентный бустинг\" \n",
    "\n",
    "\n",
    "7. Проведено тестирование моделей с оптимальными параметрами, по результатам которого выбрана модель \"Градиентоного бустинга\", показавшая высокие значения точности  "
   ]
  },
  {
   "cell_type": "markdown",
   "metadata": {},
   "source": [
    "- ##### На основании финальных метрик можно утверждать, что модель \"Градиентого бустинга\" позволит уверенно определять клиентов, которые собираются уйти, для предложения им специальных условий, а низкая доля ложно положительных предсказаний позволит сэкономить на нецелесообразном преоставлении скидок постоянным клиентам "
   ]
  }
 ],
 "metadata": {
  "kernelspec": {
   "display_name": "Python 3",
   "language": "python",
   "name": "python3"
  },
  "language_info": {
   "codemirror_mode": {
    "name": "ipython",
    "version": 3
   },
   "file_extension": ".py",
   "mimetype": "text/x-python",
   "name": "python",
   "nbconvert_exporter": "python",
   "pygments_lexer": "ipython3",
   "version": "3.8.5"
  },
  "toc": {
   "base_numbering": 1,
   "nav_menu": {},
   "number_sections": true,
   "sideBar": true,
   "skip_h1_title": true,
   "title_cell": "Table of Contents",
   "title_sidebar": "Contents",
   "toc_cell": false,
   "toc_position": {},
   "toc_section_display": true,
   "toc_window_display": false
  }
 },
 "nbformat": 4,
 "nbformat_minor": 4
}
