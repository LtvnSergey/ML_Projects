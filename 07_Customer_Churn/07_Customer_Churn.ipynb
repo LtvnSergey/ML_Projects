{
 "cells": [
  {
   "cell_type": "markdown",
   "metadata": {},
   "source": [
    "<h1><center>Проект Отток клиентов</center></h1>\n"
   ]
  },
  {
   "cell_type": "markdown",
   "metadata": {},
   "source": [
    "# Описание проекта"
   ]
  },
  {
   "cell_type": "markdown",
   "metadata": {},
   "source": [
    "Из «Бета-Банка» стали уходить клиенты. Каждый месяц. Немного, но заметно. Банковские маркетологи посчитали: сохранять текущих клиентов дешевле, чем привлекать новых.\n",
    "\n",
    "Нужно спрогнозировать, уйдёт клиент из банка в ближайшее время или нет. Вам предоставлены исторические данные о поведении клиентов и расторжении договоров с банком. \n",
    "\n",
    "Постройте модель с предельно большим значением *F1*-меры. Чтобы сдать проект успешно, нужно довести метрику до 0.59. Проверьте *F1*-меру на тестовой выборке самостоятельно.\n",
    "\n",
    "Дополнительно измеряйте *AUC-ROC*, сравнивайте её значение с *F1*-мерой."
   ]
  },
  {
   "cell_type": "markdown",
   "metadata": {},
   "source": [
    "# Описание данных\n",
    "\n",
    "Источник данных: [https://www.kaggle.com/barelydedicated/bank-customer-churn-modeling](https://www.kaggle.com/barelydedicated/bank-customer-churn-modeling)\n",
    "\n",
    "\n",
    "    Признаки:\n",
    "\n",
    "        RowNumber — индекс строки в данных\n",
    "\n",
    "        CustomerId — уникальный идентификатор клиента\n",
    "\n",
    "        Surname — фамилия\n",
    "\n",
    "        CreditScore — кредитный рейтинг\n",
    "\n",
    "        Geography — страна проживания\n",
    "\n",
    "        Gender — пол\n",
    "\n",
    "        Age — возраст\n",
    "\n",
    "        Tenure — количество недвижимости у клиента\n",
    "\n",
    "        Balance — баланс на счёте\n",
    "\n",
    "        NumOfProducts — количество продуктов банка, используемых клиентом\n",
    "\n",
    "        HasCrCard — наличие кредитной карты\n",
    "\n",
    "        IsActiveMember — активность клиента\n",
    "\n",
    "        EstimatedSalary — предполагаемая зарплата\n",
    "\n",
    "\n",
    "    Целевой признак:\n",
    "\n",
    "        Exited — факт ухода клиента"
   ]
  },
  {
   "cell_type": "markdown",
   "metadata": {},
   "source": [
    "# Содержание\n",
    "\n",
    "\n",
    "    1. Подготовка данных\n",
    "\n",
    "    2. Исследование модели без учета дисбаланса классов\n",
    "\n",
    "    3. Борьба с дисбалансом\n",
    "\n",
    "    4. Тестирование модели\n",
    "\n",
    "    5. Общий вывод"
   ]
  },
  {
   "cell_type": "markdown",
   "metadata": {},
   "source": [
    "<div style=\"border:solid black 1.5px; padding: 20px\">\n",
    "    \n",
    "- Импортируем необходимые библиотеки"
   ]
  },
  {
   "cell_type": "code",
   "execution_count": 1,
   "metadata": {},
   "outputs": [],
   "source": [
    "import pandas as pd\n",
    "import seaborn as sns\n",
    "import matplotlib.pyplot as plt\n",
    "import numpy as np\n",
    "\n",
    "from sklearn.preprocessing import MinMaxScaler\n",
    "from sklearn.model_selection import train_test_split\n",
    "from sklearn.model_selection import cross_validate, GridSearchCV, RandomizedSearchCV, StratifiedShuffleSplit, ParameterGrid\n",
    "from sklearn.ensemble import RandomForestClassifier\n",
    "from sklearn.linear_model import LogisticRegression \n",
    "from sklearn.metrics import f1_score, auc, roc_curve\n",
    "from sklearn.utils import shuffle\n",
    "\n",
    "import warnings\n"
   ]
  },
  {
   "cell_type": "markdown",
   "metadata": {},
   "source": [
    "# 1. Подготовка данных"
   ]
  },
  {
   "cell_type": "markdown",
   "metadata": {},
   "source": [
    "<div style=\"border:solid black 1.5px; padding: 20px\">\n",
    "\n",
    "- Загрузим и рассмотрим датасет"
   ]
  },
  {
   "cell_type": "code",
   "execution_count": 2,
   "metadata": {},
   "outputs": [
    {
     "name": "stdout",
     "output_type": "stream",
     "text": [
      "<class 'pandas.core.frame.DataFrame'>\n",
      "RangeIndex: 10000 entries, 0 to 9999\n",
      "Data columns (total 14 columns):\n",
      "RowNumber          10000 non-null int64\n",
      "CustomerId         10000 non-null int64\n",
      "Surname            10000 non-null object\n",
      "CreditScore        10000 non-null int64\n",
      "Geography          10000 non-null object\n",
      "Gender             10000 non-null object\n",
      "Age                10000 non-null int64\n",
      "Tenure             9091 non-null float64\n",
      "Balance            10000 non-null float64\n",
      "NumOfProducts      10000 non-null int64\n",
      "HasCrCard          10000 non-null int64\n",
      "IsActiveMember     10000 non-null int64\n",
      "EstimatedSalary    10000 non-null float64\n",
      "Exited             10000 non-null int64\n",
      "dtypes: float64(3), int64(8), object(3)\n",
      "memory usage: 1.1+ MB\n"
     ]
    },
    {
     "data": {
      "text/html": [
       "<div>\n",
       "<style scoped>\n",
       "    .dataframe tbody tr th:only-of-type {\n",
       "        vertical-align: middle;\n",
       "    }\n",
       "\n",
       "    .dataframe tbody tr th {\n",
       "        vertical-align: top;\n",
       "    }\n",
       "\n",
       "    .dataframe thead th {\n",
       "        text-align: right;\n",
       "    }\n",
       "</style>\n",
       "<table border=\"1\" class=\"dataframe\">\n",
       "  <thead>\n",
       "    <tr style=\"text-align: right;\">\n",
       "      <th></th>\n",
       "      <th>RowNumber</th>\n",
       "      <th>CustomerId</th>\n",
       "      <th>Surname</th>\n",
       "      <th>CreditScore</th>\n",
       "      <th>Geography</th>\n",
       "      <th>Gender</th>\n",
       "      <th>Age</th>\n",
       "      <th>Tenure</th>\n",
       "      <th>Balance</th>\n",
       "      <th>NumOfProducts</th>\n",
       "      <th>HasCrCard</th>\n",
       "      <th>IsActiveMember</th>\n",
       "      <th>EstimatedSalary</th>\n",
       "      <th>Exited</th>\n",
       "    </tr>\n",
       "  </thead>\n",
       "  <tbody>\n",
       "    <tr>\n",
       "      <td>0</td>\n",
       "      <td>1</td>\n",
       "      <td>15634602</td>\n",
       "      <td>Hargrave</td>\n",
       "      <td>619</td>\n",
       "      <td>France</td>\n",
       "      <td>Female</td>\n",
       "      <td>42</td>\n",
       "      <td>2.0</td>\n",
       "      <td>0.00</td>\n",
       "      <td>1</td>\n",
       "      <td>1</td>\n",
       "      <td>1</td>\n",
       "      <td>101348.88</td>\n",
       "      <td>1</td>\n",
       "    </tr>\n",
       "    <tr>\n",
       "      <td>1</td>\n",
       "      <td>2</td>\n",
       "      <td>15647311</td>\n",
       "      <td>Hill</td>\n",
       "      <td>608</td>\n",
       "      <td>Spain</td>\n",
       "      <td>Female</td>\n",
       "      <td>41</td>\n",
       "      <td>1.0</td>\n",
       "      <td>83807.86</td>\n",
       "      <td>1</td>\n",
       "      <td>0</td>\n",
       "      <td>1</td>\n",
       "      <td>112542.58</td>\n",
       "      <td>0</td>\n",
       "    </tr>\n",
       "    <tr>\n",
       "      <td>2</td>\n",
       "      <td>3</td>\n",
       "      <td>15619304</td>\n",
       "      <td>Onio</td>\n",
       "      <td>502</td>\n",
       "      <td>France</td>\n",
       "      <td>Female</td>\n",
       "      <td>42</td>\n",
       "      <td>8.0</td>\n",
       "      <td>159660.80</td>\n",
       "      <td>3</td>\n",
       "      <td>1</td>\n",
       "      <td>0</td>\n",
       "      <td>113931.57</td>\n",
       "      <td>1</td>\n",
       "    </tr>\n",
       "    <tr>\n",
       "      <td>3</td>\n",
       "      <td>4</td>\n",
       "      <td>15701354</td>\n",
       "      <td>Boni</td>\n",
       "      <td>699</td>\n",
       "      <td>France</td>\n",
       "      <td>Female</td>\n",
       "      <td>39</td>\n",
       "      <td>1.0</td>\n",
       "      <td>0.00</td>\n",
       "      <td>2</td>\n",
       "      <td>0</td>\n",
       "      <td>0</td>\n",
       "      <td>93826.63</td>\n",
       "      <td>0</td>\n",
       "    </tr>\n",
       "    <tr>\n",
       "      <td>4</td>\n",
       "      <td>5</td>\n",
       "      <td>15737888</td>\n",
       "      <td>Mitchell</td>\n",
       "      <td>850</td>\n",
       "      <td>Spain</td>\n",
       "      <td>Female</td>\n",
       "      <td>43</td>\n",
       "      <td>2.0</td>\n",
       "      <td>125510.82</td>\n",
       "      <td>1</td>\n",
       "      <td>1</td>\n",
       "      <td>1</td>\n",
       "      <td>79084.10</td>\n",
       "      <td>0</td>\n",
       "    </tr>\n",
       "    <tr>\n",
       "      <td>...</td>\n",
       "      <td>...</td>\n",
       "      <td>...</td>\n",
       "      <td>...</td>\n",
       "      <td>...</td>\n",
       "      <td>...</td>\n",
       "      <td>...</td>\n",
       "      <td>...</td>\n",
       "      <td>...</td>\n",
       "      <td>...</td>\n",
       "      <td>...</td>\n",
       "      <td>...</td>\n",
       "      <td>...</td>\n",
       "      <td>...</td>\n",
       "      <td>...</td>\n",
       "    </tr>\n",
       "    <tr>\n",
       "      <td>9995</td>\n",
       "      <td>9996</td>\n",
       "      <td>15606229</td>\n",
       "      <td>Obijiaku</td>\n",
       "      <td>771</td>\n",
       "      <td>France</td>\n",
       "      <td>Male</td>\n",
       "      <td>39</td>\n",
       "      <td>5.0</td>\n",
       "      <td>0.00</td>\n",
       "      <td>2</td>\n",
       "      <td>1</td>\n",
       "      <td>0</td>\n",
       "      <td>96270.64</td>\n",
       "      <td>0</td>\n",
       "    </tr>\n",
       "    <tr>\n",
       "      <td>9996</td>\n",
       "      <td>9997</td>\n",
       "      <td>15569892</td>\n",
       "      <td>Johnstone</td>\n",
       "      <td>516</td>\n",
       "      <td>France</td>\n",
       "      <td>Male</td>\n",
       "      <td>35</td>\n",
       "      <td>10.0</td>\n",
       "      <td>57369.61</td>\n",
       "      <td>1</td>\n",
       "      <td>1</td>\n",
       "      <td>1</td>\n",
       "      <td>101699.77</td>\n",
       "      <td>0</td>\n",
       "    </tr>\n",
       "    <tr>\n",
       "      <td>9997</td>\n",
       "      <td>9998</td>\n",
       "      <td>15584532</td>\n",
       "      <td>Liu</td>\n",
       "      <td>709</td>\n",
       "      <td>France</td>\n",
       "      <td>Female</td>\n",
       "      <td>36</td>\n",
       "      <td>7.0</td>\n",
       "      <td>0.00</td>\n",
       "      <td>1</td>\n",
       "      <td>0</td>\n",
       "      <td>1</td>\n",
       "      <td>42085.58</td>\n",
       "      <td>1</td>\n",
       "    </tr>\n",
       "    <tr>\n",
       "      <td>9998</td>\n",
       "      <td>9999</td>\n",
       "      <td>15682355</td>\n",
       "      <td>Sabbatini</td>\n",
       "      <td>772</td>\n",
       "      <td>Germany</td>\n",
       "      <td>Male</td>\n",
       "      <td>42</td>\n",
       "      <td>3.0</td>\n",
       "      <td>75075.31</td>\n",
       "      <td>2</td>\n",
       "      <td>1</td>\n",
       "      <td>0</td>\n",
       "      <td>92888.52</td>\n",
       "      <td>1</td>\n",
       "    </tr>\n",
       "    <tr>\n",
       "      <td>9999</td>\n",
       "      <td>10000</td>\n",
       "      <td>15628319</td>\n",
       "      <td>Walker</td>\n",
       "      <td>792</td>\n",
       "      <td>France</td>\n",
       "      <td>Female</td>\n",
       "      <td>28</td>\n",
       "      <td>NaN</td>\n",
       "      <td>130142.79</td>\n",
       "      <td>1</td>\n",
       "      <td>1</td>\n",
       "      <td>0</td>\n",
       "      <td>38190.78</td>\n",
       "      <td>0</td>\n",
       "    </tr>\n",
       "  </tbody>\n",
       "</table>\n",
       "<p>10000 rows × 14 columns</p>\n",
       "</div>"
      ],
      "text/plain": [
       "      RowNumber  CustomerId    Surname  CreditScore Geography  Gender  Age  \\\n",
       "0             1    15634602   Hargrave          619    France  Female   42   \n",
       "1             2    15647311       Hill          608     Spain  Female   41   \n",
       "2             3    15619304       Onio          502    France  Female   42   \n",
       "3             4    15701354       Boni          699    France  Female   39   \n",
       "4             5    15737888   Mitchell          850     Spain  Female   43   \n",
       "...         ...         ...        ...          ...       ...     ...  ...   \n",
       "9995       9996    15606229   Obijiaku          771    France    Male   39   \n",
       "9996       9997    15569892  Johnstone          516    France    Male   35   \n",
       "9997       9998    15584532        Liu          709    France  Female   36   \n",
       "9998       9999    15682355  Sabbatini          772   Germany    Male   42   \n",
       "9999      10000    15628319     Walker          792    France  Female   28   \n",
       "\n",
       "      Tenure    Balance  NumOfProducts  HasCrCard  IsActiveMember  \\\n",
       "0        2.0       0.00              1          1               1   \n",
       "1        1.0   83807.86              1          0               1   \n",
       "2        8.0  159660.80              3          1               0   \n",
       "3        1.0       0.00              2          0               0   \n",
       "4        2.0  125510.82              1          1               1   \n",
       "...      ...        ...            ...        ...             ...   \n",
       "9995     5.0       0.00              2          1               0   \n",
       "9996    10.0   57369.61              1          1               1   \n",
       "9997     7.0       0.00              1          0               1   \n",
       "9998     3.0   75075.31              2          1               0   \n",
       "9999     NaN  130142.79              1          1               0   \n",
       "\n",
       "      EstimatedSalary  Exited  \n",
       "0           101348.88       1  \n",
       "1           112542.58       0  \n",
       "2           113931.57       1  \n",
       "3            93826.63       0  \n",
       "4            79084.10       0  \n",
       "...               ...     ...  \n",
       "9995         96270.64       0  \n",
       "9996        101699.77       0  \n",
       "9997         42085.58       1  \n",
       "9998         92888.52       1  \n",
       "9999         38190.78       0  \n",
       "\n",
       "[10000 rows x 14 columns]"
      ]
     },
     "metadata": {},
     "output_type": "display_data"
    }
   ],
   "source": [
    "churn = pd.read_csv('/datasets/Churn.csv')\n",
    "\n",
    "churn.info()\n",
    "\n",
    "display(churn)"
   ]
  },
  {
   "cell_type": "markdown",
   "metadata": {},
   "source": [
    "<div style=\"border:solid black 1.5px; padding: 20px\">\n",
    "\n",
    "- Перед нами множество количественных и качественных признаков\n",
    "\n",
    "\n",
    "- Пропущенные зачения наблюдаются только в столбце Tenure - количество недвижимости у клиента\n",
    "\n",
    "\n",
    "- Мы можем заменить соответствующие значения Nan на 0 и дополнительно привести формат к целочисленному"
   ]
  },
  {
   "cell_type": "code",
   "execution_count": 3,
   "metadata": {},
   "outputs": [
    {
     "name": "stdout",
     "output_type": "stream",
     "text": [
      "<class 'pandas.core.frame.DataFrame'>\n",
      "RangeIndex: 10000 entries, 0 to 9999\n",
      "Data columns (total 14 columns):\n",
      "RowNumber          10000 non-null int64\n",
      "CustomerId         10000 non-null int64\n",
      "Surname            10000 non-null object\n",
      "CreditScore        10000 non-null int64\n",
      "Geography          10000 non-null object\n",
      "Gender             10000 non-null object\n",
      "Age                10000 non-null int64\n",
      "Tenure             10000 non-null int64\n",
      "Balance            10000 non-null float64\n",
      "NumOfProducts      10000 non-null int64\n",
      "HasCrCard          10000 non-null int64\n",
      "IsActiveMember     10000 non-null int64\n",
      "EstimatedSalary    10000 non-null float64\n",
      "Exited             10000 non-null int64\n",
      "dtypes: float64(2), int64(9), object(3)\n",
      "memory usage: 1.1+ MB\n"
     ]
    }
   ],
   "source": [
    "churn['Tenure'] = churn['Tenure'].fillna(0).astype('int64')\n",
    "\n",
    "churn.info()"
   ]
  },
  {
   "cell_type": "markdown",
   "metadata": {},
   "source": [
    "# 2. Исследование задачи"
   ]
  },
  {
   "cell_type": "markdown",
   "metadata": {},
   "source": [
    "<div style=\"border:solid black 1.5px; padding: 20px\">\n",
    "\n",
    "    \n",
    "- Перед нами поставлена задача классификации: необходимо по имеющимся признакам предсказать возможность ухода клиента из банка"
   ]
  },
  {
   "cell_type": "markdown",
   "metadata": {},
   "source": [
    "<div style=\"border:solid black 1.5px; padding: 20px\">\n",
    "\n",
    "    \n",
    "- Рассмотрим имеющиеся признаки для обучения и целевой признак\n",
    "    \n",
    "    \n",
    "- __Признаки:__\n",
    "\n",
    "\n",
    "        RowNumber — индекс строки в данных\n",
    "\n",
    "        CustomerId — уникальный идентификатор клиента\n",
    "\n",
    "        Surname — фамилия\n",
    "\n",
    "        CreditScore — кредитный рейтинг\n",
    "\n",
    "        Geography — страна проживания\n",
    "\n",
    "        Gender — пол\n",
    "\n",
    "        Age — возраст\n",
    "\n",
    "        Tenure — количество недвижимости у клиента\n",
    "\n",
    "        Balance — баланс на счёте\n",
    "\n",
    "        NumOfProducts — количество продуктов банка, используемых клиентом\n",
    "\n",
    "        HasCrCard — наличие кредитной карты\n",
    "\n",
    "        IsActiveMember — активность клиента\n",
    "\n",
    "        EstimatedSalary — предполагаемая зарплата\n",
    "\n",
    "    \n",
    "- __Целевой признак:__\n",
    "\n",
    "        Exited — факт ухода клиента"
   ]
  },
  {
   "cell_type": "markdown",
   "metadata": {},
   "source": [
    "<div style=\"border:solid black 1.5px; padding: 20px\">\n",
    "\n",
    "    \n",
    "- Очевидно, такие признаки как: \n",
    "    \n",
    "        RowNumber — индекс строки в данных\n",
    "\n",
    "        CustomerId — уникальный идентификатор клиента\n",
    "\n",
    "        Surname — фамилия\n",
    "    \n",
    "    не имеют никакого отношения к вероятности ухода клиента из банка, поэтому в обучении модели мы не будем их использовать"
   ]
  },
  {
   "cell_type": "code",
   "execution_count": 4,
   "metadata": {},
   "outputs": [
    {
     "name": "stdout",
     "output_type": "stream",
     "text": [
      "<class 'pandas.core.frame.DataFrame'>\n",
      "RangeIndex: 10000 entries, 0 to 9999\n",
      "Data columns (total 11 columns):\n",
      "CreditScore        10000 non-null int64\n",
      "Geography          10000 non-null object\n",
      "Gender             10000 non-null object\n",
      "Age                10000 non-null int64\n",
      "Tenure             10000 non-null int64\n",
      "Balance            10000 non-null float64\n",
      "NumOfProducts      10000 non-null int64\n",
      "HasCrCard          10000 non-null int64\n",
      "IsActiveMember     10000 non-null int64\n",
      "EstimatedSalary    10000 non-null float64\n",
      "Exited             10000 non-null int64\n",
      "dtypes: float64(2), int64(7), object(2)\n",
      "memory usage: 859.5+ KB\n"
     ]
    }
   ],
   "source": [
    "churn.drop(['RowNumber', 'CustomerId', 'Surname'], axis=1, inplace=True)\n",
    "\n",
    "churn.info()"
   ]
  },
  {
   "cell_type": "markdown",
   "metadata": {},
   "source": [
    "<div style=\"border:solid black 1.5px; padding: 20px\">\n",
    "\n",
    "    \n",
    "- Оценим корреляции между количественными признками, чтобы при необходимости убрать излишние"
   ]
  },
  {
   "cell_type": "code",
   "execution_count": 5,
   "metadata": {},
   "outputs": [
    {
     "data": {
      "image/png": "[encoded data removed]",
      "text/plain": [
       "<Figure size 960x800 with 2 Axes>"
      ]
     },
     "metadata": {
      "needs_background": "light"
     },
     "output_type": "display_data"
    }
   ],
   "source": [
    "numerical_columns = ['CreditScore', 'Age', 'Tenure', 'Balance', 'NumOfProducts', 'HasCrCard', 'IsActiveMember', 'EstimatedSalary']\n",
    "\n",
    "# Plot\n",
    "plt.figure(figsize=(12,10), dpi= 80)\n",
    "sns.heatmap(churn[numerical_columns].corr(), xticklabels=churn[numerical_columns].corr().columns, yticklabels=churn[numerical_columns].corr().columns, cmap='RdYlGn', center=0, annot=True)\n",
    "\n",
    "# Decorations\n",
    "plt.title('Коэффициенты корреляции количественных признаков', fontsize=16, pad=30)\n",
    "plt.xticks(fontsize=12)\n",
    "plt.yticks(fontsize=12)\n",
    "plt.show()"
   ]
  },
  {
   "cell_type": "markdown",
   "metadata": {},
   "source": [
    "<div style=\"border:solid black 1.5px; padding: 20px\">\n",
    "\n",
    "    \n",
    "- Существенной корреляции между количественными признаками не наблюдается"
   ]
  },
  {
   "cell_type": "markdown",
   "metadata": {},
   "source": [
    "<div style=\"border:solid black 1.5px; padding: 20px\">\n",
    "\n",
    "    \n",
    "- Проведем классификацию качественных признаков"
   ]
  },
  {
   "cell_type": "code",
   "execution_count": 6,
   "metadata": {},
   "outputs": [
    {
     "name": "stdout",
     "output_type": "stream",
     "text": [
      "\n",
      "Качественные категории столбца Geography — страна проживания:\n",
      "\n",
      "['France', 'Spain', 'Germany']\n",
      "\n",
      "Качественные категории столбца Gender — пол:\n",
      "\n",
      "['Female', 'Male']\n"
     ]
    }
   ],
   "source": [
    "print()\n",
    "print('Качественные категории столбца Geography — страна проживания:')\n",
    "print()\n",
    "print(list(churn['Geography'].unique()))\n",
    "\n",
    "print()\n",
    "print('Качественные категории столбца Gender — пол:')\n",
    "print()\n",
    "print(list(churn['Gender'].unique()))"
   ]
  },
  {
   "cell_type": "markdown",
   "metadata": {},
   "source": [
    "<div style=\"border:solid black 1.5px; padding: 20px\">\n",
    "\n",
    "- Для классификации воспользуемся техникой One-Hot Encoding"
   ]
  },
  {
   "cell_type": "code",
   "execution_count": 7,
   "metadata": {},
   "outputs": [
    {
     "name": "stdout",
     "output_type": "stream",
     "text": [
      "<class 'pandas.core.frame.DataFrame'>\n",
      "RangeIndex: 10000 entries, 0 to 9999\n",
      "Data columns (total 12 columns):\n",
      "CreditScore          10000 non-null int64\n",
      "Age                  10000 non-null int64\n",
      "Tenure               10000 non-null int64\n",
      "Balance              10000 non-null float64\n",
      "NumOfProducts        10000 non-null int64\n",
      "HasCrCard            10000 non-null int64\n",
      "IsActiveMember       10000 non-null int64\n",
      "EstimatedSalary      10000 non-null float64\n",
      "Exited               10000 non-null int64\n",
      "Geography_Germany    10000 non-null uint8\n",
      "Geography_Spain      10000 non-null uint8\n",
      "Gender_Male          10000 non-null uint8\n",
      "dtypes: float64(2), int64(7), uint8(3)\n",
      "memory usage: 732.5 KB\n"
     ]
    }
   ],
   "source": [
    "churn = pd.get_dummies(churn, drop_first=True)\n",
    "\n",
    "churn.info()"
   ]
  },
  {
   "cell_type": "markdown",
   "metadata": {},
   "source": [
    "<div style=\"border:solid black 1.5px; padding: 20px\">\n",
    "\n",
    "- Оценим баланс классов"
   ]
  },
  {
   "cell_type": "code",
   "execution_count": 8,
   "metadata": {},
   "outputs": [
    {
     "data": {
      "image/png": "[encoded data removed]",
      "text/plain": [
       "<Figure size 240x320 with 1 Axes>"
      ]
     },
     "metadata": {
      "needs_background": "light"
     },
     "output_type": "display_data"
    }
   ],
   "source": [
    "# Plot\n",
    "plt.figure(figsize=(3,4), dpi= 80)\n",
    "sns.barplot(x=\"Exited\", y=\"Exited\", data=churn, estimator=lambda x: len(x) / len(churn) * 100)\n",
    "\n",
    "# Decorations\n",
    "plt.title('Процентное соотношение классов целевого признака Exited — факт ухода клиента', fontsize=16, pad=30)\n",
    "plt.xlabel('Класс', fontsize=12)\n",
    "plt.ylabel('Процент', fontsize=12)\n",
    "\n",
    "plt.show()"
   ]
  },
  {
   "cell_type": "markdown",
   "metadata": {},
   "source": [
    "<div style=\"border:solid black 1.5px; padding: 20px\">\n",
    "\n",
    "- Из графика видно, что на класс \"0\" приходится 80% данных, на класс \"1\" - 20%, это говорит о дисбалансе классов в предоставленной выборке"
   ]
  },
  {
   "cell_type": "markdown",
   "metadata": {},
   "source": [
    "<div style=\"border:solid black 1.5px; padding: 20px\">\n",
    "\n",
    "- Принимая во внимание явный дисбаланс классов целевого признака, мы можем воспользоваться следующими стратегиями при обучении модели:\n",
    "    \n",
    "    \n",
    "    1. Использовать стратифицированную кросс-валидацию \n",
    "    \n",
    "    2. Использовать весовые функции - наименнее представленному классу присвоить больший вес\n",
    "    \n",
    "    3. Добавить данных, относящихся к наименнее представленому классу, с помощью upsampling или наоборот уменьшить количество данных превосходящего класса - downsampling"
   ]
  },
  {
   "cell_type": "markdown",
   "metadata": {},
   "source": [
    "<div style=\"border:solid black 1.5px; padding: 20px\">\n",
    "\n",
    "\n",
    "- Перед началом исследования зададим значение генератора псевдослучаных значений"
   ]
  },
  {
   "cell_type": "code",
   "execution_count": 9,
   "metadata": {},
   "outputs": [],
   "source": [
    "random_state = 12345"
   ]
  },
  {
   "cell_type": "markdown",
   "metadata": {},
   "source": [
    "<div style=\"border:solid black 1.5px; padding: 20px\">\n",
    "\n",
    "\n",
    "- Разобъем данные на две выборки в стандартном соотношении - обучающую (80%),  и тестовую (20%)"
   ]
  },
  {
   "cell_type": "code",
   "execution_count": 10,
   "metadata": {
    "scrolled": true
   },
   "outputs": [
    {
     "name": "stdout",
     "output_type": "stream",
     "text": [
      "\n",
      "----- Обучающая выборка: -----\n",
      "\n",
      "<class 'pandas.core.frame.DataFrame'>\n",
      "Int64Index: 8000 entries, 454 to 4578\n",
      "Data columns (total 12 columns):\n",
      "CreditScore          8000 non-null int64\n",
      "Age                  8000 non-null int64\n",
      "Tenure               8000 non-null int64\n",
      "Balance              8000 non-null float64\n",
      "NumOfProducts        8000 non-null int64\n",
      "HasCrCard            8000 non-null int64\n",
      "IsActiveMember       8000 non-null int64\n",
      "EstimatedSalary      8000 non-null float64\n",
      "Exited               8000 non-null int64\n",
      "Geography_Germany    8000 non-null uint8\n",
      "Geography_Spain      8000 non-null uint8\n",
      "Gender_Male          8000 non-null uint8\n",
      "dtypes: float64(2), int64(7), uint8(3)\n",
      "memory usage: 648.4 KB\n",
      "\n",
      "----- Тестовая выборка: -----\n",
      "\n",
      "<class 'pandas.core.frame.DataFrame'>\n",
      "Int64Index: 2000 entries, 7867 to 694\n",
      "Data columns (total 12 columns):\n",
      "CreditScore          2000 non-null int64\n",
      "Age                  2000 non-null int64\n",
      "Tenure               2000 non-null int64\n",
      "Balance              2000 non-null float64\n",
      "NumOfProducts        2000 non-null int64\n",
      "HasCrCard            2000 non-null int64\n",
      "IsActiveMember       2000 non-null int64\n",
      "EstimatedSalary      2000 non-null float64\n",
      "Exited               2000 non-null int64\n",
      "Geography_Germany    2000 non-null uint8\n",
      "Geography_Spain      2000 non-null uint8\n",
      "Gender_Male          2000 non-null uint8\n",
      "dtypes: float64(2), int64(7), uint8(3)\n",
      "memory usage: 162.1 KB\n"
     ]
    }
   ],
   "source": [
    "df_train, df_test = train_test_split(churn, test_size=0.2, random_state=random_state)\n",
    "\n",
    "print()\n",
    "print('----- Обучающая выборка: -----')\n",
    "print()\n",
    "df_train.info()\n",
    "\n",
    "print()\n",
    "print('----- Тестовая выборка: -----')\n",
    "print()\n",
    "df_test.info()"
   ]
  },
  {
   "cell_type": "code",
   "execution_count": 11,
   "metadata": {},
   "outputs": [
    {
     "data": {
      "text/html": [
       "<div>\n",
       "<style scoped>\n",
       "    .dataframe tbody tr th:only-of-type {\n",
       "        vertical-align: middle;\n",
       "    }\n",
       "\n",
       "    .dataframe tbody tr th {\n",
       "        vertical-align: top;\n",
       "    }\n",
       "\n",
       "    .dataframe thead th {\n",
       "        text-align: right;\n",
       "    }\n",
       "</style>\n",
       "<table border=\"1\" class=\"dataframe\">\n",
       "  <thead>\n",
       "    <tr style=\"text-align: right;\">\n",
       "      <th></th>\n",
       "      <th>CreditScore</th>\n",
       "      <th>Age</th>\n",
       "      <th>Tenure</th>\n",
       "      <th>Balance</th>\n",
       "      <th>NumOfProducts</th>\n",
       "      <th>HasCrCard</th>\n",
       "      <th>IsActiveMember</th>\n",
       "      <th>EstimatedSalary</th>\n",
       "    </tr>\n",
       "  </thead>\n",
       "  <tbody>\n",
       "    <tr>\n",
       "      <td>454</td>\n",
       "      <td>758</td>\n",
       "      <td>39</td>\n",
       "      <td>6</td>\n",
       "      <td>127357.76</td>\n",
       "      <td>1</td>\n",
       "      <td>0</td>\n",
       "      <td>1</td>\n",
       "      <td>56577.00</td>\n",
       "    </tr>\n",
       "    <tr>\n",
       "      <td>8307</td>\n",
       "      <td>618</td>\n",
       "      <td>30</td>\n",
       "      <td>3</td>\n",
       "      <td>133844.22</td>\n",
       "      <td>1</td>\n",
       "      <td>1</td>\n",
       "      <td>1</td>\n",
       "      <td>31406.93</td>\n",
       "    </tr>\n",
       "    <tr>\n",
       "      <td>4811</td>\n",
       "      <td>575</td>\n",
       "      <td>26</td>\n",
       "      <td>7</td>\n",
       "      <td>0.00</td>\n",
       "      <td>2</td>\n",
       "      <td>1</td>\n",
       "      <td>0</td>\n",
       "      <td>112507.63</td>\n",
       "    </tr>\n",
       "    <tr>\n",
       "      <td>1132</td>\n",
       "      <td>628</td>\n",
       "      <td>37</td>\n",
       "      <td>0</td>\n",
       "      <td>0.00</td>\n",
       "      <td>2</td>\n",
       "      <td>1</td>\n",
       "      <td>1</td>\n",
       "      <td>171707.93</td>\n",
       "    </tr>\n",
       "    <tr>\n",
       "      <td>9640</td>\n",
       "      <td>750</td>\n",
       "      <td>35</td>\n",
       "      <td>3</td>\n",
       "      <td>0.00</td>\n",
       "      <td>1</td>\n",
       "      <td>1</td>\n",
       "      <td>0</td>\n",
       "      <td>191520.50</td>\n",
       "    </tr>\n",
       "    <tr>\n",
       "      <td>...</td>\n",
       "      <td>...</td>\n",
       "      <td>...</td>\n",
       "      <td>...</td>\n",
       "      <td>...</td>\n",
       "      <td>...</td>\n",
       "      <td>...</td>\n",
       "      <td>...</td>\n",
       "      <td>...</td>\n",
       "    </tr>\n",
       "    <tr>\n",
       "      <td>4478</td>\n",
       "      <td>549</td>\n",
       "      <td>31</td>\n",
       "      <td>4</td>\n",
       "      <td>0.00</td>\n",
       "      <td>2</td>\n",
       "      <td>0</td>\n",
       "      <td>1</td>\n",
       "      <td>25684.85</td>\n",
       "    </tr>\n",
       "    <tr>\n",
       "      <td>4094</td>\n",
       "      <td>513</td>\n",
       "      <td>29</td>\n",
       "      <td>10</td>\n",
       "      <td>0.00</td>\n",
       "      <td>2</td>\n",
       "      <td>0</td>\n",
       "      <td>1</td>\n",
       "      <td>25514.77</td>\n",
       "    </tr>\n",
       "    <tr>\n",
       "      <td>3492</td>\n",
       "      <td>655</td>\n",
       "      <td>45</td>\n",
       "      <td>0</td>\n",
       "      <td>57327.04</td>\n",
       "      <td>1</td>\n",
       "      <td>0</td>\n",
       "      <td>1</td>\n",
       "      <td>47349.00</td>\n",
       "    </tr>\n",
       "    <tr>\n",
       "      <td>2177</td>\n",
       "      <td>667</td>\n",
       "      <td>24</td>\n",
       "      <td>4</td>\n",
       "      <td>0.00</td>\n",
       "      <td>2</td>\n",
       "      <td>0</td>\n",
       "      <td>1</td>\n",
       "      <td>34335.55</td>\n",
       "    </tr>\n",
       "    <tr>\n",
       "      <td>4578</td>\n",
       "      <td>691</td>\n",
       "      <td>38</td>\n",
       "      <td>1</td>\n",
       "      <td>0.00</td>\n",
       "      <td>2</td>\n",
       "      <td>0</td>\n",
       "      <td>0</td>\n",
       "      <td>44653.50</td>\n",
       "    </tr>\n",
       "  </tbody>\n",
       "</table>\n",
       "<p>8000 rows × 8 columns</p>\n",
       "</div>"
      ],
      "text/plain": [
       "      CreditScore  Age  Tenure    Balance  NumOfProducts  HasCrCard  \\\n",
       "454           758   39       6  127357.76              1          0   \n",
       "8307          618   30       3  133844.22              1          1   \n",
       "4811          575   26       7       0.00              2          1   \n",
       "1132          628   37       0       0.00              2          1   \n",
       "9640          750   35       3       0.00              1          1   \n",
       "...           ...  ...     ...        ...            ...        ...   \n",
       "4478          549   31       4       0.00              2          0   \n",
       "4094          513   29      10       0.00              2          0   \n",
       "3492          655   45       0   57327.04              1          0   \n",
       "2177          667   24       4       0.00              2          0   \n",
       "4578          691   38       1       0.00              2          0   \n",
       "\n",
       "      IsActiveMember  EstimatedSalary  \n",
       "454                1         56577.00  \n",
       "8307               1         31406.93  \n",
       "4811               0        112507.63  \n",
       "1132               1        171707.93  \n",
       "9640               0        191520.50  \n",
       "...              ...              ...  \n",
       "4478               1         25684.85  \n",
       "4094               1         25514.77  \n",
       "3492               1         47349.00  \n",
       "2177               1         34335.55  \n",
       "4578               0         44653.50  \n",
       "\n",
       "[8000 rows x 8 columns]"
      ]
     },
     "metadata": {},
     "output_type": "display_data"
    }
   ],
   "source": [
    "display(df_train[numerical_columns])"
   ]
  },
  {
   "cell_type": "markdown",
   "metadata": {},
   "source": [
    "<div style=\"border:solid black 1.5px; padding: 20px\">\n",
    "\n",
    "    \n",
    "- Поскольку количественные признаки имеют разную размерность и порядок величин, их необходимо масштабировать\n",
    "    \n",
    "    \n",
    "- Зададим диапазон изменения признаков от 0 до 1"
   ]
  },
  {
   "cell_type": "code",
   "execution_count": 12,
   "metadata": {},
   "outputs": [
    {
     "data": {
      "text/html": [
       "<div>\n",
       "<style scoped>\n",
       "    .dataframe tbody tr th:only-of-type {\n",
       "        vertical-align: middle;\n",
       "    }\n",
       "\n",
       "    .dataframe tbody tr th {\n",
       "        vertical-align: top;\n",
       "    }\n",
       "\n",
       "    .dataframe thead th {\n",
       "        text-align: right;\n",
       "    }\n",
       "</style>\n",
       "<table border=\"1\" class=\"dataframe\">\n",
       "  <thead>\n",
       "    <tr style=\"text-align: right;\">\n",
       "      <th></th>\n",
       "      <th>CreditScore</th>\n",
       "      <th>Age</th>\n",
       "      <th>Tenure</th>\n",
       "      <th>Balance</th>\n",
       "      <th>NumOfProducts</th>\n",
       "      <th>HasCrCard</th>\n",
       "      <th>IsActiveMember</th>\n",
       "      <th>EstimatedSalary</th>\n",
       "    </tr>\n",
       "  </thead>\n",
       "  <tbody>\n",
       "    <tr>\n",
       "      <td>454</td>\n",
       "      <td>0.816</td>\n",
       "      <td>0.283784</td>\n",
       "      <td>0.6</td>\n",
       "      <td>0.507608</td>\n",
       "      <td>0.000000</td>\n",
       "      <td>0.0</td>\n",
       "      <td>1.0</td>\n",
       "      <td>0.282854</td>\n",
       "    </tr>\n",
       "    <tr>\n",
       "      <td>8307</td>\n",
       "      <td>0.536</td>\n",
       "      <td>0.162162</td>\n",
       "      <td>0.3</td>\n",
       "      <td>0.533460</td>\n",
       "      <td>0.000000</td>\n",
       "      <td>1.0</td>\n",
       "      <td>1.0</td>\n",
       "      <td>0.156992</td>\n",
       "    </tr>\n",
       "    <tr>\n",
       "      <td>4811</td>\n",
       "      <td>0.450</td>\n",
       "      <td>0.108108</td>\n",
       "      <td>0.7</td>\n",
       "      <td>0.000000</td>\n",
       "      <td>0.333333</td>\n",
       "      <td>1.0</td>\n",
       "      <td>0.0</td>\n",
       "      <td>0.562534</td>\n",
       "    </tr>\n",
       "    <tr>\n",
       "      <td>1132</td>\n",
       "      <td>0.556</td>\n",
       "      <td>0.256757</td>\n",
       "      <td>0.0</td>\n",
       "      <td>0.000000</td>\n",
       "      <td>0.333333</td>\n",
       "      <td>1.0</td>\n",
       "      <td>1.0</td>\n",
       "      <td>0.858564</td>\n",
       "    </tr>\n",
       "    <tr>\n",
       "      <td>9640</td>\n",
       "      <td>0.800</td>\n",
       "      <td>0.229730</td>\n",
       "      <td>0.3</td>\n",
       "      <td>0.000000</td>\n",
       "      <td>0.000000</td>\n",
       "      <td>1.0</td>\n",
       "      <td>0.0</td>\n",
       "      <td>0.957636</td>\n",
       "    </tr>\n",
       "    <tr>\n",
       "      <td>...</td>\n",
       "      <td>...</td>\n",
       "      <td>...</td>\n",
       "      <td>...</td>\n",
       "      <td>...</td>\n",
       "      <td>...</td>\n",
       "      <td>...</td>\n",
       "      <td>...</td>\n",
       "      <td>...</td>\n",
       "    </tr>\n",
       "    <tr>\n",
       "      <td>4478</td>\n",
       "      <td>0.398</td>\n",
       "      <td>0.175676</td>\n",
       "      <td>0.4</td>\n",
       "      <td>0.000000</td>\n",
       "      <td>0.333333</td>\n",
       "      <td>0.0</td>\n",
       "      <td>1.0</td>\n",
       "      <td>0.128379</td>\n",
       "    </tr>\n",
       "    <tr>\n",
       "      <td>4094</td>\n",
       "      <td>0.326</td>\n",
       "      <td>0.148649</td>\n",
       "      <td>1.0</td>\n",
       "      <td>0.000000</td>\n",
       "      <td>0.333333</td>\n",
       "      <td>0.0</td>\n",
       "      <td>1.0</td>\n",
       "      <td>0.127528</td>\n",
       "    </tr>\n",
       "    <tr>\n",
       "      <td>3492</td>\n",
       "      <td>0.610</td>\n",
       "      <td>0.364865</td>\n",
       "      <td>0.0</td>\n",
       "      <td>0.228487</td>\n",
       "      <td>0.000000</td>\n",
       "      <td>0.0</td>\n",
       "      <td>1.0</td>\n",
       "      <td>0.236710</td>\n",
       "    </tr>\n",
       "    <tr>\n",
       "      <td>2177</td>\n",
       "      <td>0.634</td>\n",
       "      <td>0.081081</td>\n",
       "      <td>0.4</td>\n",
       "      <td>0.000000</td>\n",
       "      <td>0.333333</td>\n",
       "      <td>0.0</td>\n",
       "      <td>1.0</td>\n",
       "      <td>0.171636</td>\n",
       "    </tr>\n",
       "    <tr>\n",
       "      <td>4578</td>\n",
       "      <td>0.682</td>\n",
       "      <td>0.270270</td>\n",
       "      <td>0.1</td>\n",
       "      <td>0.000000</td>\n",
       "      <td>0.333333</td>\n",
       "      <td>0.0</td>\n",
       "      <td>0.0</td>\n",
       "      <td>0.223231</td>\n",
       "    </tr>\n",
       "  </tbody>\n",
       "</table>\n",
       "<p>8000 rows × 8 columns</p>\n",
       "</div>"
      ],
      "text/plain": [
       "      CreditScore       Age  Tenure   Balance  NumOfProducts  HasCrCard  \\\n",
       "454         0.816  0.283784     0.6  0.507608       0.000000        0.0   \n",
       "8307        0.536  0.162162     0.3  0.533460       0.000000        1.0   \n",
       "4811        0.450  0.108108     0.7  0.000000       0.333333        1.0   \n",
       "1132        0.556  0.256757     0.0  0.000000       0.333333        1.0   \n",
       "9640        0.800  0.229730     0.3  0.000000       0.000000        1.0   \n",
       "...           ...       ...     ...       ...            ...        ...   \n",
       "4478        0.398  0.175676     0.4  0.000000       0.333333        0.0   \n",
       "4094        0.326  0.148649     1.0  0.000000       0.333333        0.0   \n",
       "3492        0.610  0.364865     0.0  0.228487       0.000000        0.0   \n",
       "2177        0.634  0.081081     0.4  0.000000       0.333333        0.0   \n",
       "4578        0.682  0.270270     0.1  0.000000       0.333333        0.0   \n",
       "\n",
       "      IsActiveMember  EstimatedSalary  \n",
       "454              1.0         0.282854  \n",
       "8307             1.0         0.156992  \n",
       "4811             0.0         0.562534  \n",
       "1132             1.0         0.858564  \n",
       "9640             0.0         0.957636  \n",
       "...              ...              ...  \n",
       "4478             1.0         0.128379  \n",
       "4094             1.0         0.127528  \n",
       "3492             1.0         0.236710  \n",
       "2177             1.0         0.171636  \n",
       "4578             0.0         0.223231  \n",
       "\n",
       "[8000 rows x 8 columns]"
      ]
     },
     "metadata": {},
     "output_type": "display_data"
    }
   ],
   "source": [
    "warnings.filterwarnings('ignore')\n",
    "\n",
    "scaler = MinMaxScaler(feature_range=(0, 1))\n",
    "\n",
    "scaler.fit(df_train[numerical_columns]) \n",
    "\n",
    "df_train[numerical_columns] = scaler.transform(df_train[numerical_columns])\n",
    "df_test[numerical_columns] = scaler.transform(df_test[numerical_columns])\n",
    "\n",
    "display(df_train[numerical_columns])"
   ]
  },
  {
   "cell_type": "code",
   "execution_count": 13,
   "metadata": {},
   "outputs": [],
   "source": [
    "train_features = df_train.drop(['Exited'], axis=1)\n",
    "train_target = df_train['Exited']\n",
    "\n",
    "test_features = df_test.drop(['Exited'], axis=1)\n",
    "test_target = df_test['Exited']"
   ]
  },
  {
   "cell_type": "markdown",
   "metadata": {},
   "source": [
    "<div style=\"border:solid black 1.5px; padding: 20px\">\n",
    "\n",
    "    \n",
    "## 2. Исследование модели без учета дисбаланса классов"
   ]
  },
  {
   "cell_type": "markdown",
   "metadata": {},
   "source": [
    "<div style=\"border:solid black 1.5px; padding: 20px\">\n",
    "\n",
    "- В случае обучения модели при дисбалансе классов воспользуемся кросс-валидацией\n",
    "    \n",
    "    \n",
    "- Для кросс-валидации обучающей выборки используем алгоритм стратифицированной выборки, т.е. в каждой группе распределение классов будет схожим, чтобы в одну из групп не попало слишком много значений одного класса\n",
    "    \n",
    "    \n",
    "- Общая оценка точности будет рассчитываться как среднее значение по каждой группе\n",
    "\n",
    "\n",
    "- Количество групп в кросс-валидации выберем равным 5 "
   ]
  },
  {
   "cell_type": "code",
   "execution_count": 14,
   "metadata": {},
   "outputs": [],
   "source": [
    "cv = StratifiedShuffleSplit(n_splits=5, random_state=random_state)"
   ]
  },
  {
   "cell_type": "markdown",
   "metadata": {},
   "source": [
    "<div style=\"border:solid black 1.5px; padding: 20px\">\n",
    "\n",
    "### Модель: случайный лес "
   ]
  },
  {
   "cell_type": "markdown",
   "metadata": {},
   "source": [
    "<div style=\"border:solid black 1.5px; padding: 20px\">\n",
    "\n",
    "- Зададим модель случайный лес без каких-либо весов для классов"
   ]
  },
  {
   "cell_type": "code",
   "execution_count": 15,
   "metadata": {},
   "outputs": [],
   "source": [
    "random_forest_model = RandomForestClassifier(random_state=random_state, class_weight=None)"
   ]
  },
  {
   "cell_type": "markdown",
   "metadata": {},
   "source": [
    "<div style=\"border:solid black 1.5px; padding: 20px\">\n",
    "\n",
    "- Рассмотрим параметры заданной модели"
   ]
  },
  {
   "cell_type": "code",
   "execution_count": 16,
   "metadata": {},
   "outputs": [
    {
     "data": {
      "text/plain": [
       "dict_keys(['bootstrap', 'class_weight', 'criterion', 'max_depth', 'max_features', 'max_leaf_nodes', 'min_impurity_decrease', 'min_impurity_split', 'min_samples_leaf', 'min_samples_split', 'min_weight_fraction_leaf', 'n_estimators', 'n_jobs', 'oob_score', 'random_state', 'verbose', 'warm_start'])"
      ]
     },
     "execution_count": 16,
     "metadata": {},
     "output_type": "execute_result"
    }
   ],
   "source": [
    "random_forest_model.get_params().keys()"
   ]
  },
  {
   "cell_type": "markdown",
   "metadata": {},
   "source": [
    "<div style=\"border:solid black 1.5px; padding: 20px\">\n",
    "\n",
    "- Зададим параметры для подбора"
   ]
  },
  {
   "cell_type": "code",
   "execution_count": 17,
   "metadata": {},
   "outputs": [],
   "source": [
    "random_forest_parameters_grid = {\n",
    "    'criterion' : ['gini', 'entropy'],\n",
    "    'max_depth' : range(1, 100, 10),\n",
    "    'max_features' : ['auto', 'sqrt', 'log2', None],\n",
    "    'min_samples_leaf' :  range(1, 20),\n",
    "    'n_estimators' :  range(1, 100, 10)\n",
    "}\n",
    " "
   ]
  },
  {
   "cell_type": "markdown",
   "metadata": {},
   "source": [
    "<div style=\"border:solid black 1.5px; padding: 20px\">\n",
    "\n",
    "\n",
    "- Модель \"случайный лес\" за счет использования большого количества независимых деревьев является достаточно ресурсозатратной\n",
    "\n",
    "\n",
    "- Чтобы сократить время поиска оптимальных параметров по заданному гриду, воспользуемся подходом randomized search, позволяющим отбросить значения параметров при которых достигается заведомо низкая точность модели"
   ]
  },
  {
   "cell_type": "code",
   "execution_count": 18,
   "metadata": {},
   "outputs": [],
   "source": [
    "random_forest_random_grid_cv = RandomizedSearchCV(random_forest_model, random_forest_parameters_grid, n_iter=40, scoring='f1', cv=cv)"
   ]
  },
  {
   "cell_type": "code",
   "execution_count": 19,
   "metadata": {},
   "outputs": [
    {
     "name": "stdout",
     "output_type": "stream",
     "text": [
      "CPU times: user 1min 54s, sys: 204 ms, total: 1min 54s\n",
      "Wall time: 1min 54s\n"
     ]
    },
    {
     "data": {
      "text/plain": [
       "RandomizedSearchCV(cv=StratifiedShuffleSplit(n_splits=5, random_state=12345, test_size=None,\n",
       "            train_size=None),\n",
       "                   error_score='raise-deprecating',\n",
       "                   estimator=RandomForestClassifier(bootstrap=True,\n",
       "                                                    class_weight=None,\n",
       "                                                    criterion='gini',\n",
       "                                                    max_depth=None,\n",
       "                                                    max_features='auto',\n",
       "                                                    max_leaf_nodes=None,\n",
       "                                                    min_impurity_decrease=0.0,\n",
       "                                                    min_impurity_split=None,\n",
       "                                                    min_samples_leaf=1,\n",
       "                                                    min_...\n",
       "                                                    random_state=12345,\n",
       "                                                    verbose=0,\n",
       "                                                    warm_start=False),\n",
       "                   iid='warn', n_iter=40, n_jobs=None,\n",
       "                   param_distributions={'criterion': ['gini', 'entropy'],\n",
       "                                        'max_depth': range(1, 100, 10),\n",
       "                                        'max_features': ['auto', 'sqrt', 'log2',\n",
       "                                                         None],\n",
       "                                        'min_samples_leaf': range(1, 20),\n",
       "                                        'n_estimators': range(1, 100, 10)},\n",
       "                   pre_dispatch='2*n_jobs', random_state=None, refit=True,\n",
       "                   return_train_score=False, scoring='f1', verbose=0)"
      ]
     },
     "execution_count": 19,
     "metadata": {},
     "output_type": "execute_result"
    }
   ],
   "source": [
    "%%time\n",
    "warnings.filterwarnings('ignore')\n",
    "\n",
    "random_forest_random_grid_cv.fit(train_features, train_target)"
   ]
  },
  {
   "cell_type": "code",
   "execution_count": 20,
   "metadata": {},
   "outputs": [
    {
     "name": "stdout",
     "output_type": "stream",
     "text": [
      "Значение метрики f1 наилучшей модели на кросс-валидационной выборке с использованием RandomizedSearchCV: 0.5754871648199007\n",
      "\n",
      "Параметры для наилучшей модели на кросс-валидационной выборке с использованием RandomizedSearchCV:\n",
      "\n",
      "{'n_estimators': 21, 'min_samples_leaf': 7, 'max_features': None, 'max_depth': 81, 'criterion': 'gini'}\n"
     ]
    }
   ],
   "source": [
    "print('Значение метрики f1 наилучшей модели на кросс-валидационной выборке с использованием RandomizedSearchCV:', random_forest_random_grid_cv.best_score_)\n",
    "print()\n",
    "print('Параметры для наилучшей модели на кросс-валидационной выборке с использованием RandomizedSearchCV:')\n",
    "print()\n",
    "print(random_forest_random_grid_cv.best_params_)"
   ]
  },
  {
   "cell_type": "markdown",
   "metadata": {},
   "source": [
    "<div style=\"border:solid black 1.5px; padding: 20px\">\n",
    "\n",
    "- Дополнительно сравним модель со случайной и оценим метрику AUC-ROC для разных выборок при кросс-валидации"
   ]
  },
  {
   "cell_type": "code",
   "execution_count": 21,
   "metadata": {},
   "outputs": [
    {
     "data": {
      "image/png": "[encoded data removed]",
      "text/plain": [
       "<Figure size 864x864 with 1 Axes>"
      ]
     },
     "metadata": {
      "needs_background": "light"
     },
     "output_type": "display_data"
    }
   ],
   "source": [
    "fig1 = plt.figure(figsize=[12,12])\n",
    "ax1 = fig1.add_subplot(111,aspect = 'equal')\n",
    "\n",
    "tprs = []\n",
    "aucs = []\n",
    "mean_fpr = np.linspace(0,1,100)\n",
    "i = 1\n",
    "for train,test in cv.split(train_features, train_target):\n",
    "    prediction = random_forest_random_grid_cv.fit(train_features.iloc[train],train_target.iloc[train]).predict_proba(train_features.iloc[test])\n",
    "    fpr, tpr, t = roc_curve(train_target.iloc[test], prediction[:, 1])\n",
    "    tprs.append(np.interp(mean_fpr, fpr, tpr))\n",
    "    roc_auc = auc(fpr, tpr)\n",
    "    aucs.append(roc_auc)\n",
    "    plt.plot(fpr, tpr, lw=2, alpha=0.3, label='ROC fold %d (AUC = %0.2f)' % (i, roc_auc))\n",
    "    i= i+1   \n",
    "    \n",
    "plt.plot([0,1],[0,1],linestyle = '--',lw = 2,color = 'black')\n",
    "mean_tpr = np.mean(tprs, axis=0)\n",
    "mean_auc = auc(mean_fpr, mean_tpr)\n",
    "plt.plot(mean_fpr, mean_tpr, color='blue',\n",
    "         label=r'Mean ROC (AUC = %0.2f )' % (mean_auc),lw=2, alpha=1)\n",
    "\n",
    "plt.xlabel('False Positive Rate')\n",
    "plt.ylabel('True Positive Rate')\n",
    "plt.title('ROC для выборок кросс-валидации модели случайный лес')\n",
    "plt.xlim([0, 1])\n",
    "plt.ylim([0, 1])\n",
    "plt.legend(loc=\"lower right\")\n",
    "plt.show()"
   ]
  },
  {
   "cell_type": "markdown",
   "metadata": {},
   "source": [
    "<div style=\"border:solid black 1.5px; padding: 20px\">\n",
    "\n",
    "- Значение метрики f1 немного меньше порога 0.59\n",
    "    \n",
    "\n",
    "- Среднее значение метрики AUC-ROC достаточно высокое   \n",
    "    \n",
    "    \n",
    "- Сравним с результатами моделей с учетом дисбаланса классов\n",
    "    \n",
    "\n",
    "- В случае недостижения удовлетворительных значений метрики попробуем изменить гиперпараметры или исследуем другие модели"
   ]
  },
  {
   "cell_type": "markdown",
   "metadata": {},
   "source": [
    "# 3. Борьба с дисбалансом"
   ]
  },
  {
   "cell_type": "markdown",
   "metadata": {},
   "source": [
    "<div style=\"border:solid black 1.5px; padding: 20px\">\n",
    "\n",
    "### Модель: случайный лес с весами"
   ]
  },
  {
   "cell_type": "markdown",
   "metadata": {},
   "source": [
    "<div style=\"border:solid black 1.5px; padding: 20px\">\n",
    "\n",
    "- Попробуем провести аналогичное исследование, но в этот раз будем использовать модель случайного леса с весовой функцией - в зависимости от частоты класса ему будет присваиваться соответсвующий вес"
   ]
  },
  {
   "cell_type": "code",
   "execution_count": 22,
   "metadata": {},
   "outputs": [],
   "source": [
    "random_forest_model = RandomForestClassifier(random_state=random_state, class_weight='balanced')"
   ]
  },
  {
   "cell_type": "code",
   "execution_count": 23,
   "metadata": {},
   "outputs": [],
   "source": [
    "random_forest_parameters_grid = {\n",
    "    'criterion' : ['gini', 'entropy'],\n",
    "    'max_depth' : range(1, 100, 10),\n",
    "    'max_features' : ['auto', 'sqrt', 'log2', None],\n",
    "    'min_samples_leaf' :  range(1, 20),\n",
    "    'n_estimators' :  range(1, 100, 10)\n",
    "}"
   ]
  },
  {
   "cell_type": "code",
   "execution_count": 24,
   "metadata": {},
   "outputs": [],
   "source": [
    "random_forest_random_grid_cv = RandomizedSearchCV(random_forest_model, random_forest_parameters_grid, n_iter=40, scoring='f1', cv=cv)"
   ]
  },
  {
   "cell_type": "code",
   "execution_count": 25,
   "metadata": {},
   "outputs": [
    {
     "name": "stdout",
     "output_type": "stream",
     "text": [
      "CPU times: user 2min 48s, sys: 212 ms, total: 2min 48s\n",
      "Wall time: 2min 49s\n"
     ]
    },
    {
     "data": {
      "text/plain": [
       "RandomizedSearchCV(cv=StratifiedShuffleSplit(n_splits=5, random_state=12345, test_size=None,\n",
       "            train_size=None),\n",
       "                   error_score='raise-deprecating',\n",
       "                   estimator=RandomForestClassifier(bootstrap=True,\n",
       "                                                    class_weight='balanced',\n",
       "                                                    criterion='gini',\n",
       "                                                    max_depth=None,\n",
       "                                                    max_features='auto',\n",
       "                                                    max_leaf_nodes=None,\n",
       "                                                    min_impurity_decrease=0.0,\n",
       "                                                    min_impurity_split=None,\n",
       "                                                    min_samples_leaf=...\n",
       "                                                    random_state=12345,\n",
       "                                                    verbose=0,\n",
       "                                                    warm_start=False),\n",
       "                   iid='warn', n_iter=40, n_jobs=None,\n",
       "                   param_distributions={'criterion': ['gini', 'entropy'],\n",
       "                                        'max_depth': range(1, 100, 10),\n",
       "                                        'max_features': ['auto', 'sqrt', 'log2',\n",
       "                                                         None],\n",
       "                                        'min_samples_leaf': range(1, 20),\n",
       "                                        'n_estimators': range(1, 100, 10)},\n",
       "                   pre_dispatch='2*n_jobs', random_state=None, refit=True,\n",
       "                   return_train_score=False, scoring='f1', verbose=0)"
      ]
     },
     "execution_count": 25,
     "metadata": {},
     "output_type": "execute_result"
    }
   ],
   "source": [
    "%%time\n",
    "warnings.filterwarnings('ignore')\n",
    "\n",
    "random_forest_random_grid_cv.fit(train_features, train_target)"
   ]
  },
  {
   "cell_type": "code",
   "execution_count": 26,
   "metadata": {},
   "outputs": [
    {
     "name": "stdout",
     "output_type": "stream",
     "text": [
      "Значение метрики f1 наилучшей модели на кросс-валидационной выборке с использованием RandomizedSearchCV: 0.604763661075696\n",
      "\n",
      "Параметры для наилучшей модели на кросс-валидационной выборке с использованием RandomizedSearchCV:\n",
      "\n",
      "{'n_estimators': 21, 'min_samples_leaf': 10, 'max_features': None, 'max_depth': 81, 'criterion': 'entropy'}\n"
     ]
    }
   ],
   "source": [
    "print('Значение метрики f1 наилучшей модели на кросс-валидационной выборке с использованием RandomizedSearchCV:', random_forest_random_grid_cv.best_score_)\n",
    "print()\n",
    "print('Параметры для наилучшей модели на кросс-валидационной выборке с использованием RandomizedSearchCV:')\n",
    "print()\n",
    "print(random_forest_random_grid_cv.best_params_)"
   ]
  },
  {
   "cell_type": "markdown",
   "metadata": {},
   "source": [
    "<div style=\"border:solid black 1.5px; padding: 20px\">\n",
    "\n",
    "\n",
    "- Дополнительно сравним модель со случайной и оценим метрику AUC-ROC для разных выборок при кросс-валидации\n"
   ]
  },
  {
   "cell_type": "code",
   "execution_count": 27,
   "metadata": {},
   "outputs": [
    {
     "data": {
      "image/png": "[encoded data removed]",
      "text/plain": [
       "<Figure size 864x864 with 1 Axes>"
      ]
     },
     "metadata": {
      "needs_background": "light"
     },
     "output_type": "display_data"
    }
   ],
   "source": [
    "fig1 = plt.figure(figsize=[12,12])\n",
    "ax1 = fig1.add_subplot(111,aspect = 'equal')\n",
    "\n",
    "tprs = []\n",
    "aucs = []\n",
    "mean_fpr = np.linspace(0,1,100)\n",
    "i = 1\n",
    "for train,test in cv.split(train_features, train_target):\n",
    "    prediction = random_forest_random_grid_cv.fit(train_features.iloc[train],train_target.iloc[train]).predict_proba(train_features.iloc[test])\n",
    "    fpr, tpr, t = roc_curve(train_target.iloc[test], prediction[:, 1])\n",
    "    tprs.append(np.interp(mean_fpr, fpr, tpr))\n",
    "    roc_auc = auc(fpr, tpr)\n",
    "    aucs.append(roc_auc)\n",
    "    plt.plot(fpr, tpr, lw=2, alpha=0.3, label='ROC fold %d (AUC = %0.2f)' % (i, roc_auc))\n",
    "    i= i+1   \n",
    "    \n",
    "plt.plot([0,1],[0,1],linestyle = '--',lw = 2,color = 'black')\n",
    "mean_tpr = np.mean(tprs, axis=0)\n",
    "mean_auc = auc(mean_fpr, mean_tpr)\n",
    "plt.plot(mean_fpr, mean_tpr, color='blue',\n",
    "         label=r'Mean ROC (AUC = %0.2f )' % (mean_auc),lw=2, alpha=1)\n",
    "\n",
    "plt.xlabel('False Positive Rate')\n",
    "plt.ylabel('True Positive Rate')\n",
    "plt.title('ROC для выборок кросс-валидации модели случайный лес с весами')\n",
    "plt.xlim([0, 1])\n",
    "plt.ylim([0, 1])\n",
    "plt.legend(loc=\"lower right\")\n",
    "plt.show()"
   ]
  },
  {
   "cell_type": "markdown",
   "metadata": {},
   "source": [
    "<div style=\"border:solid black 1.5px; padding: 20px\">\n",
    "\n",
    "- Значение метрики f1 выше порога 0.59\n",
    "    \n",
    "    \n",
    "- Добавление весовой функции для классов повысило значение метрики f1\n",
    "    \n",
    "    \n",
    "- Среднее значение метрики AUC-ROC достаточно высокое"
   ]
  },
  {
   "cell_type": "markdown",
   "metadata": {},
   "source": [
    "<div style=\"border:solid black 1.5px; padding: 20px\">\n",
    "\n",
    "### Модель: случайный лес по выборке после upsampling"
   ]
  },
  {
   "cell_type": "markdown",
   "metadata": {},
   "source": [
    "<div style=\"border:solid black 1.5px; padding: 20px\">\n",
    "\n",
    "- Помимо балансировки классов весами, мы можем преобразовать обучающую выборку таким образом, чтобы увеличить количество данных наименее представленного класса"
   ]
  },
  {
   "cell_type": "markdown",
   "metadata": {},
   "source": [
    "<div style=\"border:solid black 1.5px; padding: 20px\">\n",
    "\n",
    "- Введем функцию upsample, которая с помощью копирования добавит данных класса 1"
   ]
  },
  {
   "cell_type": "code",
   "execution_count": 28,
   "metadata": {},
   "outputs": [],
   "source": [
    "def upsample(features, target, repeat):\n",
    "    features_zeros = features[target == 0]\n",
    "    features_ones = features[target == 1]\n",
    "    target_zeros = target[target == 0]\n",
    "    target_ones = target[target == 1]\n",
    "\n",
    "    features_upsampled = pd.concat([features_zeros] + [features_ones] * repeat)\n",
    "    target_upsampled = pd.concat([target_zeros] + [target_ones] * repeat)\n",
    "    \n",
    "    features_upsampled, target_upsampled = shuffle(\n",
    "        features_upsampled, target_upsampled, random_state=random_state)\n",
    "    \n",
    "    return features_upsampled, target_upsampled\n"
   ]
  },
  {
   "cell_type": "markdown",
   "metadata": {},
   "source": [
    "<div style=\"border:solid black 1.5px; padding: 20px\">\n",
    "\n",
    "- Выделим из тестовой выборки валидационную, т.к. при upsampling валидация должна проходить по выборке без искажения"
   ]
  },
  {
   "cell_type": "code",
   "execution_count": 32,
   "metadata": {},
   "outputs": [],
   "source": [
    "train_features_before_upsample, valid_features, train_target_before_upsample, valid_target = train_test_split(train_features, train_target, test_size=0.25, random_state=random_state)"
   ]
  },
  {
   "cell_type": "code",
   "execution_count": 33,
   "metadata": {},
   "outputs": [],
   "source": [
    "train_features_upsample, train_target_upsample = upsample(train_features_before_upsample, train_target_before_upsample, 4)"
   ]
  },
  {
   "cell_type": "markdown",
   "metadata": {},
   "source": [
    "<div style=\"border:solid black 1.5px; padding: 20px\">\n",
    "\n",
    "- Подберем оптимальные параметры для модели"
   ]
  },
  {
   "cell_type": "code",
   "execution_count": 36,
   "metadata": {},
   "outputs": [],
   "source": [
    "best_result = 0\n",
    "best_model = 0\n",
    "\n",
    "for n_estimators in range(1, 100, 20):\n",
    "    for max_depth in range(1, 100, 20):\n",
    "\n",
    "        random_forest_model = RandomForestClassifier(random_state=random_state, criterion='entropy', max_depth=max_depth, max_features='log2', min_samples_leaf=1, n_estimators=n_estimators)\n",
    "\n",
    "        random_forest_model.fit(train_features_upsample, train_target_upsample)\n",
    "        predicted = random_forest_model.predict(valid_features)\n",
    "\n",
    "        random_forest_upsample_result = f1_score(valid_target, predicted)\n",
    "        \n",
    "        if random_forest_upsample_result>best_result:\n",
    "            best_result = random_forest_upsample_result\n",
    "            best_model = random_forest_model"
   ]
  },
  {
   "cell_type": "code",
   "execution_count": 37,
   "metadata": {},
   "outputs": [
    {
     "name": "stdout",
     "output_type": "stream",
     "text": [
      "Значение метрики f1 наилучшей модели на валидационной выборке: 0.6016483516483516\n",
      "\n",
      "Параметры для наилучшей модели на кросс-валидационной выборке:\n",
      "\n",
      "RandomForestClassifier(bootstrap=True, class_weight=None, criterion='entropy',\n",
      "                       max_depth=21, max_features='log2', max_leaf_nodes=None,\n",
      "                       min_impurity_decrease=0.0, min_impurity_split=None,\n",
      "                       min_samples_leaf=1, min_samples_split=2,\n",
      "                       min_weight_fraction_leaf=0.0, n_estimators=61,\n",
      "                       n_jobs=None, oob_score=False, random_state=12345,\n",
      "                       verbose=0, warm_start=False)\n"
     ]
    }
   ],
   "source": [
    "print('Значение метрики f1 наилучшей модели на валидационной выборке:', best_result)\n",
    "print()\n",
    "print('Параметры для наилучшей модели на кросс-валидационной выборке:')\n",
    "print()\n",
    "print(best_model)"
   ]
  },
  {
   "cell_type": "markdown",
   "metadata": {},
   "source": [
    "<div style=\"border:solid black 1.5px; padding: 20px\">\n",
    "\n",
    "- Дополнительно сравним модель со случайной и оценим метрику AUC-ROC"
   ]
  },
  {
   "cell_type": "code",
   "execution_count": 44,
   "metadata": {},
   "outputs": [
    {
     "data": {
      "image/png": "[encoded data removed]",
      "text/plain": [
       "<Figure size 864x864 with 1 Axes>"
      ]
     },
     "metadata": {
      "needs_background": "light"
     },
     "output_type": "display_data"
    }
   ],
   "source": [
    "fig1 = plt.figure(figsize=[12,12])\n",
    "\n",
    "probs = best_model.predict_proba(valid_features)\n",
    "preds = probs[:,1]\n",
    "fpr, tpr, threshold = roc_curve(valid_target, preds)\n",
    "roc_auc_upsampling = auc(fpr, tpr)\n",
    "plt.plot(fpr, tpr, 'Blue', label = 'upsample AUC = %0.2f' % roc_auc_upsampling)\n",
    "\n",
    "\n",
    "# method I: plt\n",
    "plt.title('ROC для валидационной выборки модели случайный лес с применением Upsampling')\n",
    "plt.legend(loc = 'lower right')\n",
    "plt.plot([0, 1], [0, 1],'r--')\n",
    "plt.xlim([0, 1])\n",
    "plt.ylim([0, 1])\n",
    "plt.ylabel('True Positive Rate')\n",
    "plt.xlabel('False Positive Rate')\n",
    "plt.show()"
   ]
  },
  {
   "cell_type": "markdown",
   "metadata": {},
   "source": [
    "<div style=\"border:solid black 1.5px; padding: 20px\">\n",
    "\n",
    "- Значение метрики f1 удовлетворительное\n",
    "    \n",
    "- Значение метрики AUC-ROC достаточно высокое   "
   ]
  },
  {
   "cell_type": "markdown",
   "metadata": {},
   "source": [
    "<div style=\"border:solid black 1.5px; padding: 20px\">\n",
    "\n",
    "### Модель: случайный лес по выборке после downsampling"
   ]
  },
  {
   "cell_type": "markdown",
   "metadata": {},
   "source": [
    "<div style=\"border:solid black 1.5px; padding: 20px\">\n",
    "\n",
    "- Аналогично мы можем преобразовать обучающую выборку таким образом, чтобы уменьшить количество данных наиболее представленного класса"
   ]
  },
  {
   "cell_type": "markdown",
   "metadata": {},
   "source": [
    "<div style=\"border:solid black 1.5px; padding: 20px\">\n",
    "\n",
    "- Введем функцию downsample"
   ]
  },
  {
   "cell_type": "code",
   "execution_count": 45,
   "metadata": {},
   "outputs": [],
   "source": [
    "def downsample(features, target, fraction):\n",
    "    features_zeros = features[target == 0]\n",
    "    features_ones = features[target == 1]\n",
    "    target_zeros = target[target == 0]\n",
    "    target_ones = target[target == 1]\n",
    "\n",
    "    features_downsampled = pd.concat(\n",
    "        [features_zeros.sample(frac=fraction, random_state=12345)] + [features_ones])\n",
    "    target_downsampled = pd.concat(\n",
    "        [target_zeros.sample(frac=fraction, random_state=12345)] + [target_ones])\n",
    "    \n",
    "    features_downsampled, target_downsampled = shuffle(\n",
    "        features_downsampled, target_downsampled, random_state=12345)\n",
    "    \n",
    "    return features_downsampled, target_downsampled"
   ]
  },
  {
   "cell_type": "code",
   "execution_count": 46,
   "metadata": {},
   "outputs": [],
   "source": [
    "train_features_downsample, train_target_downsample = downsample(train_features, train_target, 0.25)"
   ]
  },
  {
   "cell_type": "code",
   "execution_count": 47,
   "metadata": {},
   "outputs": [
    {
     "data": {
      "image/png": "[encoded data removed]",
      "text/plain": [
       "<Figure size 240x320 with 1 Axes>"
      ]
     },
     "metadata": {
      "needs_background": "light"
     },
     "output_type": "display_data"
    },
    {
     "data": {
      "image/png": "[encoded data removed]",
      "text/plain": [
       "<Figure size 240x320 with 1 Axes>"
      ]
     },
     "metadata": {
      "needs_background": "light"
     },
     "output_type": "display_data"
    }
   ],
   "source": [
    "df_train_target = pd.DataFrame(train_target)\n",
    "plt.figure(figsize=(3,4), dpi= 80)\n",
    "sns.barplot(x=\"Exited\", y=\"Exited\", data=df_train_target, estimator=lambda x: len(x) / len(df_train_target) * 100)\n",
    "\n",
    "plt.title('Процентное соотношение классов в обучающей выборке до Upsample', fontsize=16, pad=30)\n",
    "plt.xlabel('Класс', fontsize=12)\n",
    "plt.ylabel('Процент', fontsize=12)\n",
    "\n",
    "plt.show()\n",
    "\n",
    "\n",
    "df_train_target_downsample = pd.DataFrame(train_target_downsample)\n",
    "plt.figure(figsize=(3,4), dpi= 80)\n",
    "sns.barplot(x=\"Exited\", y=\"Exited\", data=df_train_target_downsample, estimator=lambda x: len(x) / len(df_train_target_downsample) * 100)\n",
    "\n",
    "plt.title('Процентное соотношение классов в обучающей выборке после Downsample', fontsize=16, pad=30)\n",
    "plt.xlabel('Класс', fontsize=12)\n",
    "plt.ylabel('Процент', fontsize=12)\n",
    "\n",
    "plt.show()"
   ]
  },
  {
   "cell_type": "markdown",
   "metadata": {},
   "source": [
    "<div style=\"border:solid black 1.5px; padding: 20px\">\n",
    "\n",
    "- Балансировка классов прошла успешно"
   ]
  },
  {
   "cell_type": "code",
   "execution_count": 48,
   "metadata": {},
   "outputs": [],
   "source": [
    "random_forest_model = RandomForestClassifier(random_state=random_state)"
   ]
  },
  {
   "cell_type": "code",
   "execution_count": 49,
   "metadata": {},
   "outputs": [],
   "source": [
    "random_forest_parameters_grid = {\n",
    "    'criterion' : ['gini', 'entropy'],\n",
    "    'max_depth' : range(1, 100, 10),\n",
    "    'max_features' : ['auto', 'sqrt', 'log2', None],\n",
    "    'min_samples_leaf' :  range(1, 20),\n",
    "    'n_estimators' :  range(1, 100, 10)\n",
    "}"
   ]
  },
  {
   "cell_type": "code",
   "execution_count": 50,
   "metadata": {},
   "outputs": [],
   "source": [
    "random_forest_random_grid_cv = RandomizedSearchCV(random_forest_model, random_forest_parameters_grid, n_iter=40, scoring='f1', cv=cv)"
   ]
  },
  {
   "cell_type": "code",
   "execution_count": 51,
   "metadata": {},
   "outputs": [
    {
     "name": "stdout",
     "output_type": "stream",
     "text": [
      "CPU times: user 48.9 s, sys: 172 ms, total: 49 s\n",
      "Wall time: 49.2 s\n"
     ]
    },
    {
     "data": {
      "text/plain": [
       "RandomizedSearchCV(cv=StratifiedShuffleSplit(n_splits=5, random_state=12345, test_size=None,\n",
       "            train_size=None),\n",
       "                   error_score='raise-deprecating',\n",
       "                   estimator=RandomForestClassifier(bootstrap=True,\n",
       "                                                    class_weight=None,\n",
       "                                                    criterion='gini',\n",
       "                                                    max_depth=None,\n",
       "                                                    max_features='auto',\n",
       "                                                    max_leaf_nodes=None,\n",
       "                                                    min_impurity_decrease=0.0,\n",
       "                                                    min_impurity_split=None,\n",
       "                                                    min_samples_leaf=1,\n",
       "                                                    min_...\n",
       "                                                    random_state=12345,\n",
       "                                                    verbose=0,\n",
       "                                                    warm_start=False),\n",
       "                   iid='warn', n_iter=40, n_jobs=None,\n",
       "                   param_distributions={'criterion': ['gini', 'entropy'],\n",
       "                                        'max_depth': range(1, 100, 10),\n",
       "                                        'max_features': ['auto', 'sqrt', 'log2',\n",
       "                                                         None],\n",
       "                                        'min_samples_leaf': range(1, 20),\n",
       "                                        'n_estimators': range(1, 100, 10)},\n",
       "                   pre_dispatch='2*n_jobs', random_state=None, refit=True,\n",
       "                   return_train_score=False, scoring='f1', verbose=0)"
      ]
     },
     "execution_count": 51,
     "metadata": {},
     "output_type": "execute_result"
    }
   ],
   "source": [
    "%%time\n",
    "warnings.filterwarnings('ignore')\n",
    "\n",
    "random_forest_random_grid_cv.fit(train_features_downsample, train_target_downsample)"
   ]
  },
  {
   "cell_type": "code",
   "execution_count": 52,
   "metadata": {},
   "outputs": [
    {
     "name": "stdout",
     "output_type": "stream",
     "text": [
      "Значение метрики f1 наилучшей модели на кросс-валидационной выборке с использованием RandomizedSearchCV: 0.7738269917217286\n",
      "\n",
      "Параметры для наилучшей модели на кросс-валидационной выборке с использованием RandomizedSearchCV:\n",
      "\n",
      "{'n_estimators': 71, 'min_samples_leaf': 18, 'max_features': 'auto', 'max_depth': 61, 'criterion': 'entropy'}\n"
     ]
    }
   ],
   "source": [
    "print('Значение метрики f1 наилучшей модели на кросс-валидационной выборке с использованием RandomizedSearchCV:', random_forest_random_grid_cv.best_score_)\n",
    "print()\n",
    "print('Параметры для наилучшей модели на кросс-валидационной выборке с использованием RandomizedSearchCV:')\n",
    "print()\n",
    "print(random_forest_random_grid_cv.best_params_)"
   ]
  },
  {
   "cell_type": "markdown",
   "metadata": {},
   "source": [
    "<div style=\"border:solid black 1.5px; padding: 20px\">\n",
    "\n",
    "- Дополнительно сравним модель со случайной и оценим метрику AUC-ROC для разных выборок при кросс-валидации\n"
   ]
  },
  {
   "cell_type": "code",
   "execution_count": 53,
   "metadata": {},
   "outputs": [
    {
     "data": {
      "image/png": "[encoded data removed]",
      "text/plain": [
       "<Figure size 864x864 with 1 Axes>"
      ]
     },
     "metadata": {
      "needs_background": "light"
     },
     "output_type": "display_data"
    }
   ],
   "source": [
    "fig1 = plt.figure(figsize=[12,12])\n",
    "ax1 = fig1.add_subplot(111,aspect = 'equal')\n",
    "\n",
    "tprs = []\n",
    "aucs = []\n",
    "mean_fpr = np.linspace(0,1,100)\n",
    "i = 1\n",
    "for train,test in cv.split(train_features_downsample, train_target_downsample):\n",
    "    prediction = random_forest_random_grid_cv.fit(train_features_downsample.iloc[train],train_target_downsample.iloc[train]).predict_proba(train_features_downsample.iloc[test])\n",
    "    fpr, tpr, t = roc_curve(train_target_downsample.iloc[test], prediction[:, 1])\n",
    "    tprs.append(np.interp(mean_fpr, fpr, tpr))\n",
    "    roc_auc = auc(fpr, tpr)\n",
    "    aucs.append(roc_auc)\n",
    "    plt.plot(fpr, tpr, lw=2, alpha=0.3, label='ROC fold %d (AUC = %0.2f)' % (i, roc_auc))\n",
    "    i= i+1   \n",
    "    \n",
    "plt.plot([0,1],[0,1],linestyle = '--',lw = 2,color = 'black')\n",
    "mean_tpr = np.mean(tprs, axis=0)\n",
    "mean_auc = auc(mean_fpr, mean_tpr)\n",
    "plt.plot(mean_fpr, mean_tpr, color='blue',\n",
    "         label=r'Mean ROC (AUC = %0.2f )' % (mean_auc),lw=2, alpha=1)\n",
    "\n",
    "plt.xlabel('False Positive Rate')\n",
    "plt.ylabel('True Positive Rate')\n",
    "plt.title('ROC для выборок кросс-валидации модели случайный лес с применением Downsampling')\n",
    "plt.xlim([0, 1])\n",
    "plt.ylim([0, 1])\n",
    "plt.legend(loc=\"lower right\")\n",
    "plt.show()"
   ]
  },
  {
   "cell_type": "markdown",
   "metadata": {},
   "source": [
    "<div style=\"border:solid black 1.5px; padding: 20px\">\n",
    "\n",
    "- Значение метрики f1 достаточно большое\n",
    "   \n",
    "    \n",
    "- При этом, стоит помнить, что от уменьшения количества данных модель могла хуже обучиться\n",
    "    \n",
    "    \n",
    "- Среднее значение метрики AUC-ROC достаточно высокое   \n"
   ]
  },
  {
   "cell_type": "markdown",
   "metadata": {},
   "source": [
    "# 4. Тестирование модели"
   ]
  },
  {
   "cell_type": "markdown",
   "metadata": {},
   "source": [
    "<div style=\"border:solid black 1.5px; padding: 20px\">\n",
    "    \n",
    "- Перейдем к проверке моделей на тестовой выборке"
   ]
  },
  {
   "cell_type": "markdown",
   "metadata": {},
   "source": [
    "<div style=\"border:solid black 1.5px; padding: 20px\">\n",
    "    \n",
    "#### Модель: случайный лес "
   ]
  },
  {
   "cell_type": "code",
   "execution_count": 54,
   "metadata": {},
   "outputs": [
    {
     "name": "stdout",
     "output_type": "stream",
     "text": [
      "---- Мера f1 модели случайный лес на тестовой выборке: 0.5656565656565656 ----\n",
      "CPU times: user 1.97 s, sys: 3.99 ms, total: 1.98 s\n",
      "Wall time: 1.99 s\n"
     ]
    }
   ],
   "source": [
    "%%time\n",
    "\n",
    "random_forest_model = RandomForestClassifier(random_state=random_state, criterion='entropy', max_depth=61, max_features=None, min_samples_leaf=1, n_estimators=51)\n",
    "\n",
    "random_forest_model.fit(train_features, train_target)\n",
    "predicted = random_forest_model.predict(test_features)\n",
    "\n",
    "random_forest_result = f1_score(test_target, predicted)\n",
    "print(\"---- Мера f1 модели случайный лес на тестовой выборке:\", random_forest_result, '----')"
   ]
  },
  {
   "cell_type": "markdown",
   "metadata": {},
   "source": [
    "<div style=\"border:solid black 1.5px; padding: 20px\">\n",
    "    \n",
    "#### Модель: случайный лес с весами"
   ]
  },
  {
   "cell_type": "code",
   "execution_count": 55,
   "metadata": {},
   "outputs": [
    {
     "name": "stdout",
     "output_type": "stream",
     "text": [
      "---- Мера f1 модели случайный лес с весами на тестовой выборке: 0.6354285714285715 ----\n",
      "CPU times: user 2.18 s, sys: 8.01 ms, total: 2.18 s\n",
      "Wall time: 2.19 s\n"
     ]
    }
   ],
   "source": [
    "%%time\n",
    "\n",
    "random_forest_weights_model = RandomForestClassifier(random_state=random_state, criterion='gini', max_depth=71, max_features=None, min_samples_leaf=8, n_estimators=81, class_weight='balanced')\n",
    "\n",
    "random_forest_weights_model.fit(train_features, train_target)\n",
    "predicted = random_forest_weights_model.predict(test_features)\n",
    "\n",
    "random_forest_weights_result = f1_score(test_target, predicted)\n",
    "print(\"---- Мера f1 модели случайный лес с весами на тестовой выборке:\", random_forest_weights_result, '----')"
   ]
  },
  {
   "cell_type": "markdown",
   "metadata": {},
   "source": [
    "<div style=\"border:solid black 1.5px; padding: 20px\">\n",
    "    \n",
    "#### Модель: случайный лес по выборке после upsampling"
   ]
  },
  {
   "cell_type": "code",
   "execution_count": 56,
   "metadata": {},
   "outputs": [
    {
     "name": "stdout",
     "output_type": "stream",
     "text": [
      "---- Мера f1 модели случайный лес по выборке с Upsample на тестовой выборке: 0.605830164765526 ----\n",
      "CPU times: user 1.15 s, sys: 8 ms, total: 1.16 s\n",
      "Wall time: 1.17 s\n"
     ]
    }
   ],
   "source": [
    "%%time\n",
    "\n",
    "random_forest_upsample_model = RandomForestClassifier(random_state=random_state, criterion='entropy', max_depth=91, max_features='log2', min_samples_leaf=1, n_estimators=61)\n",
    "\n",
    "random_forest_upsample_model.fit(train_features_upsample, train_target_upsample)\n",
    "predicted = random_forest_upsample_model.predict(test_features)\n",
    "\n",
    "random_forest_upsample_result = f1_score(test_target, predicted)\n",
    "print(\"---- Мера f1 модели случайный лес по выборке с Upsample на тестовой выборке:\", random_forest_upsample_result, '----')"
   ]
  },
  {
   "cell_type": "markdown",
   "metadata": {},
   "source": [
    "<div style=\"border:solid black 1.5px; padding: 20px\">\n",
    "    \n",
    "#### Модель: случайный лес по выборке после downsampling"
   ]
  },
  {
   "cell_type": "code",
   "execution_count": 57,
   "metadata": {},
   "outputs": [
    {
     "name": "stdout",
     "output_type": "stream",
     "text": [
      "---- Мера f1 модели случайный лес по выборке с Downsample на тестовой выборке: 0.6060054595086443 ----\n",
      "CPU times: user 291 ms, sys: 3 µs, total: 291 ms\n",
      "Wall time: 305 ms\n"
     ]
    }
   ],
   "source": [
    "%%time\n",
    "\n",
    "random_forest_downsample_model = RandomForestClassifier(random_state=random_state, criterion='gini', max_depth=41, max_features='log2', min_samples_leaf=3, n_estimators=51)\n",
    "\n",
    "random_forest_downsample_model.fit(train_features_downsample, train_target_downsample)\n",
    "predicted = random_forest_downsample_model.predict(test_features)\n",
    "\n",
    "random_forest_downsample_result = f1_score(test_target, predicted)\n",
    "print(\"---- Мера f1 модели случайный лес по выборке с Downsample на тестовой выборке:\", random_forest_downsample_result, '----')"
   ]
  },
  {
   "cell_type": "markdown",
   "metadata": {},
   "source": [
    "<div style=\"border:solid black 1.5px; padding: 20px\">\n",
    "\n",
    "- Наивысшая мера f1 достигается моделью случайный лес с весами   \n",
    "    \n",
    "    \n",
    "- Дополнительно оценим насколько модели отличаются от случайной, для этого посчитаем метрику AUC-ROC и построим графики"
   ]
  },
  {
   "cell_type": "code",
   "execution_count": 58,
   "metadata": {},
   "outputs": [
    {
     "data": {
      "image/png": "[encoded data removed]",
      "text/plain": [
       "<Figure size 432x288 with 1 Axes>"
      ]
     },
     "metadata": {
      "needs_background": "light"
     },
     "output_type": "display_data"
    }
   ],
   "source": [
    "probs = random_forest_model.predict_proba(test_features)\n",
    "preds = probs[:,1]\n",
    "fpr, tpr, threshold = roc_curve(test_target, preds)\n",
    "roc_auc = auc(fpr, tpr)\n",
    "plt.plot(fpr, tpr, 'g', label = 'defualt AUC = %0.2f' % roc_auc)\n",
    "\n",
    "probs = random_forest_weights_model.predict_proba(test_features)\n",
    "preds = probs[:,1]\n",
    "fpr, tpr, threshold = roc_curve(test_target, preds)\n",
    "roc_auc_weights = auc(fpr, tpr)\n",
    "plt.plot(fpr, tpr, 'b', label = 'weights AUC = %0.2f' % roc_auc_weights)\n",
    "\n",
    "probs = random_forest_upsample_model.predict_proba(test_features)\n",
    "preds = probs[:,1]\n",
    "fpr, tpr, threshold = roc_curve(test_target, preds)\n",
    "roc_auc_upsampling = auc(fpr, tpr)\n",
    "plt.plot(fpr, tpr, 'black', label = 'upsample AUC = %0.2f' % roc_auc_upsampling)\n",
    "\n",
    "probs = random_forest_downsample_model.predict_proba(test_features)\n",
    "preds = probs[:,1]\n",
    "fpr, tpr, threshold = roc_curve(test_target, preds)\n",
    "roc_auc_downsampling = auc(fpr, tpr)\n",
    "plt.plot(fpr, tpr, 'orange', label = 'downsample AUC = %0.2f' % roc_auc_downsampling)\n",
    "\n",
    "# method I: plt\n",
    "plt.title('Receiver Operating Characteristic')\n",
    "plt.legend(loc = 'lower right')\n",
    "plt.plot([0, 1], [0, 1],'r--')\n",
    "plt.xlim([0, 1])\n",
    "plt.ylim([0, 1])\n",
    "plt.ylabel('True Positive Rate')\n",
    "plt.xlabel('False Positive Rate')\n",
    "plt.show()"
   ]
  },
  {
   "cell_type": "markdown",
   "metadata": {},
   "source": [
    "<div style=\"border:solid black 1.5px; padding: 20px\">\n",
    "\n",
    "- Мера AUC-ROC для всех моделей достаточно высокая и не сильно варьируется в зависимости от выбранной модели"
   ]
  },
  {
   "cell_type": "code",
   "execution_count": 60,
   "metadata": {
    "scrolled": true
   },
   "outputs": [
    {
     "data": {
      "text/html": [
       "<div>\n",
       "<style scoped>\n",
       "    .dataframe tbody tr th:only-of-type {\n",
       "        vertical-align: middle;\n",
       "    }\n",
       "\n",
       "    .dataframe tbody tr th {\n",
       "        vertical-align: top;\n",
       "    }\n",
       "\n",
       "    .dataframe thead th {\n",
       "        text-align: right;\n",
       "    }\n",
       "</style>\n",
       "<table border=\"1\" class=\"dataframe\">\n",
       "  <thead>\n",
       "    <tr style=\"text-align: right;\">\n",
       "      <th></th>\n",
       "      <th>Мера f1</th>\n",
       "      <th>Качество меры f1</th>\n",
       "      <th>Мера AUC-ROC</th>\n",
       "    </tr>\n",
       "    <tr>\n",
       "      <th>Модель</th>\n",
       "      <th></th>\n",
       "      <th></th>\n",
       "      <th></th>\n",
       "    </tr>\n",
       "  </thead>\n",
       "  <tbody>\n",
       "    <tr>\n",
       "      <td>Случайный лес с весами</td>\n",
       "      <td>0.635</td>\n",
       "      <td>высокое</td>\n",
       "      <td>0.864</td>\n",
       "    </tr>\n",
       "    <tr>\n",
       "      <td>Случайный лес по выборке после downsampling</td>\n",
       "      <td>0.606</td>\n",
       "      <td>среднее</td>\n",
       "      <td>0.864</td>\n",
       "    </tr>\n",
       "    <tr>\n",
       "      <td>Случайный лес по выборке после upsampling</td>\n",
       "      <td>0.606</td>\n",
       "      <td>среднее</td>\n",
       "      <td>0.850</td>\n",
       "    </tr>\n",
       "    <tr>\n",
       "      <td>Случайный лес</td>\n",
       "      <td>0.566</td>\n",
       "      <td>неудовлетворительное</td>\n",
       "      <td>0.854</td>\n",
       "    </tr>\n",
       "  </tbody>\n",
       "</table>\n",
       "</div>"
      ],
      "text/plain": [
       "                                             Мера f1      Качество меры f1  \\\n",
       "Модель                                                                       \n",
       "Случайный лес с весами                         0.635               высокое   \n",
       "Случайный лес по выборке после downsampling    0.606               среднее   \n",
       "Случайный лес по выборке после upsampling      0.606               среднее   \n",
       "Случайный лес                                  0.566  неудовлетворительное   \n",
       "\n",
       "                                             Мера AUC-ROC  \n",
       "Модель                                                     \n",
       "Случайный лес с весами                              0.864  \n",
       "Случайный лес по выборке после downsampling         0.864  \n",
       "Случайный лес по выборке после upsampling           0.850  \n",
       "Случайный лес                                       0.854  "
      ]
     },
     "metadata": {},
     "output_type": "display_data"
    }
   ],
   "source": [
    "d = {'Модель': ['Случайный лес', 'Случайный лес с весами', 'Случайный лес по выборке после upsampling', 'Случайный лес по выборке после downsampling'], \n",
    "     'Мера f1': [random_forest_result, random_forest_weights_result, random_forest_upsample_result, random_forest_downsample_result],\n",
    "     'Качество меры f1' : ['неудовлетворительное', 'высокое', 'среднее', 'среднее'],\n",
    "     'Мера AUC-ROC' : [roc_auc, roc_auc_weights, roc_auc_upsampling, roc_auc_downsampling]\n",
    "    }\n",
    "\n",
    "model_results = pd.DataFrame(data=d)\n",
    "\n",
    "display(model_results.set_index('Модель').sort_values(by='Мера f1', ascending=False).round(3))"
   ]
  },
  {
   "cell_type": "markdown",
   "metadata": {},
   "source": [
    "# 5. Общий вывод"
   ]
  },
  {
   "cell_type": "markdown",
   "metadata": {},
   "source": [
    "<div style=\"border:solid black 1.5px; padding: 20px\">\n",
    "\n",
    "    1. Часть исходных признаков не имеют отношения к вероятности ухода клиента из банка, поэтому в обучении модели не были использованы\n",
    "    \n",
    "    \n",
    "    2. В исходных данных наблюдается дисбаланс классов в соотношении 80% - класс \"0\", 20% - класс \"1\"\n",
    "    \n",
    "    \n",
    "    3. Блыи изучены модели \"случайный лес\" с учетом дисбаланса классов и без него\n",
    "    \n",
    "    \n",
    "    4. Для учета баланса классов были опробованы три подхода: веса, upsampling и downsampling\n",
    "    \n",
    "    \n",
    "    5. Модель случайный лес без учета дисбаланса показала неудовлетворительные результаты меры f1 = 0.566\n",
    "    \n",
    "    \n",
    "    6. Модель случайный лес с учетом дисбаланса с помощью весов показала наивысший результат меры f1 = 0.635\n",
    "    \n",
    "    \n",
    "    7. Мера AUC-ROC для всех моделей достаточно высокая и не сильно варьируется в зависимости от выбранной модели"
   ]
  }
 ],
 "metadata": {
  "kernelspec": {
   "display_name": "Python 3",
   "language": "python",
   "name": "python3"
  },
  "language_info": {
   "codemirror_mode": {
    "name": "ipython",
    "version": 3
   },
   "file_extension": ".py",
   "mimetype": "text/x-python",
   "name": "python",
   "nbconvert_exporter": "python",
   "pygments_lexer": "ipython3",
   "version": "3.8.5"
  },
  "toc": {
   "base_numbering": 1,
   "nav_menu": {},
   "number_sections": true,
   "sideBar": true,
   "skip_h1_title": true,
   "title_cell": "Table of Contents",
   "title_sidebar": "Contents",
   "toc_cell": false,
   "toc_position": {},
   "toc_section_display": true,
   "toc_window_display": false
  }
 },
 "nbformat": 4,
 "nbformat_minor": 2
}
