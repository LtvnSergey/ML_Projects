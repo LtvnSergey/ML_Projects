{
 "cells": [
  {
   "cell_type": "markdown",
   "metadata": {},
   "source": [
    "<h1><center>Проект Токсичные комментарии</center></h1>"
   ]
  },
  {
   "cell_type": "markdown",
   "metadata": {},
   "source": [
    "# Описание проекта"
   ]
  },
  {
   "cell_type": "markdown",
   "metadata": {},
   "source": [
    "Интернет-магазин «Викишоп» запускает новый сервис. Теперь пользователи могут редактировать и дополнять описания товаров, как в вики-сообществах. То есть клиенты предлагают свои правки и комментируют изменения других. Магазину нужен инструмент, который будет искать токсичные комментарии и отправлять их на модерацию.\n",
    "\n",
    "\n",
    "Обучите модель классифицировать комментарии на позитивные и негативные. В вашем распоряжении набор данных с разметкой о токсичности правок.\n",
    "\n",
    "\n",
    "Постройте модель со значением метрики качества F1 не меньше 0.75."
   ]
  },
  {
   "cell_type": "markdown",
   "metadata": {
    "toc": true
   },
   "source": [
    "<h1>Содержание<span class=\"tocSkip\"></span></h1>\n",
    "<div class=\"toc\"><ul class=\"toc-item\"><li><span><a href=\"#Описание-данных\" data-toc-modified-id=\"Описание-данных-1\"><span class=\"toc-item-num\">1&nbsp;&nbsp;</span>Описание данных</a></span></li><li><span><a href=\"#Импорт-модулей\" data-toc-modified-id=\"Импорт-модулей-2\"><span class=\"toc-item-num\">2&nbsp;&nbsp;</span>Импорт модулей</a></span></li><li><span><a href=\"#Константы\" data-toc-modified-id=\"Константы-3\"><span class=\"toc-item-num\">3&nbsp;&nbsp;</span>Константы</a></span></li><li><span><a href=\"#Функции\" data-toc-modified-id=\"Функции-4\"><span class=\"toc-item-num\">4&nbsp;&nbsp;</span>Функции</a></span></li><li><span><a href=\"#Загрузка-данных\" data-toc-modified-id=\"Загрузка-данных-5\"><span class=\"toc-item-num\">5&nbsp;&nbsp;</span>Загрузка данных</a></span></li><li><span><a href=\"#Подготовка-данных\" data-toc-modified-id=\"Подготовка-данных-6\"><span class=\"toc-item-num\">6&nbsp;&nbsp;</span>Подготовка данных</a></span></li><li><span><a href=\"#Обучение\" data-toc-modified-id=\"Обучение-7\"><span class=\"toc-item-num\">7&nbsp;&nbsp;</span>Обучение</a></span></li><li><span><a href=\"#Тестирование\" data-toc-modified-id=\"Тестирование-8\"><span class=\"toc-item-num\">8&nbsp;&nbsp;</span>Тестирование</a></span></li><li><span><a href=\"#Общий-вывод\" data-toc-modified-id=\"Общий-вывод-9\"><span class=\"toc-item-num\">9&nbsp;&nbsp;</span>Общий вывод</a></span></li></ul></div>"
   ]
  },
  {
   "cell_type": "markdown",
   "metadata": {},
   "source": [
    "## Описание данных"
   ]
  },
  {
   "cell_type": "markdown",
   "metadata": {},
   "source": [
    "Данные находятся в файле /datasets/toxic_comments.csv\n",
    "\n",
    "Столбец text в нём содержит текст комментария, а toxic — целевой признак."
   ]
  },
  {
   "cell_type": "markdown",
   "metadata": {},
   "source": [
    "## Импорт модулей"
   ]
  },
  {
   "cell_type": "code",
   "execution_count": 3,
   "metadata": {
    "ExecuteTime": {
     "end_time": "2022-06-05T14:03:22.937714Z",
     "start_time": "2022-06-05T14:03:20.901988Z"
    },
    "scrolled": false
   },
   "outputs": [
    {
     "ename": "ModuleNotFoundError",
     "evalue": "No module named 'textblob'",
     "output_type": "error",
     "traceback": [
      "\u001b[0;31m---------------------------------------------------------------------------\u001b[0m",
      "\u001b[0;31mModuleNotFoundError\u001b[0m                       Traceback (most recent call last)",
      "Input \u001b[0;32mIn [3]\u001b[0m, in \u001b[0;36m<cell line: 10>\u001b[0;34m()\u001b[0m\n\u001b[1;32m      6\u001b[0m \u001b[38;5;28;01mimport\u001b[39;00m \u001b[38;5;21;01mtime\u001b[39;00m\n\u001b[1;32m      8\u001b[0m \u001b[38;5;28;01mimport\u001b[39;00m \u001b[38;5;21;01mre\u001b[39;00m \n\u001b[0;32m---> 10\u001b[0m \u001b[38;5;28;01mfrom\u001b[39;00m \u001b[38;5;21;01mtextblob\u001b[39;00m \u001b[38;5;28;01mimport\u001b[39;00m TextBlob, Word\n\u001b[1;32m     11\u001b[0m \u001b[38;5;28;01mfrom\u001b[39;00m \u001b[38;5;21;01mpymystem3\u001b[39;00m \u001b[38;5;28;01mimport\u001b[39;00m Mystem\n\u001b[1;32m     13\u001b[0m \u001b[38;5;28;01mimport\u001b[39;00m \u001b[38;5;21;01mnltk\u001b[39;00m\n",
      "\u001b[0;31mModuleNotFoundError\u001b[0m: No module named 'textblob'"
     ]
    }
   ],
   "source": [
    "import pandas as pd\n",
    "import matplotlib.pyplot as plt\n",
    "import seaborn as sns\n",
    "import numpy as np\n",
    "import warnings\n",
    "import time\n",
    "\n",
    "import re \n",
    "\n",
    "from textblob import TextBlob, Word\n",
    "from pymystem3 import Mystem\n",
    "\n",
    "import nltk\n",
    "from nltk.stem import WordNetLemmatizer \n",
    "from nltk.corpus import stopwords, wordnet \n",
    "\n",
    "from sklearn.model_selection import train_test_split\n",
    "from sklearn.feature_extraction.text import TfidfTransformer\n",
    "from sklearn.feature_extraction.text import CountVectorizer\n",
    "\n",
    "from sklearn.linear_model import LogisticRegression\n",
    "from sklearn.linear_model import LogisticRegressionCV\n",
    "from sklearn.svm import LinearSVC\n",
    "\n",
    "from sklearn.metrics import make_scorer\n",
    "from sklearn.metrics import f1_score\n",
    "from sklearn.model_selection import GridSearchCV\n",
    "\n",
    "\n",
    "nltk.download('wordnet')\n",
    "nltk.download('stopwords')"
   ]
  },
  {
   "cell_type": "markdown",
   "metadata": {},
   "source": [
    "## Константы"
   ]
  },
  {
   "cell_type": "code",
   "execution_count": 2,
   "metadata": {},
   "outputs": [],
   "source": [
    "RANDOM_STATE = 12345"
   ]
  },
  {
   "cell_type": "markdown",
   "metadata": {},
   "source": [
    "## Функции"
   ]
  },
  {
   "cell_type": "code",
   "execution_count": 3,
   "metadata": {},
   "outputs": [],
   "source": [
    "# Общая информация о датасете -----------------------------------------\n",
    "\n",
    "def info_head(df, rows=5):\n",
    "    \n",
    "    df.info()\n",
    "    \n",
    "    display(df.head(rows))\n",
    "\n",
    "    \n",
    "# Определение части речи -----------------------------------------\n",
    "\n",
    "def get_wordnet_pos(word):\n",
    "    \n",
    "    tag = nltk.pos_tag([word])[0][1][0].upper()\n",
    "    \n",
    "    tag_dict = {\"J\": wordnet.ADJ,\n",
    "                \"N\": wordnet.NOUN,\n",
    "                \"V\": wordnet.VERB,\n",
    "                \"R\": wordnet.ADV}\n",
    "    \n",
    "    return tag_dict.get(tag, wordnet.NOUN)\n",
    "\n",
    "\n",
    "# Лемматизация с определенными частями речи -----------------------------------------\n",
    "\n",
    "def lemma_pos(row):\n",
    "    \n",
    "    nltk_lemmatizer = WordNetLemmatizer()\n",
    "    \n",
    "    word_list = nltk.word_tokenize(row)\n",
    "    \n",
    "    row = ' '.join([nltk_lemmatizer.lemmatize(w, get_wordnet_pos(w)) for w in word_list])\n",
    "       \n",
    "    return row\n",
    "  \n",
    "    \n",
    "# Удаление лишних символов -----------------------------------------   \n",
    "    \n",
    "def regular_expressions(row):\n",
    "\n",
    "    row = ' '.join(re.sub(r'[^a-zA-Z]', ' ', row).split())\n",
    "    \n",
    "    return row\n",
    "\n",
    "\n",
    "# Лемматизация с удалением лишних символов ----------------------------------\n",
    "\n",
    "def lemma_pos_re(row):\n",
    "    \n",
    "    lemma = nltk_lemma_pos(row)\n",
    "    \n",
    "    return regular_expressions(lemma)\n",
    "\n",
    "\n",
    "# Удаление стоп-слов ----------------------------------\n",
    "\n",
    "def remove_stop_words(row):\n",
    "    \n",
    "    stop_words = set(stopwords.words('english')) \n",
    "    \n",
    "    word_list = nltk.word_tokenize(row)\n",
    "    \n",
    "    row =  \" \". join([word for word in word_list if not word in stop_words])  \n",
    "    \n",
    "    return row\n",
    "\n",
    "\n",
    "# Лингвистическая обработка одного текста ----------------------------------\n",
    "\n",
    "def processing_row(row):\n",
    "    \n",
    "    nltk_lemmatizer = WordNetLemmatizer()\n",
    "    stop_words = set(stopwords.words('english')) \n",
    "    \n",
    "    word_list_edit = []\n",
    "    word_list = nltk.word_tokenize(row)\n",
    "\n",
    "    for word in word_list:\n",
    "\n",
    "        word = nltk_lemmatizer.lemmatize(word, get_wordnet_pos(word))\n",
    "        word = re.sub(r'[^a-zA-Z]', ' ', word)\n",
    "        word = word.lower()\n",
    "\n",
    "        if not word in stop_words:\n",
    "            word_list_edit.append(word)\n",
    "\n",
    "    row = \" \".join([word for word in word_list_edit])\n",
    "    \n",
    "    row = \" \".join(row.split())\n",
    "\n",
    "    return row\n",
    "\n",
    "\n",
    "# Полная обработка датасета перед обучением ----------------------------------\n",
    "\n",
    "def processing(df):\n",
    "    \n",
    "    df = df.drop_duplicates()\n",
    "    \n",
    "    df['text'] = df['text'].apply(processing_row)\n",
    "            \n",
    "    df = df.dropna()    \n",
    "    \n",
    "    return df['text'], df['toxic']"
   ]
  },
  {
   "cell_type": "markdown",
   "metadata": {},
   "source": [
    "## Загрузка данных"
   ]
  },
  {
   "cell_type": "code",
   "execution_count": 2,
   "metadata": {
    "ExecuteTime": {
     "end_time": "2022-06-05T14:03:14.584765Z",
     "start_time": "2022-06-05T14:03:13.971497Z"
    }
   },
   "outputs": [
    {
     "ename": "NameError",
     "evalue": "name 'pd' is not defined",
     "output_type": "error",
     "traceback": [
      "\u001b[0;31m---------------------------------------------------------------------------\u001b[0m",
      "\u001b[0;31mNameError\u001b[0m                                 Traceback (most recent call last)",
      "Input \u001b[0;32mIn [2]\u001b[0m, in \u001b[0;36m<cell line: 1>\u001b[0;34m()\u001b[0m\n\u001b[0;32m----> 1\u001b[0m comments \u001b[38;5;241m=\u001b[39m \u001b[43mpd\u001b[49m\u001b[38;5;241m.\u001b[39mread_csv(\u001b[38;5;124m'\u001b[39m\u001b[38;5;124mdatasets/toxic_comments.csv\u001b[39m\u001b[38;5;124m'\u001b[39m)\n",
      "\u001b[0;31mNameError\u001b[0m: name 'pd' is not defined"
     ]
    }
   ],
   "source": [
    "comments = pd.read_csv('datasets/toxic_comments.csv')"
   ]
  },
  {
   "cell_type": "code",
   "execution_count": 5,
   "metadata": {},
   "outputs": [
    {
     "name": "stdout",
     "output_type": "stream",
     "text": [
      "<class 'pandas.core.frame.DataFrame'>\n",
      "RangeIndex: 159571 entries, 0 to 159570\n",
      "Data columns (total 2 columns):\n",
      " #   Column  Non-Null Count   Dtype \n",
      "---  ------  --------------   ----- \n",
      " 0   text    159571 non-null  object\n",
      " 1   toxic   159571 non-null  int64 \n",
      "dtypes: int64(1), object(1)\n",
      "memory usage: 2.4+ MB\n"
     ]
    },
    {
     "data": {
      "text/html": [
       "<div>\n",
       "<style scoped>\n",
       "    .dataframe tbody tr th:only-of-type {\n",
       "        vertical-align: middle;\n",
       "    }\n",
       "\n",
       "    .dataframe tbody tr th {\n",
       "        vertical-align: top;\n",
       "    }\n",
       "\n",
       "    .dataframe thead th {\n",
       "        text-align: right;\n",
       "    }\n",
       "</style>\n",
       "<table border=\"1\" class=\"dataframe\">\n",
       "  <thead>\n",
       "    <tr style=\"text-align: right;\">\n",
       "      <th></th>\n",
       "      <th>text</th>\n",
       "      <th>toxic</th>\n",
       "    </tr>\n",
       "  </thead>\n",
       "  <tbody>\n",
       "    <tr>\n",
       "      <th>0</th>\n",
       "      <td>Explanation\\nWhy the edits made under my usern...</td>\n",
       "      <td>0</td>\n",
       "    </tr>\n",
       "    <tr>\n",
       "      <th>1</th>\n",
       "      <td>D'aww! He matches this background colour I'm s...</td>\n",
       "      <td>0</td>\n",
       "    </tr>\n",
       "    <tr>\n",
       "      <th>2</th>\n",
       "      <td>Hey man, I'm really not trying to edit war. It...</td>\n",
       "      <td>0</td>\n",
       "    </tr>\n",
       "    <tr>\n",
       "      <th>3</th>\n",
       "      <td>\"\\nMore\\nI can't make any real suggestions on ...</td>\n",
       "      <td>0</td>\n",
       "    </tr>\n",
       "    <tr>\n",
       "      <th>4</th>\n",
       "      <td>You, sir, are my hero. Any chance you remember...</td>\n",
       "      <td>0</td>\n",
       "    </tr>\n",
       "  </tbody>\n",
       "</table>\n",
       "</div>"
      ],
      "text/plain": [
       "                                                text  toxic\n",
       "0  Explanation\\nWhy the edits made under my usern...      0\n",
       "1  D'aww! He matches this background colour I'm s...      0\n",
       "2  Hey man, I'm really not trying to edit war. It...      0\n",
       "3  \"\\nMore\\nI can't make any real suggestions on ...      0\n",
       "4  You, sir, are my hero. Any chance you remember...      0"
      ]
     },
     "metadata": {},
     "output_type": "display_data"
    }
   ],
   "source": [
    "info_head(comments)"
   ]
  },
  {
   "cell_type": "markdown",
   "metadata": {},
   "source": [
    "- Исходный датасет представляет из себя набор комментариев (скорее всего только на английском языке) и соответсвующие им категории - \"токсичные - 1\" и не \"токсичные - 0\" \n",
    "\n",
    "\n",
    "- Пропусков не обнаружено"
   ]
  },
  {
   "cell_type": "code",
   "execution_count": 6,
   "metadata": {},
   "outputs": [
    {
     "data": {
      "image/png": "[encoded data removed]",
      "text/plain": [
       "<Figure size 360x216 with 1 Axes>"
      ]
     },
     "metadata": {
      "needs_background": "light"
     },
     "output_type": "display_data"
    },
    {
     "name": "stdout",
     "output_type": "stream",
     "text": [
      "Количество нетоксичных комментариев составляет 89.8%\n",
      "\n",
      "Количество токсичных комментариев составляет 10.2%\n"
     ]
    }
   ],
   "source": [
    "fig, ax = plt.subplots(figsize=(5,3))\n",
    "\n",
    "fig.suptitle('Количество токсичных и не токсичных комментариев', fontsize=14)\n",
    "\n",
    "ax.set(xlabel='Количество', ylabel='Токсичнось')\n",
    "\n",
    "sns.countplot(x=comments['toxic'], ax=ax, palette=\"Set1\")\n",
    "\n",
    "plt.plot()\n",
    "plt.show()\n",
    "\n",
    "count_comments = comments.pivot_table(columns='toxic', aggfunc='count')\n",
    "\n",
    "count_total = count_comments.values[0][0] + count_comments.values[0][1]\n",
    "\n",
    "count_toxic = count_comments.values[0][1]/count_total\n",
    "\n",
    "count_non_toxic = count_comments.values[0][0] / count_total\n",
    "\n",
    "\n",
    "print('Количество нетоксичных комментариев составляет {:1.1%}\\n'.format(count_non_toxic))\n",
    "print('Количество токсичных комментариев составляет {:1.1%}'.format(count_toxic))"
   ]
  },
  {
   "cell_type": "markdown",
   "metadata": {},
   "source": [
    "- В датасете преобладают нетоксичные комментарии (~90%), это стоит учесть при обучении модели"
   ]
  },
  {
   "cell_type": "markdown",
   "metadata": {},
   "source": [
    "## Подготовка данных"
   ]
  },
  {
   "cell_type": "markdown",
   "metadata": {},
   "source": [
    "- Разделим данные на выборки для тестирования (25%) и обучения (75%)"
   ]
  },
  {
   "cell_type": "code",
   "execution_count": 7,
   "metadata": {},
   "outputs": [],
   "source": [
    "train, test = train_test_split(comments, test_size=0.25, random_state=RANDOM_STATE)"
   ]
  },
  {
   "cell_type": "code",
   "execution_count": 8,
   "metadata": {},
   "outputs": [
    {
     "name": "stdout",
     "output_type": "stream",
     "text": [
      "Размер обучающей выборки: 119678\n",
      "Размер тестовой выборки: 39893\n"
     ]
    }
   ],
   "source": [
    "print('Размер обучающей выборки:', train.shape[0])\n",
    "print('Размер тестовой выборки:', test.shape[0])"
   ]
  },
  {
   "cell_type": "markdown",
   "metadata": {},
   "source": [
    "- Далее будем работать с выборкой для обучения"
   ]
  },
  {
   "cell_type": "markdown",
   "metadata": {},
   "source": [
    "- Проверим наличие дубликатов"
   ]
  },
  {
   "cell_type": "code",
   "execution_count": 9,
   "metadata": {
    "scrolled": true
   },
   "outputs": [
    {
     "name": "stdout",
     "output_type": "stream",
     "text": [
      "Количество дубликатов равно 0\n"
     ]
    }
   ],
   "source": [
    "count_duplicates = train.shape[0] - train.drop_duplicates().shape[0]\n",
    "\n",
    "print('Количество дубликатов равно', count_duplicates)"
   ]
  },
  {
   "cell_type": "markdown",
   "metadata": {},
   "source": [
    "- Дубликатов не обнаружено"
   ]
  },
  {
   "cell_type": "markdown",
   "metadata": {},
   "source": [
    "- Проведем лемматизацию текста"
   ]
  },
  {
   "cell_type": "code",
   "execution_count": 10,
   "metadata": {},
   "outputs": [],
   "source": [
    "pd.options.mode.chained_assignment = None  # default='warn'\n",
    "\n",
    "start = time.time()\n",
    "\n",
    "train['text_lemma']=train['text'].apply(lemma_pos)\n",
    "\n",
    "end = time.time()\n",
    "\n",
    "time_lemma_pos = end - start\n",
    "\n",
    "print('Время лемматизации составляет {:.2f} сек'.format(time_lemma_pos))\n",
    "\n",
    "display(train.head(5))"
   ]
  },
  {
   "cell_type": "markdown",
   "metadata": {},
   "source": [
    "- Удалим лишние символы"
   ]
  },
  {
   "cell_type": "code",
   "execution_count": 12,
   "metadata": {},
   "outputs": [
    {
     "name": "stdout",
     "output_type": "stream",
     "text": [
      "Время удаления лишних символов составляет 3.05 сек\n"
     ]
    },
    {
     "data": {
      "text/html": [
       "<div>\n",
       "<style scoped>\n",
       "    .dataframe tbody tr th:only-of-type {\n",
       "        vertical-align: middle;\n",
       "    }\n",
       "\n",
       "    .dataframe tbody tr th {\n",
       "        vertical-align: top;\n",
       "    }\n",
       "\n",
       "    .dataframe thead th {\n",
       "        text-align: right;\n",
       "    }\n",
       "</style>\n",
       "<table border=\"1\" class=\"dataframe\">\n",
       "  <thead>\n",
       "    <tr style=\"text-align: right;\">\n",
       "      <th></th>\n",
       "      <th>Unnamed: 0</th>\n",
       "      <th>text</th>\n",
       "      <th>toxic</th>\n",
       "      <th>text_lemma</th>\n",
       "      <th>text_lemma_re</th>\n",
       "    </tr>\n",
       "  </thead>\n",
       "  <tbody>\n",
       "    <tr>\n",
       "      <th>0</th>\n",
       "      <td>111565</td>\n",
       "      <td>\"\\n\\nAth Cliath section\\nWe have a bit of a pr...</td>\n",
       "      <td>0</td>\n",
       "      <td>`` Ath Cliath section We have a bit of a probl...</td>\n",
       "      <td>Ath Cliath section We have a bit of a problem ...</td>\n",
       "    </tr>\n",
       "    <tr>\n",
       "      <th>1</th>\n",
       "      <td>8575</td>\n",
       "      <td>\"\\nSure thing.  By the way, I have a new userb...</td>\n",
       "      <td>0</td>\n",
       "      <td>`` Sure thing . By the way , I have a new user...</td>\n",
       "      <td>Sure thing By the way I have a new userbox tha...</td>\n",
       "    </tr>\n",
       "    <tr>\n",
       "      <th>2</th>\n",
       "      <td>153402</td>\n",
       "      <td>\":::We are in the same boat as Britannica (whi...</td>\n",
       "      <td>0</td>\n",
       "      <td>`` : : : We be in the same boat a Britannica (...</td>\n",
       "      <td>We be in the same boat a Britannica which be a...</td>\n",
       "    </tr>\n",
       "    <tr>\n",
       "      <th>3</th>\n",
       "      <td>65019</td>\n",
       "      <td>\"I had a look through the section on theology ...</td>\n",
       "      <td>0</td>\n",
       "      <td>`` I have a look through the section on theolo...</td>\n",
       "      <td>I have a look through the section on theology ...</td>\n",
       "    </tr>\n",
       "    <tr>\n",
       "      <th>4</th>\n",
       "      <td>155787</td>\n",
       "      <td>\"\\n\\n Warren Commission Exhibit 746-E  the \"\"C...</td>\n",
       "      <td>0</td>\n",
       "      <td>`` Warren Commission Exhibit 746-E the `` '' C...</td>\n",
       "      <td>Warren Commission Exhibit E the Chin It be tim...</td>\n",
       "    </tr>\n",
       "  </tbody>\n",
       "</table>\n",
       "</div>"
      ],
      "text/plain": [
       "   Unnamed: 0                                               text  toxic  \\\n",
       "0      111565  \"\\n\\nAth Cliath section\\nWe have a bit of a pr...      0   \n",
       "1        8575  \"\\nSure thing.  By the way, I have a new userb...      0   \n",
       "2      153402  \":::We are in the same boat as Britannica (whi...      0   \n",
       "3       65019  \"I had a look through the section on theology ...      0   \n",
       "4      155787  \"\\n\\n Warren Commission Exhibit 746-E  the \"\"C...      0   \n",
       "\n",
       "                                          text_lemma  \\\n",
       "0  `` Ath Cliath section We have a bit of a probl...   \n",
       "1  `` Sure thing . By the way , I have a new user...   \n",
       "2  `` : : : We be in the same boat a Britannica (...   \n",
       "3  `` I have a look through the section on theolo...   \n",
       "4  `` Warren Commission Exhibit 746-E the `` '' C...   \n",
       "\n",
       "                                       text_lemma_re  \n",
       "0  Ath Cliath section We have a bit of a problem ...  \n",
       "1  Sure thing By the way I have a new userbox tha...  \n",
       "2  We be in the same boat a Britannica which be a...  \n",
       "3  I have a look through the section on theology ...  \n",
       "4  Warren Commission Exhibit E the Chin It be tim...  "
      ]
     },
     "metadata": {},
     "output_type": "display_data"
    }
   ],
   "source": [
    "pd.options.mode.chained_assignment = None  # default='warn'\n",
    "\n",
    "start = time.time()\n",
    "\n",
    "train['text_lemma_re']=train['text_lemma'].apply(regular_expressions)\n",
    "\n",
    "end = time.time()\n",
    "\n",
    "time_re = end - start\n",
    "\n",
    "print('Время удаления лишних символов составляет {:.2f} сек'.format(time_re))\n",
    "\n",
    "display(train.head(5))"
   ]
  },
  {
   "cell_type": "markdown",
   "metadata": {},
   "source": [
    "- Для стандартизации проведем все буквы к строчному виду"
   ]
  },
  {
   "cell_type": "code",
   "execution_count": 13,
   "metadata": {},
   "outputs": [
    {
     "name": "stdout",
     "output_type": "stream",
     "text": [
      "Время приведения к строчному виду составляет 0.11 сек\n"
     ]
    },
    {
     "data": {
      "text/html": [
       "<div>\n",
       "<style scoped>\n",
       "    .dataframe tbody tr th:only-of-type {\n",
       "        vertical-align: middle;\n",
       "    }\n",
       "\n",
       "    .dataframe tbody tr th {\n",
       "        vertical-align: top;\n",
       "    }\n",
       "\n",
       "    .dataframe thead th {\n",
       "        text-align: right;\n",
       "    }\n",
       "</style>\n",
       "<table border=\"1\" class=\"dataframe\">\n",
       "  <thead>\n",
       "    <tr style=\"text-align: right;\">\n",
       "      <th></th>\n",
       "      <th>Unnamed: 0</th>\n",
       "      <th>text</th>\n",
       "      <th>toxic</th>\n",
       "      <th>text_lemma</th>\n",
       "      <th>text_lemma_re</th>\n",
       "    </tr>\n",
       "  </thead>\n",
       "  <tbody>\n",
       "    <tr>\n",
       "      <th>0</th>\n",
       "      <td>111565</td>\n",
       "      <td>\"\\n\\nAth Cliath section\\nWe have a bit of a pr...</td>\n",
       "      <td>0</td>\n",
       "      <td>`` Ath Cliath section We have a bit of a probl...</td>\n",
       "      <td>ath cliath section we have a bit of a problem ...</td>\n",
       "    </tr>\n",
       "    <tr>\n",
       "      <th>1</th>\n",
       "      <td>8575</td>\n",
       "      <td>\"\\nSure thing.  By the way, I have a new userb...</td>\n",
       "      <td>0</td>\n",
       "      <td>`` Sure thing . By the way , I have a new user...</td>\n",
       "      <td>sure thing by the way i have a new userbox tha...</td>\n",
       "    </tr>\n",
       "    <tr>\n",
       "      <th>2</th>\n",
       "      <td>153402</td>\n",
       "      <td>\":::We are in the same boat as Britannica (whi...</td>\n",
       "      <td>0</td>\n",
       "      <td>`` : : : We be in the same boat a Britannica (...</td>\n",
       "      <td>we be in the same boat a britannica which be a...</td>\n",
       "    </tr>\n",
       "    <tr>\n",
       "      <th>3</th>\n",
       "      <td>65019</td>\n",
       "      <td>\"I had a look through the section on theology ...</td>\n",
       "      <td>0</td>\n",
       "      <td>`` I have a look through the section on theolo...</td>\n",
       "      <td>i have a look through the section on theology ...</td>\n",
       "    </tr>\n",
       "    <tr>\n",
       "      <th>4</th>\n",
       "      <td>155787</td>\n",
       "      <td>\"\\n\\n Warren Commission Exhibit 746-E  the \"\"C...</td>\n",
       "      <td>0</td>\n",
       "      <td>`` Warren Commission Exhibit 746-E the `` '' C...</td>\n",
       "      <td>warren commission exhibit e the chin it be tim...</td>\n",
       "    </tr>\n",
       "  </tbody>\n",
       "</table>\n",
       "</div>"
      ],
      "text/plain": [
       "   Unnamed: 0                                               text  toxic  \\\n",
       "0      111565  \"\\n\\nAth Cliath section\\nWe have a bit of a pr...      0   \n",
       "1        8575  \"\\nSure thing.  By the way, I have a new userb...      0   \n",
       "2      153402  \":::We are in the same boat as Britannica (whi...      0   \n",
       "3       65019  \"I had a look through the section on theology ...      0   \n",
       "4      155787  \"\\n\\n Warren Commission Exhibit 746-E  the \"\"C...      0   \n",
       "\n",
       "                                          text_lemma  \\\n",
       "0  `` Ath Cliath section We have a bit of a probl...   \n",
       "1  `` Sure thing . By the way , I have a new user...   \n",
       "2  `` : : : We be in the same boat a Britannica (...   \n",
       "3  `` I have a look through the section on theolo...   \n",
       "4  `` Warren Commission Exhibit 746-E the `` '' C...   \n",
       "\n",
       "                                       text_lemma_re  \n",
       "0  ath cliath section we have a bit of a problem ...  \n",
       "1  sure thing by the way i have a new userbox tha...  \n",
       "2  we be in the same boat a britannica which be a...  \n",
       "3  i have a look through the section on theology ...  \n",
       "4  warren commission exhibit e the chin it be tim...  "
      ]
     },
     "metadata": {},
     "output_type": "display_data"
    }
   ],
   "source": [
    "start = time.time()\n",
    "\n",
    "train['text_lemma_re'] = train['text_lemma_re'].str.lower()\n",
    "\n",
    "end = time.time()\n",
    "\n",
    "time_lowercase = end - start\n",
    "\n",
    "print('Время приведения к строчному виду составляет {:.2f} сек'.format(time_lowercase))\n",
    "\n",
    "display(train.head(5))"
   ]
  },
  {
   "cell_type": "markdown",
   "metadata": {},
   "source": [
    "- Удалим стоп слова"
   ]
  },
  {
   "cell_type": "code",
   "execution_count": 14,
   "metadata": {},
   "outputs": [
    {
     "name": "stdout",
     "output_type": "stream",
     "text": [
      "Время удаления стоп-слов составляет 50.36 сек\n"
     ]
    },
    {
     "data": {
      "text/html": [
       "<div>\n",
       "<style scoped>\n",
       "    .dataframe tbody tr th:only-of-type {\n",
       "        vertical-align: middle;\n",
       "    }\n",
       "\n",
       "    .dataframe tbody tr th {\n",
       "        vertical-align: top;\n",
       "    }\n",
       "\n",
       "    .dataframe thead th {\n",
       "        text-align: right;\n",
       "    }\n",
       "</style>\n",
       "<table border=\"1\" class=\"dataframe\">\n",
       "  <thead>\n",
       "    <tr style=\"text-align: right;\">\n",
       "      <th></th>\n",
       "      <th>Unnamed: 0</th>\n",
       "      <th>text</th>\n",
       "      <th>toxic</th>\n",
       "      <th>text_lemma</th>\n",
       "      <th>text_lemma_re</th>\n",
       "      <th>text_lemma_re_stopwords</th>\n",
       "    </tr>\n",
       "  </thead>\n",
       "  <tbody>\n",
       "    <tr>\n",
       "      <th>0</th>\n",
       "      <td>111565</td>\n",
       "      <td>\"\\n\\nAth Cliath section\\nWe have a bit of a pr...</td>\n",
       "      <td>0</td>\n",
       "      <td>`` Ath Cliath section We have a bit of a probl...</td>\n",
       "      <td>ath cliath section we have a bit of a problem ...</td>\n",
       "      <td>ath cliath section bit problem irish name bail...</td>\n",
       "    </tr>\n",
       "    <tr>\n",
       "      <th>1</th>\n",
       "      <td>8575</td>\n",
       "      <td>\"\\nSure thing.  By the way, I have a new userb...</td>\n",
       "      <td>0</td>\n",
       "      <td>`` Sure thing . By the way , I have a new user...</td>\n",
       "      <td>sure thing by the way i have a new userbox tha...</td>\n",
       "      <td>sure thing way new userbox say user support sa...</td>\n",
       "    </tr>\n",
       "    <tr>\n",
       "      <th>2</th>\n",
       "      <td>153402</td>\n",
       "      <td>\":::We are in the same boat as Britannica (whi...</td>\n",
       "      <td>0</td>\n",
       "      <td>`` : : : We be in the same boat a Britannica (...</td>\n",
       "      <td>we be in the same boat a britannica which be a...</td>\n",
       "      <td>boat britannica actually publish states britan...</td>\n",
       "    </tr>\n",
       "    <tr>\n",
       "      <th>3</th>\n",
       "      <td>65019</td>\n",
       "      <td>\"I had a look through the section on theology ...</td>\n",
       "      <td>0</td>\n",
       "      <td>`` I have a look through the section on theolo...</td>\n",
       "      <td>i have a look through the section on theology ...</td>\n",
       "      <td>look section theology come across original sin...</td>\n",
       "    </tr>\n",
       "    <tr>\n",
       "      <th>4</th>\n",
       "      <td>155787</td>\n",
       "      <td>\"\\n\\n Warren Commission Exhibit 746-E  the \"\"C...</td>\n",
       "      <td>0</td>\n",
       "      <td>`` Warren Commission Exhibit 746-E the `` '' C...</td>\n",
       "      <td>warren commission exhibit e the chin it be tim...</td>\n",
       "      <td>warren commission exhibit e chin time confront...</td>\n",
       "    </tr>\n",
       "  </tbody>\n",
       "</table>\n",
       "</div>"
      ],
      "text/plain": [
       "   Unnamed: 0                                               text  toxic  \\\n",
       "0      111565  \"\\n\\nAth Cliath section\\nWe have a bit of a pr...      0   \n",
       "1        8575  \"\\nSure thing.  By the way, I have a new userb...      0   \n",
       "2      153402  \":::We are in the same boat as Britannica (whi...      0   \n",
       "3       65019  \"I had a look through the section on theology ...      0   \n",
       "4      155787  \"\\n\\n Warren Commission Exhibit 746-E  the \"\"C...      0   \n",
       "\n",
       "                                          text_lemma  \\\n",
       "0  `` Ath Cliath section We have a bit of a probl...   \n",
       "1  `` Sure thing . By the way , I have a new user...   \n",
       "2  `` : : : We be in the same boat a Britannica (...   \n",
       "3  `` I have a look through the section on theolo...   \n",
       "4  `` Warren Commission Exhibit 746-E the `` '' C...   \n",
       "\n",
       "                                       text_lemma_re  \\\n",
       "0  ath cliath section we have a bit of a problem ...   \n",
       "1  sure thing by the way i have a new userbox tha...   \n",
       "2  we be in the same boat a britannica which be a...   \n",
       "3  i have a look through the section on theology ...   \n",
       "4  warren commission exhibit e the chin it be tim...   \n",
       "\n",
       "                             text_lemma_re_stopwords  \n",
       "0  ath cliath section bit problem irish name bail...  \n",
       "1  sure thing way new userbox say user support sa...  \n",
       "2  boat britannica actually publish states britan...  \n",
       "3  look section theology come across original sin...  \n",
       "4  warren commission exhibit e chin time confront...  "
      ]
     },
     "metadata": {},
     "output_type": "display_data"
    }
   ],
   "source": [
    "start = time.time()\n",
    "\n",
    "train['text_lemma_re_stopwords'] = train['text_lemma_re'].dropna().apply(remove_stop_words)\n",
    "\n",
    "end = time.time()\n",
    "\n",
    "time_stopwords = end - start\n",
    "\n",
    "print('Время удаления стоп-слов составляет {:.2f} сек'.format(time_stopwords))\n",
    "\n",
    "display(train.head(5))"
   ]
  },
  {
   "cell_type": "markdown",
   "metadata": {},
   "source": [
    "- Удалим образовавшиеся пустые строки"
   ]
  },
  {
   "cell_type": "code",
   "execution_count": 15,
   "metadata": {},
   "outputs": [],
   "source": [
    "train.dropna(inplace=True)"
   ]
  },
  {
   "cell_type": "markdown",
   "metadata": {},
   "source": [
    "- Обработка обучающего датасета завершена"
   ]
  },
  {
   "cell_type": "code",
   "execution_count": 16,
   "metadata": {},
   "outputs": [
    {
     "name": "stdout",
     "output_type": "stream",
     "text": [
      "<class 'pandas.core.frame.DataFrame'>\n",
      "Int64Index: 119678 entries, 0 to 119677\n",
      "Data columns (total 6 columns):\n",
      " #   Column                   Non-Null Count   Dtype \n",
      "---  ------                   --------------   ----- \n",
      " 0   Unnamed: 0               119678 non-null  int64 \n",
      " 1   text                     119678 non-null  object\n",
      " 2   toxic                    119678 non-null  int64 \n",
      " 3   text_lemma               119678 non-null  object\n",
      " 4   text_lemma_re            119678 non-null  object\n",
      " 5   text_lemma_re_stopwords  119678 non-null  object\n",
      "dtypes: int64(2), object(4)\n",
      "memory usage: 6.4+ MB\n"
     ]
    },
    {
     "data": {
      "text/html": [
       "<div>\n",
       "<style scoped>\n",
       "    .dataframe tbody tr th:only-of-type {\n",
       "        vertical-align: middle;\n",
       "    }\n",
       "\n",
       "    .dataframe tbody tr th {\n",
       "        vertical-align: top;\n",
       "    }\n",
       "\n",
       "    .dataframe thead th {\n",
       "        text-align: right;\n",
       "    }\n",
       "</style>\n",
       "<table border=\"1\" class=\"dataframe\">\n",
       "  <thead>\n",
       "    <tr style=\"text-align: right;\">\n",
       "      <th></th>\n",
       "      <th>Unnamed: 0</th>\n",
       "      <th>text</th>\n",
       "      <th>toxic</th>\n",
       "      <th>text_lemma</th>\n",
       "      <th>text_lemma_re</th>\n",
       "      <th>text_lemma_re_stopwords</th>\n",
       "    </tr>\n",
       "  </thead>\n",
       "  <tbody>\n",
       "    <tr>\n",
       "      <th>0</th>\n",
       "      <td>111565</td>\n",
       "      <td>\"\\n\\nAth Cliath section\\nWe have a bit of a pr...</td>\n",
       "      <td>0</td>\n",
       "      <td>`` Ath Cliath section We have a bit of a probl...</td>\n",
       "      <td>ath cliath section we have a bit of a problem ...</td>\n",
       "      <td>ath cliath section bit problem irish name bail...</td>\n",
       "    </tr>\n",
       "    <tr>\n",
       "      <th>1</th>\n",
       "      <td>8575</td>\n",
       "      <td>\"\\nSure thing.  By the way, I have a new userb...</td>\n",
       "      <td>0</td>\n",
       "      <td>`` Sure thing . By the way , I have a new user...</td>\n",
       "      <td>sure thing by the way i have a new userbox tha...</td>\n",
       "      <td>sure thing way new userbox say user support sa...</td>\n",
       "    </tr>\n",
       "    <tr>\n",
       "      <th>2</th>\n",
       "      <td>153402</td>\n",
       "      <td>\":::We are in the same boat as Britannica (whi...</td>\n",
       "      <td>0</td>\n",
       "      <td>`` : : : We be in the same boat a Britannica (...</td>\n",
       "      <td>we be in the same boat a britannica which be a...</td>\n",
       "      <td>boat britannica actually publish states britan...</td>\n",
       "    </tr>\n",
       "    <tr>\n",
       "      <th>3</th>\n",
       "      <td>65019</td>\n",
       "      <td>\"I had a look through the section on theology ...</td>\n",
       "      <td>0</td>\n",
       "      <td>`` I have a look through the section on theolo...</td>\n",
       "      <td>i have a look through the section on theology ...</td>\n",
       "      <td>look section theology come across original sin...</td>\n",
       "    </tr>\n",
       "    <tr>\n",
       "      <th>4</th>\n",
       "      <td>155787</td>\n",
       "      <td>\"\\n\\n Warren Commission Exhibit 746-E  the \"\"C...</td>\n",
       "      <td>0</td>\n",
       "      <td>`` Warren Commission Exhibit 746-E the `` '' C...</td>\n",
       "      <td>warren commission exhibit e the chin it be tim...</td>\n",
       "      <td>warren commission exhibit e chin time confront...</td>\n",
       "    </tr>\n",
       "  </tbody>\n",
       "</table>\n",
       "</div>"
      ],
      "text/plain": [
       "   Unnamed: 0                                               text  toxic  \\\n",
       "0      111565  \"\\n\\nAth Cliath section\\nWe have a bit of a pr...      0   \n",
       "1        8575  \"\\nSure thing.  By the way, I have a new userb...      0   \n",
       "2      153402  \":::We are in the same boat as Britannica (whi...      0   \n",
       "3       65019  \"I had a look through the section on theology ...      0   \n",
       "4      155787  \"\\n\\n Warren Commission Exhibit 746-E  the \"\"C...      0   \n",
       "\n",
       "                                          text_lemma  \\\n",
       "0  `` Ath Cliath section We have a bit of a probl...   \n",
       "1  `` Sure thing . By the way , I have a new user...   \n",
       "2  `` : : : We be in the same boat a Britannica (...   \n",
       "3  `` I have a look through the section on theolo...   \n",
       "4  `` Warren Commission Exhibit 746-E the `` '' C...   \n",
       "\n",
       "                                       text_lemma_re  \\\n",
       "0  ath cliath section we have a bit of a problem ...   \n",
       "1  sure thing by the way i have a new userbox tha...   \n",
       "2  we be in the same boat a britannica which be a...   \n",
       "3  i have a look through the section on theology ...   \n",
       "4  warren commission exhibit e the chin it be tim...   \n",
       "\n",
       "                             text_lemma_re_stopwords  \n",
       "0  ath cliath section bit problem irish name bail...  \n",
       "1  sure thing way new userbox say user support sa...  \n",
       "2  boat britannica actually publish states britan...  \n",
       "3  look section theology come across original sin...  \n",
       "4  warren commission exhibit e chin time confront...  "
      ]
     },
     "metadata": {},
     "output_type": "display_data"
    }
   ],
   "source": [
    "info_head(train)"
   ]
  },
  {
   "cell_type": "markdown",
   "metadata": {},
   "source": [
    "- Общая обработка датасета перед обучением состояла из следующих шагов:\n",
    "\n",
    "        1. Удаление дубликатов\n",
    "\n",
    "        2. Лемматизация\n",
    "\n",
    "        3. Удаление лишних символов\n",
    "\n",
    "        4. Приведение к строчному виду\n",
    "\n",
    "        5. Удаление стоп-слов\n",
    "\n",
    "        6. Удаление пустых строк"
   ]
  },
  {
   "cell_type": "markdown",
   "metadata": {},
   "source": [
    "## Обучение"
   ]
  },
  {
   "cell_type": "markdown",
   "metadata": {},
   "source": [
    "- Разделим признаки обучающей выборки"
   ]
  },
  {
   "cell_type": "code",
   "execution_count": 17,
   "metadata": {},
   "outputs": [],
   "source": [
    "X_train = train['text_lemma_re_stopwords']\n",
    "y_train = train['toxic']"
   ]
  },
  {
   "cell_type": "markdown",
   "metadata": {},
   "source": [
    "- Построим вектор слов"
   ]
  },
  {
   "cell_type": "code",
   "execution_count": 18,
   "metadata": {},
   "outputs": [],
   "source": [
    "count_vect = CountVectorizer()\n",
    "\n",
    "X_train_counts = count_vect.fit_transform(X_train)"
   ]
  },
  {
   "cell_type": "markdown",
   "metadata": {},
   "source": [
    "- Рассчитаем TF-IDF "
   ]
  },
  {
   "cell_type": "code",
   "execution_count": 19,
   "metadata": {},
   "outputs": [],
   "source": [
    "tfidf_transformer = TfidfTransformer()\n",
    "\n",
    "X_train_tfidf = tfidf_transformer.fit_transform(X_train_counts)"
   ]
  },
  {
   "cell_type": "markdown",
   "metadata": {},
   "source": [
    "- Обучим модель логической регрессии\n",
    "\n",
    "\n",
    "- В параметрах моделей для обучения укажем балансировку классов"
   ]
  },
  {
   "cell_type": "code",
   "execution_count": 21,
   "metadata": {},
   "outputs": [],
   "source": [
    "scorer = make_scorer(f1_score, greater_is_better=True)"
   ]
  },
  {
   "cell_type": "code",
   "execution_count": 22,
   "metadata": {},
   "outputs": [],
   "source": [
    "lg = LogisticRegression(random_state=RANDOM_STATE, class_weight='balanced', solver='lbfgs')"
   ]
  },
  {
   "cell_type": "code",
   "execution_count": 23,
   "metadata": {},
   "outputs": [],
   "source": [
    "param_grid = {\n",
    "    'max_iter' : [500, 1000, 1500],\n",
    "    'C': [1, 10, 20],\n",
    "}"
   ]
  },
  {
   "cell_type": "code",
   "execution_count": 24,
   "metadata": {},
   "outputs": [],
   "source": [
    "lg_grid_search = GridSearchCV(lg, param_grid, cv=9, scoring=scorer)"
   ]
  },
  {
   "cell_type": "code",
   "execution_count": 25,
   "metadata": {},
   "outputs": [
    {
     "name": "stdout",
     "output_type": "stream",
     "text": [
      "Wall time: 9min 37s\n"
     ]
    },
    {
     "data": {
      "text/plain": [
       "GridSearchCV(cv=9,\n",
       "             estimator=LogisticRegression(class_weight='balanced',\n",
       "                                          random_state=12345),\n",
       "             param_grid={'C': [1, 10, 20], 'max_iter': [500, 1000, 1500]},\n",
       "             scoring=make_scorer(f1_score))"
      ]
     },
     "execution_count": 25,
     "metadata": {},
     "output_type": "execute_result"
    }
   ],
   "source": [
    "%%time\n",
    "lg_grid_search.fit(X_train_tfidf, y_train)"
   ]
  },
  {
   "cell_type": "code",
   "execution_count": 45,
   "metadata": {},
   "outputs": [
    {
     "data": {
      "text/plain": [
       "{'C': 10, 'max_iter': 500}"
      ]
     },
     "metadata": {},
     "output_type": "display_data"
    }
   ],
   "source": [
    "lg_params = lg_grid_search.best_params_\n",
    "\n",
    "f1_lg = lg_grid_search.best_score_\n",
    "\n",
    "display(lg_params)"
   ]
  },
  {
   "cell_type": "code",
   "execution_count": 46,
   "metadata": {},
   "outputs": [
    {
     "data": {
      "text/plain": [
       "LogisticRegression(C=10, class_weight='balanced', max_iter=500,\n",
       "                   random_state=12345)"
      ]
     },
     "execution_count": 46,
     "metadata": {},
     "output_type": "execute_result"
    }
   ],
   "source": [
    "lg = LogisticRegression(random_state=RANDOM_STATE, class_weight='balanced', solver='lbfgs', C=10, max_iter=500)\n",
    "\n",
    "lg.fit(X_train_tfidf, y_train)"
   ]
  },
  {
   "cell_type": "markdown",
   "metadata": {},
   "source": [
    "- Обучим модель логической регрессии с кросс-валидацией\n",
    "\n",
    "\n",
    "- В данной модели встроен алгоритм стратифицированной кросс-валидации, позовляющий сохранять пропорции классов для каждой подвыборки, при этом балансировку классов весами отключим"
   ]
  },
  {
   "cell_type": "code",
   "execution_count": 33,
   "metadata": {},
   "outputs": [
    {
     "name": "stdout",
     "output_type": "stream",
     "text": [
      "Wall time: 14min 11s\n"
     ]
    },
    {
     "data": {
      "text/plain": [
       "LogisticRegressionCV(cv=9, max_iter=2000, random_state=12345,\n",
       "                     scoring=make_scorer(f1_score))"
      ]
     },
     "execution_count": 33,
     "metadata": {},
     "output_type": "execute_result"
    }
   ],
   "source": [
    "%%time\n",
    "\n",
    "lg_cv = LogisticRegressionCV(cv=9, scoring=scorer, random_state=RANDOM_STATE, max_iter=2000, solver='lbfgs')\n",
    "\n",
    "lg_cv.fit(X_train_tfidf, y_train)"
   ]
  },
  {
   "cell_type": "code",
   "execution_count": 50,
   "metadata": {},
   "outputs": [],
   "source": [
    "f1_lg_cv = lg_cv.scores_[1].mean(axis=0).max()"
   ]
  },
  {
   "cell_type": "markdown",
   "metadata": {},
   "source": [
    "- Дополнительно обучим модель опорных векторов - SVC"
   ]
  },
  {
   "cell_type": "code",
   "execution_count": 28,
   "metadata": {},
   "outputs": [],
   "source": [
    "svc = LinearSVC(random_state=RANDOM_STATE, class_weight='balanced', max_iter=5000, penalty='l2')"
   ]
  },
  {
   "cell_type": "code",
   "execution_count": 29,
   "metadata": {},
   "outputs": [],
   "source": [
    "param_grid = {\n",
    "    'C': [1, 10, 20],\n",
    "}"
   ]
  },
  {
   "cell_type": "code",
   "execution_count": 30,
   "metadata": {},
   "outputs": [],
   "source": [
    "svc_grid_search = GridSearchCV(svc, param_grid, cv=9, scoring=scorer)"
   ]
  },
  {
   "cell_type": "code",
   "execution_count": 31,
   "metadata": {
    "scrolled": true
   },
   "outputs": [
    {
     "name": "stdout",
     "output_type": "stream",
     "text": [
      "Wall time: 6min 4s\n"
     ]
    },
    {
     "data": {
      "text/plain": [
       "GridSearchCV(cv=9,\n",
       "             estimator=LinearSVC(class_weight='balanced', max_iter=5000,\n",
       "                                 random_state=12345),\n",
       "             param_grid={'C': [1, 10, 20]}, scoring=make_scorer(f1_score))"
      ]
     },
     "execution_count": 31,
     "metadata": {},
     "output_type": "execute_result"
    }
   ],
   "source": [
    "%%time\n",
    "svc_grid_search.fit(X_train_tfidf, y_train)"
   ]
  },
  {
   "cell_type": "code",
   "execution_count": 47,
   "metadata": {},
   "outputs": [
    {
     "data": {
      "text/plain": [
       "{'C': 1}"
      ]
     },
     "metadata": {},
     "output_type": "display_data"
    }
   ],
   "source": [
    "svc_params = svc_grid_search.best_params_\n",
    "\n",
    "f1_svc = svc_grid_search.best_score_\n",
    "\n",
    "display(svc_params)"
   ]
  },
  {
   "cell_type": "code",
   "execution_count": 48,
   "metadata": {},
   "outputs": [
    {
     "data": {
      "text/plain": [
       "LinearSVC(C=1, class_weight='balanced', max_iter=5000, random_state=12345)"
      ]
     },
     "execution_count": 48,
     "metadata": {},
     "output_type": "execute_result"
    }
   ],
   "source": [
    "svc = LinearSVC(random_state=RANDOM_STATE, class_weight='balanced', max_iter=5000, penalty='l2', C=1)\n",
    "\n",
    "svc.fit(X_train_tfidf, y_train)"
   ]
  },
  {
   "cell_type": "markdown",
   "metadata": {},
   "source": [
    "- Составим сводную таблицу результатов обучения"
   ]
  },
  {
   "cell_type": "code",
   "execution_count": 51,
   "metadata": {},
   "outputs": [
    {
     "data": {
      "text/html": [
       "<div>\n",
       "<style scoped>\n",
       "    .dataframe tbody tr th:only-of-type {\n",
       "        vertical-align: middle;\n",
       "    }\n",
       "\n",
       "    .dataframe tbody tr th {\n",
       "        vertical-align: top;\n",
       "    }\n",
       "\n",
       "    .dataframe thead th {\n",
       "        text-align: right;\n",
       "    }\n",
       "</style>\n",
       "<table border=\"1\" class=\"dataframe\">\n",
       "  <thead>\n",
       "    <tr style=\"text-align: right;\">\n",
       "      <th></th>\n",
       "      <th>Метрика f1</th>\n",
       "    </tr>\n",
       "  </thead>\n",
       "  <tbody>\n",
       "    <tr>\n",
       "      <th>Логическая регрессия с кросс-валидацией</th>\n",
       "      <td>0.76</td>\n",
       "    </tr>\n",
       "    <tr>\n",
       "      <th>Логическая регрессия</th>\n",
       "      <td>0.76</td>\n",
       "    </tr>\n",
       "    <tr>\n",
       "      <th>Метод опорных векторов</th>\n",
       "      <td>0.75</td>\n",
       "    </tr>\n",
       "  </tbody>\n",
       "</table>\n",
       "</div>"
      ],
      "text/plain": [
       "                                         Метрика f1\n",
       "Логическая регрессия с кросс-валидацией        0.76\n",
       "Логическая регрессия                           0.76\n",
       "Метод опорных векторов                         0.75"
      ]
     },
     "metadata": {},
     "output_type": "display_data"
    }
   ],
   "source": [
    "train_results = pd.DataFrame(   \n",
    "                                data = [f1_lg, f1_lg_cv, f1_svc], \n",
    "                                columns = ['Метрика f1'], \n",
    "                                index=['Логическая регрессия', 'Логическая регрессия с кросс-валидацией', 'Метод опорных векторов']\n",
    "                           )\n",
    "\n",
    "display(train_results.sort_values(by='Метрика f1', ascending=False).round(2))"
   ]
  },
  {
   "cell_type": "markdown",
   "metadata": {},
   "source": [
    "## Тестирование"
   ]
  },
  {
   "cell_type": "markdown",
   "metadata": {},
   "source": [
    "- Проведем тестирование модели"
   ]
  },
  {
   "cell_type": "markdown",
   "metadata": {},
   "source": [
    "- Подготовим и разделим тестовую выборку на признаки"
   ]
  },
  {
   "cell_type": "code",
   "execution_count": 69,
   "metadata": {},
   "outputs": [
    {
     "name": "stdout",
     "output_type": "stream",
     "text": [
      "Wall time: 22min 22s\n"
     ]
    }
   ],
   "source": [
    "%%time\n",
    "X_test, y_test = processing(test)"
   ]
  },
  {
   "cell_type": "markdown",
   "metadata": {},
   "source": [
    "- Для тестовых признаков создадим вектор слов и рассчитаем TF-IDF"
   ]
  },
  {
   "cell_type": "code",
   "execution_count": 70,
   "metadata": {},
   "outputs": [],
   "source": [
    "X_test_counts = count_vect.transform(X_test)\n",
    "\n",
    "X_test_tfidf = tfidf_transformer.transform(X_test_counts)"
   ]
  },
  {
   "cell_type": "markdown",
   "metadata": {},
   "source": [
    "- Получим предсказания для тестовой выборки на разных моделях"
   ]
  },
  {
   "cell_type": "code",
   "execution_count": 71,
   "metadata": {},
   "outputs": [],
   "source": [
    "y_test_pred_lg = lg.predict(X_test_tfidf)\n",
    "\n",
    "y_test_pred_lg_cv = lg_cv.predict(X_test_tfidf)\n",
    "\n",
    "y_test_pred_svc = svc.predict(X_test_tfidf)"
   ]
  },
  {
   "cell_type": "markdown",
   "metadata": {},
   "source": [
    "- Определим значения метрики f1"
   ]
  },
  {
   "cell_type": "code",
   "execution_count": 72,
   "metadata": {},
   "outputs": [],
   "source": [
    "test_results_lg = f1_score(y_test, y_test_pred_lg)\n",
    "\n",
    "test_results_lg_cv = f1_score(y_test, y_test_pred_lg_cv)\n",
    "\n",
    "test_results_svc = f1_score(y_test, y_test_pred_svc)"
   ]
  },
  {
   "cell_type": "markdown",
   "metadata": {},
   "source": [
    "- Составим сводную таблицу результатов тестирования"
   ]
  },
  {
   "cell_type": "code",
   "execution_count": 73,
   "metadata": {},
   "outputs": [
    {
     "data": {
      "text/html": [
       "<div>\n",
       "<style scoped>\n",
       "    .dataframe tbody tr th:only-of-type {\n",
       "        vertical-align: middle;\n",
       "    }\n",
       "\n",
       "    .dataframe tbody tr th {\n",
       "        vertical-align: top;\n",
       "    }\n",
       "\n",
       "    .dataframe thead th {\n",
       "        text-align: right;\n",
       "    }\n",
       "</style>\n",
       "<table border=\"1\" class=\"dataframe\">\n",
       "  <thead>\n",
       "    <tr style=\"text-align: right;\">\n",
       "      <th></th>\n",
       "      <th>Метрика f1</th>\n",
       "    </tr>\n",
       "  </thead>\n",
       "  <tbody>\n",
       "    <tr>\n",
       "      <th>Логическая регрессия с кросс-валидацией</th>\n",
       "      <td>0.78</td>\n",
       "    </tr>\n",
       "    <tr>\n",
       "      <th>Логическая регрессия</th>\n",
       "      <td>0.76</td>\n",
       "    </tr>\n",
       "    <tr>\n",
       "      <th>Метод опорных векторов</th>\n",
       "      <td>0.76</td>\n",
       "    </tr>\n",
       "  </tbody>\n",
       "</table>\n",
       "</div>"
      ],
      "text/plain": [
       "                                         Метрика f1\n",
       "Логическая регрессия с кросс-валидацией        0.78\n",
       "Логическая регрессия                           0.76\n",
       "Метод опорных векторов                         0.76"
      ]
     },
     "metadata": {},
     "output_type": "display_data"
    }
   ],
   "source": [
    "test_results = pd.DataFrame(    \n",
    "                                data = [test_results_lg, test_results_lg_cv, test_results_svc], \n",
    "                                columns = ['Метрика f1'], \n",
    "                                index=['Логическая регрессия', 'Логическая регрессия с кросс-валидацией', 'Метод опорных векторов']\n",
    "                           )\n",
    "\n",
    "display(test_results.sort_values(by='Метрика f1', ascending=False).round(2))"
   ]
  },
  {
   "cell_type": "markdown",
   "metadata": {},
   "source": [
    "- Модели логической регрессии показали удовлетворительное значение метрики f1 (>0.75)\n",
    "\n",
    "\n",
    "- Модель логической регрессии с кросс-валидацией показала наилушчий результат"
   ]
  },
  {
   "cell_type": "markdown",
   "metadata": {},
   "source": [
    "## Общий вывод"
   ]
  },
  {
   "cell_type": "markdown",
   "metadata": {},
   "source": [
    "- Текстовые данные были обработаны по следующему алгоритму\n",
    "\n",
    "        1. Удаление дубликатов\n",
    "\n",
    "        2. Лемматизация\n",
    "\n",
    "        3. Удаление лишних символов\n",
    "\n",
    "        4. Приведение к строчному виду\n",
    "\n",
    "        5. Удаление стоп-слов\n",
    "\n",
    "        6. Удаление пустых строк\n",
    "        \n",
    "        \n",
    "- В данных наблюдается сильной дисбаланс классов (10% комментариев - \"токсичные\", остальные 90% - нет). Для учета дисбаланса в моделях была применена балансировка весами и опробована стратифицированная кросс-валидация\n",
    "\n",
    "\n",
    "- Были обучены три типа моделей: \n",
    "\n",
    "        1. Логическая регрессия с балансировкой классов весами\n",
    "        \n",
    "        2. Логическая регрессия с кросс-валидацией\n",
    "        \n",
    "        3. Метод опорных векторов\n",
    "        \n",
    "        \n",
    "- Модели логической регрессии показали удовлетворительное значение метрики f1 (>0.75)\n",
    "\n",
    "\n",
    "- Наилучший результат на тестовых данных показала модель логическая регрессии с кросс-валидацией "
   ]
  }
 ],
 "metadata": {
  "kernelspec": {
   "display_name": "Python 3 (ipykernel)",
   "language": "python",
   "name": "python3"
  },
  "language_info": {
   "codemirror_mode": {
    "name": "ipython",
    "version": 3
   },
   "file_extension": ".py",
   "mimetype": "text/x-python",
   "name": "python",
   "nbconvert_exporter": "python",
   "pygments_lexer": "ipython3",
   "version": "3.8.10"
  },
  "toc": {
   "base_numbering": 1,
   "nav_menu": {},
   "number_sections": true,
   "sideBar": true,
   "skip_h1_title": true,
   "title_cell": "Содержание",
   "title_sidebar": "Contents",
   "toc_cell": true,
   "toc_position": {
    "height": "calc(100% - 180px)",
    "left": "10px",
    "top": "150px",
    "width": "184.797px"
   },
   "toc_section_display": true,
   "toc_window_display": true
  }
 },
 "nbformat": 4,
 "nbformat_minor": 4
}
