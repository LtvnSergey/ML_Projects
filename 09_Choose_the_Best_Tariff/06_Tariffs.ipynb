{
 "cells": [
  {
   "cell_type": "markdown",
   "metadata": {},
   "source": [
    "<h1><center>Проект Тарифы</center></h1>\n"
   ]
  },
  {
   "cell_type": "markdown",
   "metadata": {},
   "source": [
    "# Описание проекта"
   ]
  },
  {
   "cell_type": "markdown",
   "metadata": {},
   "source": [
    "Оператор мобильной связи «Мегалайн» выяснил: многие клиенты пользуются архивными тарифами. Они хотят построить систему, способную проанализировать поведение клиентов и предложить пользователям новый тариф: «Смарт» или «Ультра».\n",
    "\n",
    "В вашем распоряжении данные о поведении клиентов, которые уже перешли на эти тарифы. Нужно построить модель для задачи классификации, которая выберет подходящий тариф. Предобработка данных не понадобится — вы её уже сделали.\n",
    "\n",
    "Постройте модель с максимально большим значением accuracy. Чтобы сдать проект успешно, нужно довести долю правильных ответов по крайней мере до 0.75. Проверьте accuracy на тестовой выборке самостоятельно."
   ]
  },
  {
   "cell_type": "markdown",
   "metadata": {
    "toc": true
   },
   "source": [
    "<h1>Содержание<span class=\"tocSkip\"></span></h1>\n",
    "<div class=\"toc\"><ul class=\"toc-item\"><li><span><a href=\"#Описание-данных\" data-toc-modified-id=\"Описание-данных-1\"><span class=\"toc-item-num\">1&nbsp;&nbsp;</span>Описание данных</a></span></li><li><span><a href=\"#Импорт-библиотек\" data-toc-modified-id=\"Импорт-библиотек-2\"><span class=\"toc-item-num\">2&nbsp;&nbsp;</span>Импорт библиотек</a></span></li><li><span><a href=\"#Загрузка-данных\" data-toc-modified-id=\"Загрузка-данных-3\"><span class=\"toc-item-num\">3&nbsp;&nbsp;</span>Загрузка данных</a></span></li><li><span><a href=\"#Деление-на-выборки\" data-toc-modified-id=\"Деление-на-выборки-4\"><span class=\"toc-item-num\">4&nbsp;&nbsp;</span>Деление на выборки</a></span></li><li><span><a href=\"#Исследование-моделей\" data-toc-modified-id=\"Исследование-моделей-5\"><span class=\"toc-item-num\">5&nbsp;&nbsp;</span>Исследование моделей</a></span><ul class=\"toc-item\"><li><span><a href=\"#Модель:-дерево-решений\" data-toc-modified-id=\"Модель:-дерево-решений-5.1\"><span class=\"toc-item-num\">5.1&nbsp;&nbsp;</span>Модель: дерево решений</a></span></li><li><span><a href=\"#Модель:-случайный-лес\" data-toc-modified-id=\"Модель:-случайный-лес-5.2\"><span class=\"toc-item-num\">5.2&nbsp;&nbsp;</span>Модель: случайный лес</a></span></li><li><span><a href=\"#Модель:-логистическая-регрессия\" data-toc-modified-id=\"Модель:-логистическая-регрессия-5.3\"><span class=\"toc-item-num\">5.3&nbsp;&nbsp;</span>Модель: логистическая регрессия</a></span></li></ul></li><li><span><a href=\"#Проверка-модели-на-тестовой-выборке\" data-toc-modified-id=\"Проверка-модели-на-тестовой-выборке-6\"><span class=\"toc-item-num\">6&nbsp;&nbsp;</span>Проверка модели на тестовой выборке</a></span></li><li><span><a href=\"#Проверка-модели-на-адекватность\" data-toc-modified-id=\"Проверка-модели-на-адекватность-7\"><span class=\"toc-item-num\">7&nbsp;&nbsp;</span>Проверка модели на адекватность</a></span></li><li><span><a href=\"#Общий-вывод\" data-toc-modified-id=\"Общий-вывод-8\"><span class=\"toc-item-num\">8&nbsp;&nbsp;</span>Общий вывод</a></span></li></ul></div>"
   ]
  },
  {
   "cell_type": "markdown",
   "metadata": {},
   "source": [
    "## Описание данных"
   ]
  },
  {
   "cell_type": "markdown",
   "metadata": {},
   "source": [
    "Каждый объект в наборе данных — это информация о поведении одного пользователя за месяц. \n",
    "\n",
    "Известно:\n",
    "- сalls — количество звонков,\n",
    "- minutes — суммарная длительность звонков в минутах,\n",
    "- messages — количество sms-сообщений,\n",
    "- mb_used — израсходованный интернет-трафик в Мб,\n",
    "- is_ultra — каким тарифом пользовался в течение месяца («Ультра» — 1, «Смарт» — 0)."
   ]
  },
  {
   "cell_type": "markdown",
   "metadata": {},
   "source": [
    "## Импорт библиотек"
   ]
  },
  {
   "cell_type": "code",
   "execution_count": 3,
   "metadata": {
    "ExecuteTime": {
     "end_time": "2022-05-30T17:55:12.020136Z",
     "start_time": "2022-05-30T17:55:12.014469Z"
    }
   },
   "outputs": [],
   "source": [
    "import pandas as pd\n",
    "import numpy as np\n",
    "import matplotlib.pylab as plt\n",
    "import seaborn as sns\n",
    "\n",
    "from sklearn.tree import DecisionTreeClassifier\n",
    "from sklearn.ensemble import RandomForestClassifier\n",
    "from sklearn.linear_model import LogisticRegression \n",
    "from sklearn.metrics import accuracy_score\n",
    "from sklearn.dummy import DummyClassifier\n",
    "from sklearn.model_selection import train_test_split, cross_validate, GridSearchCV, RandomizedSearchCV, StratifiedShuffleSplit, ParameterGrid\n"
   ]
  },
  {
   "cell_type": "markdown",
   "metadata": {},
   "source": [
    "## Загрузка данных"
   ]
  },
  {
   "cell_type": "markdown",
   "metadata": {},
   "source": [
    "- Загрузим исходный датасет и изучим общую информацию"
   ]
  },
  {
   "cell_type": "code",
   "execution_count": 5,
   "metadata": {
    "ExecuteTime": {
     "end_time": "2022-05-30T17:55:34.370663Z",
     "start_time": "2022-05-30T17:55:34.330044Z"
    },
    "scrolled": false
   },
   "outputs": [
    {
     "name": "stdout",
     "output_type": "stream",
     "text": [
      "<class 'pandas.core.frame.DataFrame'>\n",
      "RangeIndex: 3214 entries, 0 to 3213\n",
      "Data columns (total 5 columns):\n",
      " #   Column    Non-Null Count  Dtype  \n",
      "---  ------    --------------  -----  \n",
      " 0   calls     3214 non-null   float64\n",
      " 1   minutes   3214 non-null   float64\n",
      " 2   messages  3214 non-null   float64\n",
      " 3   mb_used   3214 non-null   float64\n",
      " 4   is_ultra  3214 non-null   int64  \n",
      "dtypes: float64(4), int64(1)\n",
      "memory usage: 125.7 KB\n"
     ]
    },
    {
     "data": {
      "text/html": [
       "<div>\n",
       "<style scoped>\n",
       "    .dataframe tbody tr th:only-of-type {\n",
       "        vertical-align: middle;\n",
       "    }\n",
       "\n",
       "    .dataframe tbody tr th {\n",
       "        vertical-align: top;\n",
       "    }\n",
       "\n",
       "    .dataframe thead th {\n",
       "        text-align: right;\n",
       "    }\n",
       "</style>\n",
       "<table border=\"1\" class=\"dataframe\">\n",
       "  <thead>\n",
       "    <tr style=\"text-align: right;\">\n",
       "      <th></th>\n",
       "      <th>calls</th>\n",
       "      <th>minutes</th>\n",
       "      <th>messages</th>\n",
       "      <th>mb_used</th>\n",
       "      <th>is_ultra</th>\n",
       "    </tr>\n",
       "  </thead>\n",
       "  <tbody>\n",
       "    <tr>\n",
       "      <th>0</th>\n",
       "      <td>40.0</td>\n",
       "      <td>311.90</td>\n",
       "      <td>83.0</td>\n",
       "      <td>19915.42</td>\n",
       "      <td>0</td>\n",
       "    </tr>\n",
       "    <tr>\n",
       "      <th>1</th>\n",
       "      <td>85.0</td>\n",
       "      <td>516.75</td>\n",
       "      <td>56.0</td>\n",
       "      <td>22696.96</td>\n",
       "      <td>0</td>\n",
       "    </tr>\n",
       "    <tr>\n",
       "      <th>2</th>\n",
       "      <td>77.0</td>\n",
       "      <td>467.66</td>\n",
       "      <td>86.0</td>\n",
       "      <td>21060.45</td>\n",
       "      <td>0</td>\n",
       "    </tr>\n",
       "    <tr>\n",
       "      <th>3</th>\n",
       "      <td>106.0</td>\n",
       "      <td>745.53</td>\n",
       "      <td>81.0</td>\n",
       "      <td>8437.39</td>\n",
       "      <td>1</td>\n",
       "    </tr>\n",
       "    <tr>\n",
       "      <th>4</th>\n",
       "      <td>66.0</td>\n",
       "      <td>418.74</td>\n",
       "      <td>1.0</td>\n",
       "      <td>14502.75</td>\n",
       "      <td>0</td>\n",
       "    </tr>\n",
       "    <tr>\n",
       "      <th>...</th>\n",
       "      <td>...</td>\n",
       "      <td>...</td>\n",
       "      <td>...</td>\n",
       "      <td>...</td>\n",
       "      <td>...</td>\n",
       "    </tr>\n",
       "    <tr>\n",
       "      <th>3209</th>\n",
       "      <td>122.0</td>\n",
       "      <td>910.98</td>\n",
       "      <td>20.0</td>\n",
       "      <td>35124.90</td>\n",
       "      <td>1</td>\n",
       "    </tr>\n",
       "    <tr>\n",
       "      <th>3210</th>\n",
       "      <td>25.0</td>\n",
       "      <td>190.36</td>\n",
       "      <td>0.0</td>\n",
       "      <td>3275.61</td>\n",
       "      <td>0</td>\n",
       "    </tr>\n",
       "    <tr>\n",
       "      <th>3211</th>\n",
       "      <td>97.0</td>\n",
       "      <td>634.44</td>\n",
       "      <td>70.0</td>\n",
       "      <td>13974.06</td>\n",
       "      <td>0</td>\n",
       "    </tr>\n",
       "    <tr>\n",
       "      <th>3212</th>\n",
       "      <td>64.0</td>\n",
       "      <td>462.32</td>\n",
       "      <td>90.0</td>\n",
       "      <td>31239.78</td>\n",
       "      <td>0</td>\n",
       "    </tr>\n",
       "    <tr>\n",
       "      <th>3213</th>\n",
       "      <td>80.0</td>\n",
       "      <td>566.09</td>\n",
       "      <td>6.0</td>\n",
       "      <td>29480.52</td>\n",
       "      <td>1</td>\n",
       "    </tr>\n",
       "  </tbody>\n",
       "</table>\n",
       "<p>3214 rows × 5 columns</p>\n",
       "</div>"
      ],
      "text/plain": [
       "      calls  minutes  messages   mb_used  is_ultra\n",
       "0      40.0   311.90      83.0  19915.42         0\n",
       "1      85.0   516.75      56.0  22696.96         0\n",
       "2      77.0   467.66      86.0  21060.45         0\n",
       "3     106.0   745.53      81.0   8437.39         1\n",
       "4      66.0   418.74       1.0  14502.75         0\n",
       "...     ...      ...       ...       ...       ...\n",
       "3209  122.0   910.98      20.0  35124.90         1\n",
       "3210   25.0   190.36       0.0   3275.61         0\n",
       "3211   97.0   634.44      70.0  13974.06         0\n",
       "3212   64.0   462.32      90.0  31239.78         0\n",
       "3213   80.0   566.09       6.0  29480.52         1\n",
       "\n",
       "[3214 rows x 5 columns]"
      ]
     },
     "metadata": {},
     "output_type": "display_data"
    }
   ],
   "source": [
    "users_behavior = pd.read_csv('datasets/users_behavior.csv')\n",
    "\n",
    "users_behavior.info()\n",
    "\n",
    "display(users_behavior)"
   ]
  },
  {
   "cell_type": "markdown",
   "metadata": {},
   "source": [
    "## Деление на выборки"
   ]
  },
  {
   "cell_type": "markdown",
   "metadata": {},
   "source": [
    "- Перед началом исследования зададим значение генератора псевдослучаных значений"
   ]
  },
  {
   "cell_type": "code",
   "execution_count": 6,
   "metadata": {
    "ExecuteTime": {
     "end_time": "2022-05-30T17:56:12.909911Z",
     "start_time": "2022-05-30T17:56:12.905284Z"
    }
   },
   "outputs": [],
   "source": [
    "random_state = 11111"
   ]
  },
  {
   "cell_type": "markdown",
   "metadata": {},
   "source": [
    "- Оценим представление классов (is_ultra) в исходном датасете"
   ]
  },
  {
   "cell_type": "code",
   "execution_count": 7,
   "metadata": {
    "ExecuteTime": {
     "end_time": "2022-05-30T17:56:13.788760Z",
     "start_time": "2022-05-30T17:56:13.777747Z"
    }
   },
   "outputs": [
    {
     "name": "stdout",
     "output_type": "stream",
     "text": [
      "Количество данных класса \"Ultra\": 985\n",
      "Количество данных класса \"Smart\": 2229\n"
     ]
    }
   ],
   "source": [
    "print('Количество данных класса \"Ultra\":', len(users_behavior.query('is_ultra==1')))\n",
    "print('Количество данных класса \"Smart\":', len(users_behavior.query('is_ultra==0')))"
   ]
  },
  {
   "cell_type": "markdown",
   "metadata": {},
   "source": [
    "- Классы представлены неравномерно, что может вызвать \"перекос\" в процессе обучения, т.е. один из классов может считаться наиболее вероятным\n",
    "\n",
    "\n",
    "- Для более равномерного распределения классов при обучении воспользуемся процедурой кросс-валидации:\n",
    "    - Датасет перемешивается\n",
    "    - Разделяется на N групп \n",
    "    - На N-1 группе производится обучение, а на оставшемся тестируется\n",
    "    - Процедура повторяется N раз, меня на каждой итерации группы для тестирования и обучения\n",
    "    - Осреднение оценок качества по всем итерациям повысит достоверность итоговой"
   ]
  },
  {
   "cell_type": "markdown",
   "metadata": {},
   "source": [
    "- Разобъем данные на две выборки в стандартном соотношении - обучающую (80%),  и тестовую (20%)"
   ]
  },
  {
   "cell_type": "code",
   "execution_count": 8,
   "metadata": {
    "ExecuteTime": {
     "end_time": "2022-05-30T17:56:15.301428Z",
     "start_time": "2022-05-30T17:56:15.274852Z"
    },
    "scrolled": false
   },
   "outputs": [
    {
     "name": "stdout",
     "output_type": "stream",
     "text": [
      "\n",
      "----- Обучающая выборка: -----\n",
      "\n",
      "<class 'pandas.core.frame.DataFrame'>\n",
      "Int64Index: 2571 entries, 179 to 804\n",
      "Data columns (total 5 columns):\n",
      " #   Column    Non-Null Count  Dtype  \n",
      "---  ------    --------------  -----  \n",
      " 0   calls     2571 non-null   float64\n",
      " 1   minutes   2571 non-null   float64\n",
      " 2   messages  2571 non-null   float64\n",
      " 3   mb_used   2571 non-null   float64\n",
      " 4   is_ultra  2571 non-null   int64  \n",
      "dtypes: float64(4), int64(1)\n",
      "memory usage: 120.5 KB\n",
      "\n",
      "----- Тестовая выборка: -----\n",
      "\n",
      "<class 'pandas.core.frame.DataFrame'>\n",
      "Int64Index: 643 entries, 33 to 2208\n",
      "Data columns (total 5 columns):\n",
      " #   Column    Non-Null Count  Dtype  \n",
      "---  ------    --------------  -----  \n",
      " 0   calls     643 non-null    float64\n",
      " 1   minutes   643 non-null    float64\n",
      " 2   messages  643 non-null    float64\n",
      " 3   mb_used   643 non-null    float64\n",
      " 4   is_ultra  643 non-null    int64  \n",
      "dtypes: float64(4), int64(1)\n",
      "memory usage: 30.1 KB\n"
     ]
    }
   ],
   "source": [
    "df_train, df_test = train_test_split(users_behavior, \n",
    "                                     test_size=0.2, \n",
    "                                     random_state=random_state)\n",
    "\n",
    "print()\n",
    "print('----- Обучающая выборка: -----')\n",
    "print()\n",
    "df_train.info()\n",
    "\n",
    "print()\n",
    "print('----- Тестовая выборка: -----')\n",
    "print()\n",
    "df_test.info()"
   ]
  },
  {
   "cell_type": "markdown",
   "metadata": {},
   "source": [
    "- Для кросс-валидации обучающей выборки используем алгоритм стратифицированной выборки, т.е. в каждой группе распределение классов будет схожим, чтобы в одну из групп не попало слишком много значений одного класса\n",
    "\n",
    "\n",
    "- Количество групп в кросс-валидации выберем равным 5 "
   ]
  },
  {
   "cell_type": "code",
   "execution_count": 9,
   "metadata": {
    "ExecuteTime": {
     "end_time": "2022-05-30T17:56:20.639325Z",
     "start_time": "2022-05-30T17:56:20.634602Z"
    }
   },
   "outputs": [],
   "source": [
    "cv = StratifiedShuffleSplit(n_splits=5, random_state=random_state)"
   ]
  },
  {
   "cell_type": "markdown",
   "metadata": {},
   "source": [
    "## Исследование моделей"
   ]
  },
  {
   "cell_type": "markdown",
   "metadata": {},
   "source": [
    "- Перед нами стоит задача классификации\n",
    "\n",
    "\n",
    "- Целевой признак:\n",
    "\n",
    "\n",
    "    - is_ultra — каким тарифом пользовался в течение месяца («Ультра» — 1, «Смарт» — 0)\n",
    "\n",
    "\n",
    "- Признаками для обучения модели являются:\n",
    "\n",
    "\n",
    "    - сalls — количество звонков\n",
    "    - minutes — суммарная длительность звонков в минутах\n",
    "    - messages — количество sms-сообщений\n",
    "    - mb_used — израсходованный интернет-трафик в Мб"
   ]
  },
  {
   "cell_type": "code",
   "execution_count": 10,
   "metadata": {
    "ExecuteTime": {
     "end_time": "2022-05-30T17:56:38.017907Z",
     "start_time": "2022-05-30T17:56:38.011997Z"
    }
   },
   "outputs": [],
   "source": [
    "train_features = df_train.drop(['is_ultra'], axis=1)\n",
    "train_target = df_train['is_ultra']\n",
    "\n",
    "test_features = df_test.drop(['is_ultra'], axis=1)\n",
    "test_target = df_test['is_ultra']"
   ]
  },
  {
   "cell_type": "markdown",
   "metadata": {},
   "source": [
    "- Для решения задачи методами машинного обучения мы можем воспользоваться одной из трех моделей:\n",
    "\n",
    "    1. Дерево решений\n",
    "    2. Случайный лес\n",
    "    3. Логическая регрессия\n",
    "\n",
    "\n",
    "- Метрикой качества модели будет значение accuracy - доля правильных ответов по тестовой/валидационной выборке\n",
    "\n",
    "\n",
    "- Попробуем протестировать каждую из моделей "
   ]
  },
  {
   "cell_type": "markdown",
   "metadata": {},
   "source": [
    "### Модель: дерево решений"
   ]
  },
  {
   "cell_type": "markdown",
   "metadata": {},
   "source": [
    "- Зададим модель решающего дерева"
   ]
  },
  {
   "cell_type": "code",
   "execution_count": 11,
   "metadata": {
    "ExecuteTime": {
     "end_time": "2022-05-30T17:56:51.839153Z",
     "start_time": "2022-05-30T17:56:51.834167Z"
    }
   },
   "outputs": [],
   "source": [
    "tree_model = DecisionTreeClassifier(random_state=random_state)"
   ]
  },
  {
   "cell_type": "markdown",
   "metadata": {},
   "source": [
    "- Рассмотрим параметры заданной модели"
   ]
  },
  {
   "cell_type": "code",
   "execution_count": 12,
   "metadata": {
    "ExecuteTime": {
     "end_time": "2022-05-30T17:56:52.810776Z",
     "start_time": "2022-05-30T17:56:52.803727Z"
    }
   },
   "outputs": [
    {
     "data": {
      "text/plain": [
       "dict_keys(['ccp_alpha', 'class_weight', 'criterion', 'max_depth', 'max_features', 'max_leaf_nodes', 'min_impurity_decrease', 'min_samples_leaf', 'min_samples_split', 'min_weight_fraction_leaf', 'random_state', 'splitter'])"
      ]
     },
     "execution_count": 12,
     "metadata": {},
     "output_type": "execute_result"
    }
   ],
   "source": [
    "tree_model.get_params().keys()"
   ]
  },
  {
   "cell_type": "markdown",
   "metadata": {},
   "source": [
    "- Зададим параметры для подбора"
   ]
  },
  {
   "cell_type": "code",
   "execution_count": 13,
   "metadata": {
    "ExecuteTime": {
     "end_time": "2022-05-30T17:56:54.208342Z",
     "start_time": "2022-05-30T17:56:54.202681Z"
    }
   },
   "outputs": [],
   "source": [
    "tree_parameters_grid = {\n",
    "    'criterion' : ['gini', 'entropy'],\n",
    "    'max_depth' : range(1, 10), \n",
    "    'max_features' : ['auto', 'sqrt', 'log2', None],\n",
    "    'min_samples_leaf' :  range(1, 10),\n",
    "    'min_samples_split' : range(2, 10),\n",
    "    'splitter' : ['best', 'random']\n",
    "} "
   ]
  },
  {
   "cell_type": "markdown",
   "metadata": {},
   "source": [
    "- Теперь мы можем посчитать качество классификации модели со всеми комбинациями заданных параметров, чтобы выбрать лучшую"
   ]
  },
  {
   "cell_type": "markdown",
   "metadata": {},
   "source": [
    "- Зададим объект grid_search, для которого укажем выбранный тип модели, грид параметров для перебора, метрику качества и стратегию кросс-валидации  "
   ]
  },
  {
   "cell_type": "code",
   "execution_count": 14,
   "metadata": {
    "ExecuteTime": {
     "end_time": "2022-05-30T17:56:58.798327Z",
     "start_time": "2022-05-30T17:56:58.793468Z"
    }
   },
   "outputs": [],
   "source": [
    "tree_grid_cv = GridSearchCV(tree_model, \n",
    "                            tree_parameters_grid, \n",
    "                            scoring='accuracy', \n",
    "                            cv=cv)"
   ]
  },
  {
   "cell_type": "markdown",
   "metadata": {},
   "source": [
    "- Обучим модели с разными параметрами и измерим общее время счета "
   ]
  },
  {
   "cell_type": "code",
   "execution_count": 15,
   "metadata": {
    "ExecuteTime": {
     "end_time": "2022-05-30T18:00:09.084725Z",
     "start_time": "2022-05-30T17:56:59.674250Z"
    }
   },
   "outputs": [
    {
     "name": "stdout",
     "output_type": "stream",
     "text": [
      "CPU times: user 3min 8s, sys: 155 ms, total: 3min 9s\n",
      "Wall time: 3min 9s\n"
     ]
    },
    {
     "data": {
      "text/plain": [
       "GridSearchCV(cv=StratifiedShuffleSplit(n_splits=5, random_state=11111, test_size=None,\n",
       "            train_size=None),\n",
       "             estimator=DecisionTreeClassifier(random_state=11111),\n",
       "             param_grid={'criterion': ['gini', 'entropy'],\n",
       "                         'max_depth': range(1, 10),\n",
       "                         'max_features': ['auto', 'sqrt', 'log2', None],\n",
       "                         'min_samples_leaf': range(1, 10),\n",
       "                         'min_samples_split': range(2, 10),\n",
       "                         'splitter': ['best', 'random']},\n",
       "             scoring='accuracy')"
      ]
     },
     "execution_count": 15,
     "metadata": {},
     "output_type": "execute_result"
    }
   ],
   "source": [
    "%%time\n",
    "tree_grid_cv.fit(train_features, train_target)"
   ]
  },
  {
   "cell_type": "code",
   "execution_count": 16,
   "metadata": {
    "ExecuteTime": {
     "end_time": "2022-05-30T18:00:09.094466Z",
     "start_time": "2022-05-30T18:00:09.088378Z"
    }
   },
   "outputs": [
    {
     "name": "stdout",
     "output_type": "stream",
     "text": [
      "Accuracy наилучшей модели на кросс-валидационной выборке: 0.7945736434108527\n",
      "\n",
      "Параметры для наилучшей модели на кросс-валидационной выборке:\n",
      "\n",
      "{'criterion': 'gini', 'max_depth': 7, 'max_features': None, 'min_samples_leaf': 9, 'min_samples_split': 2, 'splitter': 'best'}\n"
     ]
    }
   ],
   "source": [
    "print('Accuracy наилучшей модели на кросс-валидационной выборке:', tree_grid_cv.best_score_)\n",
    "print()\n",
    "print('Параметры для наилучшей модели на кросс-валидационной выборке:')\n",
    "print()\n",
    "print(tree_grid_cv.best_params_)"
   ]
  },
  {
   "cell_type": "markdown",
   "metadata": {},
   "source": [
    "- Определили точность и оптимальные параметры лучшей модели\n",
    "\n",
    "\n",
    "- Дополительно рассмотрим все решения  "
   ]
  },
  {
   "cell_type": "code",
   "execution_count": 17,
   "metadata": {
    "ExecuteTime": {
     "end_time": "2022-05-30T18:00:09.120044Z",
     "start_time": "2022-05-30T18:00:09.096023Z"
    }
   },
   "outputs": [
    {
     "data": {
      "text/html": [
       "<div>\n",
       "<style scoped>\n",
       "    .dataframe tbody tr th:only-of-type {\n",
       "        vertical-align: middle;\n",
       "    }\n",
       "\n",
       "    .dataframe tbody tr th {\n",
       "        vertical-align: top;\n",
       "    }\n",
       "\n",
       "    .dataframe thead th {\n",
       "        text-align: right;\n",
       "    }\n",
       "</style>\n",
       "<table border=\"1\" class=\"dataframe\">\n",
       "  <thead>\n",
       "    <tr style=\"text-align: right;\">\n",
       "      <th></th>\n",
       "      <th>params</th>\n",
       "      <th>mean_test_score</th>\n",
       "    </tr>\n",
       "  </thead>\n",
       "  <tbody>\n",
       "    <tr>\n",
       "      <th>4020</th>\n",
       "      <td>{'criterion': 'gini', 'max_depth': 7, 'max_fea...</td>\n",
       "      <td>0.794574</td>\n",
       "    </tr>\n",
       "    <tr>\n",
       "      <th>4016</th>\n",
       "      <td>{'criterion': 'gini', 'max_depth': 7, 'max_fea...</td>\n",
       "      <td>0.794574</td>\n",
       "    </tr>\n",
       "    <tr>\n",
       "      <th>4018</th>\n",
       "      <td>{'criterion': 'gini', 'max_depth': 7, 'max_fea...</td>\n",
       "      <td>0.794574</td>\n",
       "    </tr>\n",
       "    <tr>\n",
       "      <th>4606</th>\n",
       "      <td>{'criterion': 'gini', 'max_depth': 8, 'max_fea...</td>\n",
       "      <td>0.794574</td>\n",
       "    </tr>\n",
       "    <tr>\n",
       "      <th>4604</th>\n",
       "      <td>{'criterion': 'gini', 'max_depth': 8, 'max_fea...</td>\n",
       "      <td>0.794574</td>\n",
       "    </tr>\n",
       "    <tr>\n",
       "      <th>4602</th>\n",
       "      <td>{'criterion': 'gini', 'max_depth': 8, 'max_fea...</td>\n",
       "      <td>0.794574</td>\n",
       "    </tr>\n",
       "    <tr>\n",
       "      <th>4600</th>\n",
       "      <td>{'criterion': 'gini', 'max_depth': 8, 'max_fea...</td>\n",
       "      <td>0.794574</td>\n",
       "    </tr>\n",
       "    <tr>\n",
       "      <th>4596</th>\n",
       "      <td>{'criterion': 'gini', 'max_depth': 8, 'max_fea...</td>\n",
       "      <td>0.794574</td>\n",
       "    </tr>\n",
       "    <tr>\n",
       "      <th>4594</th>\n",
       "      <td>{'criterion': 'gini', 'max_depth': 8, 'max_fea...</td>\n",
       "      <td>0.794574</td>\n",
       "    </tr>\n",
       "    <tr>\n",
       "      <th>4592</th>\n",
       "      <td>{'criterion': 'gini', 'max_depth': 8, 'max_fea...</td>\n",
       "      <td>0.794574</td>\n",
       "    </tr>\n",
       "  </tbody>\n",
       "</table>\n",
       "</div>"
      ],
      "text/plain": [
       "                                                 params  mean_test_score\n",
       "4020  {'criterion': 'gini', 'max_depth': 7, 'max_fea...         0.794574\n",
       "4016  {'criterion': 'gini', 'max_depth': 7, 'max_fea...         0.794574\n",
       "4018  {'criterion': 'gini', 'max_depth': 7, 'max_fea...         0.794574\n",
       "4606  {'criterion': 'gini', 'max_depth': 8, 'max_fea...         0.794574\n",
       "4604  {'criterion': 'gini', 'max_depth': 8, 'max_fea...         0.794574\n",
       "4602  {'criterion': 'gini', 'max_depth': 8, 'max_fea...         0.794574\n",
       "4600  {'criterion': 'gini', 'max_depth': 8, 'max_fea...         0.794574\n",
       "4596  {'criterion': 'gini', 'max_depth': 8, 'max_fea...         0.794574\n",
       "4594  {'criterion': 'gini', 'max_depth': 8, 'max_fea...         0.794574\n",
       "4592  {'criterion': 'gini', 'max_depth': 8, 'max_fea...         0.794574"
      ]
     },
     "metadata": {},
     "output_type": "display_data"
    },
    {
     "name": "stdout",
     "output_type": "stream",
     "text": [
      "\n",
      "Наилучшее решение достигается при 16 вариантах параметризации\n"
     ]
    }
   ],
   "source": [
    "tree_results = pd.DataFrame(tree_grid_cv.cv_results_)\n",
    "\n",
    "display(tree_results[['params', 'mean_test_score']].sort_values(by='mean_test_score', ascending=False).head(10))\n",
    "\n",
    "print()\n",
    "print('Наилучшее решение достигается при', len(tree_results.query('mean_test_score==@tree_grid_cv.best_score_')), 'вариантах параметризации')"
   ]
  },
  {
   "cell_type": "markdown",
   "metadata": {},
   "source": [
    "- Как видно из таблици решений, наиулчшая точность достигается при нескольких возможных параметризациях (16)\n",
    "\n",
    "\n",
    "- Построим график зависимости всех получившихся моделей от качества, чтобы оценить распределение точности при переборе выбранных параметров"
   ]
  },
  {
   "cell_type": "code",
   "execution_count": 18,
   "metadata": {
    "ExecuteTime": {
     "end_time": "2022-05-30T18:00:09.264733Z",
     "start_time": "2022-05-30T18:00:09.121701Z"
    }
   },
   "outputs": [
    {
     "data": {
      "image/png": "[encoded data removed]",
      "text/plain": [
       "<Figure size 1224x360 with 1 Axes>"
      ]
     },
     "metadata": {
      "needs_background": "light"
     },
     "output_type": "display_data"
    }
   ],
   "source": [
    "title = 'График зависимости модели и качества'\n",
    "ax = tree_results.sort_values(by='mean_test_score').reset_index().plot(y='mean_test_score', figsize=(17,5), title=title, fontsize=9, style='-', grid=True)\n",
    "ax.set(xlabel='Номер модели', ylabel='Accuracy')\n",
    "plt.show()"
   ]
  },
  {
   "cell_type": "markdown",
   "metadata": {},
   "source": [
    "- Максимальные значения точности достаточно уверенно выделяются на фоне остальных \n",
    "\n",
    "- Наилучшее значение точности превышает минимально допустимое 0.75"
   ]
  },
  {
   "cell_type": "markdown",
   "metadata": {},
   "source": [
    "### Модель: случайный лес"
   ]
  },
  {
   "cell_type": "markdown",
   "metadata": {},
   "source": [
    "- Зададим модель слуйчайный лес"
   ]
  },
  {
   "cell_type": "code",
   "execution_count": 19,
   "metadata": {
    "ExecuteTime": {
     "end_time": "2022-05-30T18:00:09.271192Z",
     "start_time": "2022-05-30T18:00:09.267489Z"
    }
   },
   "outputs": [],
   "source": [
    "random_forest_model = RandomForestClassifier(random_state=random_state)"
   ]
  },
  {
   "cell_type": "markdown",
   "metadata": {},
   "source": [
    "- Рассмотрим параметры заданной модели"
   ]
  },
  {
   "cell_type": "code",
   "execution_count": 20,
   "metadata": {
    "ExecuteTime": {
     "end_time": "2022-05-30T18:00:09.278124Z",
     "start_time": "2022-05-30T18:00:09.273077Z"
    }
   },
   "outputs": [
    {
     "data": {
      "text/plain": [
       "dict_keys(['bootstrap', 'ccp_alpha', 'class_weight', 'criterion', 'max_depth', 'max_features', 'max_leaf_nodes', 'max_samples', 'min_impurity_decrease', 'min_samples_leaf', 'min_samples_split', 'min_weight_fraction_leaf', 'n_estimators', 'n_jobs', 'oob_score', 'random_state', 'verbose', 'warm_start'])"
      ]
     },
     "execution_count": 20,
     "metadata": {},
     "output_type": "execute_result"
    }
   ],
   "source": [
    "random_forest_model.get_params().keys()"
   ]
  },
  {
   "cell_type": "markdown",
   "metadata": {},
   "source": [
    "- Зададим параметры для подбора"
   ]
  },
  {
   "cell_type": "code",
   "execution_count": 21,
   "metadata": {
    "ExecuteTime": {
     "end_time": "2022-05-30T18:00:09.284381Z",
     "start_time": "2022-05-30T18:00:09.279961Z"
    }
   },
   "outputs": [],
   "source": [
    "random_forest_parameters_grid = {\n",
    "    'criterion' : ['gini', 'entropy'],\n",
    "    'max_depth' : range(1, 10),\n",
    "    'max_features' : ['auto', 'sqrt', 'log2', None],\n",
    "    'min_samples_leaf' :  range(1, 10),\n",
    "    'n_estimators' :  range(1, 10)\n",
    "} "
   ]
  },
  {
   "cell_type": "markdown",
   "metadata": {},
   "source": [
    "- Модель \"случайный лес\" за счет использования большого количества независимых деревьев более ресурсозатратная по сравнению с моделью \"решающее дерево\"\n",
    "\n",
    "\n",
    "- Чтобы сократить время поиска оптимальных параметров по заданному гриду, воспользуемся подходом randomized search, позволяющим отбросить значения параметров при которых достигается заведомо низкая точность модели\n",
    "\n",
    "\n",
    "- Таким образом, мы сузим количество исследуемых параметров и затем снова произведем поиск по сетке с помощью GridSearchCV"
   ]
  },
  {
   "cell_type": "markdown",
   "metadata": {},
   "source": [
    "- Посчитаем сколько точек мы проверяем по общей сетке параметров\n",
    "\n",
    "\n",
    "- Для этого найдем все возможные комбинации заданных параметров:\n",
    "\n",
    "\n",
    "    - 'criterion' : 2 варианта\n",
    "    - 'max_depth' : 10 вариантов\n",
    "    - 'max_features' : 4 варианта\n",
    "    - 'min_samples_leaf' :  10 вариантов\n",
    "    - 'n_estimators' :  10 вариантов"
   ]
  },
  {
   "cell_type": "code",
   "execution_count": 22,
   "metadata": {
    "ExecuteTime": {
     "end_time": "2022-05-30T18:00:09.291398Z",
     "start_time": "2022-05-30T18:00:09.286507Z"
    }
   },
   "outputs": [
    {
     "name": "stdout",
     "output_type": "stream",
     "text": [
      "Количество точек сетки для модели \"случайный лес\": 5832\n"
     ]
    }
   ],
   "source": [
    "random_forest_grid_points = ParameterGrid(random_forest_parameters_grid)\n",
    "print('Количество точек сетки для модели \"случайный лес\":', len(random_forest_grid_points))"
   ]
  },
  {
   "cell_type": "markdown",
   "metadata": {},
   "source": [
    "- Исследуем в 100 раз меньше точек"
   ]
  },
  {
   "cell_type": "code",
   "execution_count": 23,
   "metadata": {
    "ExecuteTime": {
     "end_time": "2022-05-30T18:00:09.297805Z",
     "start_time": "2022-05-30T18:00:09.293561Z"
    }
   },
   "outputs": [],
   "source": [
    "random_forest_random_grid_cv = RandomizedSearchCV(random_forest_model, random_forest_parameters_grid, n_iter=50, scoring='accuracy', cv=cv)"
   ]
  },
  {
   "cell_type": "markdown",
   "metadata": {},
   "source": [
    "- Обучим модели с разными параметрами и измерим общее время счета "
   ]
  },
  {
   "cell_type": "code",
   "execution_count": 24,
   "metadata": {
    "ExecuteTime": {
     "end_time": "2022-05-30T18:00:13.516173Z",
     "start_time": "2022-05-30T18:00:09.301208Z"
    }
   },
   "outputs": [
    {
     "name": "stdout",
     "output_type": "stream",
     "text": [
      "CPU times: user 4.19 s, sys: 11.8 ms, total: 4.2 s\n",
      "Wall time: 4.21 s\n"
     ]
    },
    {
     "data": {
      "text/plain": [
       "RandomizedSearchCV(cv=StratifiedShuffleSplit(n_splits=5, random_state=11111, test_size=None,\n",
       "            train_size=None),\n",
       "                   estimator=RandomForestClassifier(random_state=11111),\n",
       "                   n_iter=50,\n",
       "                   param_distributions={'criterion': ['gini', 'entropy'],\n",
       "                                        'max_depth': range(1, 10),\n",
       "                                        'max_features': ['auto', 'sqrt', 'log2',\n",
       "                                                         None],\n",
       "                                        'min_samples_leaf': range(1, 10),\n",
       "                                        'n_estimators': range(1, 10)},\n",
       "                   scoring='accuracy')"
      ]
     },
     "execution_count": 24,
     "metadata": {},
     "output_type": "execute_result"
    }
   ],
   "source": [
    "%%time\n",
    "random_forest_random_grid_cv.fit(train_features, train_target)"
   ]
  },
  {
   "cell_type": "code",
   "execution_count": 25,
   "metadata": {
    "ExecuteTime": {
     "end_time": "2022-05-30T18:00:13.521179Z",
     "start_time": "2022-05-30T18:00:13.517844Z"
    }
   },
   "outputs": [
    {
     "name": "stdout",
     "output_type": "stream",
     "text": [
      "Accuracy наилучшей модели на кросс-валидационной выборке с использованием RandomizedSearchCV: 0.7992248062015503\n",
      "\n",
      "Параметры для наилучшей модели на кросс-валидационной выборке с использованием RandomizedSearchCV:\n",
      "\n",
      "{'n_estimators': 6, 'min_samples_leaf': 6, 'max_features': 'log2', 'max_depth': 8, 'criterion': 'gini'}\n"
     ]
    }
   ],
   "source": [
    "print('Accuracy наилучшей модели на кросс-валидационной выборке с использованием RandomizedSearchCV:', random_forest_random_grid_cv.best_score_)\n",
    "print()\n",
    "print('Параметры для наилучшей модели на кросс-валидационной выборке с использованием RandomizedSearchCV:')\n",
    "print()\n",
    "print(random_forest_random_grid_cv.best_params_)"
   ]
  },
  {
   "cell_type": "markdown",
   "metadata": {},
   "source": [
    "- Рассмотрим получившиеся модели и попробуем сузить колчество параметров для оптмизации"
   ]
  },
  {
   "cell_type": "code",
   "execution_count": 26,
   "metadata": {
    "ExecuteTime": {
     "end_time": "2022-05-30T18:00:13.558585Z",
     "start_time": "2022-05-30T18:00:13.522278Z"
    }
   },
   "outputs": [
    {
     "data": {
      "text/html": [
       "<div>\n",
       "<style scoped>\n",
       "    .dataframe tbody tr th:only-of-type {\n",
       "        vertical-align: middle;\n",
       "    }\n",
       "\n",
       "    .dataframe tbody tr th {\n",
       "        vertical-align: top;\n",
       "    }\n",
       "\n",
       "    .dataframe thead th {\n",
       "        text-align: right;\n",
       "    }\n",
       "</style>\n",
       "<table border=\"1\" class=\"dataframe\">\n",
       "  <thead>\n",
       "    <tr style=\"text-align: right;\">\n",
       "      <th></th>\n",
       "      <th>mean_fit_time</th>\n",
       "      <th>std_fit_time</th>\n",
       "      <th>mean_score_time</th>\n",
       "      <th>std_score_time</th>\n",
       "      <th>param_n_estimators</th>\n",
       "      <th>param_min_samples_leaf</th>\n",
       "      <th>param_max_features</th>\n",
       "      <th>param_max_depth</th>\n",
       "      <th>param_criterion</th>\n",
       "      <th>params</th>\n",
       "      <th>split0_test_score</th>\n",
       "      <th>split1_test_score</th>\n",
       "      <th>split2_test_score</th>\n",
       "      <th>split3_test_score</th>\n",
       "      <th>split4_test_score</th>\n",
       "      <th>mean_test_score</th>\n",
       "      <th>std_test_score</th>\n",
       "      <th>rank_test_score</th>\n",
       "    </tr>\n",
       "  </thead>\n",
       "  <tbody>\n",
       "    <tr>\n",
       "      <th>38</th>\n",
       "      <td>0.015323</td>\n",
       "      <td>0.000306</td>\n",
       "      <td>0.001631</td>\n",
       "      <td>0.000202</td>\n",
       "      <td>6</td>\n",
       "      <td>6</td>\n",
       "      <td>log2</td>\n",
       "      <td>8</td>\n",
       "      <td>gini</td>\n",
       "      <td>{'n_estimators': 6, 'min_samples_leaf': 6, 'ma...</td>\n",
       "      <td>0.798450</td>\n",
       "      <td>0.794574</td>\n",
       "      <td>0.806202</td>\n",
       "      <td>0.810078</td>\n",
       "      <td>0.786822</td>\n",
       "      <td>0.799225</td>\n",
       "      <td>0.008277</td>\n",
       "      <td>1</td>\n",
       "    </tr>\n",
       "    <tr>\n",
       "      <th>1</th>\n",
       "      <td>0.021792</td>\n",
       "      <td>0.004117</td>\n",
       "      <td>0.001730</td>\n",
       "      <td>0.000107</td>\n",
       "      <td>8</td>\n",
       "      <td>6</td>\n",
       "      <td>auto</td>\n",
       "      <td>7</td>\n",
       "      <td>gini</td>\n",
       "      <td>{'n_estimators': 8, 'min_samples_leaf': 6, 'ma...</td>\n",
       "      <td>0.782946</td>\n",
       "      <td>0.790698</td>\n",
       "      <td>0.813953</td>\n",
       "      <td>0.817829</td>\n",
       "      <td>0.782946</td>\n",
       "      <td>0.797674</td>\n",
       "      <td>0.015191</td>\n",
       "      <td>2</td>\n",
       "    </tr>\n",
       "    <tr>\n",
       "      <th>25</th>\n",
       "      <td>0.023739</td>\n",
       "      <td>0.000382</td>\n",
       "      <td>0.001879</td>\n",
       "      <td>0.000142</td>\n",
       "      <td>9</td>\n",
       "      <td>4</td>\n",
       "      <td>auto</td>\n",
       "      <td>9</td>\n",
       "      <td>gini</td>\n",
       "      <td>{'n_estimators': 9, 'min_samples_leaf': 4, 'ma...</td>\n",
       "      <td>0.779070</td>\n",
       "      <td>0.794574</td>\n",
       "      <td>0.806202</td>\n",
       "      <td>0.813953</td>\n",
       "      <td>0.782946</td>\n",
       "      <td>0.795349</td>\n",
       "      <td>0.013292</td>\n",
       "      <td>3</td>\n",
       "    </tr>\n",
       "    <tr>\n",
       "      <th>42</th>\n",
       "      <td>0.020383</td>\n",
       "      <td>0.000336</td>\n",
       "      <td>0.002084</td>\n",
       "      <td>0.000332</td>\n",
       "      <td>9</td>\n",
       "      <td>6</td>\n",
       "      <td>sqrt</td>\n",
       "      <td>6</td>\n",
       "      <td>gini</td>\n",
       "      <td>{'n_estimators': 9, 'min_samples_leaf': 6, 'ma...</td>\n",
       "      <td>0.798450</td>\n",
       "      <td>0.798450</td>\n",
       "      <td>0.810078</td>\n",
       "      <td>0.786822</td>\n",
       "      <td>0.779070</td>\n",
       "      <td>0.794574</td>\n",
       "      <td>0.010685</td>\n",
       "      <td>4</td>\n",
       "    </tr>\n",
       "    <tr>\n",
       "      <th>30</th>\n",
       "      <td>0.017766</td>\n",
       "      <td>0.000972</td>\n",
       "      <td>0.001810</td>\n",
       "      <td>0.000332</td>\n",
       "      <td>6</td>\n",
       "      <td>6</td>\n",
       "      <td>auto</td>\n",
       "      <td>7</td>\n",
       "      <td>entropy</td>\n",
       "      <td>{'n_estimators': 6, 'min_samples_leaf': 6, 'ma...</td>\n",
       "      <td>0.786822</td>\n",
       "      <td>0.794574</td>\n",
       "      <td>0.810078</td>\n",
       "      <td>0.813953</td>\n",
       "      <td>0.767442</td>\n",
       "      <td>0.794574</td>\n",
       "      <td>0.016806</td>\n",
       "      <td>4</td>\n",
       "    </tr>\n",
       "    <tr>\n",
       "      <th>3</th>\n",
       "      <td>0.024564</td>\n",
       "      <td>0.000834</td>\n",
       "      <td>0.001906</td>\n",
       "      <td>0.000167</td>\n",
       "      <td>8</td>\n",
       "      <td>5</td>\n",
       "      <td>sqrt</td>\n",
       "      <td>8</td>\n",
       "      <td>entropy</td>\n",
       "      <td>{'n_estimators': 8, 'min_samples_leaf': 5, 'ma...</td>\n",
       "      <td>0.782946</td>\n",
       "      <td>0.790698</td>\n",
       "      <td>0.802326</td>\n",
       "      <td>0.817829</td>\n",
       "      <td>0.779070</td>\n",
       "      <td>0.794574</td>\n",
       "      <td>0.014082</td>\n",
       "      <td>4</td>\n",
       "    </tr>\n",
       "    <tr>\n",
       "      <th>21</th>\n",
       "      <td>0.024112</td>\n",
       "      <td>0.000315</td>\n",
       "      <td>0.001694</td>\n",
       "      <td>0.000237</td>\n",
       "      <td>6</td>\n",
       "      <td>7</td>\n",
       "      <td>None</td>\n",
       "      <td>8</td>\n",
       "      <td>gini</td>\n",
       "      <td>{'n_estimators': 6, 'min_samples_leaf': 7, 'ma...</td>\n",
       "      <td>0.782946</td>\n",
       "      <td>0.810078</td>\n",
       "      <td>0.806202</td>\n",
       "      <td>0.790698</td>\n",
       "      <td>0.779070</td>\n",
       "      <td>0.793798</td>\n",
       "      <td>0.012355</td>\n",
       "      <td>7</td>\n",
       "    </tr>\n",
       "    <tr>\n",
       "      <th>33</th>\n",
       "      <td>0.025388</td>\n",
       "      <td>0.000243</td>\n",
       "      <td>0.001924</td>\n",
       "      <td>0.000149</td>\n",
       "      <td>9</td>\n",
       "      <td>6</td>\n",
       "      <td>auto</td>\n",
       "      <td>7</td>\n",
       "      <td>entropy</td>\n",
       "      <td>{'n_estimators': 9, 'min_samples_leaf': 6, 'ma...</td>\n",
       "      <td>0.798450</td>\n",
       "      <td>0.786822</td>\n",
       "      <td>0.806202</td>\n",
       "      <td>0.810078</td>\n",
       "      <td>0.763566</td>\n",
       "      <td>0.793023</td>\n",
       "      <td>0.016734</td>\n",
       "      <td>8</td>\n",
       "    </tr>\n",
       "    <tr>\n",
       "      <th>9</th>\n",
       "      <td>0.018661</td>\n",
       "      <td>0.001506</td>\n",
       "      <td>0.001775</td>\n",
       "      <td>0.000170</td>\n",
       "      <td>8</td>\n",
       "      <td>2</td>\n",
       "      <td>auto</td>\n",
       "      <td>6</td>\n",
       "      <td>gini</td>\n",
       "      <td>{'n_estimators': 8, 'min_samples_leaf': 2, 'ma...</td>\n",
       "      <td>0.790698</td>\n",
       "      <td>0.782946</td>\n",
       "      <td>0.813953</td>\n",
       "      <td>0.794574</td>\n",
       "      <td>0.782946</td>\n",
       "      <td>0.793023</td>\n",
       "      <td>0.011393</td>\n",
       "      <td>8</td>\n",
       "    </tr>\n",
       "    <tr>\n",
       "      <th>10</th>\n",
       "      <td>0.025485</td>\n",
       "      <td>0.000851</td>\n",
       "      <td>0.002144</td>\n",
       "      <td>0.000121</td>\n",
       "      <td>9</td>\n",
       "      <td>7</td>\n",
       "      <td>log2</td>\n",
       "      <td>6</td>\n",
       "      <td>entropy</td>\n",
       "      <td>{'n_estimators': 9, 'min_samples_leaf': 7, 'ma...</td>\n",
       "      <td>0.806202</td>\n",
       "      <td>0.806202</td>\n",
       "      <td>0.798450</td>\n",
       "      <td>0.794574</td>\n",
       "      <td>0.759690</td>\n",
       "      <td>0.793023</td>\n",
       "      <td>0.017264</td>\n",
       "      <td>8</td>\n",
       "    </tr>\n",
       "  </tbody>\n",
       "</table>\n",
       "</div>"
      ],
      "text/plain": [
       "    mean_fit_time  std_fit_time  mean_score_time  std_score_time  \\\n",
       "38       0.015323      0.000306         0.001631        0.000202   \n",
       "1        0.021792      0.004117         0.001730        0.000107   \n",
       "25       0.023739      0.000382         0.001879        0.000142   \n",
       "42       0.020383      0.000336         0.002084        0.000332   \n",
       "30       0.017766      0.000972         0.001810        0.000332   \n",
       "3        0.024564      0.000834         0.001906        0.000167   \n",
       "21       0.024112      0.000315         0.001694        0.000237   \n",
       "33       0.025388      0.000243         0.001924        0.000149   \n",
       "9        0.018661      0.001506         0.001775        0.000170   \n",
       "10       0.025485      0.000851         0.002144        0.000121   \n",
       "\n",
       "   param_n_estimators param_min_samples_leaf param_max_features  \\\n",
       "38                  6                      6               log2   \n",
       "1                   8                      6               auto   \n",
       "25                  9                      4               auto   \n",
       "42                  9                      6               sqrt   \n",
       "30                  6                      6               auto   \n",
       "3                   8                      5               sqrt   \n",
       "21                  6                      7               None   \n",
       "33                  9                      6               auto   \n",
       "9                   8                      2               auto   \n",
       "10                  9                      7               log2   \n",
       "\n",
       "   param_max_depth param_criterion  \\\n",
       "38               8            gini   \n",
       "1                7            gini   \n",
       "25               9            gini   \n",
       "42               6            gini   \n",
       "30               7         entropy   \n",
       "3                8         entropy   \n",
       "21               8            gini   \n",
       "33               7         entropy   \n",
       "9                6            gini   \n",
       "10               6         entropy   \n",
       "\n",
       "                                               params  split0_test_score  \\\n",
       "38  {'n_estimators': 6, 'min_samples_leaf': 6, 'ma...           0.798450   \n",
       "1   {'n_estimators': 8, 'min_samples_leaf': 6, 'ma...           0.782946   \n",
       "25  {'n_estimators': 9, 'min_samples_leaf': 4, 'ma...           0.779070   \n",
       "42  {'n_estimators': 9, 'min_samples_leaf': 6, 'ma...           0.798450   \n",
       "30  {'n_estimators': 6, 'min_samples_leaf': 6, 'ma...           0.786822   \n",
       "3   {'n_estimators': 8, 'min_samples_leaf': 5, 'ma...           0.782946   \n",
       "21  {'n_estimators': 6, 'min_samples_leaf': 7, 'ma...           0.782946   \n",
       "33  {'n_estimators': 9, 'min_samples_leaf': 6, 'ma...           0.798450   \n",
       "9   {'n_estimators': 8, 'min_samples_leaf': 2, 'ma...           0.790698   \n",
       "10  {'n_estimators': 9, 'min_samples_leaf': 7, 'ma...           0.806202   \n",
       "\n",
       "    split1_test_score  split2_test_score  split3_test_score  \\\n",
       "38           0.794574           0.806202           0.810078   \n",
       "1            0.790698           0.813953           0.817829   \n",
       "25           0.794574           0.806202           0.813953   \n",
       "42           0.798450           0.810078           0.786822   \n",
       "30           0.794574           0.810078           0.813953   \n",
       "3            0.790698           0.802326           0.817829   \n",
       "21           0.810078           0.806202           0.790698   \n",
       "33           0.786822           0.806202           0.810078   \n",
       "9            0.782946           0.813953           0.794574   \n",
       "10           0.806202           0.798450           0.794574   \n",
       "\n",
       "    split4_test_score  mean_test_score  std_test_score  rank_test_score  \n",
       "38           0.786822         0.799225        0.008277                1  \n",
       "1            0.782946         0.797674        0.015191                2  \n",
       "25           0.782946         0.795349        0.013292                3  \n",
       "42           0.779070         0.794574        0.010685                4  \n",
       "30           0.767442         0.794574        0.016806                4  \n",
       "3            0.779070         0.794574        0.014082                4  \n",
       "21           0.779070         0.793798        0.012355                7  \n",
       "33           0.763566         0.793023        0.016734                8  \n",
       "9            0.782946         0.793023        0.011393                8  \n",
       "10           0.759690         0.793023        0.017264                8  "
      ]
     },
     "metadata": {},
     "output_type": "display_data"
    }
   ],
   "source": [
    "random_forest_random_results = pd.DataFrame(random_forest_random_grid_cv.cv_results_)\n",
    "\n",
    "display(random_forest_random_results.sort_values(by='mean_test_score', ascending=False).head(10))\n"
   ]
  },
  {
   "cell_type": "markdown",
   "metadata": {},
   "source": [
    "- Зададим новую сетку параметров "
   ]
  },
  {
   "cell_type": "code",
   "execution_count": 27,
   "metadata": {
    "ExecuteTime": {
     "end_time": "2022-05-30T18:00:13.566040Z",
     "start_time": "2022-05-30T18:00:13.561475Z"
    }
   },
   "outputs": [],
   "source": [
    "random_forest_parameters_grid = {\n",
    "    'criterion' : ['gini'],\n",
    "    'max_depth' : range(7, 9),\n",
    "    'max_features' : ['sqrt', 'log2'],\n",
    "    'min_samples_leaf' :  range(1, 4),\n",
    "    'n_estimators' :  range(6, 8)\n",
    "} "
   ]
  },
  {
   "cell_type": "markdown",
   "metadata": {},
   "source": [
    "- Посчитаем сколько точек мы проверяем по общей сетке параметров"
   ]
  },
  {
   "cell_type": "code",
   "execution_count": 28,
   "metadata": {
    "ExecuteTime": {
     "end_time": "2022-05-30T18:00:13.572462Z",
     "start_time": "2022-05-30T18:00:13.567725Z"
    }
   },
   "outputs": [
    {
     "name": "stdout",
     "output_type": "stream",
     "text": [
      "Количество точек сетки для модели \"случайный лес\": 24\n"
     ]
    }
   ],
   "source": [
    "random_forest_grid_points = ParameterGrid(random_forest_parameters_grid)\n",
    "print('Количество точек сетки для модели \"случайный лес\":', len(random_forest_grid_points))"
   ]
  },
  {
   "cell_type": "markdown",
   "metadata": {},
   "source": [
    "- Таким образом мы сократили количество точек для проверки почти в 6 раз\n",
    "\n",
    "\n",
    "- Теперь мы можем посчитать качество классификации модели со всеми комбинациями заданных параметров, чтобы выбрать лучшую"
   ]
  },
  {
   "cell_type": "code",
   "execution_count": 29,
   "metadata": {
    "ExecuteTime": {
     "end_time": "2022-05-30T18:00:13.580738Z",
     "start_time": "2022-05-30T18:00:13.573912Z"
    }
   },
   "outputs": [],
   "source": [
    "random_forest_grid_cv = GridSearchCV(random_forest_model, random_forest_parameters_grid, scoring='accuracy', cv=cv)"
   ]
  },
  {
   "cell_type": "markdown",
   "metadata": {},
   "source": [
    "- Обучим модели с разными параметрами и измерим общее время счета "
   ]
  },
  {
   "cell_type": "code",
   "execution_count": 30,
   "metadata": {
    "ExecuteTime": {
     "end_time": "2022-05-30T18:00:15.925047Z",
     "start_time": "2022-05-30T18:00:13.582682Z"
    }
   },
   "outputs": [
    {
     "name": "stdout",
     "output_type": "stream",
     "text": [
      "CPU times: user 2.33 s, sys: 0 ns, total: 2.33 s\n",
      "Wall time: 2.34 s\n"
     ]
    },
    {
     "data": {
      "text/plain": [
       "GridSearchCV(cv=StratifiedShuffleSplit(n_splits=5, random_state=11111, test_size=None,\n",
       "            train_size=None),\n",
       "             estimator=RandomForestClassifier(random_state=11111),\n",
       "             param_grid={'criterion': ['gini'], 'max_depth': range(7, 9),\n",
       "                         'max_features': ['sqrt', 'log2'],\n",
       "                         'min_samples_leaf': range(1, 4),\n",
       "                         'n_estimators': range(6, 8)},\n",
       "             scoring='accuracy')"
      ]
     },
     "execution_count": 30,
     "metadata": {},
     "output_type": "execute_result"
    }
   ],
   "source": [
    "%%time\n",
    "random_forest_grid_cv.fit(train_features, train_target)"
   ]
  },
  {
   "cell_type": "code",
   "execution_count": 31,
   "metadata": {
    "ExecuteTime": {
     "end_time": "2022-05-30T18:00:15.930400Z",
     "start_time": "2022-05-30T18:00:15.926685Z"
    }
   },
   "outputs": [
    {
     "name": "stdout",
     "output_type": "stream",
     "text": [
      "Accuracy наилучшей модели на кросс-валидационной выборке: 0.8\n",
      "\n",
      "Параметры для наилучшей модели на кросс-валидационной выборке:\n",
      "\n",
      "{'criterion': 'gini', 'max_depth': 7, 'max_features': 'sqrt', 'min_samples_leaf': 1, 'n_estimators': 6}\n"
     ]
    }
   ],
   "source": [
    "print('Accuracy наилучшей модели на кросс-валидационной выборке:', random_forest_grid_cv.best_score_)\n",
    "print()\n",
    "print('Параметры для наилучшей модели на кросс-валидационной выборке:')\n",
    "print()\n",
    "print(random_forest_grid_cv.best_params_)"
   ]
  },
  {
   "cell_type": "markdown",
   "metadata": {},
   "source": [
    "- Лучшая точность модели, посчитанная по полной сетке, получилась немного выше, чем по разряженной сетке  \n",
    "\n",
    "\n",
    "- Определили точность и оптимальные параметры лучшей модели\n",
    "\n",
    "\n",
    "- Дополительно рассмотрим все решения  "
   ]
  },
  {
   "cell_type": "code",
   "execution_count": 32,
   "metadata": {
    "ExecuteTime": {
     "end_time": "2022-05-30T18:00:15.949863Z",
     "start_time": "2022-05-30T18:00:15.932675Z"
    }
   },
   "outputs": [
    {
     "data": {
      "text/html": [
       "<div>\n",
       "<style scoped>\n",
       "    .dataframe tbody tr th:only-of-type {\n",
       "        vertical-align: middle;\n",
       "    }\n",
       "\n",
       "    .dataframe tbody tr th {\n",
       "        vertical-align: top;\n",
       "    }\n",
       "\n",
       "    .dataframe thead th {\n",
       "        text-align: right;\n",
       "    }\n",
       "</style>\n",
       "<table border=\"1\" class=\"dataframe\">\n",
       "  <thead>\n",
       "    <tr style=\"text-align: right;\">\n",
       "      <th></th>\n",
       "      <th>params</th>\n",
       "      <th>mean_test_score</th>\n",
       "    </tr>\n",
       "  </thead>\n",
       "  <tbody>\n",
       "    <tr>\n",
       "      <th>0</th>\n",
       "      <td>{'criterion': 'gini', 'max_depth': 7, 'max_fea...</td>\n",
       "      <td>0.800000</td>\n",
       "    </tr>\n",
       "    <tr>\n",
       "      <th>6</th>\n",
       "      <td>{'criterion': 'gini', 'max_depth': 7, 'max_fea...</td>\n",
       "      <td>0.800000</td>\n",
       "    </tr>\n",
       "    <tr>\n",
       "      <th>7</th>\n",
       "      <td>{'criterion': 'gini', 'max_depth': 7, 'max_fea...</td>\n",
       "      <td>0.799225</td>\n",
       "    </tr>\n",
       "    <tr>\n",
       "      <th>1</th>\n",
       "      <td>{'criterion': 'gini', 'max_depth': 7, 'max_fea...</td>\n",
       "      <td>0.799225</td>\n",
       "    </tr>\n",
       "    <tr>\n",
       "      <th>3</th>\n",
       "      <td>{'criterion': 'gini', 'max_depth': 7, 'max_fea...</td>\n",
       "      <td>0.796899</td>\n",
       "    </tr>\n",
       "    <tr>\n",
       "      <th>4</th>\n",
       "      <td>{'criterion': 'gini', 'max_depth': 7, 'max_fea...</td>\n",
       "      <td>0.796899</td>\n",
       "    </tr>\n",
       "    <tr>\n",
       "      <th>9</th>\n",
       "      <td>{'criterion': 'gini', 'max_depth': 7, 'max_fea...</td>\n",
       "      <td>0.796899</td>\n",
       "    </tr>\n",
       "    <tr>\n",
       "      <th>10</th>\n",
       "      <td>{'criterion': 'gini', 'max_depth': 7, 'max_fea...</td>\n",
       "      <td>0.796899</td>\n",
       "    </tr>\n",
       "    <tr>\n",
       "      <th>13</th>\n",
       "      <td>{'criterion': 'gini', 'max_depth': 8, 'max_fea...</td>\n",
       "      <td>0.793023</td>\n",
       "    </tr>\n",
       "    <tr>\n",
       "      <th>19</th>\n",
       "      <td>{'criterion': 'gini', 'max_depth': 8, 'max_fea...</td>\n",
       "      <td>0.793023</td>\n",
       "    </tr>\n",
       "  </tbody>\n",
       "</table>\n",
       "</div>"
      ],
      "text/plain": [
       "                                               params  mean_test_score\n",
       "0   {'criterion': 'gini', 'max_depth': 7, 'max_fea...         0.800000\n",
       "6   {'criterion': 'gini', 'max_depth': 7, 'max_fea...         0.800000\n",
       "7   {'criterion': 'gini', 'max_depth': 7, 'max_fea...         0.799225\n",
       "1   {'criterion': 'gini', 'max_depth': 7, 'max_fea...         0.799225\n",
       "3   {'criterion': 'gini', 'max_depth': 7, 'max_fea...         0.796899\n",
       "4   {'criterion': 'gini', 'max_depth': 7, 'max_fea...         0.796899\n",
       "9   {'criterion': 'gini', 'max_depth': 7, 'max_fea...         0.796899\n",
       "10  {'criterion': 'gini', 'max_depth': 7, 'max_fea...         0.796899\n",
       "13  {'criterion': 'gini', 'max_depth': 8, 'max_fea...         0.793023\n",
       "19  {'criterion': 'gini', 'max_depth': 8, 'max_fea...         0.793023"
      ]
     },
     "metadata": {},
     "output_type": "display_data"
    },
    {
     "name": "stdout",
     "output_type": "stream",
     "text": [
      "\n",
      "Наилучшее решение достигается при 2 вариантах параметризации\n"
     ]
    }
   ],
   "source": [
    "random_forest_results = pd.DataFrame(random_forest_grid_cv.cv_results_)\n",
    "\n",
    "display(random_forest_results[['params', 'mean_test_score']].sort_values(by='mean_test_score', ascending=False).head(10))\n",
    "\n",
    "print()\n",
    "print('Наилучшее решение достигается при', len(random_forest_results.query('mean_test_score==@random_forest_grid_cv.best_score_')), 'вариантах параметризации')"
   ]
  },
  {
   "cell_type": "markdown",
   "metadata": {},
   "source": [
    "- Как видно из таблици решений, наиулчшая точность достигается при двух возможных параметризациях\n",
    "\n",
    "\n",
    "- Построим график зависимости всех получившихся моделей от качества, чтобы оценить распределение точности при переборе выбранных параметров"
   ]
  },
  {
   "cell_type": "code",
   "execution_count": 33,
   "metadata": {
    "ExecuteTime": {
     "end_time": "2022-05-30T18:00:16.062509Z",
     "start_time": "2022-05-30T18:00:15.951473Z"
    }
   },
   "outputs": [
    {
     "data": {
      "image/png": "[encoded data removed]",
      "text/plain": [
       "<Figure size 1224x360 with 1 Axes>"
      ]
     },
     "metadata": {
      "needs_background": "light"
     },
     "output_type": "display_data"
    }
   ],
   "source": [
    "title = 'График зависимости модели и качества'\n",
    "ax = random_forest_results.sort_values(by='mean_test_score').reset_index().plot(y='mean_test_score', figsize=(17,5), title=title, fontsize=9, style='-', grid=True)\n",
    "ax.set(xlabel='Номер модели', ylabel='Accuracy')\n",
    "plt.show()"
   ]
  },
  {
   "cell_type": "markdown",
   "metadata": {},
   "source": [
    "- Максимальные значения точности достаточно уверенно выделяются на фоне остальных \n",
    "\n",
    "- Наилучшее значение точности превышает минимально допустимое 0.75"
   ]
  },
  {
   "cell_type": "markdown",
   "metadata": {},
   "source": [
    "### Модель: логистическая регрессия"
   ]
  },
  {
   "cell_type": "markdown",
   "metadata": {},
   "source": [
    "- Зададим модель логистической регрессии"
   ]
  },
  {
   "cell_type": "code",
   "execution_count": 34,
   "metadata": {
    "ExecuteTime": {
     "end_time": "2022-05-30T18:00:16.066582Z",
     "start_time": "2022-05-30T18:00:16.064186Z"
    }
   },
   "outputs": [],
   "source": [
    "logic_regression_model = LogisticRegression(random_state=random_state) "
   ]
  },
  {
   "cell_type": "markdown",
   "metadata": {},
   "source": [
    "- Рассмотрим параметры заданной модели"
   ]
  },
  {
   "cell_type": "code",
   "execution_count": 35,
   "metadata": {
    "ExecuteTime": {
     "end_time": "2022-05-30T18:00:16.077187Z",
     "start_time": "2022-05-30T18:00:16.067973Z"
    }
   },
   "outputs": [
    {
     "data": {
      "text/plain": [
       "dict_keys(['C', 'class_weight', 'dual', 'fit_intercept', 'intercept_scaling', 'l1_ratio', 'max_iter', 'multi_class', 'n_jobs', 'penalty', 'random_state', 'solver', 'tol', 'verbose', 'warm_start'])"
      ]
     },
     "execution_count": 35,
     "metadata": {},
     "output_type": "execute_result"
    }
   ],
   "source": [
    "logic_regression_model.get_params().keys()"
   ]
  },
  {
   "cell_type": "markdown",
   "metadata": {},
   "source": [
    "- Зададим параметры для подбора"
   ]
  },
  {
   "cell_type": "code",
   "execution_count": 36,
   "metadata": {
    "ExecuteTime": {
     "end_time": "2022-05-30T18:00:16.084769Z",
     "start_time": "2022-05-30T18:00:16.079708Z"
    }
   },
   "outputs": [],
   "source": [
    "logic_regression_parameters_grid = {\n",
    "    'penalty' : ['none', 'l2'],\n",
    "    'solver' : ['lbfgs'],\n",
    "    'multi_class' : ['auto', 'ovr', 'multinomial'],\n",
    "    'max_iter' : range(100, 200, 10)\n",
    "}"
   ]
  },
  {
   "cell_type": "markdown",
   "metadata": {},
   "source": [
    "- Теперь мы можем посчитать качество классификации модели со всеми комбинациями заданных параметров, чтобы выбрать лучшую\n",
    "\n",
    "\n",
    "- Зададим объект grid_search, для которого укажем выбранный тип модели, грид параметров для перебора, метрику качества и стратегию кросс-валидации\n",
    "\n",
    "\n",
    "- Для данной модели мы задали не так много параметров и их возможных комбинаций, поэтому можем сразу начать считать на полной сетке"
   ]
  },
  {
   "cell_type": "code",
   "execution_count": 37,
   "metadata": {
    "ExecuteTime": {
     "end_time": "2022-05-30T18:00:16.091384Z",
     "start_time": "2022-05-30T18:00:16.087163Z"
    }
   },
   "outputs": [],
   "source": [
    "logic_regression_grid_cv = GridSearchCV(logic_regression_model, logic_regression_parameters_grid, scoring='accuracy', cv=cv)"
   ]
  },
  {
   "cell_type": "markdown",
   "metadata": {},
   "source": [
    "- Обучим модели с разными параметрами и измерим общее время счета "
   ]
  },
  {
   "cell_type": "code",
   "execution_count": 38,
   "metadata": {
    "ExecuteTime": {
     "end_time": "2022-05-30T18:00:23.733354Z",
     "start_time": "2022-05-30T18:00:16.094148Z"
    }
   },
   "outputs": [
    {
     "name": "stdout",
     "output_type": "stream",
     "text": [
      "CPU times: user 21.2 s, sys: 40.7 s, total: 1min 1s\n",
      "Wall time: 7.63 s\n"
     ]
    },
    {
     "data": {
      "text/plain": [
       "GridSearchCV(cv=StratifiedShuffleSplit(n_splits=5, random_state=11111, test_size=None,\n",
       "            train_size=None),\n",
       "             estimator=LogisticRegression(random_state=11111),\n",
       "             param_grid={'max_iter': range(100, 200, 10),\n",
       "                         'multi_class': ['auto', 'ovr', 'multinomial'],\n",
       "                         'penalty': ['none', 'l2'], 'solver': ['lbfgs']},\n",
       "             scoring='accuracy')"
      ]
     },
     "execution_count": 38,
     "metadata": {},
     "output_type": "execute_result"
    }
   ],
   "source": [
    "%%time\n",
    "logic_regression_grid_cv.fit(train_features, train_target)\n"
   ]
  },
  {
   "cell_type": "code",
   "execution_count": 39,
   "metadata": {
    "ExecuteTime": {
     "end_time": "2022-05-30T18:00:23.737272Z",
     "start_time": "2022-05-30T18:00:23.734519Z"
    }
   },
   "outputs": [
    {
     "name": "stdout",
     "output_type": "stream",
     "text": [
      "Accuracy наилучшей модели на кросс-валидационной выборке: 0.7255813953488371\n",
      "\n",
      "Параметры для наилучшей модели на кросс-валидационной выборке:\n",
      "\n",
      "{'max_iter': 100, 'multi_class': 'auto', 'penalty': 'none', 'solver': 'lbfgs'}\n"
     ]
    }
   ],
   "source": [
    "print('Accuracy наилучшей модели на кросс-валидационной выборке:', logic_regression_grid_cv.best_score_)\n",
    "print()\n",
    "print('Параметры для наилучшей модели на кросс-валидационной выборке:')\n",
    "print()\n",
    "print(logic_regression_grid_cv.best_params_)"
   ]
  },
  {
   "cell_type": "markdown",
   "metadata": {},
   "source": [
    "- Определили точность и оптимальные параметры лучшей модели\n",
    "\n",
    "\n",
    "- Дополительно рассмотрим все решения "
   ]
  },
  {
   "cell_type": "code",
   "execution_count": 40,
   "metadata": {
    "ExecuteTime": {
     "end_time": "2022-05-30T18:00:23.755889Z",
     "start_time": "2022-05-30T18:00:23.738283Z"
    }
   },
   "outputs": [
    {
     "data": {
      "text/html": [
       "<div>\n",
       "<style scoped>\n",
       "    .dataframe tbody tr th:only-of-type {\n",
       "        vertical-align: middle;\n",
       "    }\n",
       "\n",
       "    .dataframe tbody tr th {\n",
       "        vertical-align: top;\n",
       "    }\n",
       "\n",
       "    .dataframe thead th {\n",
       "        text-align: right;\n",
       "    }\n",
       "</style>\n",
       "<table border=\"1\" class=\"dataframe\">\n",
       "  <thead>\n",
       "    <tr style=\"text-align: right;\">\n",
       "      <th></th>\n",
       "      <th>params</th>\n",
       "      <th>mean_test_score</th>\n",
       "    </tr>\n",
       "  </thead>\n",
       "  <tbody>\n",
       "    <tr>\n",
       "      <th>0</th>\n",
       "      <td>{'max_iter': 100, 'multi_class': 'auto', 'pena...</td>\n",
       "      <td>0.725581</td>\n",
       "    </tr>\n",
       "    <tr>\n",
       "      <th>25</th>\n",
       "      <td>{'max_iter': 140, 'multi_class': 'auto', 'pena...</td>\n",
       "      <td>0.725581</td>\n",
       "    </tr>\n",
       "    <tr>\n",
       "      <th>27</th>\n",
       "      <td>{'max_iter': 140, 'multi_class': 'ovr', 'penal...</td>\n",
       "      <td>0.725581</td>\n",
       "    </tr>\n",
       "    <tr>\n",
       "      <th>1</th>\n",
       "      <td>{'max_iter': 100, 'multi_class': 'auto', 'pena...</td>\n",
       "      <td>0.725581</td>\n",
       "    </tr>\n",
       "    <tr>\n",
       "      <th>31</th>\n",
       "      <td>{'max_iter': 150, 'multi_class': 'auto', 'pena...</td>\n",
       "      <td>0.725581</td>\n",
       "    </tr>\n",
       "    <tr>\n",
       "      <th>32</th>\n",
       "      <td>{'max_iter': 150, 'multi_class': 'ovr', 'penal...</td>\n",
       "      <td>0.725581</td>\n",
       "    </tr>\n",
       "    <tr>\n",
       "      <th>33</th>\n",
       "      <td>{'max_iter': 150, 'multi_class': 'ovr', 'penal...</td>\n",
       "      <td>0.725581</td>\n",
       "    </tr>\n",
       "    <tr>\n",
       "      <th>36</th>\n",
       "      <td>{'max_iter': 160, 'multi_class': 'auto', 'pena...</td>\n",
       "      <td>0.725581</td>\n",
       "    </tr>\n",
       "    <tr>\n",
       "      <th>37</th>\n",
       "      <td>{'max_iter': 160, 'multi_class': 'auto', 'pena...</td>\n",
       "      <td>0.725581</td>\n",
       "    </tr>\n",
       "    <tr>\n",
       "      <th>38</th>\n",
       "      <td>{'max_iter': 160, 'multi_class': 'ovr', 'penal...</td>\n",
       "      <td>0.725581</td>\n",
       "    </tr>\n",
       "  </tbody>\n",
       "</table>\n",
       "</div>"
      ],
      "text/plain": [
       "                                               params  mean_test_score\n",
       "0   {'max_iter': 100, 'multi_class': 'auto', 'pena...         0.725581\n",
       "25  {'max_iter': 140, 'multi_class': 'auto', 'pena...         0.725581\n",
       "27  {'max_iter': 140, 'multi_class': 'ovr', 'penal...         0.725581\n",
       "1   {'max_iter': 100, 'multi_class': 'auto', 'pena...         0.725581\n",
       "31  {'max_iter': 150, 'multi_class': 'auto', 'pena...         0.725581\n",
       "32  {'max_iter': 150, 'multi_class': 'ovr', 'penal...         0.725581\n",
       "33  {'max_iter': 150, 'multi_class': 'ovr', 'penal...         0.725581\n",
       "36  {'max_iter': 160, 'multi_class': 'auto', 'pena...         0.725581\n",
       "37  {'max_iter': 160, 'multi_class': 'auto', 'pena...         0.725581\n",
       "38  {'max_iter': 160, 'multi_class': 'ovr', 'penal...         0.725581"
      ]
     },
     "metadata": {},
     "output_type": "display_data"
    },
    {
     "name": "stdout",
     "output_type": "stream",
     "text": [
      "\n",
      "Наилучшее решение достигается при 80 вариантах параметризации\n"
     ]
    }
   ],
   "source": [
    "logic_regression_results = pd.DataFrame(logic_regression_grid_cv.cv_results_)\n",
    "\n",
    "display(logic_regression_results[['params', 'mean_test_score']].sort_values(by='mean_test_score', ascending=False).head(10))\n",
    "\n",
    "print()\n",
    "print('Наилучшее решение достигается при', len(tree_results.query('mean_test_score==@logic_regression_grid_cv.best_score_')), 'вариантах параметризации')"
   ]
  },
  {
   "cell_type": "markdown",
   "metadata": {},
   "source": [
    "- Как видно из таблици решений, наиулчшая точность достигается при нескольких возможных параметризациях (80)\n",
    "\n",
    "\n",
    "- Построим график зависимости всех получившихся моделей от качества, чтобы оценить распределение точности при переборе выбранных параметров"
   ]
  },
  {
   "cell_type": "code",
   "execution_count": 41,
   "metadata": {
    "ExecuteTime": {
     "end_time": "2022-05-30T18:00:23.867311Z",
     "start_time": "2022-05-30T18:00:23.757157Z"
    }
   },
   "outputs": [
    {
     "data": {
      "image/png": "[encoded data removed]",
      "text/plain": [
       "<Figure size 1224x360 with 1 Axes>"
      ]
     },
     "metadata": {
      "needs_background": "light"
     },
     "output_type": "display_data"
    }
   ],
   "source": [
    "title = 'График зависимости модели и качества'\n",
    "ax = logic_regression_results.sort_values(by='mean_test_score').reset_index().plot(y='mean_test_score', figsize=(17,5), title=title, fontsize=9, style='-', grid=True)\n",
    "ax.set(xlabel='Номер модели', ylabel='Accuracy')\n",
    "plt.show()"
   ]
  },
  {
   "cell_type": "markdown",
   "metadata": {},
   "source": [
    "- Результаты обучения неудовлетворительные\n",
    "\n",
    "\n",
    "- На графике точность модели меняется скачкообразно, при этом значения выходят на постоянные значения\n",
    "\n",
    "\n",
    "- Следовательно перебор параметров стоит пересмотреть"
   ]
  },
  {
   "cell_type": "code",
   "execution_count": 42,
   "metadata": {
    "ExecuteTime": {
     "end_time": "2022-05-30T18:00:23.911156Z",
     "start_time": "2022-05-30T18:00:23.872168Z"
    },
    "scrolled": true
   },
   "outputs": [
    {
     "data": {
      "text/html": [
       "<div>\n",
       "<style scoped>\n",
       "    .dataframe tbody tr th:only-of-type {\n",
       "        vertical-align: middle;\n",
       "    }\n",
       "\n",
       "    .dataframe tbody tr th {\n",
       "        vertical-align: top;\n",
       "    }\n",
       "\n",
       "    .dataframe thead th {\n",
       "        text-align: right;\n",
       "    }\n",
       "</style>\n",
       "<table border=\"1\" class=\"dataframe\">\n",
       "  <thead>\n",
       "    <tr style=\"text-align: right;\">\n",
       "      <th></th>\n",
       "      <th>mean_fit_time</th>\n",
       "      <th>std_fit_time</th>\n",
       "      <th>mean_score_time</th>\n",
       "      <th>std_score_time</th>\n",
       "      <th>param_max_iter</th>\n",
       "      <th>param_multi_class</th>\n",
       "      <th>param_penalty</th>\n",
       "      <th>param_solver</th>\n",
       "      <th>params</th>\n",
       "      <th>split0_test_score</th>\n",
       "      <th>split1_test_score</th>\n",
       "      <th>split2_test_score</th>\n",
       "      <th>split3_test_score</th>\n",
       "      <th>split4_test_score</th>\n",
       "      <th>mean_test_score</th>\n",
       "      <th>std_test_score</th>\n",
       "      <th>rank_test_score</th>\n",
       "    </tr>\n",
       "  </thead>\n",
       "  <tbody>\n",
       "    <tr>\n",
       "      <th>0</th>\n",
       "      <td>0.025131</td>\n",
       "      <td>0.009846</td>\n",
       "      <td>0.001061</td>\n",
       "      <td>0.000050</td>\n",
       "      <td>100</td>\n",
       "      <td>auto</td>\n",
       "      <td>none</td>\n",
       "      <td>lbfgs</td>\n",
       "      <td>{'max_iter': 100, 'multi_class': 'auto', 'pena...</td>\n",
       "      <td>0.751938</td>\n",
       "      <td>0.748062</td>\n",
       "      <td>0.678295</td>\n",
       "      <td>0.744186</td>\n",
       "      <td>0.705426</td>\n",
       "      <td>0.725581</td>\n",
       "      <td>0.028943</td>\n",
       "      <td>1</td>\n",
       "    </tr>\n",
       "    <tr>\n",
       "      <th>25</th>\n",
       "      <td>0.020182</td>\n",
       "      <td>0.009839</td>\n",
       "      <td>0.001013</td>\n",
       "      <td>0.000008</td>\n",
       "      <td>140</td>\n",
       "      <td>auto</td>\n",
       "      <td>l2</td>\n",
       "      <td>lbfgs</td>\n",
       "      <td>{'max_iter': 140, 'multi_class': 'auto', 'pena...</td>\n",
       "      <td>0.751938</td>\n",
       "      <td>0.748062</td>\n",
       "      <td>0.678295</td>\n",
       "      <td>0.744186</td>\n",
       "      <td>0.705426</td>\n",
       "      <td>0.725581</td>\n",
       "      <td>0.028943</td>\n",
       "      <td>1</td>\n",
       "    </tr>\n",
       "    <tr>\n",
       "      <th>27</th>\n",
       "      <td>0.016058</td>\n",
       "      <td>0.004610</td>\n",
       "      <td>0.001028</td>\n",
       "      <td>0.000013</td>\n",
       "      <td>140</td>\n",
       "      <td>ovr</td>\n",
       "      <td>l2</td>\n",
       "      <td>lbfgs</td>\n",
       "      <td>{'max_iter': 140, 'multi_class': 'ovr', 'penal...</td>\n",
       "      <td>0.751938</td>\n",
       "      <td>0.748062</td>\n",
       "      <td>0.678295</td>\n",
       "      <td>0.744186</td>\n",
       "      <td>0.705426</td>\n",
       "      <td>0.725581</td>\n",
       "      <td>0.028943</td>\n",
       "      <td>1</td>\n",
       "    </tr>\n",
       "    <tr>\n",
       "      <th>1</th>\n",
       "      <td>0.035371</td>\n",
       "      <td>0.011428</td>\n",
       "      <td>0.001065</td>\n",
       "      <td>0.000040</td>\n",
       "      <td>100</td>\n",
       "      <td>auto</td>\n",
       "      <td>l2</td>\n",
       "      <td>lbfgs</td>\n",
       "      <td>{'max_iter': 100, 'multi_class': 'auto', 'pena...</td>\n",
       "      <td>0.751938</td>\n",
       "      <td>0.748062</td>\n",
       "      <td>0.678295</td>\n",
       "      <td>0.744186</td>\n",
       "      <td>0.705426</td>\n",
       "      <td>0.725581</td>\n",
       "      <td>0.028943</td>\n",
       "      <td>1</td>\n",
       "    </tr>\n",
       "    <tr>\n",
       "      <th>31</th>\n",
       "      <td>0.016072</td>\n",
       "      <td>0.004614</td>\n",
       "      <td>0.001020</td>\n",
       "      <td>0.000010</td>\n",
       "      <td>150</td>\n",
       "      <td>auto</td>\n",
       "      <td>l2</td>\n",
       "      <td>lbfgs</td>\n",
       "      <td>{'max_iter': 150, 'multi_class': 'auto', 'pena...</td>\n",
       "      <td>0.751938</td>\n",
       "      <td>0.748062</td>\n",
       "      <td>0.678295</td>\n",
       "      <td>0.744186</td>\n",
       "      <td>0.705426</td>\n",
       "      <td>0.725581</td>\n",
       "      <td>0.028943</td>\n",
       "      <td>1</td>\n",
       "    </tr>\n",
       "    <tr>\n",
       "      <th>32</th>\n",
       "      <td>0.017151</td>\n",
       "      <td>0.005903</td>\n",
       "      <td>0.001032</td>\n",
       "      <td>0.000013</td>\n",
       "      <td>150</td>\n",
       "      <td>ovr</td>\n",
       "      <td>none</td>\n",
       "      <td>lbfgs</td>\n",
       "      <td>{'max_iter': 150, 'multi_class': 'ovr', 'penal...</td>\n",
       "      <td>0.751938</td>\n",
       "      <td>0.748062</td>\n",
       "      <td>0.678295</td>\n",
       "      <td>0.744186</td>\n",
       "      <td>0.705426</td>\n",
       "      <td>0.725581</td>\n",
       "      <td>0.028943</td>\n",
       "      <td>1</td>\n",
       "    </tr>\n",
       "    <tr>\n",
       "      <th>33</th>\n",
       "      <td>0.016019</td>\n",
       "      <td>0.004566</td>\n",
       "      <td>0.001024</td>\n",
       "      <td>0.000012</td>\n",
       "      <td>150</td>\n",
       "      <td>ovr</td>\n",
       "      <td>l2</td>\n",
       "      <td>lbfgs</td>\n",
       "      <td>{'max_iter': 150, 'multi_class': 'ovr', 'penal...</td>\n",
       "      <td>0.751938</td>\n",
       "      <td>0.748062</td>\n",
       "      <td>0.678295</td>\n",
       "      <td>0.744186</td>\n",
       "      <td>0.705426</td>\n",
       "      <td>0.725581</td>\n",
       "      <td>0.028943</td>\n",
       "      <td>1</td>\n",
       "    </tr>\n",
       "    <tr>\n",
       "      <th>36</th>\n",
       "      <td>0.017812</td>\n",
       "      <td>0.006637</td>\n",
       "      <td>0.001028</td>\n",
       "      <td>0.000022</td>\n",
       "      <td>160</td>\n",
       "      <td>auto</td>\n",
       "      <td>none</td>\n",
       "      <td>lbfgs</td>\n",
       "      <td>{'max_iter': 160, 'multi_class': 'auto', 'pena...</td>\n",
       "      <td>0.751938</td>\n",
       "      <td>0.748062</td>\n",
       "      <td>0.678295</td>\n",
       "      <td>0.744186</td>\n",
       "      <td>0.705426</td>\n",
       "      <td>0.725581</td>\n",
       "      <td>0.028943</td>\n",
       "      <td>1</td>\n",
       "    </tr>\n",
       "    <tr>\n",
       "      <th>37</th>\n",
       "      <td>0.016249</td>\n",
       "      <td>0.004813</td>\n",
       "      <td>0.001032</td>\n",
       "      <td>0.000014</td>\n",
       "      <td>160</td>\n",
       "      <td>auto</td>\n",
       "      <td>l2</td>\n",
       "      <td>lbfgs</td>\n",
       "      <td>{'max_iter': 160, 'multi_class': 'auto', 'pena...</td>\n",
       "      <td>0.751938</td>\n",
       "      <td>0.748062</td>\n",
       "      <td>0.678295</td>\n",
       "      <td>0.744186</td>\n",
       "      <td>0.705426</td>\n",
       "      <td>0.725581</td>\n",
       "      <td>0.028943</td>\n",
       "      <td>1</td>\n",
       "    </tr>\n",
       "    <tr>\n",
       "      <th>38</th>\n",
       "      <td>0.017178</td>\n",
       "      <td>0.005883</td>\n",
       "      <td>0.001014</td>\n",
       "      <td>0.000010</td>\n",
       "      <td>160</td>\n",
       "      <td>ovr</td>\n",
       "      <td>none</td>\n",
       "      <td>lbfgs</td>\n",
       "      <td>{'max_iter': 160, 'multi_class': 'ovr', 'penal...</td>\n",
       "      <td>0.751938</td>\n",
       "      <td>0.748062</td>\n",
       "      <td>0.678295</td>\n",
       "      <td>0.744186</td>\n",
       "      <td>0.705426</td>\n",
       "      <td>0.725581</td>\n",
       "      <td>0.028943</td>\n",
       "      <td>1</td>\n",
       "    </tr>\n",
       "    <tr>\n",
       "      <th>39</th>\n",
       "      <td>0.018966</td>\n",
       "      <td>0.005676</td>\n",
       "      <td>0.001052</td>\n",
       "      <td>0.000018</td>\n",
       "      <td>160</td>\n",
       "      <td>ovr</td>\n",
       "      <td>l2</td>\n",
       "      <td>lbfgs</td>\n",
       "      <td>{'max_iter': 160, 'multi_class': 'ovr', 'penal...</td>\n",
       "      <td>0.751938</td>\n",
       "      <td>0.748062</td>\n",
       "      <td>0.678295</td>\n",
       "      <td>0.744186</td>\n",
       "      <td>0.705426</td>\n",
       "      <td>0.725581</td>\n",
       "      <td>0.028943</td>\n",
       "      <td>1</td>\n",
       "    </tr>\n",
       "    <tr>\n",
       "      <th>42</th>\n",
       "      <td>0.017205</td>\n",
       "      <td>0.006021</td>\n",
       "      <td>0.001025</td>\n",
       "      <td>0.000011</td>\n",
       "      <td>170</td>\n",
       "      <td>auto</td>\n",
       "      <td>none</td>\n",
       "      <td>lbfgs</td>\n",
       "      <td>{'max_iter': 170, 'multi_class': 'auto', 'pena...</td>\n",
       "      <td>0.751938</td>\n",
       "      <td>0.748062</td>\n",
       "      <td>0.678295</td>\n",
       "      <td>0.744186</td>\n",
       "      <td>0.705426</td>\n",
       "      <td>0.725581</td>\n",
       "      <td>0.028943</td>\n",
       "      <td>1</td>\n",
       "    </tr>\n",
       "    <tr>\n",
       "      <th>43</th>\n",
       "      <td>0.017468</td>\n",
       "      <td>0.005770</td>\n",
       "      <td>0.001032</td>\n",
       "      <td>0.000007</td>\n",
       "      <td>170</td>\n",
       "      <td>auto</td>\n",
       "      <td>l2</td>\n",
       "      <td>lbfgs</td>\n",
       "      <td>{'max_iter': 170, 'multi_class': 'auto', 'pena...</td>\n",
       "      <td>0.751938</td>\n",
       "      <td>0.748062</td>\n",
       "      <td>0.678295</td>\n",
       "      <td>0.744186</td>\n",
       "      <td>0.705426</td>\n",
       "      <td>0.725581</td>\n",
       "      <td>0.028943</td>\n",
       "      <td>1</td>\n",
       "    </tr>\n",
       "    <tr>\n",
       "      <th>44</th>\n",
       "      <td>0.029409</td>\n",
       "      <td>0.013435</td>\n",
       "      <td>0.001030</td>\n",
       "      <td>0.000009</td>\n",
       "      <td>170</td>\n",
       "      <td>ovr</td>\n",
       "      <td>none</td>\n",
       "      <td>lbfgs</td>\n",
       "      <td>{'max_iter': 170, 'multi_class': 'ovr', 'penal...</td>\n",
       "      <td>0.751938</td>\n",
       "      <td>0.748062</td>\n",
       "      <td>0.678295</td>\n",
       "      <td>0.744186</td>\n",
       "      <td>0.705426</td>\n",
       "      <td>0.725581</td>\n",
       "      <td>0.028943</td>\n",
       "      <td>1</td>\n",
       "    </tr>\n",
       "    <tr>\n",
       "      <th>45</th>\n",
       "      <td>0.017001</td>\n",
       "      <td>0.005791</td>\n",
       "      <td>0.001029</td>\n",
       "      <td>0.000014</td>\n",
       "      <td>170</td>\n",
       "      <td>ovr</td>\n",
       "      <td>l2</td>\n",
       "      <td>lbfgs</td>\n",
       "      <td>{'max_iter': 170, 'multi_class': 'ovr', 'penal...</td>\n",
       "      <td>0.751938</td>\n",
       "      <td>0.748062</td>\n",
       "      <td>0.678295</td>\n",
       "      <td>0.744186</td>\n",
       "      <td>0.705426</td>\n",
       "      <td>0.725581</td>\n",
       "      <td>0.028943</td>\n",
       "      <td>1</td>\n",
       "    </tr>\n",
       "    <tr>\n",
       "      <th>48</th>\n",
       "      <td>0.017630</td>\n",
       "      <td>0.006286</td>\n",
       "      <td>0.001032</td>\n",
       "      <td>0.000015</td>\n",
       "      <td>180</td>\n",
       "      <td>auto</td>\n",
       "      <td>none</td>\n",
       "      <td>lbfgs</td>\n",
       "      <td>{'max_iter': 180, 'multi_class': 'auto', 'pena...</td>\n",
       "      <td>0.751938</td>\n",
       "      <td>0.748062</td>\n",
       "      <td>0.678295</td>\n",
       "      <td>0.744186</td>\n",
       "      <td>0.705426</td>\n",
       "      <td>0.725581</td>\n",
       "      <td>0.028943</td>\n",
       "      <td>1</td>\n",
       "    </tr>\n",
       "    <tr>\n",
       "      <th>49</th>\n",
       "      <td>0.017248</td>\n",
       "      <td>0.005728</td>\n",
       "      <td>0.001012</td>\n",
       "      <td>0.000006</td>\n",
       "      <td>180</td>\n",
       "      <td>auto</td>\n",
       "      <td>l2</td>\n",
       "      <td>lbfgs</td>\n",
       "      <td>{'max_iter': 180, 'multi_class': 'auto', 'pena...</td>\n",
       "      <td>0.751938</td>\n",
       "      <td>0.748062</td>\n",
       "      <td>0.678295</td>\n",
       "      <td>0.744186</td>\n",
       "      <td>0.705426</td>\n",
       "      <td>0.725581</td>\n",
       "      <td>0.028943</td>\n",
       "      <td>1</td>\n",
       "    </tr>\n",
       "    <tr>\n",
       "      <th>50</th>\n",
       "      <td>0.018269</td>\n",
       "      <td>0.006053</td>\n",
       "      <td>0.001027</td>\n",
       "      <td>0.000011</td>\n",
       "      <td>180</td>\n",
       "      <td>ovr</td>\n",
       "      <td>none</td>\n",
       "      <td>lbfgs</td>\n",
       "      <td>{'max_iter': 180, 'multi_class': 'ovr', 'penal...</td>\n",
       "      <td>0.751938</td>\n",
       "      <td>0.748062</td>\n",
       "      <td>0.678295</td>\n",
       "      <td>0.744186</td>\n",
       "      <td>0.705426</td>\n",
       "      <td>0.725581</td>\n",
       "      <td>0.028943</td>\n",
       "      <td>1</td>\n",
       "    </tr>\n",
       "    <tr>\n",
       "      <th>51</th>\n",
       "      <td>0.016351</td>\n",
       "      <td>0.004904</td>\n",
       "      <td>0.001036</td>\n",
       "      <td>0.000016</td>\n",
       "      <td>180</td>\n",
       "      <td>ovr</td>\n",
       "      <td>l2</td>\n",
       "      <td>lbfgs</td>\n",
       "      <td>{'max_iter': 180, 'multi_class': 'ovr', 'penal...</td>\n",
       "      <td>0.751938</td>\n",
       "      <td>0.748062</td>\n",
       "      <td>0.678295</td>\n",
       "      <td>0.744186</td>\n",
       "      <td>0.705426</td>\n",
       "      <td>0.725581</td>\n",
       "      <td>0.028943</td>\n",
       "      <td>1</td>\n",
       "    </tr>\n",
       "    <tr>\n",
       "      <th>54</th>\n",
       "      <td>0.020735</td>\n",
       "      <td>0.009233</td>\n",
       "      <td>0.001027</td>\n",
       "      <td>0.000003</td>\n",
       "      <td>190</td>\n",
       "      <td>auto</td>\n",
       "      <td>none</td>\n",
       "      <td>lbfgs</td>\n",
       "      <td>{'max_iter': 190, 'multi_class': 'auto', 'pena...</td>\n",
       "      <td>0.751938</td>\n",
       "      <td>0.748062</td>\n",
       "      <td>0.678295</td>\n",
       "      <td>0.744186</td>\n",
       "      <td>0.705426</td>\n",
       "      <td>0.725581</td>\n",
       "      <td>0.028943</td>\n",
       "      <td>1</td>\n",
       "    </tr>\n",
       "    <tr>\n",
       "      <th>55</th>\n",
       "      <td>0.016491</td>\n",
       "      <td>0.004917</td>\n",
       "      <td>0.001019</td>\n",
       "      <td>0.000007</td>\n",
       "      <td>190</td>\n",
       "      <td>auto</td>\n",
       "      <td>l2</td>\n",
       "      <td>lbfgs</td>\n",
       "      <td>{'max_iter': 190, 'multi_class': 'auto', 'pena...</td>\n",
       "      <td>0.751938</td>\n",
       "      <td>0.748062</td>\n",
       "      <td>0.678295</td>\n",
       "      <td>0.744186</td>\n",
       "      <td>0.705426</td>\n",
       "      <td>0.725581</td>\n",
       "      <td>0.028943</td>\n",
       "      <td>1</td>\n",
       "    </tr>\n",
       "    <tr>\n",
       "      <th>56</th>\n",
       "      <td>0.017631</td>\n",
       "      <td>0.006605</td>\n",
       "      <td>0.001018</td>\n",
       "      <td>0.000011</td>\n",
       "      <td>190</td>\n",
       "      <td>ovr</td>\n",
       "      <td>none</td>\n",
       "      <td>lbfgs</td>\n",
       "      <td>{'max_iter': 190, 'multi_class': 'ovr', 'penal...</td>\n",
       "      <td>0.751938</td>\n",
       "      <td>0.748062</td>\n",
       "      <td>0.678295</td>\n",
       "      <td>0.744186</td>\n",
       "      <td>0.705426</td>\n",
       "      <td>0.725581</td>\n",
       "      <td>0.028943</td>\n",
       "      <td>1</td>\n",
       "    </tr>\n",
       "    <tr>\n",
       "      <th>57</th>\n",
       "      <td>0.016285</td>\n",
       "      <td>0.004676</td>\n",
       "      <td>0.001037</td>\n",
       "      <td>0.000027</td>\n",
       "      <td>190</td>\n",
       "      <td>ovr</td>\n",
       "      <td>l2</td>\n",
       "      <td>lbfgs</td>\n",
       "      <td>{'max_iter': 190, 'multi_class': 'ovr', 'penal...</td>\n",
       "      <td>0.751938</td>\n",
       "      <td>0.748062</td>\n",
       "      <td>0.678295</td>\n",
       "      <td>0.744186</td>\n",
       "      <td>0.705426</td>\n",
       "      <td>0.725581</td>\n",
       "      <td>0.028943</td>\n",
       "      <td>1</td>\n",
       "    </tr>\n",
       "    <tr>\n",
       "      <th>26</th>\n",
       "      <td>0.017370</td>\n",
       "      <td>0.006122</td>\n",
       "      <td>0.001027</td>\n",
       "      <td>0.000017</td>\n",
       "      <td>140</td>\n",
       "      <td>ovr</td>\n",
       "      <td>none</td>\n",
       "      <td>lbfgs</td>\n",
       "      <td>{'max_iter': 140, 'multi_class': 'ovr', 'penal...</td>\n",
       "      <td>0.751938</td>\n",
       "      <td>0.748062</td>\n",
       "      <td>0.678295</td>\n",
       "      <td>0.744186</td>\n",
       "      <td>0.705426</td>\n",
       "      <td>0.725581</td>\n",
       "      <td>0.028943</td>\n",
       "      <td>1</td>\n",
       "    </tr>\n",
       "    <tr>\n",
       "      <th>30</th>\n",
       "      <td>0.017776</td>\n",
       "      <td>0.006501</td>\n",
       "      <td>0.001034</td>\n",
       "      <td>0.000017</td>\n",
       "      <td>150</td>\n",
       "      <td>auto</td>\n",
       "      <td>none</td>\n",
       "      <td>lbfgs</td>\n",
       "      <td>{'max_iter': 150, 'multi_class': 'auto', 'pena...</td>\n",
       "      <td>0.751938</td>\n",
       "      <td>0.748062</td>\n",
       "      <td>0.678295</td>\n",
       "      <td>0.744186</td>\n",
       "      <td>0.705426</td>\n",
       "      <td>0.725581</td>\n",
       "      <td>0.028943</td>\n",
       "      <td>1</td>\n",
       "    </tr>\n",
       "    <tr>\n",
       "      <th>24</th>\n",
       "      <td>0.017535</td>\n",
       "      <td>0.006011</td>\n",
       "      <td>0.001043</td>\n",
       "      <td>0.000035</td>\n",
       "      <td>140</td>\n",
       "      <td>auto</td>\n",
       "      <td>none</td>\n",
       "      <td>lbfgs</td>\n",
       "      <td>{'max_iter': 140, 'multi_class': 'auto', 'pena...</td>\n",
       "      <td>0.751938</td>\n",
       "      <td>0.748062</td>\n",
       "      <td>0.678295</td>\n",
       "      <td>0.744186</td>\n",
       "      <td>0.705426</td>\n",
       "      <td>0.725581</td>\n",
       "      <td>0.028943</td>\n",
       "      <td>1</td>\n",
       "    </tr>\n",
       "    <tr>\n",
       "      <th>15</th>\n",
       "      <td>0.017064</td>\n",
       "      <td>0.004693</td>\n",
       "      <td>0.001035</td>\n",
       "      <td>0.000015</td>\n",
       "      <td>120</td>\n",
       "      <td>ovr</td>\n",
       "      <td>l2</td>\n",
       "      <td>lbfgs</td>\n",
       "      <td>{'max_iter': 120, 'multi_class': 'ovr', 'penal...</td>\n",
       "      <td>0.751938</td>\n",
       "      <td>0.748062</td>\n",
       "      <td>0.678295</td>\n",
       "      <td>0.744186</td>\n",
       "      <td>0.705426</td>\n",
       "      <td>0.725581</td>\n",
       "      <td>0.028943</td>\n",
       "      <td>1</td>\n",
       "    </tr>\n",
       "    <tr>\n",
       "      <th>2</th>\n",
       "      <td>0.023154</td>\n",
       "      <td>0.008063</td>\n",
       "      <td>0.001051</td>\n",
       "      <td>0.000032</td>\n",
       "      <td>100</td>\n",
       "      <td>ovr</td>\n",
       "      <td>none</td>\n",
       "      <td>lbfgs</td>\n",
       "      <td>{'max_iter': 100, 'multi_class': 'ovr', 'penal...</td>\n",
       "      <td>0.751938</td>\n",
       "      <td>0.748062</td>\n",
       "      <td>0.678295</td>\n",
       "      <td>0.744186</td>\n",
       "      <td>0.705426</td>\n",
       "      <td>0.725581</td>\n",
       "      <td>0.028943</td>\n",
       "      <td>1</td>\n",
       "    </tr>\n",
       "    <tr>\n",
       "      <th>3</th>\n",
       "      <td>0.019038</td>\n",
       "      <td>0.006793</td>\n",
       "      <td>0.001045</td>\n",
       "      <td>0.000018</td>\n",
       "      <td>100</td>\n",
       "      <td>ovr</td>\n",
       "      <td>l2</td>\n",
       "      <td>lbfgs</td>\n",
       "      <td>{'max_iter': 100, 'multi_class': 'ovr', 'penal...</td>\n",
       "      <td>0.751938</td>\n",
       "      <td>0.748062</td>\n",
       "      <td>0.678295</td>\n",
       "      <td>0.744186</td>\n",
       "      <td>0.705426</td>\n",
       "      <td>0.725581</td>\n",
       "      <td>0.028943</td>\n",
       "      <td>1</td>\n",
       "    </tr>\n",
       "    <tr>\n",
       "      <th>6</th>\n",
       "      <td>0.017838</td>\n",
       "      <td>0.006008</td>\n",
       "      <td>0.001053</td>\n",
       "      <td>0.000044</td>\n",
       "      <td>110</td>\n",
       "      <td>auto</td>\n",
       "      <td>none</td>\n",
       "      <td>lbfgs</td>\n",
       "      <td>{'max_iter': 110, 'multi_class': 'auto', 'pena...</td>\n",
       "      <td>0.751938</td>\n",
       "      <td>0.748062</td>\n",
       "      <td>0.678295</td>\n",
       "      <td>0.744186</td>\n",
       "      <td>0.705426</td>\n",
       "      <td>0.725581</td>\n",
       "      <td>0.028943</td>\n",
       "      <td>1</td>\n",
       "    </tr>\n",
       "    <tr>\n",
       "      <th>7</th>\n",
       "      <td>0.021168</td>\n",
       "      <td>0.010999</td>\n",
       "      <td>0.001080</td>\n",
       "      <td>0.000031</td>\n",
       "      <td>110</td>\n",
       "      <td>auto</td>\n",
       "      <td>l2</td>\n",
       "      <td>lbfgs</td>\n",
       "      <td>{'max_iter': 110, 'multi_class': 'auto', 'pena...</td>\n",
       "      <td>0.751938</td>\n",
       "      <td>0.748062</td>\n",
       "      <td>0.678295</td>\n",
       "      <td>0.744186</td>\n",
       "      <td>0.705426</td>\n",
       "      <td>0.725581</td>\n",
       "      <td>0.028943</td>\n",
       "      <td>1</td>\n",
       "    </tr>\n",
       "    <tr>\n",
       "      <th>8</th>\n",
       "      <td>0.018067</td>\n",
       "      <td>0.007396</td>\n",
       "      <td>0.001018</td>\n",
       "      <td>0.000020</td>\n",
       "      <td>110</td>\n",
       "      <td>ovr</td>\n",
       "      <td>none</td>\n",
       "      <td>lbfgs</td>\n",
       "      <td>{'max_iter': 110, 'multi_class': 'ovr', 'penal...</td>\n",
       "      <td>0.751938</td>\n",
       "      <td>0.748062</td>\n",
       "      <td>0.678295</td>\n",
       "      <td>0.744186</td>\n",
       "      <td>0.705426</td>\n",
       "      <td>0.725581</td>\n",
       "      <td>0.028943</td>\n",
       "      <td>1</td>\n",
       "    </tr>\n",
       "    <tr>\n",
       "      <th>9</th>\n",
       "      <td>0.017946</td>\n",
       "      <td>0.005219</td>\n",
       "      <td>0.001015</td>\n",
       "      <td>0.000013</td>\n",
       "      <td>110</td>\n",
       "      <td>ovr</td>\n",
       "      <td>l2</td>\n",
       "      <td>lbfgs</td>\n",
       "      <td>{'max_iter': 110, 'multi_class': 'ovr', 'penal...</td>\n",
       "      <td>0.751938</td>\n",
       "      <td>0.748062</td>\n",
       "      <td>0.678295</td>\n",
       "      <td>0.744186</td>\n",
       "      <td>0.705426</td>\n",
       "      <td>0.725581</td>\n",
       "      <td>0.028943</td>\n",
       "      <td>1</td>\n",
       "    </tr>\n",
       "    <tr>\n",
       "      <th>12</th>\n",
       "      <td>0.031517</td>\n",
       "      <td>0.010605</td>\n",
       "      <td>0.001065</td>\n",
       "      <td>0.000039</td>\n",
       "      <td>120</td>\n",
       "      <td>auto</td>\n",
       "      <td>none</td>\n",
       "      <td>lbfgs</td>\n",
       "      <td>{'max_iter': 120, 'multi_class': 'auto', 'pena...</td>\n",
       "      <td>0.751938</td>\n",
       "      <td>0.748062</td>\n",
       "      <td>0.678295</td>\n",
       "      <td>0.744186</td>\n",
       "      <td>0.705426</td>\n",
       "      <td>0.725581</td>\n",
       "      <td>0.028943</td>\n",
       "      <td>1</td>\n",
       "    </tr>\n",
       "    <tr>\n",
       "      <th>14</th>\n",
       "      <td>0.022250</td>\n",
       "      <td>0.010209</td>\n",
       "      <td>0.001034</td>\n",
       "      <td>0.000019</td>\n",
       "      <td>120</td>\n",
       "      <td>ovr</td>\n",
       "      <td>none</td>\n",
       "      <td>lbfgs</td>\n",
       "      <td>{'max_iter': 120, 'multi_class': 'ovr', 'penal...</td>\n",
       "      <td>0.751938</td>\n",
       "      <td>0.748062</td>\n",
       "      <td>0.678295</td>\n",
       "      <td>0.744186</td>\n",
       "      <td>0.705426</td>\n",
       "      <td>0.725581</td>\n",
       "      <td>0.028943</td>\n",
       "      <td>1</td>\n",
       "    </tr>\n",
       "    <tr>\n",
       "      <th>13</th>\n",
       "      <td>0.019411</td>\n",
       "      <td>0.006331</td>\n",
       "      <td>0.001126</td>\n",
       "      <td>0.000056</td>\n",
       "      <td>120</td>\n",
       "      <td>auto</td>\n",
       "      <td>l2</td>\n",
       "      <td>lbfgs</td>\n",
       "      <td>{'max_iter': 120, 'multi_class': 'auto', 'pena...</td>\n",
       "      <td>0.751938</td>\n",
       "      <td>0.748062</td>\n",
       "      <td>0.678295</td>\n",
       "      <td>0.744186</td>\n",
       "      <td>0.705426</td>\n",
       "      <td>0.725581</td>\n",
       "      <td>0.028943</td>\n",
       "      <td>1</td>\n",
       "    </tr>\n",
       "    <tr>\n",
       "      <th>19</th>\n",
       "      <td>0.019545</td>\n",
       "      <td>0.005799</td>\n",
       "      <td>0.001117</td>\n",
       "      <td>0.000065</td>\n",
       "      <td>130</td>\n",
       "      <td>auto</td>\n",
       "      <td>l2</td>\n",
       "      <td>lbfgs</td>\n",
       "      <td>{'max_iter': 130, 'multi_class': 'auto', 'pena...</td>\n",
       "      <td>0.751938</td>\n",
       "      <td>0.748062</td>\n",
       "      <td>0.678295</td>\n",
       "      <td>0.744186</td>\n",
       "      <td>0.705426</td>\n",
       "      <td>0.725581</td>\n",
       "      <td>0.028943</td>\n",
       "      <td>1</td>\n",
       "    </tr>\n",
       "    <tr>\n",
       "      <th>20</th>\n",
       "      <td>0.022699</td>\n",
       "      <td>0.010191</td>\n",
       "      <td>0.001069</td>\n",
       "      <td>0.000023</td>\n",
       "      <td>130</td>\n",
       "      <td>ovr</td>\n",
       "      <td>none</td>\n",
       "      <td>lbfgs</td>\n",
       "      <td>{'max_iter': 130, 'multi_class': 'ovr', 'penal...</td>\n",
       "      <td>0.751938</td>\n",
       "      <td>0.748062</td>\n",
       "      <td>0.678295</td>\n",
       "      <td>0.744186</td>\n",
       "      <td>0.705426</td>\n",
       "      <td>0.725581</td>\n",
       "      <td>0.028943</td>\n",
       "      <td>1</td>\n",
       "    </tr>\n",
       "    <tr>\n",
       "      <th>18</th>\n",
       "      <td>0.024318</td>\n",
       "      <td>0.010451</td>\n",
       "      <td>0.001041</td>\n",
       "      <td>0.000019</td>\n",
       "      <td>130</td>\n",
       "      <td>auto</td>\n",
       "      <td>none</td>\n",
       "      <td>lbfgs</td>\n",
       "      <td>{'max_iter': 130, 'multi_class': 'auto', 'pena...</td>\n",
       "      <td>0.751938</td>\n",
       "      <td>0.748062</td>\n",
       "      <td>0.678295</td>\n",
       "      <td>0.744186</td>\n",
       "      <td>0.705426</td>\n",
       "      <td>0.725581</td>\n",
       "      <td>0.028943</td>\n",
       "      <td>1</td>\n",
       "    </tr>\n",
       "    <tr>\n",
       "      <th>21</th>\n",
       "      <td>0.019644</td>\n",
       "      <td>0.004846</td>\n",
       "      <td>0.001054</td>\n",
       "      <td>0.000014</td>\n",
       "      <td>130</td>\n",
       "      <td>ovr</td>\n",
       "      <td>l2</td>\n",
       "      <td>lbfgs</td>\n",
       "      <td>{'max_iter': 130, 'multi_class': 'ovr', 'penal...</td>\n",
       "      <td>0.751938</td>\n",
       "      <td>0.748062</td>\n",
       "      <td>0.678295</td>\n",
       "      <td>0.744186</td>\n",
       "      <td>0.705426</td>\n",
       "      <td>0.725581</td>\n",
       "      <td>0.028943</td>\n",
       "      <td>1</td>\n",
       "    </tr>\n",
       "    <tr>\n",
       "      <th>58</th>\n",
       "      <td>0.033946</td>\n",
       "      <td>0.009623</td>\n",
       "      <td>0.000925</td>\n",
       "      <td>0.000108</td>\n",
       "      <td>190</td>\n",
       "      <td>multinomial</td>\n",
       "      <td>none</td>\n",
       "      <td>lbfgs</td>\n",
       "      <td>{'max_iter': 190, 'multi_class': 'multinomial'...</td>\n",
       "      <td>0.693798</td>\n",
       "      <td>0.689922</td>\n",
       "      <td>0.732558</td>\n",
       "      <td>0.744186</td>\n",
       "      <td>0.728682</td>\n",
       "      <td>0.717829</td>\n",
       "      <td>0.021843</td>\n",
       "      <td>41</td>\n",
       "    </tr>\n",
       "    <tr>\n",
       "      <th>22</th>\n",
       "      <td>0.034128</td>\n",
       "      <td>0.009847</td>\n",
       "      <td>0.000947</td>\n",
       "      <td>0.000099</td>\n",
       "      <td>130</td>\n",
       "      <td>multinomial</td>\n",
       "      <td>none</td>\n",
       "      <td>lbfgs</td>\n",
       "      <td>{'max_iter': 130, 'multi_class': 'multinomial'...</td>\n",
       "      <td>0.693798</td>\n",
       "      <td>0.689922</td>\n",
       "      <td>0.732558</td>\n",
       "      <td>0.744186</td>\n",
       "      <td>0.728682</td>\n",
       "      <td>0.717829</td>\n",
       "      <td>0.021843</td>\n",
       "      <td>41</td>\n",
       "    </tr>\n",
       "    <tr>\n",
       "      <th>28</th>\n",
       "      <td>0.033724</td>\n",
       "      <td>0.009834</td>\n",
       "      <td>0.000988</td>\n",
       "      <td>0.000114</td>\n",
       "      <td>140</td>\n",
       "      <td>multinomial</td>\n",
       "      <td>none</td>\n",
       "      <td>lbfgs</td>\n",
       "      <td>{'max_iter': 140, 'multi_class': 'multinomial'...</td>\n",
       "      <td>0.693798</td>\n",
       "      <td>0.689922</td>\n",
       "      <td>0.732558</td>\n",
       "      <td>0.744186</td>\n",
       "      <td>0.728682</td>\n",
       "      <td>0.717829</td>\n",
       "      <td>0.021843</td>\n",
       "      <td>41</td>\n",
       "    </tr>\n",
       "    <tr>\n",
       "      <th>4</th>\n",
       "      <td>0.038492</td>\n",
       "      <td>0.010312</td>\n",
       "      <td>0.001120</td>\n",
       "      <td>0.000099</td>\n",
       "      <td>100</td>\n",
       "      <td>multinomial</td>\n",
       "      <td>none</td>\n",
       "      <td>lbfgs</td>\n",
       "      <td>{'max_iter': 100, 'multi_class': 'multinomial'...</td>\n",
       "      <td>0.693798</td>\n",
       "      <td>0.689922</td>\n",
       "      <td>0.732558</td>\n",
       "      <td>0.744186</td>\n",
       "      <td>0.728682</td>\n",
       "      <td>0.717829</td>\n",
       "      <td>0.021843</td>\n",
       "      <td>41</td>\n",
       "    </tr>\n",
       "    <tr>\n",
       "      <th>5</th>\n",
       "      <td>0.029746</td>\n",
       "      <td>0.008578</td>\n",
       "      <td>0.000899</td>\n",
       "      <td>0.000085</td>\n",
       "      <td>100</td>\n",
       "      <td>multinomial</td>\n",
       "      <td>l2</td>\n",
       "      <td>lbfgs</td>\n",
       "      <td>{'max_iter': 100, 'multi_class': 'multinomial'...</td>\n",
       "      <td>0.693798</td>\n",
       "      <td>0.689922</td>\n",
       "      <td>0.732558</td>\n",
       "      <td>0.744186</td>\n",
       "      <td>0.728682</td>\n",
       "      <td>0.717829</td>\n",
       "      <td>0.021843</td>\n",
       "      <td>41</td>\n",
       "    </tr>\n",
       "    <tr>\n",
       "      <th>53</th>\n",
       "      <td>0.028923</td>\n",
       "      <td>0.008950</td>\n",
       "      <td>0.000885</td>\n",
       "      <td>0.000042</td>\n",
       "      <td>180</td>\n",
       "      <td>multinomial</td>\n",
       "      <td>l2</td>\n",
       "      <td>lbfgs</td>\n",
       "      <td>{'max_iter': 180, 'multi_class': 'multinomial'...</td>\n",
       "      <td>0.693798</td>\n",
       "      <td>0.689922</td>\n",
       "      <td>0.732558</td>\n",
       "      <td>0.744186</td>\n",
       "      <td>0.728682</td>\n",
       "      <td>0.717829</td>\n",
       "      <td>0.021843</td>\n",
       "      <td>41</td>\n",
       "    </tr>\n",
       "    <tr>\n",
       "      <th>52</th>\n",
       "      <td>0.033867</td>\n",
       "      <td>0.009901</td>\n",
       "      <td>0.000937</td>\n",
       "      <td>0.000101</td>\n",
       "      <td>180</td>\n",
       "      <td>multinomial</td>\n",
       "      <td>none</td>\n",
       "      <td>lbfgs</td>\n",
       "      <td>{'max_iter': 180, 'multi_class': 'multinomial'...</td>\n",
       "      <td>0.693798</td>\n",
       "      <td>0.689922</td>\n",
       "      <td>0.732558</td>\n",
       "      <td>0.744186</td>\n",
       "      <td>0.728682</td>\n",
       "      <td>0.717829</td>\n",
       "      <td>0.021843</td>\n",
       "      <td>41</td>\n",
       "    </tr>\n",
       "    <tr>\n",
       "      <th>29</th>\n",
       "      <td>0.028960</td>\n",
       "      <td>0.009026</td>\n",
       "      <td>0.000911</td>\n",
       "      <td>0.000087</td>\n",
       "      <td>140</td>\n",
       "      <td>multinomial</td>\n",
       "      <td>l2</td>\n",
       "      <td>lbfgs</td>\n",
       "      <td>{'max_iter': 140, 'multi_class': 'multinomial'...</td>\n",
       "      <td>0.693798</td>\n",
       "      <td>0.689922</td>\n",
       "      <td>0.732558</td>\n",
       "      <td>0.744186</td>\n",
       "      <td>0.728682</td>\n",
       "      <td>0.717829</td>\n",
       "      <td>0.021843</td>\n",
       "      <td>41</td>\n",
       "    </tr>\n",
       "    <tr>\n",
       "      <th>17</th>\n",
       "      <td>0.031787</td>\n",
       "      <td>0.010018</td>\n",
       "      <td>0.001039</td>\n",
       "      <td>0.000122</td>\n",
       "      <td>120</td>\n",
       "      <td>multinomial</td>\n",
       "      <td>l2</td>\n",
       "      <td>lbfgs</td>\n",
       "      <td>{'max_iter': 120, 'multi_class': 'multinomial'...</td>\n",
       "      <td>0.693798</td>\n",
       "      <td>0.689922</td>\n",
       "      <td>0.732558</td>\n",
       "      <td>0.744186</td>\n",
       "      <td>0.728682</td>\n",
       "      <td>0.717829</td>\n",
       "      <td>0.021843</td>\n",
       "      <td>41</td>\n",
       "    </tr>\n",
       "    <tr>\n",
       "      <th>16</th>\n",
       "      <td>0.034724</td>\n",
       "      <td>0.009750</td>\n",
       "      <td>0.001050</td>\n",
       "      <td>0.000048</td>\n",
       "      <td>120</td>\n",
       "      <td>multinomial</td>\n",
       "      <td>none</td>\n",
       "      <td>lbfgs</td>\n",
       "      <td>{'max_iter': 120, 'multi_class': 'multinomial'...</td>\n",
       "      <td>0.693798</td>\n",
       "      <td>0.689922</td>\n",
       "      <td>0.732558</td>\n",
       "      <td>0.744186</td>\n",
       "      <td>0.728682</td>\n",
       "      <td>0.717829</td>\n",
       "      <td>0.021843</td>\n",
       "      <td>41</td>\n",
       "    </tr>\n",
       "    <tr>\n",
       "      <th>47</th>\n",
       "      <td>0.030398</td>\n",
       "      <td>0.008934</td>\n",
       "      <td>0.000950</td>\n",
       "      <td>0.000168</td>\n",
       "      <td>170</td>\n",
       "      <td>multinomial</td>\n",
       "      <td>l2</td>\n",
       "      <td>lbfgs</td>\n",
       "      <td>{'max_iter': 170, 'multi_class': 'multinomial'...</td>\n",
       "      <td>0.693798</td>\n",
       "      <td>0.689922</td>\n",
       "      <td>0.732558</td>\n",
       "      <td>0.744186</td>\n",
       "      <td>0.728682</td>\n",
       "      <td>0.717829</td>\n",
       "      <td>0.021843</td>\n",
       "      <td>41</td>\n",
       "    </tr>\n",
       "    <tr>\n",
       "      <th>46</th>\n",
       "      <td>0.034931</td>\n",
       "      <td>0.010467</td>\n",
       "      <td>0.000985</td>\n",
       "      <td>0.000092</td>\n",
       "      <td>170</td>\n",
       "      <td>multinomial</td>\n",
       "      <td>none</td>\n",
       "      <td>lbfgs</td>\n",
       "      <td>{'max_iter': 170, 'multi_class': 'multinomial'...</td>\n",
       "      <td>0.693798</td>\n",
       "      <td>0.689922</td>\n",
       "      <td>0.732558</td>\n",
       "      <td>0.744186</td>\n",
       "      <td>0.728682</td>\n",
       "      <td>0.717829</td>\n",
       "      <td>0.021843</td>\n",
       "      <td>41</td>\n",
       "    </tr>\n",
       "    <tr>\n",
       "      <th>10</th>\n",
       "      <td>0.033549</td>\n",
       "      <td>0.009619</td>\n",
       "      <td>0.000930</td>\n",
       "      <td>0.000094</td>\n",
       "      <td>110</td>\n",
       "      <td>multinomial</td>\n",
       "      <td>none</td>\n",
       "      <td>lbfgs</td>\n",
       "      <td>{'max_iter': 110, 'multi_class': 'multinomial'...</td>\n",
       "      <td>0.693798</td>\n",
       "      <td>0.689922</td>\n",
       "      <td>0.732558</td>\n",
       "      <td>0.744186</td>\n",
       "      <td>0.728682</td>\n",
       "      <td>0.717829</td>\n",
       "      <td>0.021843</td>\n",
       "      <td>41</td>\n",
       "    </tr>\n",
       "    <tr>\n",
       "      <th>11</th>\n",
       "      <td>0.028700</td>\n",
       "      <td>0.009086</td>\n",
       "      <td>0.000842</td>\n",
       "      <td>0.000006</td>\n",
       "      <td>110</td>\n",
       "      <td>multinomial</td>\n",
       "      <td>l2</td>\n",
       "      <td>lbfgs</td>\n",
       "      <td>{'max_iter': 110, 'multi_class': 'multinomial'...</td>\n",
       "      <td>0.693798</td>\n",
       "      <td>0.689922</td>\n",
       "      <td>0.732558</td>\n",
       "      <td>0.744186</td>\n",
       "      <td>0.728682</td>\n",
       "      <td>0.717829</td>\n",
       "      <td>0.021843</td>\n",
       "      <td>41</td>\n",
       "    </tr>\n",
       "    <tr>\n",
       "      <th>23</th>\n",
       "      <td>0.029023</td>\n",
       "      <td>0.008953</td>\n",
       "      <td>0.000912</td>\n",
       "      <td>0.000080</td>\n",
       "      <td>130</td>\n",
       "      <td>multinomial</td>\n",
       "      <td>l2</td>\n",
       "      <td>lbfgs</td>\n",
       "      <td>{'max_iter': 130, 'multi_class': 'multinomial'...</td>\n",
       "      <td>0.693798</td>\n",
       "      <td>0.689922</td>\n",
       "      <td>0.732558</td>\n",
       "      <td>0.744186</td>\n",
       "      <td>0.728682</td>\n",
       "      <td>0.717829</td>\n",
       "      <td>0.021843</td>\n",
       "      <td>41</td>\n",
       "    </tr>\n",
       "    <tr>\n",
       "      <th>41</th>\n",
       "      <td>0.031135</td>\n",
       "      <td>0.008435</td>\n",
       "      <td>0.001045</td>\n",
       "      <td>0.000127</td>\n",
       "      <td>160</td>\n",
       "      <td>multinomial</td>\n",
       "      <td>l2</td>\n",
       "      <td>lbfgs</td>\n",
       "      <td>{'max_iter': 160, 'multi_class': 'multinomial'...</td>\n",
       "      <td>0.693798</td>\n",
       "      <td>0.689922</td>\n",
       "      <td>0.732558</td>\n",
       "      <td>0.744186</td>\n",
       "      <td>0.728682</td>\n",
       "      <td>0.717829</td>\n",
       "      <td>0.021843</td>\n",
       "      <td>41</td>\n",
       "    </tr>\n",
       "    <tr>\n",
       "      <th>40</th>\n",
       "      <td>0.035415</td>\n",
       "      <td>0.010457</td>\n",
       "      <td>0.001076</td>\n",
       "      <td>0.000036</td>\n",
       "      <td>160</td>\n",
       "      <td>multinomial</td>\n",
       "      <td>none</td>\n",
       "      <td>lbfgs</td>\n",
       "      <td>{'max_iter': 160, 'multi_class': 'multinomial'...</td>\n",
       "      <td>0.693798</td>\n",
       "      <td>0.689922</td>\n",
       "      <td>0.732558</td>\n",
       "      <td>0.744186</td>\n",
       "      <td>0.728682</td>\n",
       "      <td>0.717829</td>\n",
       "      <td>0.021843</td>\n",
       "      <td>41</td>\n",
       "    </tr>\n",
       "    <tr>\n",
       "      <th>34</th>\n",
       "      <td>0.044905</td>\n",
       "      <td>0.029519</td>\n",
       "      <td>0.000896</td>\n",
       "      <td>0.000094</td>\n",
       "      <td>150</td>\n",
       "      <td>multinomial</td>\n",
       "      <td>none</td>\n",
       "      <td>lbfgs</td>\n",
       "      <td>{'max_iter': 150, 'multi_class': 'multinomial'...</td>\n",
       "      <td>0.693798</td>\n",
       "      <td>0.689922</td>\n",
       "      <td>0.732558</td>\n",
       "      <td>0.744186</td>\n",
       "      <td>0.728682</td>\n",
       "      <td>0.717829</td>\n",
       "      <td>0.021843</td>\n",
       "      <td>41</td>\n",
       "    </tr>\n",
       "    <tr>\n",
       "      <th>35</th>\n",
       "      <td>0.030325</td>\n",
       "      <td>0.009808</td>\n",
       "      <td>0.001002</td>\n",
       "      <td>0.000115</td>\n",
       "      <td>150</td>\n",
       "      <td>multinomial</td>\n",
       "      <td>l2</td>\n",
       "      <td>lbfgs</td>\n",
       "      <td>{'max_iter': 150, 'multi_class': 'multinomial'...</td>\n",
       "      <td>0.693798</td>\n",
       "      <td>0.689922</td>\n",
       "      <td>0.732558</td>\n",
       "      <td>0.744186</td>\n",
       "      <td>0.728682</td>\n",
       "      <td>0.717829</td>\n",
       "      <td>0.021843</td>\n",
       "      <td>41</td>\n",
       "    </tr>\n",
       "    <tr>\n",
       "      <th>59</th>\n",
       "      <td>0.028723</td>\n",
       "      <td>0.008553</td>\n",
       "      <td>0.000844</td>\n",
       "      <td>0.000008</td>\n",
       "      <td>190</td>\n",
       "      <td>multinomial</td>\n",
       "      <td>l2</td>\n",
       "      <td>lbfgs</td>\n",
       "      <td>{'max_iter': 190, 'multi_class': 'multinomial'...</td>\n",
       "      <td>0.693798</td>\n",
       "      <td>0.689922</td>\n",
       "      <td>0.732558</td>\n",
       "      <td>0.744186</td>\n",
       "      <td>0.728682</td>\n",
       "      <td>0.717829</td>\n",
       "      <td>0.021843</td>\n",
       "      <td>41</td>\n",
       "    </tr>\n",
       "  </tbody>\n",
       "</table>\n",
       "</div>"
      ],
      "text/plain": [
       "    mean_fit_time  std_fit_time  mean_score_time  std_score_time  \\\n",
       "0        0.025131      0.009846         0.001061        0.000050   \n",
       "25       0.020182      0.009839         0.001013        0.000008   \n",
       "27       0.016058      0.004610         0.001028        0.000013   \n",
       "1        0.035371      0.011428         0.001065        0.000040   \n",
       "31       0.016072      0.004614         0.001020        0.000010   \n",
       "32       0.017151      0.005903         0.001032        0.000013   \n",
       "33       0.016019      0.004566         0.001024        0.000012   \n",
       "36       0.017812      0.006637         0.001028        0.000022   \n",
       "37       0.016249      0.004813         0.001032        0.000014   \n",
       "38       0.017178      0.005883         0.001014        0.000010   \n",
       "39       0.018966      0.005676         0.001052        0.000018   \n",
       "42       0.017205      0.006021         0.001025        0.000011   \n",
       "43       0.017468      0.005770         0.001032        0.000007   \n",
       "44       0.029409      0.013435         0.001030        0.000009   \n",
       "45       0.017001      0.005791         0.001029        0.000014   \n",
       "48       0.017630      0.006286         0.001032        0.000015   \n",
       "49       0.017248      0.005728         0.001012        0.000006   \n",
       "50       0.018269      0.006053         0.001027        0.000011   \n",
       "51       0.016351      0.004904         0.001036        0.000016   \n",
       "54       0.020735      0.009233         0.001027        0.000003   \n",
       "55       0.016491      0.004917         0.001019        0.000007   \n",
       "56       0.017631      0.006605         0.001018        0.000011   \n",
       "57       0.016285      0.004676         0.001037        0.000027   \n",
       "26       0.017370      0.006122         0.001027        0.000017   \n",
       "30       0.017776      0.006501         0.001034        0.000017   \n",
       "24       0.017535      0.006011         0.001043        0.000035   \n",
       "15       0.017064      0.004693         0.001035        0.000015   \n",
       "2        0.023154      0.008063         0.001051        0.000032   \n",
       "3        0.019038      0.006793         0.001045        0.000018   \n",
       "6        0.017838      0.006008         0.001053        0.000044   \n",
       "7        0.021168      0.010999         0.001080        0.000031   \n",
       "8        0.018067      0.007396         0.001018        0.000020   \n",
       "9        0.017946      0.005219         0.001015        0.000013   \n",
       "12       0.031517      0.010605         0.001065        0.000039   \n",
       "14       0.022250      0.010209         0.001034        0.000019   \n",
       "13       0.019411      0.006331         0.001126        0.000056   \n",
       "19       0.019545      0.005799         0.001117        0.000065   \n",
       "20       0.022699      0.010191         0.001069        0.000023   \n",
       "18       0.024318      0.010451         0.001041        0.000019   \n",
       "21       0.019644      0.004846         0.001054        0.000014   \n",
       "58       0.033946      0.009623         0.000925        0.000108   \n",
       "22       0.034128      0.009847         0.000947        0.000099   \n",
       "28       0.033724      0.009834         0.000988        0.000114   \n",
       "4        0.038492      0.010312         0.001120        0.000099   \n",
       "5        0.029746      0.008578         0.000899        0.000085   \n",
       "53       0.028923      0.008950         0.000885        0.000042   \n",
       "52       0.033867      0.009901         0.000937        0.000101   \n",
       "29       0.028960      0.009026         0.000911        0.000087   \n",
       "17       0.031787      0.010018         0.001039        0.000122   \n",
       "16       0.034724      0.009750         0.001050        0.000048   \n",
       "47       0.030398      0.008934         0.000950        0.000168   \n",
       "46       0.034931      0.010467         0.000985        0.000092   \n",
       "10       0.033549      0.009619         0.000930        0.000094   \n",
       "11       0.028700      0.009086         0.000842        0.000006   \n",
       "23       0.029023      0.008953         0.000912        0.000080   \n",
       "41       0.031135      0.008435         0.001045        0.000127   \n",
       "40       0.035415      0.010457         0.001076        0.000036   \n",
       "34       0.044905      0.029519         0.000896        0.000094   \n",
       "35       0.030325      0.009808         0.001002        0.000115   \n",
       "59       0.028723      0.008553         0.000844        0.000008   \n",
       "\n",
       "   param_max_iter param_multi_class param_penalty param_solver  \\\n",
       "0             100              auto          none        lbfgs   \n",
       "25            140              auto            l2        lbfgs   \n",
       "27            140               ovr            l2        lbfgs   \n",
       "1             100              auto            l2        lbfgs   \n",
       "31            150              auto            l2        lbfgs   \n",
       "32            150               ovr          none        lbfgs   \n",
       "33            150               ovr            l2        lbfgs   \n",
       "36            160              auto          none        lbfgs   \n",
       "37            160              auto            l2        lbfgs   \n",
       "38            160               ovr          none        lbfgs   \n",
       "39            160               ovr            l2        lbfgs   \n",
       "42            170              auto          none        lbfgs   \n",
       "43            170              auto            l2        lbfgs   \n",
       "44            170               ovr          none        lbfgs   \n",
       "45            170               ovr            l2        lbfgs   \n",
       "48            180              auto          none        lbfgs   \n",
       "49            180              auto            l2        lbfgs   \n",
       "50            180               ovr          none        lbfgs   \n",
       "51            180               ovr            l2        lbfgs   \n",
       "54            190              auto          none        lbfgs   \n",
       "55            190              auto            l2        lbfgs   \n",
       "56            190               ovr          none        lbfgs   \n",
       "57            190               ovr            l2        lbfgs   \n",
       "26            140               ovr          none        lbfgs   \n",
       "30            150              auto          none        lbfgs   \n",
       "24            140              auto          none        lbfgs   \n",
       "15            120               ovr            l2        lbfgs   \n",
       "2             100               ovr          none        lbfgs   \n",
       "3             100               ovr            l2        lbfgs   \n",
       "6             110              auto          none        lbfgs   \n",
       "7             110              auto            l2        lbfgs   \n",
       "8             110               ovr          none        lbfgs   \n",
       "9             110               ovr            l2        lbfgs   \n",
       "12            120              auto          none        lbfgs   \n",
       "14            120               ovr          none        lbfgs   \n",
       "13            120              auto            l2        lbfgs   \n",
       "19            130              auto            l2        lbfgs   \n",
       "20            130               ovr          none        lbfgs   \n",
       "18            130              auto          none        lbfgs   \n",
       "21            130               ovr            l2        lbfgs   \n",
       "58            190       multinomial          none        lbfgs   \n",
       "22            130       multinomial          none        lbfgs   \n",
       "28            140       multinomial          none        lbfgs   \n",
       "4             100       multinomial          none        lbfgs   \n",
       "5             100       multinomial            l2        lbfgs   \n",
       "53            180       multinomial            l2        lbfgs   \n",
       "52            180       multinomial          none        lbfgs   \n",
       "29            140       multinomial            l2        lbfgs   \n",
       "17            120       multinomial            l2        lbfgs   \n",
       "16            120       multinomial          none        lbfgs   \n",
       "47            170       multinomial            l2        lbfgs   \n",
       "46            170       multinomial          none        lbfgs   \n",
       "10            110       multinomial          none        lbfgs   \n",
       "11            110       multinomial            l2        lbfgs   \n",
       "23            130       multinomial            l2        lbfgs   \n",
       "41            160       multinomial            l2        lbfgs   \n",
       "40            160       multinomial          none        lbfgs   \n",
       "34            150       multinomial          none        lbfgs   \n",
       "35            150       multinomial            l2        lbfgs   \n",
       "59            190       multinomial            l2        lbfgs   \n",
       "\n",
       "                                               params  split0_test_score  \\\n",
       "0   {'max_iter': 100, 'multi_class': 'auto', 'pena...           0.751938   \n",
       "25  {'max_iter': 140, 'multi_class': 'auto', 'pena...           0.751938   \n",
       "27  {'max_iter': 140, 'multi_class': 'ovr', 'penal...           0.751938   \n",
       "1   {'max_iter': 100, 'multi_class': 'auto', 'pena...           0.751938   \n",
       "31  {'max_iter': 150, 'multi_class': 'auto', 'pena...           0.751938   \n",
       "32  {'max_iter': 150, 'multi_class': 'ovr', 'penal...           0.751938   \n",
       "33  {'max_iter': 150, 'multi_class': 'ovr', 'penal...           0.751938   \n",
       "36  {'max_iter': 160, 'multi_class': 'auto', 'pena...           0.751938   \n",
       "37  {'max_iter': 160, 'multi_class': 'auto', 'pena...           0.751938   \n",
       "38  {'max_iter': 160, 'multi_class': 'ovr', 'penal...           0.751938   \n",
       "39  {'max_iter': 160, 'multi_class': 'ovr', 'penal...           0.751938   \n",
       "42  {'max_iter': 170, 'multi_class': 'auto', 'pena...           0.751938   \n",
       "43  {'max_iter': 170, 'multi_class': 'auto', 'pena...           0.751938   \n",
       "44  {'max_iter': 170, 'multi_class': 'ovr', 'penal...           0.751938   \n",
       "45  {'max_iter': 170, 'multi_class': 'ovr', 'penal...           0.751938   \n",
       "48  {'max_iter': 180, 'multi_class': 'auto', 'pena...           0.751938   \n",
       "49  {'max_iter': 180, 'multi_class': 'auto', 'pena...           0.751938   \n",
       "50  {'max_iter': 180, 'multi_class': 'ovr', 'penal...           0.751938   \n",
       "51  {'max_iter': 180, 'multi_class': 'ovr', 'penal...           0.751938   \n",
       "54  {'max_iter': 190, 'multi_class': 'auto', 'pena...           0.751938   \n",
       "55  {'max_iter': 190, 'multi_class': 'auto', 'pena...           0.751938   \n",
       "56  {'max_iter': 190, 'multi_class': 'ovr', 'penal...           0.751938   \n",
       "57  {'max_iter': 190, 'multi_class': 'ovr', 'penal...           0.751938   \n",
       "26  {'max_iter': 140, 'multi_class': 'ovr', 'penal...           0.751938   \n",
       "30  {'max_iter': 150, 'multi_class': 'auto', 'pena...           0.751938   \n",
       "24  {'max_iter': 140, 'multi_class': 'auto', 'pena...           0.751938   \n",
       "15  {'max_iter': 120, 'multi_class': 'ovr', 'penal...           0.751938   \n",
       "2   {'max_iter': 100, 'multi_class': 'ovr', 'penal...           0.751938   \n",
       "3   {'max_iter': 100, 'multi_class': 'ovr', 'penal...           0.751938   \n",
       "6   {'max_iter': 110, 'multi_class': 'auto', 'pena...           0.751938   \n",
       "7   {'max_iter': 110, 'multi_class': 'auto', 'pena...           0.751938   \n",
       "8   {'max_iter': 110, 'multi_class': 'ovr', 'penal...           0.751938   \n",
       "9   {'max_iter': 110, 'multi_class': 'ovr', 'penal...           0.751938   \n",
       "12  {'max_iter': 120, 'multi_class': 'auto', 'pena...           0.751938   \n",
       "14  {'max_iter': 120, 'multi_class': 'ovr', 'penal...           0.751938   \n",
       "13  {'max_iter': 120, 'multi_class': 'auto', 'pena...           0.751938   \n",
       "19  {'max_iter': 130, 'multi_class': 'auto', 'pena...           0.751938   \n",
       "20  {'max_iter': 130, 'multi_class': 'ovr', 'penal...           0.751938   \n",
       "18  {'max_iter': 130, 'multi_class': 'auto', 'pena...           0.751938   \n",
       "21  {'max_iter': 130, 'multi_class': 'ovr', 'penal...           0.751938   \n",
       "58  {'max_iter': 190, 'multi_class': 'multinomial'...           0.693798   \n",
       "22  {'max_iter': 130, 'multi_class': 'multinomial'...           0.693798   \n",
       "28  {'max_iter': 140, 'multi_class': 'multinomial'...           0.693798   \n",
       "4   {'max_iter': 100, 'multi_class': 'multinomial'...           0.693798   \n",
       "5   {'max_iter': 100, 'multi_class': 'multinomial'...           0.693798   \n",
       "53  {'max_iter': 180, 'multi_class': 'multinomial'...           0.693798   \n",
       "52  {'max_iter': 180, 'multi_class': 'multinomial'...           0.693798   \n",
       "29  {'max_iter': 140, 'multi_class': 'multinomial'...           0.693798   \n",
       "17  {'max_iter': 120, 'multi_class': 'multinomial'...           0.693798   \n",
       "16  {'max_iter': 120, 'multi_class': 'multinomial'...           0.693798   \n",
       "47  {'max_iter': 170, 'multi_class': 'multinomial'...           0.693798   \n",
       "46  {'max_iter': 170, 'multi_class': 'multinomial'...           0.693798   \n",
       "10  {'max_iter': 110, 'multi_class': 'multinomial'...           0.693798   \n",
       "11  {'max_iter': 110, 'multi_class': 'multinomial'...           0.693798   \n",
       "23  {'max_iter': 130, 'multi_class': 'multinomial'...           0.693798   \n",
       "41  {'max_iter': 160, 'multi_class': 'multinomial'...           0.693798   \n",
       "40  {'max_iter': 160, 'multi_class': 'multinomial'...           0.693798   \n",
       "34  {'max_iter': 150, 'multi_class': 'multinomial'...           0.693798   \n",
       "35  {'max_iter': 150, 'multi_class': 'multinomial'...           0.693798   \n",
       "59  {'max_iter': 190, 'multi_class': 'multinomial'...           0.693798   \n",
       "\n",
       "    split1_test_score  split2_test_score  split3_test_score  \\\n",
       "0            0.748062           0.678295           0.744186   \n",
       "25           0.748062           0.678295           0.744186   \n",
       "27           0.748062           0.678295           0.744186   \n",
       "1            0.748062           0.678295           0.744186   \n",
       "31           0.748062           0.678295           0.744186   \n",
       "32           0.748062           0.678295           0.744186   \n",
       "33           0.748062           0.678295           0.744186   \n",
       "36           0.748062           0.678295           0.744186   \n",
       "37           0.748062           0.678295           0.744186   \n",
       "38           0.748062           0.678295           0.744186   \n",
       "39           0.748062           0.678295           0.744186   \n",
       "42           0.748062           0.678295           0.744186   \n",
       "43           0.748062           0.678295           0.744186   \n",
       "44           0.748062           0.678295           0.744186   \n",
       "45           0.748062           0.678295           0.744186   \n",
       "48           0.748062           0.678295           0.744186   \n",
       "49           0.748062           0.678295           0.744186   \n",
       "50           0.748062           0.678295           0.744186   \n",
       "51           0.748062           0.678295           0.744186   \n",
       "54           0.748062           0.678295           0.744186   \n",
       "55           0.748062           0.678295           0.744186   \n",
       "56           0.748062           0.678295           0.744186   \n",
       "57           0.748062           0.678295           0.744186   \n",
       "26           0.748062           0.678295           0.744186   \n",
       "30           0.748062           0.678295           0.744186   \n",
       "24           0.748062           0.678295           0.744186   \n",
       "15           0.748062           0.678295           0.744186   \n",
       "2            0.748062           0.678295           0.744186   \n",
       "3            0.748062           0.678295           0.744186   \n",
       "6            0.748062           0.678295           0.744186   \n",
       "7            0.748062           0.678295           0.744186   \n",
       "8            0.748062           0.678295           0.744186   \n",
       "9            0.748062           0.678295           0.744186   \n",
       "12           0.748062           0.678295           0.744186   \n",
       "14           0.748062           0.678295           0.744186   \n",
       "13           0.748062           0.678295           0.744186   \n",
       "19           0.748062           0.678295           0.744186   \n",
       "20           0.748062           0.678295           0.744186   \n",
       "18           0.748062           0.678295           0.744186   \n",
       "21           0.748062           0.678295           0.744186   \n",
       "58           0.689922           0.732558           0.744186   \n",
       "22           0.689922           0.732558           0.744186   \n",
       "28           0.689922           0.732558           0.744186   \n",
       "4            0.689922           0.732558           0.744186   \n",
       "5            0.689922           0.732558           0.744186   \n",
       "53           0.689922           0.732558           0.744186   \n",
       "52           0.689922           0.732558           0.744186   \n",
       "29           0.689922           0.732558           0.744186   \n",
       "17           0.689922           0.732558           0.744186   \n",
       "16           0.689922           0.732558           0.744186   \n",
       "47           0.689922           0.732558           0.744186   \n",
       "46           0.689922           0.732558           0.744186   \n",
       "10           0.689922           0.732558           0.744186   \n",
       "11           0.689922           0.732558           0.744186   \n",
       "23           0.689922           0.732558           0.744186   \n",
       "41           0.689922           0.732558           0.744186   \n",
       "40           0.689922           0.732558           0.744186   \n",
       "34           0.689922           0.732558           0.744186   \n",
       "35           0.689922           0.732558           0.744186   \n",
       "59           0.689922           0.732558           0.744186   \n",
       "\n",
       "    split4_test_score  mean_test_score  std_test_score  rank_test_score  \n",
       "0            0.705426         0.725581        0.028943                1  \n",
       "25           0.705426         0.725581        0.028943                1  \n",
       "27           0.705426         0.725581        0.028943                1  \n",
       "1            0.705426         0.725581        0.028943                1  \n",
       "31           0.705426         0.725581        0.028943                1  \n",
       "32           0.705426         0.725581        0.028943                1  \n",
       "33           0.705426         0.725581        0.028943                1  \n",
       "36           0.705426         0.725581        0.028943                1  \n",
       "37           0.705426         0.725581        0.028943                1  \n",
       "38           0.705426         0.725581        0.028943                1  \n",
       "39           0.705426         0.725581        0.028943                1  \n",
       "42           0.705426         0.725581        0.028943                1  \n",
       "43           0.705426         0.725581        0.028943                1  \n",
       "44           0.705426         0.725581        0.028943                1  \n",
       "45           0.705426         0.725581        0.028943                1  \n",
       "48           0.705426         0.725581        0.028943                1  \n",
       "49           0.705426         0.725581        0.028943                1  \n",
       "50           0.705426         0.725581        0.028943                1  \n",
       "51           0.705426         0.725581        0.028943                1  \n",
       "54           0.705426         0.725581        0.028943                1  \n",
       "55           0.705426         0.725581        0.028943                1  \n",
       "56           0.705426         0.725581        0.028943                1  \n",
       "57           0.705426         0.725581        0.028943                1  \n",
       "26           0.705426         0.725581        0.028943                1  \n",
       "30           0.705426         0.725581        0.028943                1  \n",
       "24           0.705426         0.725581        0.028943                1  \n",
       "15           0.705426         0.725581        0.028943                1  \n",
       "2            0.705426         0.725581        0.028943                1  \n",
       "3            0.705426         0.725581        0.028943                1  \n",
       "6            0.705426         0.725581        0.028943                1  \n",
       "7            0.705426         0.725581        0.028943                1  \n",
       "8            0.705426         0.725581        0.028943                1  \n",
       "9            0.705426         0.725581        0.028943                1  \n",
       "12           0.705426         0.725581        0.028943                1  \n",
       "14           0.705426         0.725581        0.028943                1  \n",
       "13           0.705426         0.725581        0.028943                1  \n",
       "19           0.705426         0.725581        0.028943                1  \n",
       "20           0.705426         0.725581        0.028943                1  \n",
       "18           0.705426         0.725581        0.028943                1  \n",
       "21           0.705426         0.725581        0.028943                1  \n",
       "58           0.728682         0.717829        0.021843               41  \n",
       "22           0.728682         0.717829        0.021843               41  \n",
       "28           0.728682         0.717829        0.021843               41  \n",
       "4            0.728682         0.717829        0.021843               41  \n",
       "5            0.728682         0.717829        0.021843               41  \n",
       "53           0.728682         0.717829        0.021843               41  \n",
       "52           0.728682         0.717829        0.021843               41  \n",
       "29           0.728682         0.717829        0.021843               41  \n",
       "17           0.728682         0.717829        0.021843               41  \n",
       "16           0.728682         0.717829        0.021843               41  \n",
       "47           0.728682         0.717829        0.021843               41  \n",
       "46           0.728682         0.717829        0.021843               41  \n",
       "10           0.728682         0.717829        0.021843               41  \n",
       "11           0.728682         0.717829        0.021843               41  \n",
       "23           0.728682         0.717829        0.021843               41  \n",
       "41           0.728682         0.717829        0.021843               41  \n",
       "40           0.728682         0.717829        0.021843               41  \n",
       "34           0.728682         0.717829        0.021843               41  \n",
       "35           0.728682         0.717829        0.021843               41  \n",
       "59           0.728682         0.717829        0.021843               41  "
      ]
     },
     "metadata": {},
     "output_type": "display_data"
    }
   ],
   "source": [
    "display(logic_regression_results.sort_values(by='mean_test_score', ascending=False))"
   ]
  },
  {
   "cell_type": "markdown",
   "metadata": {},
   "source": [
    "- Можно заметить, что при значении параметра multi_class = multinomial достигаются наименьшие значения точности\n",
    "\n",
    "\n",
    "- Попробуем подобрать другие параметры для перебора"
   ]
  },
  {
   "cell_type": "code",
   "execution_count": 43,
   "metadata": {
    "ExecuteTime": {
     "end_time": "2022-05-30T18:00:23.915381Z",
     "start_time": "2022-05-30T18:00:23.912760Z"
    }
   },
   "outputs": [],
   "source": [
    "logic_regression_parameters_grid = {\n",
    "    'penalty' : ['l2', 'l1'],\n",
    "    'solver' : ['liblinear'],\n",
    "    'multi_class' : ['auto', 'ovr']\n",
    "}"
   ]
  },
  {
   "cell_type": "code",
   "execution_count": 44,
   "metadata": {
    "ExecuteTime": {
     "end_time": "2022-05-30T18:00:23.921043Z",
     "start_time": "2022-05-30T18:00:23.917473Z"
    }
   },
   "outputs": [],
   "source": [
    "logic_regression_grid_cv = GridSearchCV(logic_regression_model, logic_regression_parameters_grid, scoring='accuracy', cv=cv)"
   ]
  },
  {
   "cell_type": "code",
   "execution_count": 45,
   "metadata": {
    "ExecuteTime": {
     "end_time": "2022-05-30T18:00:24.085153Z",
     "start_time": "2022-05-30T18:00:23.923068Z"
    }
   },
   "outputs": [
    {
     "name": "stdout",
     "output_type": "stream",
     "text": [
      "CPU times: user 155 ms, sys: 0 ns, total: 155 ms\n",
      "Wall time: 155 ms\n"
     ]
    },
    {
     "data": {
      "text/plain": [
       "GridSearchCV(cv=StratifiedShuffleSplit(n_splits=5, random_state=11111, test_size=None,\n",
       "            train_size=None),\n",
       "             estimator=LogisticRegression(random_state=11111),\n",
       "             param_grid={'multi_class': ['auto', 'ovr'],\n",
       "                         'penalty': ['l2', 'l1'], 'solver': ['liblinear']},\n",
       "             scoring='accuracy')"
      ]
     },
     "execution_count": 45,
     "metadata": {},
     "output_type": "execute_result"
    }
   ],
   "source": [
    "%%time\n",
    "logic_regression_grid_cv.fit(train_features, train_target)"
   ]
  },
  {
   "cell_type": "code",
   "execution_count": 46,
   "metadata": {
    "ExecuteTime": {
     "end_time": "2022-05-30T18:00:24.090042Z",
     "start_time": "2022-05-30T18:00:24.086613Z"
    }
   },
   "outputs": [
    {
     "name": "stdout",
     "output_type": "stream",
     "text": [
      "Accuracy наилучшей модели на кросс-валидационной выборке: 0.7410852713178294\n",
      "\n",
      "Параметры для наилучшей модели на кросс-валидационной выборке:\n",
      "\n",
      "{'multi_class': 'auto', 'penalty': 'l1', 'solver': 'liblinear'}\n"
     ]
    }
   ],
   "source": [
    "print('Accuracy наилучшей модели на кросс-валидационной выборке:', logic_regression_grid_cv.best_score_)\n",
    "print()\n",
    "print('Параметры для наилучшей модели на кросс-валидационной выборке:')\n",
    "print()\n",
    "print(logic_regression_grid_cv.best_params_)"
   ]
  },
  {
   "cell_type": "markdown",
   "metadata": {},
   "source": [
    "- Лучшая точность повысилась по сравнению с предыдущим исследованием \n",
    "\n",
    "\n",
    "- Согласно описанию функции алгоритм 'liblinear' больше всего подходит для небольших датасетов, как в нашем случае\n",
    "\n",
    "\n",
    "- Тем не менее, точность все еще ниже минимально допустимой - 0.75\n",
    "\n",
    "\n",
    "- Попробуем улучшить результат"
   ]
  },
  {
   "cell_type": "code",
   "execution_count": 47,
   "metadata": {
    "ExecuteTime": {
     "end_time": "2022-05-30T18:00:24.114611Z",
     "start_time": "2022-05-30T18:00:24.091469Z"
    }
   },
   "outputs": [
    {
     "data": {
      "text/html": [
       "<div>\n",
       "<style scoped>\n",
       "    .dataframe tbody tr th:only-of-type {\n",
       "        vertical-align: middle;\n",
       "    }\n",
       "\n",
       "    .dataframe tbody tr th {\n",
       "        vertical-align: top;\n",
       "    }\n",
       "\n",
       "    .dataframe thead th {\n",
       "        text-align: right;\n",
       "    }\n",
       "</style>\n",
       "<table border=\"1\" class=\"dataframe\">\n",
       "  <thead>\n",
       "    <tr style=\"text-align: right;\">\n",
       "      <th></th>\n",
       "      <th>mean_fit_time</th>\n",
       "      <th>std_fit_time</th>\n",
       "      <th>mean_score_time</th>\n",
       "      <th>std_score_time</th>\n",
       "      <th>param_multi_class</th>\n",
       "      <th>param_penalty</th>\n",
       "      <th>param_solver</th>\n",
       "      <th>params</th>\n",
       "      <th>split0_test_score</th>\n",
       "      <th>split1_test_score</th>\n",
       "      <th>split2_test_score</th>\n",
       "      <th>split3_test_score</th>\n",
       "      <th>split4_test_score</th>\n",
       "      <th>mean_test_score</th>\n",
       "      <th>std_test_score</th>\n",
       "      <th>rank_test_score</th>\n",
       "    </tr>\n",
       "  </thead>\n",
       "  <tbody>\n",
       "    <tr>\n",
       "      <th>1</th>\n",
       "      <td>0.005936</td>\n",
       "      <td>0.001676</td>\n",
       "      <td>0.000936</td>\n",
       "      <td>0.000075</td>\n",
       "      <td>auto</td>\n",
       "      <td>l1</td>\n",
       "      <td>liblinear</td>\n",
       "      <td>{'multi_class': 'auto', 'penalty': 'l1', 'solv...</td>\n",
       "      <td>0.751938</td>\n",
       "      <td>0.748062</td>\n",
       "      <td>0.732558</td>\n",
       "      <td>0.744186</td>\n",
       "      <td>0.728682</td>\n",
       "      <td>0.741085</td>\n",
       "      <td>0.008974</td>\n",
       "      <td>1</td>\n",
       "    </tr>\n",
       "    <tr>\n",
       "      <th>3</th>\n",
       "      <td>0.005602</td>\n",
       "      <td>0.001666</td>\n",
       "      <td>0.000928</td>\n",
       "      <td>0.000111</td>\n",
       "      <td>ovr</td>\n",
       "      <td>l1</td>\n",
       "      <td>liblinear</td>\n",
       "      <td>{'multi_class': 'ovr', 'penalty': 'l1', 'solve...</td>\n",
       "      <td>0.751938</td>\n",
       "      <td>0.748062</td>\n",
       "      <td>0.732558</td>\n",
       "      <td>0.744186</td>\n",
       "      <td>0.728682</td>\n",
       "      <td>0.741085</td>\n",
       "      <td>0.008974</td>\n",
       "      <td>1</td>\n",
       "    </tr>\n",
       "    <tr>\n",
       "      <th>0</th>\n",
       "      <td>0.005865</td>\n",
       "      <td>0.001467</td>\n",
       "      <td>0.001130</td>\n",
       "      <td>0.000330</td>\n",
       "      <td>auto</td>\n",
       "      <td>l2</td>\n",
       "      <td>liblinear</td>\n",
       "      <td>{'multi_class': 'auto', 'penalty': 'l2', 'solv...</td>\n",
       "      <td>0.697674</td>\n",
       "      <td>0.693798</td>\n",
       "      <td>0.724806</td>\n",
       "      <td>0.693798</td>\n",
       "      <td>0.728682</td>\n",
       "      <td>0.707752</td>\n",
       "      <td>0.015620</td>\n",
       "      <td>3</td>\n",
       "    </tr>\n",
       "    <tr>\n",
       "      <th>2</th>\n",
       "      <td>0.004685</td>\n",
       "      <td>0.000672</td>\n",
       "      <td>0.001077</td>\n",
       "      <td>0.000240</td>\n",
       "      <td>ovr</td>\n",
       "      <td>l2</td>\n",
       "      <td>liblinear</td>\n",
       "      <td>{'multi_class': 'ovr', 'penalty': 'l2', 'solve...</td>\n",
       "      <td>0.697674</td>\n",
       "      <td>0.693798</td>\n",
       "      <td>0.724806</td>\n",
       "      <td>0.693798</td>\n",
       "      <td>0.728682</td>\n",
       "      <td>0.707752</td>\n",
       "      <td>0.015620</td>\n",
       "      <td>3</td>\n",
       "    </tr>\n",
       "  </tbody>\n",
       "</table>\n",
       "</div>"
      ],
      "text/plain": [
       "   mean_fit_time  std_fit_time  mean_score_time  std_score_time  \\\n",
       "1       0.005936      0.001676         0.000936        0.000075   \n",
       "3       0.005602      0.001666         0.000928        0.000111   \n",
       "0       0.005865      0.001467         0.001130        0.000330   \n",
       "2       0.004685      0.000672         0.001077        0.000240   \n",
       "\n",
       "  param_multi_class param_penalty param_solver  \\\n",
       "1              auto            l1    liblinear   \n",
       "3               ovr            l1    liblinear   \n",
       "0              auto            l2    liblinear   \n",
       "2               ovr            l2    liblinear   \n",
       "\n",
       "                                              params  split0_test_score  \\\n",
       "1  {'multi_class': 'auto', 'penalty': 'l1', 'solv...           0.751938   \n",
       "3  {'multi_class': 'ovr', 'penalty': 'l1', 'solve...           0.751938   \n",
       "0  {'multi_class': 'auto', 'penalty': 'l2', 'solv...           0.697674   \n",
       "2  {'multi_class': 'ovr', 'penalty': 'l2', 'solve...           0.697674   \n",
       "\n",
       "   split1_test_score  split2_test_score  split3_test_score  split4_test_score  \\\n",
       "1           0.748062           0.732558           0.744186           0.728682   \n",
       "3           0.748062           0.732558           0.744186           0.728682   \n",
       "0           0.693798           0.724806           0.693798           0.728682   \n",
       "2           0.693798           0.724806           0.693798           0.728682   \n",
       "\n",
       "   mean_test_score  std_test_score  rank_test_score  \n",
       "1         0.741085        0.008974                1  \n",
       "3         0.741085        0.008974                1  \n",
       "0         0.707752        0.015620                3  \n",
       "2         0.707752        0.015620                3  "
      ]
     },
     "metadata": {},
     "output_type": "display_data"
    }
   ],
   "source": [
    "logic_regression_results = pd.DataFrame(logic_regression_grid_cv.cv_results_)\n",
    "\n",
    "display(logic_regression_results.sort_values(by='mean_test_score', ascending=False))"
   ]
  },
  {
   "cell_type": "markdown",
   "metadata": {},
   "source": [
    "- Можно отметить, что норма l1 дает наибольшие значения точности\n",
    "\n",
    "\n",
    "- Значени параметра multi_class дают одинаковые результаты\n",
    "\n",
    "\n",
    "- Введем дополнительные параметры "
   ]
  },
  {
   "cell_type": "code",
   "execution_count": 48,
   "metadata": {
    "ExecuteTime": {
     "end_time": "2022-05-30T18:00:24.119388Z",
     "start_time": "2022-05-30T18:00:24.115927Z"
    }
   },
   "outputs": [],
   "source": [
    "logic_regression_parameters_grid = {\n",
    "    'penalty' : ['l1'],\n",
    "    'solver' : ['liblinear'],\n",
    "    'multi_class' : ['ovr'],\n",
    "    'C' : np.linspace(0.1, 2, num=20)\n",
    "}"
   ]
  },
  {
   "cell_type": "code",
   "execution_count": 49,
   "metadata": {
    "ExecuteTime": {
     "end_time": "2022-05-30T18:00:24.125617Z",
     "start_time": "2022-05-30T18:00:24.120752Z"
    }
   },
   "outputs": [],
   "source": [
    "logic_regression_grid_cv = GridSearchCV(logic_regression_model, logic_regression_parameters_grid, scoring='accuracy', cv=cv)"
   ]
  },
  {
   "cell_type": "code",
   "execution_count": 50,
   "metadata": {
    "ExecuteTime": {
     "end_time": "2022-05-30T18:00:24.817841Z",
     "start_time": "2022-05-30T18:00:24.128743Z"
    }
   },
   "outputs": [
    {
     "name": "stdout",
     "output_type": "stream",
     "text": [
      "CPU times: user 682 ms, sys: 0 ns, total: 682 ms\n",
      "Wall time: 682 ms\n"
     ]
    },
    {
     "data": {
      "text/plain": [
       "GridSearchCV(cv=StratifiedShuffleSplit(n_splits=5, random_state=11111, test_size=None,\n",
       "            train_size=None),\n",
       "             estimator=LogisticRegression(random_state=11111),\n",
       "             param_grid={'C': array([0.1, 0.2, 0.3, 0.4, 0.5, 0.6, 0.7, 0.8, 0.9, 1. , 1.1, 1.2, 1.3,\n",
       "       1.4, 1.5, 1.6, 1.7, 1.8, 1.9, 2. ]),\n",
       "                         'multi_class': ['ovr'], 'penalty': ['l1'],\n",
       "                         'solver': ['liblinear']},\n",
       "             scoring='accuracy')"
      ]
     },
     "execution_count": 50,
     "metadata": {},
     "output_type": "execute_result"
    }
   ],
   "source": [
    "%%time\n",
    "logic_regression_grid_cv.fit(train_features, train_target)"
   ]
  },
  {
   "cell_type": "code",
   "execution_count": 51,
   "metadata": {
    "ExecuteTime": {
     "end_time": "2022-05-30T18:00:24.823140Z",
     "start_time": "2022-05-30T18:00:24.819537Z"
    }
   },
   "outputs": [
    {
     "name": "stdout",
     "output_type": "stream",
     "text": [
      "Accuracy наилучшей модели на кросс-валидационной выборке: 0.7410852713178294\n",
      "\n",
      "Параметры для наилучшей модели на кросс-валидационной выборке:\n",
      "\n",
      "{'C': 0.4, 'multi_class': 'ovr', 'penalty': 'l1', 'solver': 'liblinear'}\n"
     ]
    }
   ],
   "source": [
    "print('Accuracy наилучшей модели на кросс-валидационной выборке:', logic_regression_grid_cv.best_score_)\n",
    "print()\n",
    "print('Параметры для наилучшей модели на кросс-валидационной выборке:')\n",
    "print()\n",
    "print(logic_regression_grid_cv.best_params_)"
   ]
  },
  {
   "cell_type": "markdown",
   "metadata": {},
   "source": [
    "- Лучшая точность немного повысилась по сравнению с предыдущим исследованием, но она все же меньше минимальной  "
   ]
  },
  {
   "cell_type": "code",
   "execution_count": 52,
   "metadata": {
    "ExecuteTime": {
     "end_time": "2022-05-30T18:00:24.856001Z",
     "start_time": "2022-05-30T18:00:24.824885Z"
    }
   },
   "outputs": [
    {
     "data": {
      "text/html": [
       "<div>\n",
       "<style scoped>\n",
       "    .dataframe tbody tr th:only-of-type {\n",
       "        vertical-align: middle;\n",
       "    }\n",
       "\n",
       "    .dataframe tbody tr th {\n",
       "        vertical-align: top;\n",
       "    }\n",
       "\n",
       "    .dataframe thead th {\n",
       "        text-align: right;\n",
       "    }\n",
       "</style>\n",
       "<table border=\"1\" class=\"dataframe\">\n",
       "  <thead>\n",
       "    <tr style=\"text-align: right;\">\n",
       "      <th></th>\n",
       "      <th>mean_fit_time</th>\n",
       "      <th>std_fit_time</th>\n",
       "      <th>mean_score_time</th>\n",
       "      <th>std_score_time</th>\n",
       "      <th>param_C</th>\n",
       "      <th>param_multi_class</th>\n",
       "      <th>param_penalty</th>\n",
       "      <th>param_solver</th>\n",
       "      <th>params</th>\n",
       "      <th>split0_test_score</th>\n",
       "      <th>split1_test_score</th>\n",
       "      <th>split2_test_score</th>\n",
       "      <th>split3_test_score</th>\n",
       "      <th>split4_test_score</th>\n",
       "      <th>mean_test_score</th>\n",
       "      <th>std_test_score</th>\n",
       "      <th>rank_test_score</th>\n",
       "    </tr>\n",
       "  </thead>\n",
       "  <tbody>\n",
       "    <tr>\n",
       "      <th>10</th>\n",
       "      <td>0.005432</td>\n",
       "      <td>0.001594</td>\n",
       "      <td>0.000946</td>\n",
       "      <td>0.000134</td>\n",
       "      <td>1.1</td>\n",
       "      <td>ovr</td>\n",
       "      <td>l1</td>\n",
       "      <td>liblinear</td>\n",
       "      <td>{'C': 1.0999999999999999, 'multi_class': 'ovr'...</td>\n",
       "      <td>0.751938</td>\n",
       "      <td>0.748062</td>\n",
       "      <td>0.732558</td>\n",
       "      <td>0.744186</td>\n",
       "      <td>0.728682</td>\n",
       "      <td>0.741085</td>\n",
       "      <td>0.008974</td>\n",
       "      <td>1</td>\n",
       "    </tr>\n",
       "    <tr>\n",
       "      <th>11</th>\n",
       "      <td>0.005549</td>\n",
       "      <td>0.001691</td>\n",
       "      <td>0.000976</td>\n",
       "      <td>0.000089</td>\n",
       "      <td>1.2</td>\n",
       "      <td>ovr</td>\n",
       "      <td>l1</td>\n",
       "      <td>liblinear</td>\n",
       "      <td>{'C': 1.2, 'multi_class': 'ovr', 'penalty': 'l...</td>\n",
       "      <td>0.751938</td>\n",
       "      <td>0.748062</td>\n",
       "      <td>0.732558</td>\n",
       "      <td>0.744186</td>\n",
       "      <td>0.728682</td>\n",
       "      <td>0.741085</td>\n",
       "      <td>0.008974</td>\n",
       "      <td>1</td>\n",
       "    </tr>\n",
       "    <tr>\n",
       "      <th>18</th>\n",
       "      <td>0.005473</td>\n",
       "      <td>0.001601</td>\n",
       "      <td>0.000933</td>\n",
       "      <td>0.000118</td>\n",
       "      <td>1.9</td>\n",
       "      <td>ovr</td>\n",
       "      <td>l1</td>\n",
       "      <td>liblinear</td>\n",
       "      <td>{'C': 1.9, 'multi_class': 'ovr', 'penalty': 'l...</td>\n",
       "      <td>0.751938</td>\n",
       "      <td>0.748062</td>\n",
       "      <td>0.732558</td>\n",
       "      <td>0.744186</td>\n",
       "      <td>0.728682</td>\n",
       "      <td>0.741085</td>\n",
       "      <td>0.008974</td>\n",
       "      <td>1</td>\n",
       "    </tr>\n",
       "    <tr>\n",
       "      <th>17</th>\n",
       "      <td>0.005349</td>\n",
       "      <td>0.001669</td>\n",
       "      <td>0.000994</td>\n",
       "      <td>0.000214</td>\n",
       "      <td>1.8</td>\n",
       "      <td>ovr</td>\n",
       "      <td>l1</td>\n",
       "      <td>liblinear</td>\n",
       "      <td>{'C': 1.8, 'multi_class': 'ovr', 'penalty': 'l...</td>\n",
       "      <td>0.751938</td>\n",
       "      <td>0.748062</td>\n",
       "      <td>0.732558</td>\n",
       "      <td>0.744186</td>\n",
       "      <td>0.728682</td>\n",
       "      <td>0.741085</td>\n",
       "      <td>0.008974</td>\n",
       "      <td>1</td>\n",
       "    </tr>\n",
       "    <tr>\n",
       "      <th>16</th>\n",
       "      <td>0.005354</td>\n",
       "      <td>0.001634</td>\n",
       "      <td>0.000894</td>\n",
       "      <td>0.000015</td>\n",
       "      <td>1.7</td>\n",
       "      <td>ovr</td>\n",
       "      <td>l1</td>\n",
       "      <td>liblinear</td>\n",
       "      <td>{'C': 1.7, 'multi_class': 'ovr', 'penalty': 'l...</td>\n",
       "      <td>0.751938</td>\n",
       "      <td>0.748062</td>\n",
       "      <td>0.732558</td>\n",
       "      <td>0.744186</td>\n",
       "      <td>0.728682</td>\n",
       "      <td>0.741085</td>\n",
       "      <td>0.008974</td>\n",
       "      <td>1</td>\n",
       "    </tr>\n",
       "    <tr>\n",
       "      <th>15</th>\n",
       "      <td>0.005459</td>\n",
       "      <td>0.001677</td>\n",
       "      <td>0.000896</td>\n",
       "      <td>0.000064</td>\n",
       "      <td>1.6</td>\n",
       "      <td>ovr</td>\n",
       "      <td>l1</td>\n",
       "      <td>liblinear</td>\n",
       "      <td>{'C': 1.5999999999999999, 'multi_class': 'ovr'...</td>\n",
       "      <td>0.751938</td>\n",
       "      <td>0.748062</td>\n",
       "      <td>0.732558</td>\n",
       "      <td>0.744186</td>\n",
       "      <td>0.728682</td>\n",
       "      <td>0.741085</td>\n",
       "      <td>0.008974</td>\n",
       "      <td>1</td>\n",
       "    </tr>\n",
       "    <tr>\n",
       "      <th>14</th>\n",
       "      <td>0.005396</td>\n",
       "      <td>0.001698</td>\n",
       "      <td>0.000862</td>\n",
       "      <td>0.000055</td>\n",
       "      <td>1.5</td>\n",
       "      <td>ovr</td>\n",
       "      <td>l1</td>\n",
       "      <td>liblinear</td>\n",
       "      <td>{'C': 1.5, 'multi_class': 'ovr', 'penalty': 'l...</td>\n",
       "      <td>0.751938</td>\n",
       "      <td>0.748062</td>\n",
       "      <td>0.732558</td>\n",
       "      <td>0.744186</td>\n",
       "      <td>0.728682</td>\n",
       "      <td>0.741085</td>\n",
       "      <td>0.008974</td>\n",
       "      <td>1</td>\n",
       "    </tr>\n",
       "    <tr>\n",
       "      <th>13</th>\n",
       "      <td>0.005335</td>\n",
       "      <td>0.001597</td>\n",
       "      <td>0.000915</td>\n",
       "      <td>0.000131</td>\n",
       "      <td>1.4</td>\n",
       "      <td>ovr</td>\n",
       "      <td>l1</td>\n",
       "      <td>liblinear</td>\n",
       "      <td>{'C': 1.4, 'multi_class': 'ovr', 'penalty': 'l...</td>\n",
       "      <td>0.751938</td>\n",
       "      <td>0.748062</td>\n",
       "      <td>0.732558</td>\n",
       "      <td>0.744186</td>\n",
       "      <td>0.728682</td>\n",
       "      <td>0.741085</td>\n",
       "      <td>0.008974</td>\n",
       "      <td>1</td>\n",
       "    </tr>\n",
       "    <tr>\n",
       "      <th>12</th>\n",
       "      <td>0.005681</td>\n",
       "      <td>0.001568</td>\n",
       "      <td>0.000942</td>\n",
       "      <td>0.000087</td>\n",
       "      <td>1.3</td>\n",
       "      <td>ovr</td>\n",
       "      <td>l1</td>\n",
       "      <td>liblinear</td>\n",
       "      <td>{'C': 1.3, 'multi_class': 'ovr', 'penalty': 'l...</td>\n",
       "      <td>0.751938</td>\n",
       "      <td>0.748062</td>\n",
       "      <td>0.732558</td>\n",
       "      <td>0.744186</td>\n",
       "      <td>0.728682</td>\n",
       "      <td>0.741085</td>\n",
       "      <td>0.008974</td>\n",
       "      <td>1</td>\n",
       "    </tr>\n",
       "    <tr>\n",
       "      <th>19</th>\n",
       "      <td>0.005448</td>\n",
       "      <td>0.001529</td>\n",
       "      <td>0.000927</td>\n",
       "      <td>0.000048</td>\n",
       "      <td>2.0</td>\n",
       "      <td>ovr</td>\n",
       "      <td>l1</td>\n",
       "      <td>liblinear</td>\n",
       "      <td>{'C': 2.0, 'multi_class': 'ovr', 'penalty': 'l...</td>\n",
       "      <td>0.751938</td>\n",
       "      <td>0.748062</td>\n",
       "      <td>0.732558</td>\n",
       "      <td>0.744186</td>\n",
       "      <td>0.728682</td>\n",
       "      <td>0.741085</td>\n",
       "      <td>0.008974</td>\n",
       "      <td>1</td>\n",
       "    </tr>\n",
       "  </tbody>\n",
       "</table>\n",
       "</div>"
      ],
      "text/plain": [
       "    mean_fit_time  std_fit_time  mean_score_time  std_score_time param_C  \\\n",
       "10       0.005432      0.001594         0.000946        0.000134     1.1   \n",
       "11       0.005549      0.001691         0.000976        0.000089     1.2   \n",
       "18       0.005473      0.001601         0.000933        0.000118     1.9   \n",
       "17       0.005349      0.001669         0.000994        0.000214     1.8   \n",
       "16       0.005354      0.001634         0.000894        0.000015     1.7   \n",
       "15       0.005459      0.001677         0.000896        0.000064     1.6   \n",
       "14       0.005396      0.001698         0.000862        0.000055     1.5   \n",
       "13       0.005335      0.001597         0.000915        0.000131     1.4   \n",
       "12       0.005681      0.001568         0.000942        0.000087     1.3   \n",
       "19       0.005448      0.001529         0.000927        0.000048     2.0   \n",
       "\n",
       "   param_multi_class param_penalty param_solver  \\\n",
       "10               ovr            l1    liblinear   \n",
       "11               ovr            l1    liblinear   \n",
       "18               ovr            l1    liblinear   \n",
       "17               ovr            l1    liblinear   \n",
       "16               ovr            l1    liblinear   \n",
       "15               ovr            l1    liblinear   \n",
       "14               ovr            l1    liblinear   \n",
       "13               ovr            l1    liblinear   \n",
       "12               ovr            l1    liblinear   \n",
       "19               ovr            l1    liblinear   \n",
       "\n",
       "                                               params  split0_test_score  \\\n",
       "10  {'C': 1.0999999999999999, 'multi_class': 'ovr'...           0.751938   \n",
       "11  {'C': 1.2, 'multi_class': 'ovr', 'penalty': 'l...           0.751938   \n",
       "18  {'C': 1.9, 'multi_class': 'ovr', 'penalty': 'l...           0.751938   \n",
       "17  {'C': 1.8, 'multi_class': 'ovr', 'penalty': 'l...           0.751938   \n",
       "16  {'C': 1.7, 'multi_class': 'ovr', 'penalty': 'l...           0.751938   \n",
       "15  {'C': 1.5999999999999999, 'multi_class': 'ovr'...           0.751938   \n",
       "14  {'C': 1.5, 'multi_class': 'ovr', 'penalty': 'l...           0.751938   \n",
       "13  {'C': 1.4, 'multi_class': 'ovr', 'penalty': 'l...           0.751938   \n",
       "12  {'C': 1.3, 'multi_class': 'ovr', 'penalty': 'l...           0.751938   \n",
       "19  {'C': 2.0, 'multi_class': 'ovr', 'penalty': 'l...           0.751938   \n",
       "\n",
       "    split1_test_score  split2_test_score  split3_test_score  \\\n",
       "10           0.748062           0.732558           0.744186   \n",
       "11           0.748062           0.732558           0.744186   \n",
       "18           0.748062           0.732558           0.744186   \n",
       "17           0.748062           0.732558           0.744186   \n",
       "16           0.748062           0.732558           0.744186   \n",
       "15           0.748062           0.732558           0.744186   \n",
       "14           0.748062           0.732558           0.744186   \n",
       "13           0.748062           0.732558           0.744186   \n",
       "12           0.748062           0.732558           0.744186   \n",
       "19           0.748062           0.732558           0.744186   \n",
       "\n",
       "    split4_test_score  mean_test_score  std_test_score  rank_test_score  \n",
       "10           0.728682         0.741085        0.008974                1  \n",
       "11           0.728682         0.741085        0.008974                1  \n",
       "18           0.728682         0.741085        0.008974                1  \n",
       "17           0.728682         0.741085        0.008974                1  \n",
       "16           0.728682         0.741085        0.008974                1  \n",
       "15           0.728682         0.741085        0.008974                1  \n",
       "14           0.728682         0.741085        0.008974                1  \n",
       "13           0.728682         0.741085        0.008974                1  \n",
       "12           0.728682         0.741085        0.008974                1  \n",
       "19           0.728682         0.741085        0.008974                1  "
      ]
     },
     "metadata": {},
     "output_type": "display_data"
    }
   ],
   "source": [
    "logic_regression_results = pd.DataFrame(logic_regression_grid_cv.cv_results_)\n",
    "\n",
    "display(logic_regression_results.sort_values(by='mean_test_score', ascending=False).head(10))"
   ]
  },
  {
   "cell_type": "markdown",
   "metadata": {},
   "source": [
    "- Наилучшее значение точности не превышает минимально допустимое 0.75\n",
    "\n",
    "\n",
    "- Вероятно данная модель обучения либо не очень подходит, либо требует дальнейшего изучения для повышения качества"
   ]
  },
  {
   "cell_type": "markdown",
   "metadata": {},
   "source": [
    "## Проверка модели на тестовой выборке"
   ]
  },
  {
   "cell_type": "markdown",
   "metadata": {},
   "source": [
    "- Перед началом проверки оценим соотношение классов в обучающей и тестовой выборке"
   ]
  },
  {
   "cell_type": "code",
   "execution_count": 53,
   "metadata": {
    "ExecuteTime": {
     "end_time": "2022-05-30T18:00:24.870254Z",
     "start_time": "2022-05-30T18:00:24.857295Z"
    }
   },
   "outputs": [
    {
     "data": {
      "text/html": [
       "<div>\n",
       "<style scoped>\n",
       "    .dataframe tbody tr th:only-of-type {\n",
       "        vertical-align: middle;\n",
       "    }\n",
       "\n",
       "    .dataframe tbody tr th {\n",
       "        vertical-align: top;\n",
       "    }\n",
       "\n",
       "    .dataframe thead th {\n",
       "        text-align: right;\n",
       "    }\n",
       "</style>\n",
       "<table border=\"1\" class=\"dataframe\">\n",
       "  <thead>\n",
       "    <tr style=\"text-align: right;\">\n",
       "      <th></th>\n",
       "      <th>train_class_count</th>\n",
       "      <th>test_class_count</th>\n",
       "    </tr>\n",
       "    <tr>\n",
       "      <th>is_ultra</th>\n",
       "      <th></th>\n",
       "      <th></th>\n",
       "    </tr>\n",
       "  </thead>\n",
       "  <tbody>\n",
       "    <tr>\n",
       "      <th>0</th>\n",
       "      <td>1777</td>\n",
       "      <td>452</td>\n",
       "    </tr>\n",
       "    <tr>\n",
       "      <th>1</th>\n",
       "      <td>794</td>\n",
       "      <td>191</td>\n",
       "    </tr>\n",
       "  </tbody>\n",
       "</table>\n",
       "</div>"
      ],
      "text/plain": [
       "          train_class_count  test_class_count\n",
       "is_ultra                                     \n",
       "0                      1777               452\n",
       "1                       794               191"
      ]
     },
     "metadata": {},
     "output_type": "display_data"
    },
    {
     "name": "stdout",
     "output_type": "stream",
     "text": [
      "Соотношение классов в обучающей выборке: 2.24\n",
      "Соотношение классов в тестовой выборке: 2.37\n"
     ]
    }
   ],
   "source": [
    "df_pivot = df_train.pivot_table(index='is_ultra', values='calls', aggfunc='count')\n",
    "df_test_pivot = df_test.pivot_table(index='is_ultra', values='calls', aggfunc='count')\n",
    "\n",
    "df_pivot['test_class_count'] = df_test_pivot\n",
    "df_pivot.columns=['train_class_count', 'test_class_count']\n",
    "display(df_pivot)\n",
    "\n",
    "train_class_ratio = df_pivot.iloc[0, 0]/df_pivot.iloc[1, 0]\n",
    "test_class_ratio = df_pivot.iloc[0, 1]/df_pivot.iloc[1, 1]\n",
    "\n",
    "print('Соотношение классов в обучающей выборке: {:.2f}'.format(train_class_ratio))\n",
    "print('Соотношение классов в тестовой выборке: {:.2f}'.format(test_class_ratio))\n"
   ]
  },
  {
   "cell_type": "markdown",
   "metadata": {},
   "source": [
    "- Соотношение классов в обучающей и тестовой выборке схоже"
   ]
  },
  {
   "cell_type": "markdown",
   "metadata": {},
   "source": [
    "- Перейдем к проверке лучших моделей на тестовой выборке"
   ]
  },
  {
   "cell_type": "code",
   "execution_count": 54,
   "metadata": {
    "ExecuteTime": {
     "end_time": "2022-05-30T18:00:24.885931Z",
     "start_time": "2022-05-30T18:00:24.872014Z"
    }
   },
   "outputs": [
    {
     "name": "stdout",
     "output_type": "stream",
     "text": [
      "---- Accuracy модели решающее дерево на тестовой выборке: 0.80248833592535 ----\n",
      "CPU times: user 9.22 ms, sys: 238 µs, total: 9.45 ms\n",
      "Wall time: 8.62 ms\n"
     ]
    }
   ],
   "source": [
    "%%time\n",
    "\n",
    "tree_model = DecisionTreeClassifier(random_state=random_state, criterion='gini', max_depth=7, max_features=None, min_samples_leaf=9, min_samples_split=2, splitter='best')\n",
    "\n",
    "tree_model.fit(train_features, train_target)\n",
    "tree_result = tree_model.score(test_features, test_target)\n",
    "print(\"---- Accuracy модели решающее дерево на тестовой выборке:\", tree_result, '----')"
   ]
  },
  {
   "cell_type": "code",
   "execution_count": 55,
   "metadata": {
    "ExecuteTime": {
     "end_time": "2022-05-30T18:00:24.917428Z",
     "start_time": "2022-05-30T18:00:24.886936Z"
    }
   },
   "outputs": [
    {
     "name": "stdout",
     "output_type": "stream",
     "text": [
      "---- Accuracy модели случайный лес на тестовой выборке: 0.8149300155520995 ----\n",
      "CPU times: user 28.6 ms, sys: 40 µs, total: 28.6 ms\n",
      "Wall time: 27.5 ms\n"
     ]
    }
   ],
   "source": [
    "%%time\n",
    "\n",
    "random_forest_model = RandomForestClassifier(random_state=random_state, criterion='gini', max_depth=7, max_features='sqrt', min_samples_leaf=1, n_estimators=6)\n",
    "\n",
    "random_forest_model.fit(train_features, train_target)\n",
    "random_forest_result = random_forest_model.score(test_features, test_target)\n",
    "print(\"---- Accuracy модели случайный лес на тестовой выборке:\", random_forest_result, '----')"
   ]
  },
  {
   "cell_type": "code",
   "execution_count": 56,
   "metadata": {
    "ExecuteTime": {
     "end_time": "2022-05-30T18:00:24.936808Z",
     "start_time": "2022-05-30T18:00:24.918851Z"
    }
   },
   "outputs": [
    {
     "name": "stdout",
     "output_type": "stream",
     "text": [
      "---- Accuracy модели логистической регрессии на тестовой выборке: 0.7636080870917574 ----\n",
      "CPU times: user 14.8 ms, sys: 544 µs, total: 15.3 ms\n",
      "Wall time: 14.4 ms\n"
     ]
    }
   ],
   "source": [
    "%%time\n",
    "\n",
    "logic_regression_model = LogisticRegression(random_state=random_state, C=1.9, multi_class='ovr', penalty='l1', solver='liblinear') \n",
    "\n",
    "logic_regression_model.fit(train_features, train_target)\n",
    "logic_regression_result = logic_regression_model.score(test_features, test_target)\n",
    "print(\"---- Accuracy модели логистической регрессии на тестовой выборке:\", logic_regression_result, '----')"
   ]
  },
  {
   "cell_type": "markdown",
   "metadata": {},
   "source": [
    "- Объединим данные в общую таблицу"
   ]
  },
  {
   "cell_type": "code",
   "execution_count": 57,
   "metadata": {
    "ExecuteTime": {
     "end_time": "2022-05-30T18:00:24.948713Z",
     "start_time": "2022-05-30T18:00:24.938481Z"
    }
   },
   "outputs": [
    {
     "data": {
      "text/html": [
       "<div>\n",
       "<style scoped>\n",
       "    .dataframe tbody tr th:only-of-type {\n",
       "        vertical-align: middle;\n",
       "    }\n",
       "\n",
       "    .dataframe tbody tr th {\n",
       "        vertical-align: top;\n",
       "    }\n",
       "\n",
       "    .dataframe thead th {\n",
       "        text-align: right;\n",
       "    }\n",
       "</style>\n",
       "<table border=\"1\" class=\"dataframe\">\n",
       "  <thead>\n",
       "    <tr style=\"text-align: right;\">\n",
       "      <th></th>\n",
       "      <th>Точность</th>\n",
       "      <th>Время, мс</th>\n",
       "      <th>Качество точности</th>\n",
       "      <th>Качество скорости счета</th>\n",
       "      <th>Оптимальные параметры</th>\n",
       "    </tr>\n",
       "    <tr>\n",
       "      <th>Модель</th>\n",
       "      <th></th>\n",
       "      <th></th>\n",
       "      <th></th>\n",
       "      <th></th>\n",
       "      <th></th>\n",
       "    </tr>\n",
       "  </thead>\n",
       "  <tbody>\n",
       "    <tr>\n",
       "      <th>Случайный лес</th>\n",
       "      <td>0.815</td>\n",
       "      <td>30.4</td>\n",
       "      <td>высокое</td>\n",
       "      <td>низкое</td>\n",
       "      <td>{'criterion': 'gini', 'max_depth': 7, 'max_fea...</td>\n",
       "    </tr>\n",
       "    <tr>\n",
       "      <th>Решающее дерево</th>\n",
       "      <td>0.802</td>\n",
       "      <td>13.3</td>\n",
       "      <td>среднее</td>\n",
       "      <td>высокое</td>\n",
       "      <td>{'criterion': 'gini', 'max_depth': 7, 'max_fea...</td>\n",
       "    </tr>\n",
       "    <tr>\n",
       "      <th>Логическая регрессия</th>\n",
       "      <td>0.764</td>\n",
       "      <td>16.8</td>\n",
       "      <td>низкое</td>\n",
       "      <td>среднее</td>\n",
       "      <td>{'C': 0.4, 'multi_class': 'ovr', 'penalty': 'l...</td>\n",
       "    </tr>\n",
       "  </tbody>\n",
       "</table>\n",
       "</div>"
      ],
      "text/plain": [
       "                      Точность  Время, мс Качество точности  \\\n",
       "Модель                                                        \n",
       "Случайный лес            0.815       30.4           высокое   \n",
       "Решающее дерево          0.802       13.3           среднее   \n",
       "Логическая регрессия     0.764       16.8            низкое   \n",
       "\n",
       "                     Качество скорости счета  \\\n",
       "Модель                                         \n",
       "Случайный лес                         низкое   \n",
       "Решающее дерево                      высокое   \n",
       "Логическая регрессия                 среднее   \n",
       "\n",
       "                                                  Оптимальные параметры  \n",
       "Модель                                                                   \n",
       "Случайный лес         {'criterion': 'gini', 'max_depth': 7, 'max_fea...  \n",
       "Решающее дерево       {'criterion': 'gini', 'max_depth': 7, 'max_fea...  \n",
       "Логическая регрессия  {'C': 0.4, 'multi_class': 'ovr', 'penalty': 'l...  "
      ]
     },
     "metadata": {},
     "output_type": "display_data"
    }
   ],
   "source": [
    "d = {'Модель': ['Решающее дерево', 'Случайный лес', 'Логическая регрессия'], \n",
    "     'Точность': [tree_result, random_forest_result, logic_regression_result],\n",
    "     'Время, мс' : [13.3, 30.4, 16.8],\n",
    "     'Качество точности' : ['среднее', 'высокое', 'низкое'],\n",
    "     'Качество скорости счета' : ['высокое', 'низкое', 'среднее'],\n",
    "     'Оптимальные параметры' : [tree_grid_cv.best_params_, random_forest_grid_cv.best_params_, logic_regression_grid_cv.best_params_]}\n",
    "\n",
    "model_results = pd.DataFrame(data=d)\n",
    "\n",
    "display(model_results.set_index('Модель').sort_values(by='Точность', ascending=False).round(3))"
   ]
  },
  {
   "cell_type": "markdown",
   "metadata": {},
   "source": [
    "- Исходя из приведенных данных, можно сделать следующие выводы:\n",
    "\n",
    "    1. Наилучшая точность достигается на модели \"случайный лес\" - 0.81\n",
    "    \n",
    "    2. По соотношению точность/скорость счета лидирует модель \"решающее дерево\" - при разнице в точности ~1% по сравнению со \"случайным лесом\", скорость отличается более чем в 2 раза\n",
    "    \n",
    "    3. Модель \"логическая регрессия\" показала самое низкое значение точности"
   ]
  },
  {
   "cell_type": "markdown",
   "metadata": {},
   "source": [
    "## Проверка модели на адекватность"
   ]
  },
  {
   "cell_type": "markdown",
   "metadata": {},
   "source": [
    "- Мы используем машинное обучение для решения задачи, чтобы попытаться создать модель максимально приближенную к какому-либо процессу\n",
    "\n",
    "\n",
    "- Тем самым с помощью такой модели мы хотим как можно более достоверно предсказывать результаты процесса на основе некоторых входных данных  \n",
    "\n",
    "\n",
    "- Чем лучше модель описывает процесс, тем выше точность ее предсказания. \n",
    "\n",
    "\n",
    "- Адекватность модели мы можем оценить по степени ее приближения к описанию исследуемого процесса. Будь точность модели равна 1, она бы полностью представляла собой сам процесс или, наоборот, если ее точность меньше, чем у случайной модели, то она очень слабо отражает поведение процесса\n",
    "\n",
    "\n",
    "- Случайная модель пытается угадать ответ на основе распределения классов, т.е. допусим в нашем датасете соотношение классов в обучающей выборке 3:2. тогда случайная модель будет считать, что первый класс можно встретить с вероятностью 60% , а второй - 40%\n"
   ]
  },
  {
   "cell_type": "markdown",
   "metadata": {},
   "source": [
    "- Оценим точность случайной модели "
   ]
  },
  {
   "cell_type": "code",
   "execution_count": 58,
   "metadata": {
    "ExecuteTime": {
     "end_time": "2022-05-30T18:00:24.956763Z",
     "start_time": "2022-05-30T18:00:24.951054Z"
    }
   },
   "outputs": [
    {
     "name": "stdout",
     "output_type": "stream",
     "text": [
      "Точность предсказания случайной модели: 0.69\n"
     ]
    }
   ],
   "source": [
    "dummy_clf = DummyClassifier(strategy=\"most_frequent\")\n",
    "dummy_clf.fit(train_features, train_target)\n",
    "\n",
    "dummy_clf.predict(train_features)\n",
    "\n",
    "dummy_clf_results = dummy_clf.score(train_features, train_target)\n",
    "\n",
    "print('Точность предсказания случайной модели: {:.2f}'.format(dummy_clf_results))"
   ]
  },
  {
   "cell_type": "code",
   "execution_count": 59,
   "metadata": {
    "ExecuteTime": {
     "end_time": "2022-05-30T18:00:24.968030Z",
     "start_time": "2022-05-30T18:00:24.958147Z"
    }
   },
   "outputs": [
    {
     "data": {
      "text/html": [
       "<div>\n",
       "<style scoped>\n",
       "    .dataframe tbody tr th:only-of-type {\n",
       "        vertical-align: middle;\n",
       "    }\n",
       "\n",
       "    .dataframe tbody tr th {\n",
       "        vertical-align: top;\n",
       "    }\n",
       "\n",
       "    .dataframe thead th {\n",
       "        text-align: right;\n",
       "    }\n",
       "</style>\n",
       "<table border=\"1\" class=\"dataframe\">\n",
       "  <thead>\n",
       "    <tr style=\"text-align: right;\">\n",
       "      <th></th>\n",
       "      <th>Точность</th>\n",
       "      <th>Время, мс</th>\n",
       "      <th>Качество точности</th>\n",
       "      <th>Качество скорости счета</th>\n",
       "      <th>Оптимальные параметры</th>\n",
       "    </tr>\n",
       "    <tr>\n",
       "      <th>Модель</th>\n",
       "      <th></th>\n",
       "      <th></th>\n",
       "      <th></th>\n",
       "      <th></th>\n",
       "      <th></th>\n",
       "    </tr>\n",
       "  </thead>\n",
       "  <tbody>\n",
       "    <tr>\n",
       "      <th>Случайный лес</th>\n",
       "      <td>0.815</td>\n",
       "      <td>30.4</td>\n",
       "      <td>высокое</td>\n",
       "      <td>низкое</td>\n",
       "      <td>{'criterion': 'gini', 'max_depth': 7, 'max_fea...</td>\n",
       "    </tr>\n",
       "    <tr>\n",
       "      <th>Решающее дерево</th>\n",
       "      <td>0.802</td>\n",
       "      <td>13.3</td>\n",
       "      <td>среднее</td>\n",
       "      <td>высокое</td>\n",
       "      <td>{'criterion': 'gini', 'max_depth': 7, 'max_fea...</td>\n",
       "    </tr>\n",
       "    <tr>\n",
       "      <th>Логическая регрессия</th>\n",
       "      <td>0.764</td>\n",
       "      <td>16.8</td>\n",
       "      <td>низкое</td>\n",
       "      <td>среднее</td>\n",
       "      <td>{'C': 0.4, 'multi_class': 'ovr', 'penalty': 'l...</td>\n",
       "    </tr>\n",
       "  </tbody>\n",
       "</table>\n",
       "</div>"
      ],
      "text/plain": [
       "                      Точность  Время, мс Качество точности  \\\n",
       "Модель                                                        \n",
       "Случайный лес            0.815       30.4           высокое   \n",
       "Решающее дерево          0.802       13.3           среднее   \n",
       "Логическая регрессия     0.764       16.8            низкое   \n",
       "\n",
       "                     Качество скорости счета  \\\n",
       "Модель                                         \n",
       "Случайный лес                         низкое   \n",
       "Решающее дерево                      высокое   \n",
       "Логическая регрессия                 среднее   \n",
       "\n",
       "                                                  Оптимальные параметры  \n",
       "Модель                                                                   \n",
       "Случайный лес         {'criterion': 'gini', 'max_depth': 7, 'max_fea...  \n",
       "Решающее дерево       {'criterion': 'gini', 'max_depth': 7, 'max_fea...  \n",
       "Логическая регрессия  {'C': 0.4, 'multi_class': 'ovr', 'penalty': 'l...  "
      ]
     },
     "metadata": {},
     "output_type": "display_data"
    }
   ],
   "source": [
    "display(model_results.set_index('Модель').sort_values(by='Точность', ascending=False).round(3))"
   ]
  },
  {
   "cell_type": "markdown",
   "metadata": {},
   "source": [
    "- Точности всех моделей превосходят точность случайной, следовательно их можно считать адекватными\n",
    "\n",
    "\n",
    "- При этом, модель \"случайный лес\" наилучшим образом описывает наш процесс "
   ]
  },
  {
   "cell_type": "markdown",
   "metadata": {},
   "source": [
    "## Общий вывод"
   ]
  },
  {
   "cell_type": "markdown",
   "metadata": {},
   "source": [
    "    1. Наилучшая точность достигается на модели \"случайный лес\" - 0.81\n",
    "    \n",
    "    2. По соотношению точность/скорость счета лидирует модель \"решающее дерево\" - при разнице в точности ~1% по сравнению со \"случайным лесом\", скорость отличается более чем в 2 раза\n",
    "    \n",
    "    3. Модель \"логическая регрессия\" показала самое низкое значение точности\n",
    "    \n",
    "    4. Точности всех моделей превосходят точность случайной, следовательно их можно считать адекватными\n",
    "\n",
    "    5. При этом, модель \"случайный лес\" наилучшим образом описывает наш процесс \n",
    "    \n",
    "    6. Для поставленной задачи классификации из всех моделей рекомендую использовать \"случайный лес\""
   ]
  },
  {
   "cell_type": "code",
   "execution_count": null,
   "metadata": {},
   "outputs": [],
   "source": []
  }
 ],
 "metadata": {
  "kernelspec": {
   "display_name": "Python 3 (ipykernel)",
   "language": "python",
   "name": "python3"
  },
  "language_info": {
   "codemirror_mode": {
    "name": "ipython",
    "version": 3
   },
   "file_extension": ".py",
   "mimetype": "text/x-python",
   "name": "python",
   "nbconvert_exporter": "python",
   "pygments_lexer": "ipython3",
   "version": "3.8.10"
  },
  "toc": {
   "base_numbering": 1,
   "nav_menu": {
    "height": "204px",
    "width": "428px"
   },
   "number_sections": true,
   "sideBar": true,
   "skip_h1_title": true,
   "title_cell": "Содержание",
   "title_sidebar": "Contents",
   "toc_cell": true,
   "toc_position": {
    "height": "768px",
    "left": "24px",
    "top": "111.125px",
    "width": "165px"
   },
   "toc_section_display": true,
   "toc_window_display": true
  }
 },
 "nbformat": 4,
 "nbformat_minor": 2
}
