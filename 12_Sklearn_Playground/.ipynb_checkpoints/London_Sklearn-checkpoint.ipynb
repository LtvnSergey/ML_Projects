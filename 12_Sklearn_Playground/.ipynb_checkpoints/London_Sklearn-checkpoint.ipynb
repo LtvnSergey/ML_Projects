{
 "cells": [
  {
   "cell_type": "markdown",
   "id": "0d264c44",
   "metadata": {},
   "source": [
    "<h1><center>Project: Sklearn London</center></h1>\n"
   ]
  },
  {
   "cell_type": "markdown",
   "id": "da40141e",
   "metadata": {},
   "source": [
    "# Overview"
   ]
  },
  {
   "cell_type": "markdown",
   "id": "2207ce6a",
   "metadata": {},
   "source": [
    "The aim of project is to explore sklearn by using it. "
   ]
  },
  {
   "cell_type": "markdown",
   "id": "47c69f6c",
   "metadata": {
    "toc": true
   },
   "source": [
    "<h1>Table of Contents<span class=\"tocSkip\"></span></h1>\n",
    "<div class=\"toc\"><ul class=\"toc-item\"><li><span><a href=\"#Data-Description\" data-toc-modified-id=\"Data-Description-1\"><span class=\"toc-item-num\">1&nbsp;&nbsp;</span>Data Description</a></span></li><li><span><a href=\"#Import-modules\" data-toc-modified-id=\"Import-modules-2\"><span class=\"toc-item-num\">2&nbsp;&nbsp;</span>Import modules</a></span></li><li><span><a href=\"#Constants\" data-toc-modified-id=\"Constants-3\"><span class=\"toc-item-num\">3&nbsp;&nbsp;</span>Constants</a></span></li><li><span><a href=\"#Methods\" data-toc-modified-id=\"Methods-4\"><span class=\"toc-item-num\">4&nbsp;&nbsp;</span>Methods</a></span><ul class=\"toc-item\"><li><span><a href=\"#Visual\" data-toc-modified-id=\"Visual-4.1\"><span class=\"toc-item-num\">4.1&nbsp;&nbsp;</span>Visual</a></span></li><li><span><a href=\"#Train\" data-toc-modified-id=\"Train-4.2\"><span class=\"toc-item-num\">4.2&nbsp;&nbsp;</span>Train</a></span></li><li><span><a href=\"#Submit-results\" data-toc-modified-id=\"Submit-results-4.3\"><span class=\"toc-item-num\">4.3&nbsp;&nbsp;</span>Submit results</a></span></li></ul></li><li><span><a href=\"#Data-Loading\" data-toc-modified-id=\"Data-Loading-5\"><span class=\"toc-item-num\">5&nbsp;&nbsp;</span>Data Loading</a></span><ul class=\"toc-item\"><li><span><a href=\"#Train\" data-toc-modified-id=\"Train-5.1\"><span class=\"toc-item-num\">5.1&nbsp;&nbsp;</span>Train</a></span></li><li><span><a href=\"#Test\" data-toc-modified-id=\"Test-5.2\"><span class=\"toc-item-num\">5.2&nbsp;&nbsp;</span>Test</a></span></li><li><span><a href=\"#Train-labels\" data-toc-modified-id=\"Train-labels-5.3\"><span class=\"toc-item-num\">5.3&nbsp;&nbsp;</span>Train labels</a></span></li></ul></li><li><span><a href=\"#Data-Analysis\" data-toc-modified-id=\"Data-Analysis-6\"><span class=\"toc-item-num\">6&nbsp;&nbsp;</span>Data Analysis</a></span><ul class=\"toc-item\"><li><span><a href=\"#Train-data\" data-toc-modified-id=\"Train-data-6.1\"><span class=\"toc-item-num\">6.1&nbsp;&nbsp;</span>Train data</a></span><ul class=\"toc-item\"><li><span><a href=\"#Check-missing-values\" data-toc-modified-id=\"Check-missing-values-6.1.1\"><span class=\"toc-item-num\">6.1.1&nbsp;&nbsp;</span>Check missing values</a></span></li><li><span><a href=\"#Check-data-discributions\" data-toc-modified-id=\"Check-data-discributions-6.1.2\"><span class=\"toc-item-num\">6.1.2&nbsp;&nbsp;</span>Check data discributions</a></span><ul class=\"toc-item\"><li><span><a href=\"#Train-features\" data-toc-modified-id=\"Train-features-6.1.2.1\"><span class=\"toc-item-num\">6.1.2.1&nbsp;&nbsp;</span>Train features</a></span></li><li><span><a href=\"#Train-labels\" data-toc-modified-id=\"Train-labels-6.1.2.2\"><span class=\"toc-item-num\">6.1.2.2&nbsp;&nbsp;</span>Train labels</a></span></li></ul></li><li><span><a href=\"#Check-correlations\" data-toc-modified-id=\"Check-correlations-6.1.3\"><span class=\"toc-item-num\">6.1.3&nbsp;&nbsp;</span>Check correlations</a></span></li></ul></li><li><span><a href=\"#Test-data\" data-toc-modified-id=\"Test-data-6.2\"><span class=\"toc-item-num\">6.2&nbsp;&nbsp;</span>Test data</a></span><ul class=\"toc-item\"><li><span><a href=\"#Check-missing-values\" data-toc-modified-id=\"Check-missing-values-6.2.1\"><span class=\"toc-item-num\">6.2.1&nbsp;&nbsp;</span>Check missing values</a></span></li><li><span><a href=\"#Check-distribution\" data-toc-modified-id=\"Check-distribution-6.2.2\"><span class=\"toc-item-num\">6.2.2&nbsp;&nbsp;</span>Check distribution</a></span><ul class=\"toc-item\"><li><span><a href=\"#Test-features\" data-toc-modified-id=\"Test-features-6.2.2.1\"><span class=\"toc-item-num\">6.2.2.1&nbsp;&nbsp;</span>Test features</a></span></li></ul></li></ul></li></ul></li><li><span><a href=\"#Train-model\" data-toc-modified-id=\"Train-model-7\"><span class=\"toc-item-num\">7&nbsp;&nbsp;</span>Train model</a></span><ul class=\"toc-item\"><li><span><a href=\"#Split-data\" data-toc-modified-id=\"Split-data-7.1\"><span class=\"toc-item-num\">7.1&nbsp;&nbsp;</span>Split data</a></span></li><li><span><a href=\"#Baseline-model\" data-toc-modified-id=\"Baseline-model-7.2\"><span class=\"toc-item-num\">7.2&nbsp;&nbsp;</span>Baseline model</a></span></li><li><span><a href=\"#Simple-Classifiers\" data-toc-modified-id=\"Simple-Classifiers-7.3\"><span class=\"toc-item-num\">7.3&nbsp;&nbsp;</span>Simple Classifiers</a></span><ul class=\"toc-item\"><li><ul class=\"toc-item\"><li><span><a href=\"#KNeighborsClassifier\" data-toc-modified-id=\"KNeighborsClassifier-7.3.0.1\"><span class=\"toc-item-num\">7.3.0.1&nbsp;&nbsp;</span>KNeighborsClassifier</a></span></li><li><span><a href=\"#RandomForestClassifier\" data-toc-modified-id=\"RandomForestClassifier-7.3.0.2\"><span class=\"toc-item-num\">7.3.0.2&nbsp;&nbsp;</span>RandomForestClassifier</a></span></li></ul></li></ul></li><li><span><a href=\"#Feature-Importance\" data-toc-modified-id=\"Feature-Importance-7.4\"><span class=\"toc-item-num\">7.4&nbsp;&nbsp;</span>Feature Importance</a></span></li><li><span><a href=\"#Scale-features\" data-toc-modified-id=\"Scale-features-7.5\"><span class=\"toc-item-num\">7.5&nbsp;&nbsp;</span>Scale features</a></span><ul class=\"toc-item\"><li><span><a href=\"#Check-results-with-simple-classifiers\" data-toc-modified-id=\"Check-results-with-simple-classifiers-7.5.1\"><span class=\"toc-item-num\">7.5.1&nbsp;&nbsp;</span>Check results with simple classifiers</a></span></li></ul></li><li><span><a href=\"#Tuning-Hyper-parameters\" data-toc-modified-id=\"Tuning-Hyper-parameters-7.6\"><span class=\"toc-item-num\">7.6&nbsp;&nbsp;</span>Tuning Hyper-parameters</a></span><ul class=\"toc-item\"><li><span><a href=\"#KNeighborsClassifier\" data-toc-modified-id=\"KNeighborsClassifier-7.6.1\"><span class=\"toc-item-num\">7.6.1&nbsp;&nbsp;</span>KNeighborsClassifier</a></span></li><li><span><a href=\"#MLPClassifier\" data-toc-modified-id=\"MLPClassifier-7.6.2\"><span class=\"toc-item-num\">7.6.2&nbsp;&nbsp;</span>MLPClassifier</a></span></li><li><span><a href=\"#Random-Forest-Classifier\" data-toc-modified-id=\"Random-Forest-Classifier-7.6.3\"><span class=\"toc-item-num\">7.6.3&nbsp;&nbsp;</span>Random Forest Classifier</a></span></li></ul></li><li><span><a href=\"#Gaussian-Mixture\" data-toc-modified-id=\"Gaussian-Mixture-7.7\"><span class=\"toc-item-num\">7.7&nbsp;&nbsp;</span>Gaussian Mixture</a></span></li><li><span><a href=\"#Tuning-Hyper-parameters-using-Gaussian-Mixture\" data-toc-modified-id=\"Tuning-Hyper-parameters-using-Gaussian-Mixture-7.8\"><span class=\"toc-item-num\">7.8&nbsp;&nbsp;</span>Tuning Hyper-parameters using Gaussian Mixture</a></span></li></ul></li><li><span><a href=\"#Submit-Test-predictions\" data-toc-modified-id=\"Submit-Test-predictions-8\"><span class=\"toc-item-num\">8&nbsp;&nbsp;</span>Submit Test predictions</a></span></li></ul></div>"
   ]
  },
  {
   "cell_type": "markdown",
   "id": "0a853aa6",
   "metadata": {
    "heading_collapsed": true
   },
   "source": [
    "## Data Description"
   ]
  },
  {
   "cell_type": "markdown",
   "id": "dfc6a4bf",
   "metadata": {
    "hidden": true
   },
   "source": [
    "- This is a synthetic data set of 40 features, representing objects from two classes (labeled as 0 or 1). The training set has 1000 samples and the testing set has 9000.\n"
   ]
  },
  {
   "cell_type": "markdown",
   "id": "10f6d649",
   "metadata": {
    "hidden": true
   },
   "source": [
    "- This is a binary classification task, You are evaluated on classification accuracy (the percentage of labels you predict correctly).  The training set has 1000 samples and the testing set has 9000.  Your prediction should be a 9000 x 1 vector of ones or zeros. You also need an Id column (1 to 9000) and should include a header. The format looks like this:\n",
    "\n",
    "Id,Solution\n",
    "1,0\n",
    "2,1\n",
    "3,1\n",
    "...\n",
    "9000,0"
   ]
  },
  {
   "cell_type": "markdown",
   "id": "6eb50fc2",
   "metadata": {
    "heading_collapsed": true
   },
   "source": [
    "## Import modules"
   ]
  },
  {
   "cell_type": "code",
   "execution_count": 1,
   "id": "e63feb9d",
   "metadata": {
    "ExecuteTime": {
     "end_time": "2022-05-29T10:54:01.168874Z",
     "start_time": "2022-05-29T10:53:58.701390Z"
    },
    "hidden": true
   },
   "outputs": [
    {
     "ename": "ModuleNotFoundError",
     "evalue": "No module named 'missingno'",
     "output_type": "error",
     "traceback": [
      "\u001b[0;31m---------------------------------------------------------------------------\u001b[0m",
      "\u001b[0;31mModuleNotFoundError\u001b[0m                       Traceback (most recent call last)",
      "Input \u001b[0;32mIn [1]\u001b[0m, in \u001b[0;36m<cell line: 6>\u001b[0;34m()\u001b[0m\n\u001b[1;32m      4\u001b[0m \u001b[38;5;28;01mimport\u001b[39;00m \u001b[38;5;21;01mseaborn\u001b[39;00m \u001b[38;5;28;01mas\u001b[39;00m \u001b[38;5;21;01msns\u001b[39;00m\n\u001b[1;32m      5\u001b[0m \u001b[38;5;28;01mimport\u001b[39;00m \u001b[38;5;21;01mwarnings\u001b[39;00m\n\u001b[0;32m----> 6\u001b[0m \u001b[38;5;28;01mimport\u001b[39;00m \u001b[38;5;21;01mmissingno\u001b[39;00m \u001b[38;5;28;01mas\u001b[39;00m \u001b[38;5;21;01mmi\u001b[39;00m\n\u001b[1;32m      8\u001b[0m \u001b[38;5;28;01mfrom\u001b[39;00m \u001b[38;5;21;01msklearn\u001b[39;00m\u001b[38;5;21;01m.\u001b[39;00m\u001b[38;5;21;01mmodel_selection\u001b[39;00m \u001b[38;5;28;01mimport\u001b[39;00m train_test_split\n\u001b[1;32m      9\u001b[0m \u001b[38;5;28;01mfrom\u001b[39;00m \u001b[38;5;21;01msklearn\u001b[39;00m\u001b[38;5;21;01m.\u001b[39;00m\u001b[38;5;21;01mpreprocessing\u001b[39;00m \u001b[38;5;28;01mimport\u001b[39;00m StandardScaler\n",
      "\u001b[0;31mModuleNotFoundError\u001b[0m: No module named 'missingno'"
     ]
    }
   ],
   "source": [
    "import pandas as pd\n",
    "import numpy as np\n",
    "import matplotlib.pyplot as plt\n",
    "import seaborn as sns\n",
    "import warnings\n",
    "import missingno as mi\n",
    "\n",
    "from sklearn.model_selection import train_test_split\n",
    "from sklearn.preprocessing import StandardScaler\n",
    "\n",
    "from sklearn.metrics import accuracy_score\n",
    "from sklearn.metrics import precision_score\n",
    "from sklearn.metrics import recall_score\n",
    "from sklearn.metrics import roc_auc_score\n",
    "\n",
    "from sklearn.dummy import DummyClassifier\n",
    "from sklearn.ensemble import GradientBoostingClassifier\n",
    "from sklearn.ensemble import RandomForestClassifier\n",
    "from sklearn.linear_model import SGDClassifier\n",
    "from sklearn.svm import LinearSVC\n",
    "from sklearn.neighbors import KNeighborsClassifier\n",
    "from sklearn.neural_network import MLPClassifier\n",
    "from sklearn.gaussian_process import GaussianProcessClassifier\n",
    "from sklearn.ensemble import AdaBoostClassifier\n",
    "from sklearn.mixture import GaussianMixture\n",
    "\n",
    "from sklearn.model_selection import GridSearchCV\n",
    "from sklearn.model_selection import StratifiedKFold"
   ]
  },
  {
   "cell_type": "code",
   "execution_count": 4,
   "id": "3a9dc347",
   "metadata": {
    "hidden": true
   },
   "outputs": [],
   "source": [
    "warnings.filterwarnings(\"ignore\")"
   ]
  },
  {
   "cell_type": "markdown",
   "id": "824c41fd",
   "metadata": {
    "heading_collapsed": true
   },
   "source": [
    "## Constants"
   ]
  },
  {
   "cell_type": "code",
   "execution_count": 5,
   "id": "6e6d1358",
   "metadata": {
    "hidden": true
   },
   "outputs": [],
   "source": [
    "RANDOM_STATE = 12345"
   ]
  },
  {
   "cell_type": "markdown",
   "id": "37669454",
   "metadata": {},
   "source": [
    "## Methods"
   ]
  },
  {
   "cell_type": "markdown",
   "id": "4cdee77b",
   "metadata": {
    "heading_collapsed": true
   },
   "source": [
    "### Visual"
   ]
  },
  {
   "cell_type": "code",
   "execution_count": 6,
   "id": "d581c097",
   "metadata": {
    "hidden": true
   },
   "outputs": [],
   "source": [
    "def values_distribution(df, xmin=-20, xmax=20):\n",
    "    fig, ax = plt.subplots(figsize=(15,20))\n",
    "    \n",
    "    sns.boxplot(data=df, orient='h')\n",
    "    \n",
    "    ax.set_xlabel('Values')\n",
    "    ax.set_ylabel('Columns')\n",
    "    ax.set_xlim(xmin, xmax)\n",
    "    \n",
    "    plt.show()\n",
    "    pass"
   ]
  },
  {
   "cell_type": "code",
   "execution_count": 7,
   "id": "62cfdad9",
   "metadata": {
    "hidden": true
   },
   "outputs": [],
   "source": [
    "def class_count(labels):\n",
    "    fig, ax = plt.subplots(figsize=(10, 5))\n",
    "    sns.countplot(data=labels, x='labels')\n",
    "    plt.show()\n",
    "    pass"
   ]
  },
  {
   "cell_type": "code",
   "execution_count": 8,
   "id": "8637843a",
   "metadata": {
    "hidden": true
   },
   "outputs": [],
   "source": [
    "def corr_matrix(df, annot=False, plot=True, clip=0):\n",
    "    \n",
    "    corr = df.corr()\n",
    "    mask = np.zeros_like(corr, dtype=bool)\n",
    "    mask[np.triu_indices_from(mask)] = True\n",
    "    corr[mask] = np.nan\n",
    "    corr[abs(corr)<clip] = np.nan\n",
    "    \n",
    "    if plot:\n",
    "        fig,ax = plt.subplots(figsize=(15, 13))\n",
    "\n",
    "        sns.heatmap(corr, \n",
    "                    xticklabels=corr.columns, \n",
    "                    yticklabels=corr.columns, \n",
    "                    cmap='vlag', \n",
    "                    center=0, \n",
    "                    annot=annot, \n",
    "                    vmin=-1, vmax=1)\n",
    "\n",
    "        plt.title('Correlation matrix')\n",
    "        plt.grid()\n",
    "        plt.show()\n",
    "    \n",
    "    return corr"
   ]
  },
  {
   "cell_type": "code",
   "execution_count": 9,
   "id": "cb29b11b",
   "metadata": {
    "hidden": true
   },
   "outputs": [],
   "source": [
    "def plot_feature_importance(importance, names, model_type):\n",
    "\n",
    "    #Create arrays from feature importance and feature names\n",
    "    feature_importance = np.array(importance)\n",
    "    feature_names = np.array(names)\n",
    "\n",
    "    #Create a DataFrame using a Dictionary\n",
    "    data={'feature_names':feature_names,'feature_importance':feature_importance}\n",
    "    fi_df = pd.DataFrame(data)\n",
    "\n",
    "    #Sort the DataFrame in order decreasing feature importance\n",
    "    fi_df = fi_df.sort_values(by=['feature_importance'], ascending=False)\\\n",
    "                 .reset_index(drop=True)\n",
    "    \n",
    "    #Define size of bar plot\n",
    "    fig, ax = plt.subplots(figsize=(10,20))\n",
    "    #Plot Searborn bar chart\n",
    "    sns.barplot(x=fi_df['feature_importance'], \n",
    "                y=fi_df.index,\n",
    "                orient='h')\n",
    "    \n",
    "    ax.set_yticklabels(fi_df['feature_names'])\n",
    "    #Add chart labels\n",
    "    plt.title(model_type + 'FEATURE IMPORTANCE')\n",
    "    plt.xlabel('FEATURE IMPORTANCE')\n",
    "    plt.ylabel('FEATURE NAMES')"
   ]
  },
  {
   "cell_type": "markdown",
   "id": "fd27edf4",
   "metadata": {},
   "source": [
    "### Train"
   ]
  },
  {
   "cell_type": "code",
   "execution_count": 10,
   "id": "df7f9c51",
   "metadata": {},
   "outputs": [],
   "source": [
    "def train_model(X_train, X_val, y_train, y_val, estimator, show=True):\n",
    "    \n",
    "    estimator.fit(X_train, y_train)\n",
    "       \n",
    "    predict_train = estimator.predict(X_train)\n",
    "    score_train = round(accuracy_score(predict_train, y_train), 2)\n",
    "\n",
    "    predict_val = estimator.predict(X_val)\n",
    "    accuracy_val = round(accuracy_score(predict_val, y_val), 2)\n",
    "    precision_val = round(precision_score(predict_val, y_val), 2)\n",
    "    recall_val = round(recall_score(predict_val, y_val), 2)\n",
    "    roc_auc_val = round(roc_auc_score(predict_val, y_val), 2)\n",
    "    estimator_name = type(estimator).__name__\n",
    "\n",
    "    res = pd.DataFrame(data={'Accuracy train':score_train, \n",
    "                             'Accuracy valid':accuracy_val, \n",
    "                             'Precision': precision_val, \n",
    "                             'Recall': recall_val, \n",
    "                             'ROC-AUC':roc_auc_val},\n",
    "                       index=[estimator_name])\n",
    "        \n",
    "    if show:\n",
    "        display(res)\n",
    "        \n",
    "    return estimator, res"
   ]
  },
  {
   "cell_type": "markdown",
   "id": "ef9c3cf6",
   "metadata": {
    "heading_collapsed": true
   },
   "source": [
    "### Submit results"
   ]
  },
  {
   "cell_type": "code",
   "execution_count": 11,
   "id": "d7664bb9",
   "metadata": {
    "hidden": true
   },
   "outputs": [],
   "source": [
    "def test_submission(estimator, X_test):\n",
    "    \n",
    "    y_pred = estimator.predict(X_test)\n",
    "    \n",
    "    idx = [i for i in range(1, 9001)]\n",
    "    \n",
    "    submission = pd.DataFrame(data={'Id':idx, 'Solution':y_pred})\n",
    "    \n",
    "    submission.to_csv('Datasets/predictions.csv', index=False)\n",
    "    \n",
    "    pass"
   ]
  },
  {
   "cell_type": "markdown",
   "id": "84c57442",
   "metadata": {
    "heading_collapsed": true
   },
   "source": [
    "## Data Loading"
   ]
  },
  {
   "cell_type": "markdown",
   "id": "ae4a69c9",
   "metadata": {
    "heading_collapsed": true,
    "hidden": true
   },
   "source": [
    "### Train"
   ]
  },
  {
   "cell_type": "code",
   "execution_count": 12,
   "id": "2a648049",
   "metadata": {
    "hidden": true,
    "scrolled": true
   },
   "outputs": [
    {
     "name": "stdout",
     "output_type": "stream",
     "text": [
      "<class 'pandas.core.frame.DataFrame'>\n",
      "RangeIndex: 1000 entries, 0 to 999\n",
      "Data columns (total 40 columns):\n",
      " #   Column  Non-Null Count  Dtype  \n",
      "---  ------  --------------  -----  \n",
      " 0   0       1000 non-null   float64\n",
      " 1   1       1000 non-null   float64\n",
      " 2   2       1000 non-null   float64\n",
      " 3   3       1000 non-null   float64\n",
      " 4   4       1000 non-null   float64\n",
      " 5   5       1000 non-null   float64\n",
      " 6   6       1000 non-null   float64\n",
      " 7   7       1000 non-null   float64\n",
      " 8   8       1000 non-null   float64\n",
      " 9   9       1000 non-null   float64\n",
      " 10  10      1000 non-null   float64\n",
      " 11  11      1000 non-null   float64\n",
      " 12  12      1000 non-null   float64\n",
      " 13  13      1000 non-null   float64\n",
      " 14  14      1000 non-null   float64\n",
      " 15  15      1000 non-null   float64\n",
      " 16  16      1000 non-null   float64\n",
      " 17  17      1000 non-null   float64\n",
      " 18  18      1000 non-null   float64\n",
      " 19  19      1000 non-null   float64\n",
      " 20  20      1000 non-null   float64\n",
      " 21  21      1000 non-null   float64\n",
      " 22  22      1000 non-null   float64\n",
      " 23  23      1000 non-null   float64\n",
      " 24  24      1000 non-null   float64\n",
      " 25  25      1000 non-null   float64\n",
      " 26  26      1000 non-null   float64\n",
      " 27  27      1000 non-null   float64\n",
      " 28  28      1000 non-null   float64\n",
      " 29  29      1000 non-null   float64\n",
      " 30  30      1000 non-null   float64\n",
      " 31  31      1000 non-null   float64\n",
      " 32  32      1000 non-null   float64\n",
      " 33  33      1000 non-null   float64\n",
      " 34  34      1000 non-null   float64\n",
      " 35  35      1000 non-null   float64\n",
      " 36  36      1000 non-null   float64\n",
      " 37  37      1000 non-null   float64\n",
      " 38  38      1000 non-null   float64\n",
      " 39  39      1000 non-null   float64\n",
      "dtypes: float64(40)\n",
      "memory usage: 312.6 KB\n"
     ]
    },
    {
     "data": {
      "text/html": [
       "<div>\n",
       "<style scoped>\n",
       "    .dataframe tbody tr th:only-of-type {\n",
       "        vertical-align: middle;\n",
       "    }\n",
       "\n",
       "    .dataframe tbody tr th {\n",
       "        vertical-align: top;\n",
       "    }\n",
       "\n",
       "    .dataframe thead th {\n",
       "        text-align: right;\n",
       "    }\n",
       "</style>\n",
       "<table border=\"1\" class=\"dataframe\">\n",
       "  <thead>\n",
       "    <tr style=\"text-align: right;\">\n",
       "      <th></th>\n",
       "      <th>0</th>\n",
       "      <th>1</th>\n",
       "      <th>2</th>\n",
       "      <th>3</th>\n",
       "      <th>4</th>\n",
       "      <th>5</th>\n",
       "      <th>6</th>\n",
       "      <th>7</th>\n",
       "      <th>8</th>\n",
       "      <th>9</th>\n",
       "      <th>...</th>\n",
       "      <th>30</th>\n",
       "      <th>31</th>\n",
       "      <th>32</th>\n",
       "      <th>33</th>\n",
       "      <th>34</th>\n",
       "      <th>35</th>\n",
       "      <th>36</th>\n",
       "      <th>37</th>\n",
       "      <th>38</th>\n",
       "      <th>39</th>\n",
       "    </tr>\n",
       "  </thead>\n",
       "  <tbody>\n",
       "    <tr>\n",
       "      <th>0</th>\n",
       "      <td>0.299403</td>\n",
       "      <td>-1.226624</td>\n",
       "      <td>1.498425</td>\n",
       "      <td>-1.176150</td>\n",
       "      <td>5.289853</td>\n",
       "      <td>0.208297</td>\n",
       "      <td>2.404498</td>\n",
       "      <td>1.594506</td>\n",
       "      <td>-0.051608</td>\n",
       "      <td>0.663234</td>\n",
       "      <td>...</td>\n",
       "      <td>-0.850465</td>\n",
       "      <td>-0.622990</td>\n",
       "      <td>-1.833057</td>\n",
       "      <td>0.293024</td>\n",
       "      <td>3.552681</td>\n",
       "      <td>0.717611</td>\n",
       "      <td>3.305972</td>\n",
       "      <td>-2.715559</td>\n",
       "      <td>-2.682409</td>\n",
       "      <td>0.101050</td>\n",
       "    </tr>\n",
       "    <tr>\n",
       "      <th>1</th>\n",
       "      <td>-1.174176</td>\n",
       "      <td>0.332157</td>\n",
       "      <td>0.949919</td>\n",
       "      <td>-1.285328</td>\n",
       "      <td>2.199061</td>\n",
       "      <td>-0.151268</td>\n",
       "      <td>-0.427039</td>\n",
       "      <td>2.619246</td>\n",
       "      <td>-0.765884</td>\n",
       "      <td>-0.093780</td>\n",
       "      <td>...</td>\n",
       "      <td>-0.819750</td>\n",
       "      <td>0.012037</td>\n",
       "      <td>2.038836</td>\n",
       "      <td>0.468579</td>\n",
       "      <td>-0.517657</td>\n",
       "      <td>0.422326</td>\n",
       "      <td>0.803699</td>\n",
       "      <td>1.213219</td>\n",
       "      <td>1.382932</td>\n",
       "      <td>-1.817761</td>\n",
       "    </tr>\n",
       "    <tr>\n",
       "      <th>2</th>\n",
       "      <td>1.192222</td>\n",
       "      <td>-0.414371</td>\n",
       "      <td>0.067054</td>\n",
       "      <td>-2.233568</td>\n",
       "      <td>3.658881</td>\n",
       "      <td>0.089007</td>\n",
       "      <td>0.203439</td>\n",
       "      <td>-4.219054</td>\n",
       "      <td>-1.184919</td>\n",
       "      <td>-1.240310</td>\n",
       "      <td>...</td>\n",
       "      <td>-0.604501</td>\n",
       "      <td>0.750054</td>\n",
       "      <td>-3.360521</td>\n",
       "      <td>0.856988</td>\n",
       "      <td>-2.751451</td>\n",
       "      <td>-1.582735</td>\n",
       "      <td>1.672246</td>\n",
       "      <td>0.656438</td>\n",
       "      <td>-0.932473</td>\n",
       "      <td>2.987436</td>\n",
       "    </tr>\n",
       "    <tr>\n",
       "      <th>3</th>\n",
       "      <td>1.573270</td>\n",
       "      <td>-0.580318</td>\n",
       "      <td>-0.866332</td>\n",
       "      <td>-0.603812</td>\n",
       "      <td>3.125716</td>\n",
       "      <td>0.870321</td>\n",
       "      <td>-0.161992</td>\n",
       "      <td>4.499666</td>\n",
       "      <td>1.038741</td>\n",
       "      <td>-1.092716</td>\n",
       "      <td>...</td>\n",
       "      <td>1.022959</td>\n",
       "      <td>1.275598</td>\n",
       "      <td>-3.480110</td>\n",
       "      <td>-1.065252</td>\n",
       "      <td>2.153133</td>\n",
       "      <td>1.563539</td>\n",
       "      <td>2.767117</td>\n",
       "      <td>0.215748</td>\n",
       "      <td>0.619645</td>\n",
       "      <td>1.883397</td>\n",
       "    </tr>\n",
       "    <tr>\n",
       "      <th>4</th>\n",
       "      <td>-0.613071</td>\n",
       "      <td>-0.644204</td>\n",
       "      <td>1.112558</td>\n",
       "      <td>-0.032397</td>\n",
       "      <td>3.490142</td>\n",
       "      <td>-0.011935</td>\n",
       "      <td>1.443521</td>\n",
       "      <td>-4.290282</td>\n",
       "      <td>-1.761308</td>\n",
       "      <td>0.807652</td>\n",
       "      <td>...</td>\n",
       "      <td>0.513906</td>\n",
       "      <td>-1.803473</td>\n",
       "      <td>0.518579</td>\n",
       "      <td>-0.205029</td>\n",
       "      <td>-4.744566</td>\n",
       "      <td>-1.520015</td>\n",
       "      <td>1.830651</td>\n",
       "      <td>0.870772</td>\n",
       "      <td>-1.894609</td>\n",
       "      <td>0.408332</td>\n",
       "    </tr>\n",
       "    <tr>\n",
       "      <th>...</th>\n",
       "      <td>...</td>\n",
       "      <td>...</td>\n",
       "      <td>...</td>\n",
       "      <td>...</td>\n",
       "      <td>...</td>\n",
       "      <td>...</td>\n",
       "      <td>...</td>\n",
       "      <td>...</td>\n",
       "      <td>...</td>\n",
       "      <td>...</td>\n",
       "      <td>...</td>\n",
       "      <td>...</td>\n",
       "      <td>...</td>\n",
       "      <td>...</td>\n",
       "      <td>...</td>\n",
       "      <td>...</td>\n",
       "      <td>...</td>\n",
       "      <td>...</td>\n",
       "      <td>...</td>\n",
       "      <td>...</td>\n",
       "      <td>...</td>\n",
       "    </tr>\n",
       "    <tr>\n",
       "      <th>995</th>\n",
       "      <td>-0.310429</td>\n",
       "      <td>0.826811</td>\n",
       "      <td>-0.952245</td>\n",
       "      <td>0.768850</td>\n",
       "      <td>1.877520</td>\n",
       "      <td>1.320646</td>\n",
       "      <td>1.944609</td>\n",
       "      <td>1.191420</td>\n",
       "      <td>-0.127724</td>\n",
       "      <td>0.070937</td>\n",
       "      <td>...</td>\n",
       "      <td>-0.600411</td>\n",
       "      <td>-0.383792</td>\n",
       "      <td>0.745596</td>\n",
       "      <td>-0.698598</td>\n",
       "      <td>-2.729937</td>\n",
       "      <td>-0.431535</td>\n",
       "      <td>0.372873</td>\n",
       "      <td>1.019092</td>\n",
       "      <td>-2.672811</td>\n",
       "      <td>-0.295141</td>\n",
       "    </tr>\n",
       "    <tr>\n",
       "      <th>996</th>\n",
       "      <td>-1.853879</td>\n",
       "      <td>0.246726</td>\n",
       "      <td>0.459921</td>\n",
       "      <td>-2.074267</td>\n",
       "      <td>7.599220</td>\n",
       "      <td>-0.138355</td>\n",
       "      <td>-4.501900</td>\n",
       "      <td>0.630634</td>\n",
       "      <td>-1.590533</td>\n",
       "      <td>-1.112949</td>\n",
       "      <td>...</td>\n",
       "      <td>0.361736</td>\n",
       "      <td>0.240052</td>\n",
       "      <td>-0.856196</td>\n",
       "      <td>-0.072481</td>\n",
       "      <td>-2.935896</td>\n",
       "      <td>0.582411</td>\n",
       "      <td>-2.613407</td>\n",
       "      <td>0.036687</td>\n",
       "      <td>2.809310</td>\n",
       "      <td>4.412567</td>\n",
       "    </tr>\n",
       "    <tr>\n",
       "      <th>997</th>\n",
       "      <td>0.912748</td>\n",
       "      <td>-1.734039</td>\n",
       "      <td>-1.047035</td>\n",
       "      <td>0.217573</td>\n",
       "      <td>13.457812</td>\n",
       "      <td>0.162771</td>\n",
       "      <td>-2.250521</td>\n",
       "      <td>2.216161</td>\n",
       "      <td>-0.378326</td>\n",
       "      <td>0.642114</td>\n",
       "      <td>...</td>\n",
       "      <td>1.195896</td>\n",
       "      <td>-1.073806</td>\n",
       "      <td>-2.754369</td>\n",
       "      <td>1.814864</td>\n",
       "      <td>-4.190105</td>\n",
       "      <td>-1.116441</td>\n",
       "      <td>-2.100125</td>\n",
       "      <td>0.061513</td>\n",
       "      <td>0.895536</td>\n",
       "      <td>0.813686</td>\n",
       "    </tr>\n",
       "    <tr>\n",
       "      <th>998</th>\n",
       "      <td>2.439780</td>\n",
       "      <td>-0.735511</td>\n",
       "      <td>-0.902426</td>\n",
       "      <td>1.365036</td>\n",
       "      <td>-10.430299</td>\n",
       "      <td>-0.856859</td>\n",
       "      <td>2.686474</td>\n",
       "      <td>0.292035</td>\n",
       "      <td>0.585388</td>\n",
       "      <td>-0.876965</td>\n",
       "      <td>...</td>\n",
       "      <td>2.262326</td>\n",
       "      <td>-0.039488</td>\n",
       "      <td>0.773876</td>\n",
       "      <td>-0.916066</td>\n",
       "      <td>2.604827</td>\n",
       "      <td>-0.649874</td>\n",
       "      <td>-3.423674</td>\n",
       "      <td>0.229748</td>\n",
       "      <td>-2.311088</td>\n",
       "      <td>-3.422217</td>\n",
       "    </tr>\n",
       "    <tr>\n",
       "      <th>999</th>\n",
       "      <td>0.228994</td>\n",
       "      <td>-0.085453</td>\n",
       "      <td>0.876582</td>\n",
       "      <td>1.057401</td>\n",
       "      <td>-1.404015</td>\n",
       "      <td>-1.091965</td>\n",
       "      <td>0.639176</td>\n",
       "      <td>0.701332</td>\n",
       "      <td>-0.906577</td>\n",
       "      <td>-0.390940</td>\n",
       "      <td>...</td>\n",
       "      <td>0.471415</td>\n",
       "      <td>1.024757</td>\n",
       "      <td>-1.796571</td>\n",
       "      <td>0.603161</td>\n",
       "      <td>0.862705</td>\n",
       "      <td>0.747234</td>\n",
       "      <td>3.275681</td>\n",
       "      <td>0.400372</td>\n",
       "      <td>-3.431031</td>\n",
       "      <td>2.370080</td>\n",
       "    </tr>\n",
       "  </tbody>\n",
       "</table>\n",
       "<p>1000 rows × 40 columns</p>\n",
       "</div>"
      ],
      "text/plain": [
       "           0         1         2         3          4         5         6   \\\n",
       "0    0.299403 -1.226624  1.498425 -1.176150   5.289853  0.208297  2.404498   \n",
       "1   -1.174176  0.332157  0.949919 -1.285328   2.199061 -0.151268 -0.427039   \n",
       "2    1.192222 -0.414371  0.067054 -2.233568   3.658881  0.089007  0.203439   \n",
       "3    1.573270 -0.580318 -0.866332 -0.603812   3.125716  0.870321 -0.161992   \n",
       "4   -0.613071 -0.644204  1.112558 -0.032397   3.490142 -0.011935  1.443521   \n",
       "..        ...       ...       ...       ...        ...       ...       ...   \n",
       "995 -0.310429  0.826811 -0.952245  0.768850   1.877520  1.320646  1.944609   \n",
       "996 -1.853879  0.246726  0.459921 -2.074267   7.599220 -0.138355 -4.501900   \n",
       "997  0.912748 -1.734039 -1.047035  0.217573  13.457812  0.162771 -2.250521   \n",
       "998  2.439780 -0.735511 -0.902426  1.365036 -10.430299 -0.856859  2.686474   \n",
       "999  0.228994 -0.085453  0.876582  1.057401  -1.404015 -1.091965  0.639176   \n",
       "\n",
       "           7         8         9   ...        30        31        32  \\\n",
       "0    1.594506 -0.051608  0.663234  ... -0.850465 -0.622990 -1.833057   \n",
       "1    2.619246 -0.765884 -0.093780  ... -0.819750  0.012037  2.038836   \n",
       "2   -4.219054 -1.184919 -1.240310  ... -0.604501  0.750054 -3.360521   \n",
       "3    4.499666  1.038741 -1.092716  ...  1.022959  1.275598 -3.480110   \n",
       "4   -4.290282 -1.761308  0.807652  ...  0.513906 -1.803473  0.518579   \n",
       "..        ...       ...       ...  ...       ...       ...       ...   \n",
       "995  1.191420 -0.127724  0.070937  ... -0.600411 -0.383792  0.745596   \n",
       "996  0.630634 -1.590533 -1.112949  ...  0.361736  0.240052 -0.856196   \n",
       "997  2.216161 -0.378326  0.642114  ...  1.195896 -1.073806 -2.754369   \n",
       "998  0.292035  0.585388 -0.876965  ...  2.262326 -0.039488  0.773876   \n",
       "999  0.701332 -0.906577 -0.390940  ...  0.471415  1.024757 -1.796571   \n",
       "\n",
       "           33        34        35        36        37        38        39  \n",
       "0    0.293024  3.552681  0.717611  3.305972 -2.715559 -2.682409  0.101050  \n",
       "1    0.468579 -0.517657  0.422326  0.803699  1.213219  1.382932 -1.817761  \n",
       "2    0.856988 -2.751451 -1.582735  1.672246  0.656438 -0.932473  2.987436  \n",
       "3   -1.065252  2.153133  1.563539  2.767117  0.215748  0.619645  1.883397  \n",
       "4   -0.205029 -4.744566 -1.520015  1.830651  0.870772 -1.894609  0.408332  \n",
       "..        ...       ...       ...       ...       ...       ...       ...  \n",
       "995 -0.698598 -2.729937 -0.431535  0.372873  1.019092 -2.672811 -0.295141  \n",
       "996 -0.072481 -2.935896  0.582411 -2.613407  0.036687  2.809310  4.412567  \n",
       "997  1.814864 -4.190105 -1.116441 -2.100125  0.061513  0.895536  0.813686  \n",
       "998 -0.916066  2.604827 -0.649874 -3.423674  0.229748 -2.311088 -3.422217  \n",
       "999  0.603161  0.862705  0.747234  3.275681  0.400372 -3.431031  2.370080  \n",
       "\n",
       "[1000 rows x 40 columns]"
      ]
     },
     "metadata": {},
     "output_type": "display_data"
    }
   ],
   "source": [
    "train = pd.read_csv('Datasets/train.csv', header=None)\n",
    "train.info()\n",
    "display(train)"
   ]
  },
  {
   "cell_type": "markdown",
   "id": "0bdd7df1",
   "metadata": {
    "heading_collapsed": true,
    "hidden": true
   },
   "source": [
    "### Test"
   ]
  },
  {
   "cell_type": "code",
   "execution_count": 13,
   "id": "24755b97",
   "metadata": {
    "hidden": true,
    "scrolled": true
   },
   "outputs": [
    {
     "name": "stdout",
     "output_type": "stream",
     "text": [
      "<class 'pandas.core.frame.DataFrame'>\n",
      "RangeIndex: 9000 entries, 0 to 8999\n",
      "Data columns (total 40 columns):\n",
      " #   Column  Non-Null Count  Dtype  \n",
      "---  ------  --------------  -----  \n",
      " 0   0       9000 non-null   float64\n",
      " 1   1       9000 non-null   float64\n",
      " 2   2       9000 non-null   float64\n",
      " 3   3       9000 non-null   float64\n",
      " 4   4       9000 non-null   float64\n",
      " 5   5       9000 non-null   float64\n",
      " 6   6       9000 non-null   float64\n",
      " 7   7       9000 non-null   float64\n",
      " 8   8       9000 non-null   float64\n",
      " 9   9       9000 non-null   float64\n",
      " 10  10      9000 non-null   float64\n",
      " 11  11      9000 non-null   float64\n",
      " 12  12      9000 non-null   float64\n",
      " 13  13      9000 non-null   float64\n",
      " 14  14      9000 non-null   float64\n",
      " 15  15      9000 non-null   float64\n",
      " 16  16      9000 non-null   float64\n",
      " 17  17      9000 non-null   float64\n",
      " 18  18      9000 non-null   float64\n",
      " 19  19      9000 non-null   float64\n",
      " 20  20      9000 non-null   float64\n",
      " 21  21      9000 non-null   float64\n",
      " 22  22      9000 non-null   float64\n",
      " 23  23      9000 non-null   float64\n",
      " 24  24      9000 non-null   float64\n",
      " 25  25      9000 non-null   float64\n",
      " 26  26      9000 non-null   float64\n",
      " 27  27      9000 non-null   float64\n",
      " 28  28      9000 non-null   float64\n",
      " 29  29      9000 non-null   float64\n",
      " 30  30      9000 non-null   float64\n",
      " 31  31      9000 non-null   float64\n",
      " 32  32      9000 non-null   float64\n",
      " 33  33      9000 non-null   float64\n",
      " 34  34      9000 non-null   float64\n",
      " 35  35      9000 non-null   float64\n",
      " 36  36      9000 non-null   float64\n",
      " 37  37      9000 non-null   float64\n",
      " 38  38      9000 non-null   float64\n",
      " 39  39      9000 non-null   float64\n",
      "dtypes: float64(40)\n",
      "memory usage: 2.7 MB\n"
     ]
    },
    {
     "data": {
      "text/html": [
       "<div>\n",
       "<style scoped>\n",
       "    .dataframe tbody tr th:only-of-type {\n",
       "        vertical-align: middle;\n",
       "    }\n",
       "\n",
       "    .dataframe tbody tr th {\n",
       "        vertical-align: top;\n",
       "    }\n",
       "\n",
       "    .dataframe thead th {\n",
       "        text-align: right;\n",
       "    }\n",
       "</style>\n",
       "<table border=\"1\" class=\"dataframe\">\n",
       "  <thead>\n",
       "    <tr style=\"text-align: right;\">\n",
       "      <th></th>\n",
       "      <th>0</th>\n",
       "      <th>1</th>\n",
       "      <th>2</th>\n",
       "      <th>3</th>\n",
       "      <th>4</th>\n",
       "      <th>5</th>\n",
       "      <th>6</th>\n",
       "      <th>7</th>\n",
       "      <th>8</th>\n",
       "      <th>9</th>\n",
       "      <th>...</th>\n",
       "      <th>30</th>\n",
       "      <th>31</th>\n",
       "      <th>32</th>\n",
       "      <th>33</th>\n",
       "      <th>34</th>\n",
       "      <th>35</th>\n",
       "      <th>36</th>\n",
       "      <th>37</th>\n",
       "      <th>38</th>\n",
       "      <th>39</th>\n",
       "    </tr>\n",
       "  </thead>\n",
       "  <tbody>\n",
       "    <tr>\n",
       "      <th>0</th>\n",
       "      <td>2.808909</td>\n",
       "      <td>-0.242894</td>\n",
       "      <td>-0.546421</td>\n",
       "      <td>0.255162</td>\n",
       "      <td>1.749736</td>\n",
       "      <td>-0.030458</td>\n",
       "      <td>-1.322071</td>\n",
       "      <td>3.578071</td>\n",
       "      <td>-0.667578</td>\n",
       "      <td>-0.884257</td>\n",
       "      <td>...</td>\n",
       "      <td>-0.261688</td>\n",
       "      <td>-0.224375</td>\n",
       "      <td>-1.675606</td>\n",
       "      <td>-0.479584</td>\n",
       "      <td>-0.244388</td>\n",
       "      <td>-0.672355</td>\n",
       "      <td>0.517860</td>\n",
       "      <td>0.010665</td>\n",
       "      <td>-0.419214</td>\n",
       "      <td>2.818387</td>\n",
       "    </tr>\n",
       "    <tr>\n",
       "      <th>1</th>\n",
       "      <td>-0.374101</td>\n",
       "      <td>0.537669</td>\n",
       "      <td>0.081063</td>\n",
       "      <td>0.756773</td>\n",
       "      <td>0.915231</td>\n",
       "      <td>2.557282</td>\n",
       "      <td>3.703187</td>\n",
       "      <td>1.673835</td>\n",
       "      <td>-0.764122</td>\n",
       "      <td>-1.228040</td>\n",
       "      <td>...</td>\n",
       "      <td>-0.969463</td>\n",
       "      <td>0.574154</td>\n",
       "      <td>-2.200519</td>\n",
       "      <td>-1.612240</td>\n",
       "      <td>0.179031</td>\n",
       "      <td>-2.924596</td>\n",
       "      <td>0.643610</td>\n",
       "      <td>-1.470939</td>\n",
       "      <td>-0.067408</td>\n",
       "      <td>-0.976265</td>\n",
       "    </tr>\n",
       "    <tr>\n",
       "      <th>2</th>\n",
       "      <td>-0.088370</td>\n",
       "      <td>0.154743</td>\n",
       "      <td>0.380716</td>\n",
       "      <td>-1.176126</td>\n",
       "      <td>1.699867</td>\n",
       "      <td>-0.258627</td>\n",
       "      <td>-1.384999</td>\n",
       "      <td>1.093584</td>\n",
       "      <td>1.596633</td>\n",
       "      <td>0.230631</td>\n",
       "      <td>...</td>\n",
       "      <td>-0.769885</td>\n",
       "      <td>-0.005143</td>\n",
       "      <td>1.467490</td>\n",
       "      <td>0.483803</td>\n",
       "      <td>-3.542981</td>\n",
       "      <td>0.814561</td>\n",
       "      <td>-1.652948</td>\n",
       "      <td>1.265866</td>\n",
       "      <td>-1.749248</td>\n",
       "      <td>1.773784</td>\n",
       "    </tr>\n",
       "    <tr>\n",
       "      <th>3</th>\n",
       "      <td>-0.685635</td>\n",
       "      <td>0.501283</td>\n",
       "      <td>1.873375</td>\n",
       "      <td>0.215224</td>\n",
       "      <td>-3.983468</td>\n",
       "      <td>-0.103637</td>\n",
       "      <td>4.136113</td>\n",
       "      <td>-0.225431</td>\n",
       "      <td>-1.515015</td>\n",
       "      <td>-1.071763</td>\n",
       "      <td>...</td>\n",
       "      <td>0.968609</td>\n",
       "      <td>2.386412</td>\n",
       "      <td>-0.131219</td>\n",
       "      <td>0.285646</td>\n",
       "      <td>2.302069</td>\n",
       "      <td>1.255588</td>\n",
       "      <td>-1.563090</td>\n",
       "      <td>-0.125258</td>\n",
       "      <td>-1.030761</td>\n",
       "      <td>-2.945329</td>\n",
       "    </tr>\n",
       "    <tr>\n",
       "      <th>4</th>\n",
       "      <td>0.350867</td>\n",
       "      <td>0.721897</td>\n",
       "      <td>-0.477104</td>\n",
       "      <td>-1.748776</td>\n",
       "      <td>-2.627405</td>\n",
       "      <td>1.075433</td>\n",
       "      <td>4.954253</td>\n",
       "      <td>-3.293501</td>\n",
       "      <td>-0.760369</td>\n",
       "      <td>0.204360</td>\n",
       "      <td>...</td>\n",
       "      <td>0.260553</td>\n",
       "      <td>-2.045650</td>\n",
       "      <td>-2.173227</td>\n",
       "      <td>0.372992</td>\n",
       "      <td>0.450700</td>\n",
       "      <td>-0.211657</td>\n",
       "      <td>1.301359</td>\n",
       "      <td>-0.522164</td>\n",
       "      <td>2.484883</td>\n",
       "      <td>0.039213</td>\n",
       "    </tr>\n",
       "    <tr>\n",
       "      <th>...</th>\n",
       "      <td>...</td>\n",
       "      <td>...</td>\n",
       "      <td>...</td>\n",
       "      <td>...</td>\n",
       "      <td>...</td>\n",
       "      <td>...</td>\n",
       "      <td>...</td>\n",
       "      <td>...</td>\n",
       "      <td>...</td>\n",
       "      <td>...</td>\n",
       "      <td>...</td>\n",
       "      <td>...</td>\n",
       "      <td>...</td>\n",
       "      <td>...</td>\n",
       "      <td>...</td>\n",
       "      <td>...</td>\n",
       "      <td>...</td>\n",
       "      <td>...</td>\n",
       "      <td>...</td>\n",
       "      <td>...</td>\n",
       "      <td>...</td>\n",
       "    </tr>\n",
       "    <tr>\n",
       "      <th>8995</th>\n",
       "      <td>0.171644</td>\n",
       "      <td>-0.806952</td>\n",
       "      <td>-2.045671</td>\n",
       "      <td>0.021156</td>\n",
       "      <td>2.258491</td>\n",
       "      <td>0.429469</td>\n",
       "      <td>0.857187</td>\n",
       "      <td>0.972600</td>\n",
       "      <td>1.707492</td>\n",
       "      <td>1.676370</td>\n",
       "      <td>...</td>\n",
       "      <td>-1.366312</td>\n",
       "      <td>0.276543</td>\n",
       "      <td>-0.732764</td>\n",
       "      <td>0.243930</td>\n",
       "      <td>-1.151233</td>\n",
       "      <td>-0.274298</td>\n",
       "      <td>0.573013</td>\n",
       "      <td>1.109814</td>\n",
       "      <td>-1.905965</td>\n",
       "      <td>1.457601</td>\n",
       "    </tr>\n",
       "    <tr>\n",
       "      <th>8996</th>\n",
       "      <td>1.168564</td>\n",
       "      <td>-0.911253</td>\n",
       "      <td>1.685492</td>\n",
       "      <td>0.867183</td>\n",
       "      <td>3.606170</td>\n",
       "      <td>-0.673875</td>\n",
       "      <td>-1.889365</td>\n",
       "      <td>0.411385</td>\n",
       "      <td>-0.206817</td>\n",
       "      <td>-0.705771</td>\n",
       "      <td>...</td>\n",
       "      <td>0.557757</td>\n",
       "      <td>0.379841</td>\n",
       "      <td>-1.474198</td>\n",
       "      <td>-0.322943</td>\n",
       "      <td>1.964519</td>\n",
       "      <td>0.122384</td>\n",
       "      <td>0.678023</td>\n",
       "      <td>2.024129</td>\n",
       "      <td>0.386542</td>\n",
       "      <td>1.104493</td>\n",
       "    </tr>\n",
       "    <tr>\n",
       "      <th>8997</th>\n",
       "      <td>0.052274</td>\n",
       "      <td>-1.736558</td>\n",
       "      <td>-0.263699</td>\n",
       "      <td>-0.219329</td>\n",
       "      <td>8.918393</td>\n",
       "      <td>-1.258320</td>\n",
       "      <td>-3.361146</td>\n",
       "      <td>0.893366</td>\n",
       "      <td>-0.631669</td>\n",
       "      <td>1.887286</td>\n",
       "      <td>...</td>\n",
       "      <td>2.117847</td>\n",
       "      <td>-1.050824</td>\n",
       "      <td>0.182872</td>\n",
       "      <td>0.242725</td>\n",
       "      <td>0.670161</td>\n",
       "      <td>0.112752</td>\n",
       "      <td>-3.006949</td>\n",
       "      <td>1.179606</td>\n",
       "      <td>1.156340</td>\n",
       "      <td>-1.218561</td>\n",
       "    </tr>\n",
       "    <tr>\n",
       "      <th>8998</th>\n",
       "      <td>1.443659</td>\n",
       "      <td>0.651892</td>\n",
       "      <td>0.550724</td>\n",
       "      <td>-1.146664</td>\n",
       "      <td>2.621641</td>\n",
       "      <td>-0.867143</td>\n",
       "      <td>0.312742</td>\n",
       "      <td>1.078004</td>\n",
       "      <td>-1.212524</td>\n",
       "      <td>-0.028143</td>\n",
       "      <td>...</td>\n",
       "      <td>0.631480</td>\n",
       "      <td>1.186236</td>\n",
       "      <td>-1.098508</td>\n",
       "      <td>1.159658</td>\n",
       "      <td>-1.957241</td>\n",
       "      <td>0.482533</td>\n",
       "      <td>3.777669</td>\n",
       "      <td>-0.424954</td>\n",
       "      <td>1.333374</td>\n",
       "      <td>2.325271</td>\n",
       "    </tr>\n",
       "    <tr>\n",
       "      <th>8999</th>\n",
       "      <td>-0.429145</td>\n",
       "      <td>-0.110821</td>\n",
       "      <td>1.257230</td>\n",
       "      <td>-0.088150</td>\n",
       "      <td>-3.925020</td>\n",
       "      <td>-0.251062</td>\n",
       "      <td>-2.212032</td>\n",
       "      <td>-2.692121</td>\n",
       "      <td>-0.005468</td>\n",
       "      <td>0.186300</td>\n",
       "      <td>...</td>\n",
       "      <td>0.384256</td>\n",
       "      <td>0.520610</td>\n",
       "      <td>1.594873</td>\n",
       "      <td>-0.352201</td>\n",
       "      <td>0.152333</td>\n",
       "      <td>-1.772249</td>\n",
       "      <td>0.758809</td>\n",
       "      <td>0.617485</td>\n",
       "      <td>1.464438</td>\n",
       "      <td>3.301445</td>\n",
       "    </tr>\n",
       "  </tbody>\n",
       "</table>\n",
       "<p>9000 rows × 40 columns</p>\n",
       "</div>"
      ],
      "text/plain": [
       "            0         1         2         3         4         5         6   \\\n",
       "0     2.808909 -0.242894 -0.546421  0.255162  1.749736 -0.030458 -1.322071   \n",
       "1    -0.374101  0.537669  0.081063  0.756773  0.915231  2.557282  3.703187   \n",
       "2    -0.088370  0.154743  0.380716 -1.176126  1.699867 -0.258627 -1.384999   \n",
       "3    -0.685635  0.501283  1.873375  0.215224 -3.983468 -0.103637  4.136113   \n",
       "4     0.350867  0.721897 -0.477104 -1.748776 -2.627405  1.075433  4.954253   \n",
       "...        ...       ...       ...       ...       ...       ...       ...   \n",
       "8995  0.171644 -0.806952 -2.045671  0.021156  2.258491  0.429469  0.857187   \n",
       "8996  1.168564 -0.911253  1.685492  0.867183  3.606170 -0.673875 -1.889365   \n",
       "8997  0.052274 -1.736558 -0.263699 -0.219329  8.918393 -1.258320 -3.361146   \n",
       "8998  1.443659  0.651892  0.550724 -1.146664  2.621641 -0.867143  0.312742   \n",
       "8999 -0.429145 -0.110821  1.257230 -0.088150 -3.925020 -0.251062 -2.212032   \n",
       "\n",
       "            7         8         9   ...        30        31        32  \\\n",
       "0     3.578071 -0.667578 -0.884257  ... -0.261688 -0.224375 -1.675606   \n",
       "1     1.673835 -0.764122 -1.228040  ... -0.969463  0.574154 -2.200519   \n",
       "2     1.093584  1.596633  0.230631  ... -0.769885 -0.005143  1.467490   \n",
       "3    -0.225431 -1.515015 -1.071763  ...  0.968609  2.386412 -0.131219   \n",
       "4    -3.293501 -0.760369  0.204360  ...  0.260553 -2.045650 -2.173227   \n",
       "...        ...       ...       ...  ...       ...       ...       ...   \n",
       "8995  0.972600  1.707492  1.676370  ... -1.366312  0.276543 -0.732764   \n",
       "8996  0.411385 -0.206817 -0.705771  ...  0.557757  0.379841 -1.474198   \n",
       "8997  0.893366 -0.631669  1.887286  ...  2.117847 -1.050824  0.182872   \n",
       "8998  1.078004 -1.212524 -0.028143  ...  0.631480  1.186236 -1.098508   \n",
       "8999 -2.692121 -0.005468  0.186300  ...  0.384256  0.520610  1.594873   \n",
       "\n",
       "            33        34        35        36        37        38        39  \n",
       "0    -0.479584 -0.244388 -0.672355  0.517860  0.010665 -0.419214  2.818387  \n",
       "1    -1.612240  0.179031 -2.924596  0.643610 -1.470939 -0.067408 -0.976265  \n",
       "2     0.483803 -3.542981  0.814561 -1.652948  1.265866 -1.749248  1.773784  \n",
       "3     0.285646  2.302069  1.255588 -1.563090 -0.125258 -1.030761 -2.945329  \n",
       "4     0.372992  0.450700 -0.211657  1.301359 -0.522164  2.484883  0.039213  \n",
       "...        ...       ...       ...       ...       ...       ...       ...  \n",
       "8995  0.243930 -1.151233 -0.274298  0.573013  1.109814 -1.905965  1.457601  \n",
       "8996 -0.322943  1.964519  0.122384  0.678023  2.024129  0.386542  1.104493  \n",
       "8997  0.242725  0.670161  0.112752 -3.006949  1.179606  1.156340 -1.218561  \n",
       "8998  1.159658 -1.957241  0.482533  3.777669 -0.424954  1.333374  2.325271  \n",
       "8999 -0.352201  0.152333 -1.772249  0.758809  0.617485  1.464438  3.301445  \n",
       "\n",
       "[9000 rows x 40 columns]"
      ]
     },
     "metadata": {},
     "output_type": "display_data"
    }
   ],
   "source": [
    "test = pd.read_csv('Datasets/test.csv', header=None)\n",
    "test.info()\n",
    "display(test)"
   ]
  },
  {
   "cell_type": "markdown",
   "id": "f61ca265",
   "metadata": {
    "heading_collapsed": true,
    "hidden": true
   },
   "source": [
    "### Train labels"
   ]
  },
  {
   "cell_type": "code",
   "execution_count": 14,
   "id": "1d95382e",
   "metadata": {
    "hidden": true,
    "scrolled": true
   },
   "outputs": [
    {
     "name": "stdout",
     "output_type": "stream",
     "text": [
      "<class 'pandas.core.frame.DataFrame'>\n",
      "RangeIndex: 1000 entries, 0 to 999\n",
      "Data columns (total 1 columns):\n",
      " #   Column  Non-Null Count  Dtype\n",
      "---  ------  --------------  -----\n",
      " 0   labels  1000 non-null   int64\n",
      "dtypes: int64(1)\n",
      "memory usage: 7.9 KB\n"
     ]
    },
    {
     "data": {
      "text/html": [
       "<div>\n",
       "<style scoped>\n",
       "    .dataframe tbody tr th:only-of-type {\n",
       "        vertical-align: middle;\n",
       "    }\n",
       "\n",
       "    .dataframe tbody tr th {\n",
       "        vertical-align: top;\n",
       "    }\n",
       "\n",
       "    .dataframe thead th {\n",
       "        text-align: right;\n",
       "    }\n",
       "</style>\n",
       "<table border=\"1\" class=\"dataframe\">\n",
       "  <thead>\n",
       "    <tr style=\"text-align: right;\">\n",
       "      <th></th>\n",
       "      <th>labels</th>\n",
       "    </tr>\n",
       "  </thead>\n",
       "  <tbody>\n",
       "    <tr>\n",
       "      <th>0</th>\n",
       "      <td>1</td>\n",
       "    </tr>\n",
       "    <tr>\n",
       "      <th>1</th>\n",
       "      <td>0</td>\n",
       "    </tr>\n",
       "    <tr>\n",
       "      <th>2</th>\n",
       "      <td>0</td>\n",
       "    </tr>\n",
       "    <tr>\n",
       "      <th>3</th>\n",
       "      <td>1</td>\n",
       "    </tr>\n",
       "    <tr>\n",
       "      <th>4</th>\n",
       "      <td>0</td>\n",
       "    </tr>\n",
       "    <tr>\n",
       "      <th>...</th>\n",
       "      <td>...</td>\n",
       "    </tr>\n",
       "    <tr>\n",
       "      <th>995</th>\n",
       "      <td>0</td>\n",
       "    </tr>\n",
       "    <tr>\n",
       "      <th>996</th>\n",
       "      <td>1</td>\n",
       "    </tr>\n",
       "    <tr>\n",
       "      <th>997</th>\n",
       "      <td>1</td>\n",
       "    </tr>\n",
       "    <tr>\n",
       "      <th>998</th>\n",
       "      <td>0</td>\n",
       "    </tr>\n",
       "    <tr>\n",
       "      <th>999</th>\n",
       "      <td>0</td>\n",
       "    </tr>\n",
       "  </tbody>\n",
       "</table>\n",
       "<p>1000 rows × 1 columns</p>\n",
       "</div>"
      ],
      "text/plain": [
       "     labels\n",
       "0         1\n",
       "1         0\n",
       "2         0\n",
       "3         1\n",
       "4         0\n",
       "..      ...\n",
       "995       0\n",
       "996       1\n",
       "997       1\n",
       "998       0\n",
       "999       0\n",
       "\n",
       "[1000 rows x 1 columns]"
      ]
     },
     "metadata": {},
     "output_type": "display_data"
    }
   ],
   "source": [
    "train_labels = pd.read_csv('Datasets/trainLabels.csv', header=None)\n",
    "train_labels.columns = ['labels']\n",
    "train_labels.info()\n",
    "display(train_labels)"
   ]
  },
  {
   "cell_type": "markdown",
   "id": "8254c096",
   "metadata": {},
   "source": [
    "## Data Analysis"
   ]
  },
  {
   "cell_type": "markdown",
   "id": "5f18bb77",
   "metadata": {},
   "source": [
    "### Train data"
   ]
  },
  {
   "cell_type": "markdown",
   "id": "7d996811",
   "metadata": {
    "heading_collapsed": true
   },
   "source": [
    "#### Check missing values"
   ]
  },
  {
   "cell_type": "code",
   "execution_count": 15,
   "id": "e9cb3aee",
   "metadata": {
    "hidden": true
   },
   "outputs": [
    {
     "data": {
      "text/plain": [
       "<AxesSubplot:>"
      ]
     },
     "execution_count": 15,
     "metadata": {},
     "output_type": "execute_result"
    },
    {
     "data": {
      "image/png": "[encoded data removed]",
      "text/plain": [
       "<Figure size 720x360 with 3 Axes>"
      ]
     },
     "metadata": {
      "needs_background": "light"
     },
     "output_type": "display_data"
    }
   ],
   "source": [
    "mi.bar(train, figsize=(10,5))"
   ]
  },
  {
   "cell_type": "markdown",
   "id": "5c5e2bf2",
   "metadata": {
    "hidden": true
   },
   "source": [
    "- No missing Values"
   ]
  },
  {
   "cell_type": "markdown",
   "id": "19a3a915",
   "metadata": {
    "heading_collapsed": true
   },
   "source": [
    "#### Check data discributions"
   ]
  },
  {
   "cell_type": "markdown",
   "id": "0a6645de",
   "metadata": {
    "heading_collapsed": true,
    "hidden": true
   },
   "source": [
    "##### Train features"
   ]
  },
  {
   "cell_type": "code",
   "execution_count": 16,
   "id": "e50a65ef",
   "metadata": {
    "hidden": true
   },
   "outputs": [
    {
     "data": {
      "image/png": "[encoded data removed]",
      "text/plain": [
       "<Figure size 1080x1440 with 1 Axes>"
      ]
     },
     "metadata": {
      "needs_background": "light"
     },
     "output_type": "display_data"
    }
   ],
   "source": [
    "values_distribution(train)"
   ]
  },
  {
   "cell_type": "markdown",
   "id": "4ce7f208",
   "metadata": {
    "hidden": true
   },
   "source": [
    "- All features have median values around 0 with few outliers\n",
    "\n",
    "- Minimum / maximum values are in range [-20 20]"
   ]
  },
  {
   "cell_type": "markdown",
   "id": "6bd5bc29",
   "metadata": {
    "hidden": true
   },
   "source": [
    "##### Train labels"
   ]
  },
  {
   "cell_type": "code",
   "execution_count": 17,
   "id": "2cc6dffd",
   "metadata": {
    "hidden": true
   },
   "outputs": [
    {
     "data": {
      "image/png": "[encoded data removed]",
      "text/plain": [
       "<Figure size 720x360 with 1 Axes>"
      ]
     },
     "metadata": {
      "needs_background": "light"
     },
     "output_type": "display_data"
    }
   ],
   "source": [
    "class_count(train_labels)"
   ]
  },
  {
   "cell_type": "markdown",
   "id": "ed0a4aed",
   "metadata": {
    "hidden": true
   },
   "source": [
    "- Train classes are balanced"
   ]
  },
  {
   "cell_type": "markdown",
   "id": "300c68f3",
   "metadata": {},
   "source": [
    "#### Check correlations"
   ]
  },
  {
   "cell_type": "code",
   "execution_count": 18,
   "id": "b8b389b0",
   "metadata": {
    "scrolled": true
   },
   "outputs": [
    {
     "data": {
      "image/png": "[encoded data removed]",
      "text/plain": [
       "<Figure size 1080x936 with 2 Axes>"
      ]
     },
     "metadata": {
      "needs_background": "light"
     },
     "output_type": "display_data"
    }
   ],
   "source": [
    "corr = corr_matrix(pd.concat([train, train_labels], axis=1), plot=True)"
   ]
  },
  {
   "cell_type": "markdown",
   "id": "7b1f4da1",
   "metadata": {},
   "source": [
    "- Only a few features have have little correlation\n",
    "\n",
    "- Features 12 and 14 correlates the most with target labels"
   ]
  },
  {
   "cell_type": "code",
   "execution_count": 19,
   "id": "9acbfd06",
   "metadata": {},
   "outputs": [
    {
     "name": "stdout",
     "output_type": "stream",
     "text": [
      "Top 10 correlations:\n"
     ]
    },
    {
     "data": {
      "text/plain": [
       "12    0.62\n",
       "4     0.57\n",
       "14    0.48\n",
       "23    0.45\n",
       "6     0.42\n",
       "22    0.36\n",
       "28    0.32\n",
       "18    0.32\n",
       "29    0.29\n",
       "39    0.26\n",
       "dtype: float64"
      ]
     },
     "execution_count": 19,
     "metadata": {},
     "output_type": "execute_result"
    }
   ],
   "source": [
    "print('Top 10 correlations:')\n",
    "round(abs(corr).max().sort_values(ascending=False).head(10), 2)"
   ]
  },
  {
   "cell_type": "markdown",
   "id": "ba5455c7",
   "metadata": {},
   "source": [
    "- Maximum correlation is around 0.6\n",
    "\n",
    "- None of the features are colinear"
   ]
  },
  {
   "cell_type": "markdown",
   "id": "d0421abe",
   "metadata": {
    "heading_collapsed": true
   },
   "source": [
    "### Test data"
   ]
  },
  {
   "cell_type": "markdown",
   "id": "42ea6e46",
   "metadata": {
    "hidden": true
   },
   "source": [
    "#### Check missing values"
   ]
  },
  {
   "cell_type": "code",
   "execution_count": 20,
   "id": "3863e64d",
   "metadata": {
    "hidden": true
   },
   "outputs": [
    {
     "data": {
      "text/plain": [
       "<AxesSubplot:>"
      ]
     },
     "execution_count": 20,
     "metadata": {},
     "output_type": "execute_result"
    },
    {
     "data": {
      "image/png": "[encoded data removed]",
      "text/plain": [
       "<Figure size 720x360 with 3 Axes>"
      ]
     },
     "metadata": {
      "needs_background": "light"
     },
     "output_type": "display_data"
    }
   ],
   "source": [
    "mi.bar(train, figsize=(10,5))"
   ]
  },
  {
   "cell_type": "markdown",
   "id": "23a7a26e",
   "metadata": {
    "hidden": true
   },
   "source": [
    "- No missing Values"
   ]
  },
  {
   "cell_type": "markdown",
   "id": "9309e91c",
   "metadata": {
    "hidden": true
   },
   "source": [
    "#### Check distribution"
   ]
  },
  {
   "cell_type": "markdown",
   "id": "118e2219",
   "metadata": {
    "hidden": true
   },
   "source": [
    "##### Test features"
   ]
  },
  {
   "cell_type": "code",
   "execution_count": 21,
   "id": "da9b8894",
   "metadata": {
    "hidden": true
   },
   "outputs": [
    {
     "data": {
      "image/png": "[encoded data removed]",
      "text/plain": [
       "<Figure size 1080x1440 with 1 Axes>"
      ]
     },
     "metadata": {
      "needs_background": "light"
     },
     "output_type": "display_data"
    }
   ],
   "source": [
    "values_distribution(test)"
   ]
  },
  {
   "cell_type": "markdown",
   "id": "57e63be7",
   "metadata": {
    "hidden": true
   },
   "source": [
    "- Distributions of features values are the same for test data"
   ]
  },
  {
   "cell_type": "markdown",
   "id": "e2b1ee82",
   "metadata": {},
   "source": [
    "## Train model"
   ]
  },
  {
   "cell_type": "markdown",
   "id": "d75219a4",
   "metadata": {},
   "source": [
    "### Split data"
   ]
  },
  {
   "cell_type": "code",
   "execution_count": 22,
   "id": "9dac4f5c",
   "metadata": {},
   "outputs": [],
   "source": [
    "X = train\n",
    "y = train_labels"
   ]
  },
  {
   "cell_type": "markdown",
   "id": "abaa4c72",
   "metadata": {},
   "source": [
    "- Split data to train and validate datasets (80:20)"
   ]
  },
  {
   "cell_type": "code",
   "execution_count": 23,
   "id": "3f89db0c",
   "metadata": {},
   "outputs": [],
   "source": [
    "X_train, X_val, y_train, y_val = train_test_split(X, y, \n",
    "                                                  test_size=0.2, \n",
    "                                                  shuffle=True,\n",
    "                                                  random_state=RANDOM_STATE)"
   ]
  },
  {
   "cell_type": "markdown",
   "id": "44958e6a",
   "metadata": {
    "heading_collapsed": true
   },
   "source": [
    "### Baseline model"
   ]
  },
  {
   "cell_type": "markdown",
   "id": "af3e6e5d",
   "metadata": {
    "hidden": true
   },
   "source": [
    "- Baseline model will produce random predictions"
   ]
  },
  {
   "cell_type": "code",
   "execution_count": 24,
   "id": "5adf4368",
   "metadata": {
    "hidden": true
   },
   "outputs": [],
   "source": [
    "dummy_clf = DummyClassifier(strategy='uniform', random_state=RANDOM_STATE)"
   ]
  },
  {
   "cell_type": "code",
   "execution_count": 25,
   "id": "672bd323",
   "metadata": {
    "hidden": true,
    "scrolled": true
   },
   "outputs": [
    {
     "data": {
      "text/html": [
       "<div>\n",
       "<style scoped>\n",
       "    .dataframe tbody tr th:only-of-type {\n",
       "        vertical-align: middle;\n",
       "    }\n",
       "\n",
       "    .dataframe tbody tr th {\n",
       "        vertical-align: top;\n",
       "    }\n",
       "\n",
       "    .dataframe thead th {\n",
       "        text-align: right;\n",
       "    }\n",
       "</style>\n",
       "<table border=\"1\" class=\"dataframe\">\n",
       "  <thead>\n",
       "    <tr style=\"text-align: right;\">\n",
       "      <th></th>\n",
       "      <th>Accuracy train</th>\n",
       "      <th>Accuracy valid</th>\n",
       "      <th>Precision</th>\n",
       "      <th>Recall</th>\n",
       "      <th>ROC-AUC</th>\n",
       "    </tr>\n",
       "  </thead>\n",
       "  <tbody>\n",
       "    <tr>\n",
       "      <th>DummyClassifier</th>\n",
       "      <td>0.48</td>\n",
       "      <td>0.46</td>\n",
       "      <td>0.49</td>\n",
       "      <td>0.46</td>\n",
       "      <td>0.46</td>\n",
       "    </tr>\n",
       "  </tbody>\n",
       "</table>\n",
       "</div>"
      ],
      "text/plain": [
       "                 Accuracy train  Accuracy valid  Precision  Recall  ROC-AUC\n",
       "DummyClassifier            0.48            0.46       0.49    0.46     0.46"
      ]
     },
     "metadata": {},
     "output_type": "display_data"
    }
   ],
   "source": [
    "dummy_clf, _ = train_model(X_train, X_val, y_train, y_val, dummy_clf)"
   ]
  },
  {
   "cell_type": "markdown",
   "id": "551517de",
   "metadata": {
    "hidden": true
   },
   "source": [
    "- As expected accuracy is almost 0.5"
   ]
  },
  {
   "cell_type": "markdown",
   "id": "0de18658",
   "metadata": {},
   "source": [
    "### Simple Classifiers"
   ]
  },
  {
   "cell_type": "markdown",
   "id": "4146dfbb",
   "metadata": {},
   "source": [
    "- Lets compare different types ofclassifiers "
   ]
  },
  {
   "cell_type": "code",
   "execution_count": 26,
   "id": "6bff62ee",
   "metadata": {},
   "outputs": [],
   "source": [
    "classifiers = [GradientBoostingClassifier(), \n",
    "               RandomForestClassifier(), \n",
    "               SGDClassifier(), \n",
    "               LinearSVC(), \n",
    "               KNeighborsClassifier(),\n",
    "               MLPClassifier(),\n",
    "               GaussianProcessClassifier(),\n",
    "               AdaBoostClassifier()\n",
    "              ]"
   ]
  },
  {
   "cell_type": "code",
   "execution_count": 27,
   "id": "969e4e17",
   "metadata": {
    "scrolled": true
   },
   "outputs": [],
   "source": [
    "res_combine = pd.DataFrame()\n",
    "\n",
    "for clf in classifiers:\n",
    "    _, res = train_model(X_train, X_val, y_train, y_val, clf, show=False)   \n",
    "    res_combine = pd.concat([res_combine, res])"
   ]
  },
  {
   "cell_type": "code",
   "execution_count": 28,
   "id": "9c1b1469",
   "metadata": {},
   "outputs": [
    {
     "data": {
      "text/html": [
       "<div>\n",
       "<style scoped>\n",
       "    .dataframe tbody tr th:only-of-type {\n",
       "        vertical-align: middle;\n",
       "    }\n",
       "\n",
       "    .dataframe tbody tr th {\n",
       "        vertical-align: top;\n",
       "    }\n",
       "\n",
       "    .dataframe thead th {\n",
       "        text-align: right;\n",
       "    }\n",
       "</style>\n",
       "<table border=\"1\" class=\"dataframe\">\n",
       "  <thead>\n",
       "    <tr style=\"text-align: right;\">\n",
       "      <th></th>\n",
       "      <th>Accuracy train</th>\n",
       "      <th>Accuracy valid</th>\n",
       "      <th>Precision</th>\n",
       "      <th>Recall</th>\n",
       "      <th>ROC-AUC</th>\n",
       "    </tr>\n",
       "  </thead>\n",
       "  <tbody>\n",
       "    <tr>\n",
       "      <th>KNeighborsClassifier</th>\n",
       "      <td>0.94</td>\n",
       "      <td>0.92</td>\n",
       "      <td>0.94</td>\n",
       "      <td>0.90</td>\n",
       "      <td>0.92</td>\n",
       "    </tr>\n",
       "    <tr>\n",
       "      <th>GradientBoostingClassifier</th>\n",
       "      <td>1.00</td>\n",
       "      <td>0.88</td>\n",
       "      <td>0.89</td>\n",
       "      <td>0.88</td>\n",
       "      <td>0.89</td>\n",
       "    </tr>\n",
       "    <tr>\n",
       "      <th>RandomForestClassifier</th>\n",
       "      <td>1.00</td>\n",
       "      <td>0.87</td>\n",
       "      <td>0.88</td>\n",
       "      <td>0.86</td>\n",
       "      <td>0.87</td>\n",
       "    </tr>\n",
       "    <tr>\n",
       "      <th>MLPClassifier</th>\n",
       "      <td>1.00</td>\n",
       "      <td>0.86</td>\n",
       "      <td>0.88</td>\n",
       "      <td>0.85</td>\n",
       "      <td>0.87</td>\n",
       "    </tr>\n",
       "    <tr>\n",
       "      <th>GaussianProcessClassifier</th>\n",
       "      <td>1.00</td>\n",
       "      <td>0.85</td>\n",
       "      <td>0.89</td>\n",
       "      <td>0.82</td>\n",
       "      <td>0.85</td>\n",
       "    </tr>\n",
       "    <tr>\n",
       "      <th>LinearSVC</th>\n",
       "      <td>0.84</td>\n",
       "      <td>0.82</td>\n",
       "      <td>0.82</td>\n",
       "      <td>0.82</td>\n",
       "      <td>0.82</td>\n",
       "    </tr>\n",
       "    <tr>\n",
       "      <th>SGDClassifier</th>\n",
       "      <td>0.76</td>\n",
       "      <td>0.78</td>\n",
       "      <td>0.64</td>\n",
       "      <td>0.90</td>\n",
       "      <td>0.81</td>\n",
       "    </tr>\n",
       "    <tr>\n",
       "      <th>AdaBoostClassifier</th>\n",
       "      <td>0.88</td>\n",
       "      <td>0.75</td>\n",
       "      <td>0.77</td>\n",
       "      <td>0.74</td>\n",
       "      <td>0.75</td>\n",
       "    </tr>\n",
       "  </tbody>\n",
       "</table>\n",
       "</div>"
      ],
      "text/plain": [
       "                            Accuracy train  Accuracy valid  Precision  Recall  \\\n",
       "KNeighborsClassifier                  0.94            0.92       0.94    0.90   \n",
       "GradientBoostingClassifier            1.00            0.88       0.89    0.88   \n",
       "RandomForestClassifier                1.00            0.87       0.88    0.86   \n",
       "MLPClassifier                         1.00            0.86       0.88    0.85   \n",
       "GaussianProcessClassifier             1.00            0.85       0.89    0.82   \n",
       "LinearSVC                             0.84            0.82       0.82    0.82   \n",
       "SGDClassifier                         0.76            0.78       0.64    0.90   \n",
       "AdaBoostClassifier                    0.88            0.75       0.77    0.74   \n",
       "\n",
       "                            ROC-AUC  \n",
       "KNeighborsClassifier           0.92  \n",
       "GradientBoostingClassifier     0.89  \n",
       "RandomForestClassifier         0.87  \n",
       "MLPClassifier                  0.87  \n",
       "GaussianProcessClassifier      0.85  \n",
       "LinearSVC                      0.82  \n",
       "SGDClassifier                  0.81  \n",
       "AdaBoostClassifier             0.75  "
      ]
     },
     "execution_count": 28,
     "metadata": {},
     "output_type": "execute_result"
    }
   ],
   "source": [
    "res_combine.sort_values(by='Accuracy valid', ascending=False)"
   ]
  },
  {
   "cell_type": "markdown",
   "id": "2bc7baf4",
   "metadata": {},
   "source": [
    "- KNeighborsClassifier shows the best score on validation data"
   ]
  },
  {
   "cell_type": "markdown",
   "id": "9f555b7f",
   "metadata": {
    "heading_collapsed": true
   },
   "source": [
    "##### KNeighborsClassifier"
   ]
  },
  {
   "cell_type": "code",
   "execution_count": 29,
   "id": "411e0777",
   "metadata": {
    "hidden": true
   },
   "outputs": [],
   "source": [
    "knn_clf = KNeighborsClassifier()\n",
    "knn_clf, _ = train_model(X_train, X_val, y_train, y_val, knn_clf, show=False)   "
   ]
  },
  {
   "cell_type": "markdown",
   "id": "d5099567",
   "metadata": {
    "heading_collapsed": true
   },
   "source": [
    "##### RandomForestClassifier"
   ]
  },
  {
   "cell_type": "code",
   "execution_count": 30,
   "id": "ca876a9f",
   "metadata": {
    "hidden": true
   },
   "outputs": [],
   "source": [
    "rf_clf = RandomForestClassifier()\n",
    "rf_clf, _ = train_model(X_train, X_val, y_train, y_val, rf_clf, show=False)"
   ]
  },
  {
   "cell_type": "markdown",
   "id": "fe48f398",
   "metadata": {},
   "source": [
    "### Feature Importance"
   ]
  },
  {
   "cell_type": "code",
   "execution_count": 31,
   "id": "570589e4",
   "metadata": {
    "scrolled": false
   },
   "outputs": [
    {
     "data": {
      "image/png": "[encoded data removed]",
      "text/plain": [
       "<Figure size 720x1440 with 1 Axes>"
      ]
     },
     "metadata": {
      "needs_background": "light"
     },
     "output_type": "display_data"
    }
   ],
   "source": [
    "plot_feature_importance(rf_clf.feature_importances_, X.columns, 'RADNOM FOREST')"
   ]
  },
  {
   "cell_type": "markdown",
   "id": "e3337b43",
   "metadata": {},
   "source": [
    "- As we noticed during correlation analysis - features 12 and 14 have the most impact on predictions"
   ]
  },
  {
   "cell_type": "markdown",
   "id": "867b40d4",
   "metadata": {},
   "source": [
    "### Scale features"
   ]
  },
  {
   "cell_type": "code",
   "execution_count": 32,
   "id": "ca1caedf",
   "metadata": {},
   "outputs": [],
   "source": [
    "scaler = StandardScaler()"
   ]
  },
  {
   "cell_type": "code",
   "execution_count": 33,
   "id": "2c02be59",
   "metadata": {},
   "outputs": [
    {
     "data": {
      "text/plain": [
       "StandardScaler()"
      ]
     },
     "execution_count": 33,
     "metadata": {},
     "output_type": "execute_result"
    }
   ],
   "source": [
    "scaler.fit(X)"
   ]
  },
  {
   "cell_type": "code",
   "execution_count": 34,
   "id": "25341d72",
   "metadata": {},
   "outputs": [],
   "source": [
    "X_scale = scaler.transform(X)"
   ]
  },
  {
   "cell_type": "code",
   "execution_count": 35,
   "id": "afc5e6a9",
   "metadata": {},
   "outputs": [],
   "source": [
    "X_scale_train, X_scale_val, y_scale_train, y_scale_val = train_test_split(X_scale, y, \n",
    "                                                          test_size=0.2, \n",
    "                                                          shuffle=True,\n",
    "                                                          random_state=RANDOM_STATE)"
   ]
  },
  {
   "cell_type": "markdown",
   "id": "060544c7",
   "metadata": {},
   "source": [
    "#### Check results with simple classifiers"
   ]
  },
  {
   "cell_type": "code",
   "execution_count": 36,
   "id": "75c77374",
   "metadata": {},
   "outputs": [],
   "source": [
    "res_combine = pd.DataFrame()\n",
    "\n",
    "for clf in classifiers:\n",
    "    _, res = train_model(X_scale_train, X_scale_val, \n",
    "                         y_scale_train, y_scale_val, clf, show=False) \n",
    "    \n",
    "    res_combine = pd.concat([res_combine, res])"
   ]
  },
  {
   "cell_type": "code",
   "execution_count": 37,
   "id": "f3e3c922",
   "metadata": {},
   "outputs": [
    {
     "data": {
      "text/html": [
       "<div>\n",
       "<style scoped>\n",
       "    .dataframe tbody tr th:only-of-type {\n",
       "        vertical-align: middle;\n",
       "    }\n",
       "\n",
       "    .dataframe tbody tr th {\n",
       "        vertical-align: top;\n",
       "    }\n",
       "\n",
       "    .dataframe thead th {\n",
       "        text-align: right;\n",
       "    }\n",
       "</style>\n",
       "<table border=\"1\" class=\"dataframe\">\n",
       "  <thead>\n",
       "    <tr style=\"text-align: right;\">\n",
       "      <th></th>\n",
       "      <th>Accuracy train</th>\n",
       "      <th>Accuracy valid</th>\n",
       "      <th>Precision</th>\n",
       "      <th>Recall</th>\n",
       "      <th>ROC-AUC</th>\n",
       "    </tr>\n",
       "  </thead>\n",
       "  <tbody>\n",
       "    <tr>\n",
       "      <th>RandomForestClassifier</th>\n",
       "      <td>1.00</td>\n",
       "      <td>0.90</td>\n",
       "      <td>0.90</td>\n",
       "      <td>0.89</td>\n",
       "      <td>0.90</td>\n",
       "    </tr>\n",
       "    <tr>\n",
       "      <th>GradientBoostingClassifier</th>\n",
       "      <td>1.00</td>\n",
       "      <td>0.89</td>\n",
       "      <td>0.89</td>\n",
       "      <td>0.89</td>\n",
       "      <td>0.89</td>\n",
       "    </tr>\n",
       "    <tr>\n",
       "      <th>MLPClassifier</th>\n",
       "      <td>1.00</td>\n",
       "      <td>0.84</td>\n",
       "      <td>0.89</td>\n",
       "      <td>0.82</td>\n",
       "      <td>0.85</td>\n",
       "    </tr>\n",
       "    <tr>\n",
       "      <th>LinearSVC</th>\n",
       "      <td>0.84</td>\n",
       "      <td>0.82</td>\n",
       "      <td>0.82</td>\n",
       "      <td>0.82</td>\n",
       "      <td>0.82</td>\n",
       "    </tr>\n",
       "    <tr>\n",
       "      <th>SGDClassifier</th>\n",
       "      <td>0.78</td>\n",
       "      <td>0.80</td>\n",
       "      <td>0.84</td>\n",
       "      <td>0.77</td>\n",
       "      <td>0.80</td>\n",
       "    </tr>\n",
       "    <tr>\n",
       "      <th>KNeighborsClassifier</th>\n",
       "      <td>0.90</td>\n",
       "      <td>0.80</td>\n",
       "      <td>0.90</td>\n",
       "      <td>0.76</td>\n",
       "      <td>0.82</td>\n",
       "    </tr>\n",
       "    <tr>\n",
       "      <th>GaussianProcessClassifier</th>\n",
       "      <td>1.00</td>\n",
       "      <td>0.79</td>\n",
       "      <td>0.90</td>\n",
       "      <td>0.74</td>\n",
       "      <td>0.80</td>\n",
       "    </tr>\n",
       "    <tr>\n",
       "      <th>AdaBoostClassifier</th>\n",
       "      <td>0.88</td>\n",
       "      <td>0.75</td>\n",
       "      <td>0.77</td>\n",
       "      <td>0.74</td>\n",
       "      <td>0.75</td>\n",
       "    </tr>\n",
       "  </tbody>\n",
       "</table>\n",
       "</div>"
      ],
      "text/plain": [
       "                            Accuracy train  Accuracy valid  Precision  Recall  \\\n",
       "RandomForestClassifier                1.00            0.90       0.90    0.89   \n",
       "GradientBoostingClassifier            1.00            0.89       0.89    0.89   \n",
       "MLPClassifier                         1.00            0.84       0.89    0.82   \n",
       "LinearSVC                             0.84            0.82       0.82    0.82   \n",
       "SGDClassifier                         0.78            0.80       0.84    0.77   \n",
       "KNeighborsClassifier                  0.90            0.80       0.90    0.76   \n",
       "GaussianProcessClassifier             1.00            0.79       0.90    0.74   \n",
       "AdaBoostClassifier                    0.88            0.75       0.77    0.74   \n",
       "\n",
       "                            ROC-AUC  \n",
       "RandomForestClassifier         0.90  \n",
       "GradientBoostingClassifier     0.89  \n",
       "MLPClassifier                  0.85  \n",
       "LinearSVC                      0.82  \n",
       "SGDClassifier                  0.80  \n",
       "KNeighborsClassifier           0.82  \n",
       "GaussianProcessClassifier      0.80  \n",
       "AdaBoostClassifier             0.75  "
      ]
     },
     "execution_count": 37,
     "metadata": {},
     "output_type": "execute_result"
    }
   ],
   "source": [
    "res_combine.sort_values(by='Accuracy valid', ascending=False)"
   ]
  },
  {
   "cell_type": "markdown",
   "id": "772aa9a7",
   "metadata": {},
   "source": [
    "- Result is worse with scaling"
   ]
  },
  {
   "cell_type": "markdown",
   "id": "7c4d9857",
   "metadata": {},
   "source": [
    "### Tuning Hyper-parameters"
   ]
  },
  {
   "cell_type": "markdown",
   "id": "f9898d2e",
   "metadata": {},
   "source": [
    "- For tuning hyper-parameters we will use Grid Search with Stritified cross-validation strategy"
   ]
  },
  {
   "cell_type": "code",
   "execution_count": 38,
   "id": "946dbd73",
   "metadata": {},
   "outputs": [],
   "source": [
    "cv = StratifiedKFold(n_splits=3)"
   ]
  },
  {
   "cell_type": "markdown",
   "id": "e19444e7",
   "metadata": {},
   "source": [
    "#### KNeighborsClassifier "
   ]
  },
  {
   "cell_type": "code",
   "execution_count": 39,
   "id": "366e59c1",
   "metadata": {},
   "outputs": [],
   "source": [
    "estimator = KNeighborsClassifier()"
   ]
  },
  {
   "cell_type": "code",
   "execution_count": 40,
   "id": "7c48b474",
   "metadata": {},
   "outputs": [],
   "source": [
    "parameters = {'n_neighbors' : [i for i in range(3, 20, 1)], \n",
    "              'weights' : ['uniform', 'distance'],\n",
    "##               'p' : [1, 2],\n",
    "              'metric':['euclidean', \n",
    "                        'manhattan', \n",
    "                        'chebyshev', \n",
    "                        'minkowski', \n",
    "                        'wminkowski', \n",
    "                        'seuclidean', \n",
    "                        'mahalanobis']\n",
    "             }"
   ]
  },
  {
   "cell_type": "code",
   "execution_count": 41,
   "id": "aa1350a4",
   "metadata": {},
   "outputs": [],
   "source": [
    "knn_clf_grid = GridSearchCV(estimator, parameters, cv=cv, scoring='accuracy')"
   ]
  },
  {
   "cell_type": "code",
   "execution_count": 42,
   "id": "d1751785",
   "metadata": {},
   "outputs": [
    {
     "name": "stdout",
     "output_type": "stream",
     "text": [
      "CPU times: user 11.8 s, sys: 20.7 s, total: 32.5 s\n",
      "Wall time: 5.73 s\n"
     ]
    },
    {
     "data": {
      "text/plain": [
       "GridSearchCV(cv=StratifiedKFold(n_splits=3, random_state=None, shuffle=False),\n",
       "             estimator=KNeighborsClassifier(),\n",
       "             param_grid={'metric': ['euclidean', 'manhattan', 'chebyshev',\n",
       "                                    'minkowski', 'wminkowski', 'seuclidean',\n",
       "                                    'mahalanobis'],\n",
       "                         'n_neighbors': [3, 4, 5, 6, 7, 8, 9, 10, 11, 12, 13,\n",
       "                                         14, 15, 16, 17, 18, 19],\n",
       "                         'weights': ['uniform', 'distance']},\n",
       "             scoring='accuracy')"
      ]
     },
     "execution_count": 42,
     "metadata": {},
     "output_type": "execute_result"
    }
   ],
   "source": [
    "%%time\n",
    "knn_clf_grid.fit(X, y)"
   ]
  },
  {
   "cell_type": "code",
   "execution_count": 43,
   "id": "e5c2c295",
   "metadata": {
    "scrolled": true
   },
   "outputs": [
    {
     "data": {
      "text/html": [
       "<div>\n",
       "<style scoped>\n",
       "    .dataframe tbody tr th:only-of-type {\n",
       "        vertical-align: middle;\n",
       "    }\n",
       "\n",
       "    .dataframe tbody tr th {\n",
       "        vertical-align: top;\n",
       "    }\n",
       "\n",
       "    .dataframe thead th {\n",
       "        text-align: right;\n",
       "    }\n",
       "</style>\n",
       "<table border=\"1\" class=\"dataframe\">\n",
       "  <thead>\n",
       "    <tr style=\"text-align: right;\">\n",
       "      <th></th>\n",
       "      <th>params</th>\n",
       "      <th>mean_test_score</th>\n",
       "    </tr>\n",
       "  </thead>\n",
       "  <tbody>\n",
       "    <tr>\n",
       "      <th>113</th>\n",
       "      <td>{'metric': 'minkowski', 'n_neighbors': 8, 'wei...</td>\n",
       "      <td>0.902999</td>\n",
       "    </tr>\n",
       "    <tr>\n",
       "      <th>11</th>\n",
       "      <td>{'metric': 'euclidean', 'n_neighbors': 8, 'wei...</td>\n",
       "      <td>0.902999</td>\n",
       "    </tr>\n",
       "    <tr>\n",
       "      <th>109</th>\n",
       "      <td>{'metric': 'minkowski', 'n_neighbors': 6, 'wei...</td>\n",
       "      <td>0.899004</td>\n",
       "    </tr>\n",
       "    <tr>\n",
       "      <th>7</th>\n",
       "      <td>{'metric': 'euclidean', 'n_neighbors': 6, 'wei...</td>\n",
       "      <td>0.899004</td>\n",
       "    </tr>\n",
       "    <tr>\n",
       "      <th>13</th>\n",
       "      <td>{'metric': 'euclidean', 'n_neighbors': 9, 'wei...</td>\n",
       "      <td>0.897991</td>\n",
       "    </tr>\n",
       "  </tbody>\n",
       "</table>\n",
       "</div>"
      ],
      "text/plain": [
       "                                                params  mean_test_score\n",
       "113  {'metric': 'minkowski', 'n_neighbors': 8, 'wei...         0.902999\n",
       "11   {'metric': 'euclidean', 'n_neighbors': 8, 'wei...         0.902999\n",
       "109  {'metric': 'minkowski', 'n_neighbors': 6, 'wei...         0.899004\n",
       "7    {'metric': 'euclidean', 'n_neighbors': 6, 'wei...         0.899004\n",
       "13   {'metric': 'euclidean', 'n_neighbors': 9, 'wei...         0.897991"
      ]
     },
     "metadata": {},
     "output_type": "display_data"
    },
    {
     "name": "stdout",
     "output_type": "stream",
     "text": [
      "Best KNN parameters:\n",
      " {'metric': 'euclidean', 'n_neighbors': 8, 'weights': 'distance'}\n"
     ]
    }
   ],
   "source": [
    "display(pd.DataFrame(knn_clf_grid.cv_results_)[['params', 'mean_test_score']]\\\n",
    "                     .sort_values(by='mean_test_score', ascending=False)\\\n",
    "                     .head(5))\n",
    "\n",
    "print('Best KNN parameters:\\n', knn_clf_grid.best_params_)"
   ]
  },
  {
   "cell_type": "code",
   "execution_count": 44,
   "id": "837b405a",
   "metadata": {
    "scrolled": true
   },
   "outputs": [
    {
     "data": {
      "text/html": [
       "<div>\n",
       "<style scoped>\n",
       "    .dataframe tbody tr th:only-of-type {\n",
       "        vertical-align: middle;\n",
       "    }\n",
       "\n",
       "    .dataframe tbody tr th {\n",
       "        vertical-align: top;\n",
       "    }\n",
       "\n",
       "    .dataframe thead th {\n",
       "        text-align: right;\n",
       "    }\n",
       "</style>\n",
       "<table border=\"1\" class=\"dataframe\">\n",
       "  <thead>\n",
       "    <tr style=\"text-align: right;\">\n",
       "      <th></th>\n",
       "      <th>Accuracy train</th>\n",
       "      <th>Accuracy valid</th>\n",
       "      <th>Precision</th>\n",
       "      <th>Recall</th>\n",
       "      <th>ROC-AUC</th>\n",
       "    </tr>\n",
       "  </thead>\n",
       "  <tbody>\n",
       "    <tr>\n",
       "      <th>KNeighborsClassifier</th>\n",
       "      <td>1.0</td>\n",
       "      <td>0.92</td>\n",
       "      <td>0.95</td>\n",
       "      <td>0.9</td>\n",
       "      <td>0.92</td>\n",
       "    </tr>\n",
       "  </tbody>\n",
       "</table>\n",
       "</div>"
      ],
      "text/plain": [
       "                      Accuracy train  Accuracy valid  Precision  Recall  \\\n",
       "KNeighborsClassifier             1.0            0.92       0.95     0.9   \n",
       "\n",
       "                      ROC-AUC  \n",
       "KNeighborsClassifier     0.92  "
      ]
     },
     "metadata": {},
     "output_type": "display_data"
    }
   ],
   "source": [
    "knn_clf = KNeighborsClassifier(**knn_clf_grid.best_params_)\n",
    "knn_clf, _ = train_model(X_train, X_val, y_train, y_val, knn_clf, show=True)   "
   ]
  },
  {
   "cell_type": "markdown",
   "id": "91c3e280",
   "metadata": {},
   "source": [
    "- Result is not good enough with KNN estimator"
   ]
  },
  {
   "cell_type": "markdown",
   "id": "704b2bfd",
   "metadata": {},
   "source": [
    "#### MLPClassifier"
   ]
  },
  {
   "cell_type": "code",
   "execution_count": 45,
   "id": "feb53a44",
   "metadata": {},
   "outputs": [],
   "source": [
    "estimator = MLPClassifier()"
   ]
  },
  {
   "cell_type": "code",
   "execution_count": 46,
   "id": "85c87822",
   "metadata": {},
   "outputs": [],
   "source": [
    "parameters = {'hidden_layer_sizes' : [i for i in range(10, 200, 10)], \n",
    "              }"
   ]
  },
  {
   "cell_type": "code",
   "execution_count": 47,
   "id": "8e6e6b44",
   "metadata": {},
   "outputs": [],
   "source": [
    "mlp_clf_grid = GridSearchCV(estimator, parameters, cv=cv, scoring='accuracy')"
   ]
  },
  {
   "cell_type": "code",
   "execution_count": 48,
   "id": "94bbe972",
   "metadata": {},
   "outputs": [
    {
     "name": "stdout",
     "output_type": "stream",
     "text": [
      "CPU times: user 2min 16s, sys: 4min 46s, total: 7min 3s\n",
      "Wall time: 38 s\n"
     ]
    },
    {
     "data": {
      "text/plain": [
       "GridSearchCV(cv=StratifiedKFold(n_splits=3, random_state=None, shuffle=False),\n",
       "             estimator=MLPClassifier(),\n",
       "             param_grid={'hidden_layer_sizes': [10, 20, 30, 40, 50, 60, 70, 80,\n",
       "                                                90, 100, 110, 120, 130, 140,\n",
       "                                                150, 160, 170, 180, 190]},\n",
       "             scoring='accuracy')"
      ]
     },
     "execution_count": 48,
     "metadata": {},
     "output_type": "execute_result"
    }
   ],
   "source": [
    "%%time\n",
    "mlp_clf_grid.fit(X, y)"
   ]
  },
  {
   "cell_type": "code",
   "execution_count": 49,
   "id": "b63933a3",
   "metadata": {},
   "outputs": [
    {
     "data": {
      "text/html": [
       "<div>\n",
       "<style scoped>\n",
       "    .dataframe tbody tr th:only-of-type {\n",
       "        vertical-align: middle;\n",
       "    }\n",
       "\n",
       "    .dataframe tbody tr th {\n",
       "        vertical-align: top;\n",
       "    }\n",
       "\n",
       "    .dataframe thead th {\n",
       "        text-align: right;\n",
       "    }\n",
       "</style>\n",
       "<table border=\"1\" class=\"dataframe\">\n",
       "  <thead>\n",
       "    <tr style=\"text-align: right;\">\n",
       "      <th></th>\n",
       "      <th>params</th>\n",
       "      <th>mean_test_score</th>\n",
       "    </tr>\n",
       "  </thead>\n",
       "  <tbody>\n",
       "    <tr>\n",
       "      <th>2</th>\n",
       "      <td>{'hidden_layer_sizes': 30}</td>\n",
       "      <td>0.894002</td>\n",
       "    </tr>\n",
       "    <tr>\n",
       "      <th>14</th>\n",
       "      <td>{'hidden_layer_sizes': 150}</td>\n",
       "      <td>0.893013</td>\n",
       "    </tr>\n",
       "    <tr>\n",
       "      <th>17</th>\n",
       "      <td>{'hidden_layer_sizes': 180}</td>\n",
       "      <td>0.892000</td>\n",
       "    </tr>\n",
       "    <tr>\n",
       "      <th>11</th>\n",
       "      <td>{'hidden_layer_sizes': 120}</td>\n",
       "      <td>0.887013</td>\n",
       "    </tr>\n",
       "    <tr>\n",
       "      <th>18</th>\n",
       "      <td>{'hidden_layer_sizes': 190}</td>\n",
       "      <td>0.887013</td>\n",
       "    </tr>\n",
       "  </tbody>\n",
       "</table>\n",
       "</div>"
      ],
      "text/plain": [
       "                         params  mean_test_score\n",
       "2    {'hidden_layer_sizes': 30}         0.894002\n",
       "14  {'hidden_layer_sizes': 150}         0.893013\n",
       "17  {'hidden_layer_sizes': 180}         0.892000\n",
       "11  {'hidden_layer_sizes': 120}         0.887013\n",
       "18  {'hidden_layer_sizes': 190}         0.887013"
      ]
     },
     "metadata": {},
     "output_type": "display_data"
    },
    {
     "name": "stdout",
     "output_type": "stream",
     "text": [
      "Best KNN parameters:\n",
      " {'hidden_layer_sizes': 30}\n"
     ]
    }
   ],
   "source": [
    "display(pd.DataFrame(mlp_clf_grid.cv_results_)[['params', 'mean_test_score']]\\\n",
    "                     .sort_values(by='mean_test_score', ascending=False)\\\n",
    "                     .head(5))\n",
    "\n",
    "print('Best KNN parameters:\\n', mlp_clf_grid.best_params_)"
   ]
  },
  {
   "cell_type": "code",
   "execution_count": 50,
   "id": "ce35749d",
   "metadata": {
    "scrolled": true
   },
   "outputs": [
    {
     "data": {
      "text/html": [
       "<div>\n",
       "<style scoped>\n",
       "    .dataframe tbody tr th:only-of-type {\n",
       "        vertical-align: middle;\n",
       "    }\n",
       "\n",
       "    .dataframe tbody tr th {\n",
       "        vertical-align: top;\n",
       "    }\n",
       "\n",
       "    .dataframe thead th {\n",
       "        text-align: right;\n",
       "    }\n",
       "</style>\n",
       "<table border=\"1\" class=\"dataframe\">\n",
       "  <thead>\n",
       "    <tr style=\"text-align: right;\">\n",
       "      <th></th>\n",
       "      <th>Accuracy train</th>\n",
       "      <th>Accuracy valid</th>\n",
       "      <th>Precision</th>\n",
       "      <th>Recall</th>\n",
       "      <th>ROC-AUC</th>\n",
       "    </tr>\n",
       "  </thead>\n",
       "  <tbody>\n",
       "    <tr>\n",
       "      <th>MLPClassifier</th>\n",
       "      <td>1.0</td>\n",
       "      <td>0.89</td>\n",
       "      <td>0.89</td>\n",
       "      <td>0.89</td>\n",
       "      <td>0.89</td>\n",
       "    </tr>\n",
       "  </tbody>\n",
       "</table>\n",
       "</div>"
      ],
      "text/plain": [
       "               Accuracy train  Accuracy valid  Precision  Recall  ROC-AUC\n",
       "MLPClassifier             1.0            0.89       0.89    0.89     0.89"
      ]
     },
     "metadata": {},
     "output_type": "display_data"
    }
   ],
   "source": [
    "mlp_clf = MLPClassifier(**mlp_clf_grid.best_params_)\n",
    "mlp_clf, _ = train_model(X_train, X_val, y_train, y_val, mlp_clf, show=True)   "
   ]
  },
  {
   "cell_type": "markdown",
   "id": "e2a3dcc1",
   "metadata": {},
   "source": [
    "#### Random Forest Classifier"
   ]
  },
  {
   "cell_type": "code",
   "execution_count": 32,
   "id": "e1862594",
   "metadata": {},
   "outputs": [],
   "source": [
    "estimator = RandomForestClassifier()"
   ]
  },
  {
   "cell_type": "code",
   "execution_count": 33,
   "id": "081a2178",
   "metadata": {},
   "outputs": [],
   "source": [
    "parameters = {'max_depth' : [None, 5, 10, 20], \n",
    "              'n_estimators' : [100, 200, 300, 400, 500]\n",
    "             }"
   ]
  },
  {
   "cell_type": "code",
   "execution_count": 34,
   "id": "6eb85dd5",
   "metadata": {},
   "outputs": [],
   "source": [
    "rf_clf_grid = GridSearchCV(estimator, parameters, cv=cv, scoring='accuracy')"
   ]
  },
  {
   "cell_type": "code",
   "execution_count": 35,
   "id": "9f46b6da",
   "metadata": {},
   "outputs": [
    {
     "name": "stdout",
     "output_type": "stream",
     "text": [
      "CPU times: user 59.6 s, sys: 106 ms, total: 59.7 s\n",
      "Wall time: 59.8 s\n"
     ]
    },
    {
     "data": {
      "text/plain": [
       "GridSearchCV(cv=StratifiedKFold(n_splits=4, random_state=None, shuffle=False),\n",
       "             estimator=RandomForestClassifier(),\n",
       "             param_grid={'max_depth': [None, 5, 10, 20],\n",
       "                         'n_estimators': [100, 200, 300, 400, 500]},\n",
       "             scoring='accuracy')"
      ]
     },
     "execution_count": 35,
     "metadata": {},
     "output_type": "execute_result"
    }
   ],
   "source": [
    "%%time\n",
    "rf_clf_grid.fit(X, y)"
   ]
  },
  {
   "cell_type": "code",
   "execution_count": 36,
   "id": "51aeaac7",
   "metadata": {},
   "outputs": [
    {
     "data": {
      "text/html": [
       "<div>\n",
       "<style scoped>\n",
       "    .dataframe tbody tr th:only-of-type {\n",
       "        vertical-align: middle;\n",
       "    }\n",
       "\n",
       "    .dataframe tbody tr th {\n",
       "        vertical-align: top;\n",
       "    }\n",
       "\n",
       "    .dataframe thead th {\n",
       "        text-align: right;\n",
       "    }\n",
       "</style>\n",
       "<table border=\"1\" class=\"dataframe\">\n",
       "  <thead>\n",
       "    <tr style=\"text-align: right;\">\n",
       "      <th></th>\n",
       "      <th>params</th>\n",
       "      <th>mean_test_score</th>\n",
       "    </tr>\n",
       "  </thead>\n",
       "  <tbody>\n",
       "    <tr>\n",
       "      <th>19</th>\n",
       "      <td>{'max_depth': 20, 'n_estimators': 500}</td>\n",
       "      <td>0.874</td>\n",
       "    </tr>\n",
       "    <tr>\n",
       "      <th>11</th>\n",
       "      <td>{'max_depth': 10, 'n_estimators': 200}</td>\n",
       "      <td>0.870</td>\n",
       "    </tr>\n",
       "    <tr>\n",
       "      <th>2</th>\n",
       "      <td>{'max_depth': None, 'n_estimators': 300}</td>\n",
       "      <td>0.869</td>\n",
       "    </tr>\n",
       "    <tr>\n",
       "      <th>1</th>\n",
       "      <td>{'max_depth': None, 'n_estimators': 200}</td>\n",
       "      <td>0.868</td>\n",
       "    </tr>\n",
       "    <tr>\n",
       "      <th>0</th>\n",
       "      <td>{'max_depth': None, 'n_estimators': 100}</td>\n",
       "      <td>0.868</td>\n",
       "    </tr>\n",
       "  </tbody>\n",
       "</table>\n",
       "</div>"
      ],
      "text/plain": [
       "                                      params  mean_test_score\n",
       "19    {'max_depth': 20, 'n_estimators': 500}            0.874\n",
       "11    {'max_depth': 10, 'n_estimators': 200}            0.870\n",
       "2   {'max_depth': None, 'n_estimators': 300}            0.869\n",
       "1   {'max_depth': None, 'n_estimators': 200}            0.868\n",
       "0   {'max_depth': None, 'n_estimators': 100}            0.868"
      ]
     },
     "metadata": {},
     "output_type": "display_data"
    },
    {
     "name": "stdout",
     "output_type": "stream",
     "text": [
      "Best KNN parameters:\n",
      " {'max_depth': 20, 'n_estimators': 500}\n"
     ]
    }
   ],
   "source": [
    "display(pd.DataFrame(rf_clf_grid.cv_results_)[['params', 'mean_test_score']]\\\n",
    "                     .sort_values(by='mean_test_score', ascending=False)\\\n",
    "                     .head(5))\n",
    "\n",
    "print('Best KNN parameters:\\n', rf_clf_grid.best_params_)"
   ]
  },
  {
   "cell_type": "code",
   "execution_count": 38,
   "id": "905fa90e",
   "metadata": {
    "scrolled": true
   },
   "outputs": [
    {
     "data": {
      "text/html": [
       "<div>\n",
       "<style scoped>\n",
       "    .dataframe tbody tr th:only-of-type {\n",
       "        vertical-align: middle;\n",
       "    }\n",
       "\n",
       "    .dataframe tbody tr th {\n",
       "        vertical-align: top;\n",
       "    }\n",
       "\n",
       "    .dataframe thead th {\n",
       "        text-align: right;\n",
       "    }\n",
       "</style>\n",
       "<table border=\"1\" class=\"dataframe\">\n",
       "  <thead>\n",
       "    <tr style=\"text-align: right;\">\n",
       "      <th></th>\n",
       "      <th>Accuracy train</th>\n",
       "      <th>Accuracy valid</th>\n",
       "    </tr>\n",
       "  </thead>\n",
       "  <tbody>\n",
       "    <tr>\n",
       "      <th>RandomForestClassifier</th>\n",
       "      <td>1.0</td>\n",
       "      <td>0.9</td>\n",
       "    </tr>\n",
       "  </tbody>\n",
       "</table>\n",
       "</div>"
      ],
      "text/plain": [
       "                        Accuracy train  Accuracy valid\n",
       "RandomForestClassifier             1.0             0.9"
      ]
     },
     "metadata": {},
     "output_type": "display_data"
    }
   ],
   "source": [
    "rf_clf = RandomForestClassifier(**rf_clf_grid.best_params_)\n",
    "rf_clf, _ = train_model(X_train, X_val, y_train, y_val, rf_clf, show=True)"
   ]
  },
  {
   "cell_type": "markdown",
   "id": "8c4214c2",
   "metadata": {},
   "source": [
    "### Gaussian Mixture"
   ]
  },
  {
   "cell_type": "markdown",
   "id": "72e1d2f1",
   "metadata": {},
   "source": [
    "- Too reduce dimentions we can try to use Gaussian Mixture"
   ]
  },
  {
   "cell_type": "markdown",
   "id": "a113fea7",
   "metadata": {},
   "source": [
    "- Set parameters to test"
   ]
  },
  {
   "cell_type": "code",
   "execution_count": 169,
   "id": "8618975b",
   "metadata": {},
   "outputs": [],
   "source": [
    "estimator = GaussianMixture(random_state=RANDOM_STATE)"
   ]
  },
  {
   "cell_type": "code",
   "execution_count": 173,
   "id": "ebefb6b2",
   "metadata": {},
   "outputs": [],
   "source": [
    "parameters = {\n",
    "    'n_components': [i for i in range(1, 10)],\n",
    "    'covariance_type': ['spherical', 'tied', 'diag', 'full']\n",
    "}"
   ]
  },
  {
   "cell_type": "code",
   "execution_count": 174,
   "id": "e22bca63",
   "metadata": {},
   "outputs": [],
   "source": [
    "gm_grid = GridSearchCV(estimator, parameters, cv=5)"
   ]
  },
  {
   "cell_type": "code",
   "execution_count": 175,
   "id": "0168ded5",
   "metadata": {
    "scrolled": false
   },
   "outputs": [
    {
     "data": {
      "text/plain": [
       "GridSearchCV(cv=5, estimator=GaussianMixture(random_state=12345),\n",
       "             param_grid={'covariance_type': ['spherical', 'tied', 'diag',\n",
       "                                             'full'],\n",
       "                         'n_components': [1, 2, 3, 4, 5, 6, 7, 8, 9]})"
      ]
     },
     "execution_count": 175,
     "metadata": {},
     "output_type": "execute_result"
    }
   ],
   "source": [
    "gm_grid.fit(pd.concat([train, test]))"
   ]
  },
  {
   "cell_type": "code",
   "execution_count": 177,
   "id": "3e5976a8",
   "metadata": {},
   "outputs": [],
   "source": [
    "gm = gm_grid.best_estimator_"
   ]
  },
  {
   "cell_type": "markdown",
   "id": "6e063d00",
   "metadata": {},
   "source": [
    "### Tuning Hyper-parameters using Gaussian Mixture"
   ]
  },
  {
   "cell_type": "markdown",
   "id": "cd8ee792",
   "metadata": {},
   "source": [
    "- Prepare data with Gaussian Mixture"
   ]
  },
  {
   "cell_type": "code",
   "execution_count": 179,
   "id": "7a86821f",
   "metadata": {},
   "outputs": [],
   "source": [
    "X_gm = gm.predict_proba(X)"
   ]
  },
  {
   "cell_type": "markdown",
   "id": "1c396a71",
   "metadata": {},
   "source": [
    "- Grid search best parameters"
   ]
  },
  {
   "cell_type": "code",
   "execution_count": 184,
   "id": "75ea10dd",
   "metadata": {},
   "outputs": [],
   "source": [
    "estimator = KNeighborsClassifier()"
   ]
  },
  {
   "cell_type": "code",
   "execution_count": 185,
   "id": "16081fe4",
   "metadata": {},
   "outputs": [],
   "source": [
    "parameters = {'n_neighbors' : [i for i in range(3, 20, 1)], \n",
    "              'weights' : ['uniform', 'distance'],\n",
    "              'metric':['euclidean', \n",
    "                        'manhattan', \n",
    "                        'chebyshev', \n",
    "                        'minkowski', \n",
    "                        'wminkowski', \n",
    "                        'seuclidean', \n",
    "                        'mahalanobis']\n",
    "             }"
   ]
  },
  {
   "cell_type": "code",
   "execution_count": 186,
   "id": "c612cf22",
   "metadata": {},
   "outputs": [],
   "source": [
    "knn_clf_grid = GridSearchCV(estimator, parameters, cv=cv, scoring='accuracy')"
   ]
  },
  {
   "cell_type": "code",
   "execution_count": 187,
   "id": "2b7877f3",
   "metadata": {},
   "outputs": [
    {
     "name": "stdout",
     "output_type": "stream",
     "text": [
      "CPU times: user 4.31 s, sys: 6.09 ms, total: 4.32 s\n",
      "Wall time: 4.32 s\n"
     ]
    },
    {
     "data": {
      "text/plain": [
       "GridSearchCV(cv=StratifiedKFold(n_splits=3, random_state=None, shuffle=False),\n",
       "             estimator=KNeighborsClassifier(),\n",
       "             param_grid={'metric': ['euclidean', 'manhattan', 'chebyshev',\n",
       "                                    'minkowski', 'wminkowski', 'seuclidean',\n",
       "                                    'mahalanobis'],\n",
       "                         'n_neighbors': [3, 4, 5, 6, 7, 8, 9, 10, 11, 12, 13,\n",
       "                                         14, 15, 16, 17, 18, 19],\n",
       "                         'weights': ['uniform', 'distance']},\n",
       "             scoring='accuracy')"
      ]
     },
     "execution_count": 187,
     "metadata": {},
     "output_type": "execute_result"
    }
   ],
   "source": [
    "%%time\n",
    "knn_clf_grid.fit(X_gm, y)"
   ]
  },
  {
   "cell_type": "code",
   "execution_count": 188,
   "id": "5564a14f",
   "metadata": {
    "scrolled": true
   },
   "outputs": [
    {
     "data": {
      "text/html": [
       "<div>\n",
       "<style scoped>\n",
       "    .dataframe tbody tr th:only-of-type {\n",
       "        vertical-align: middle;\n",
       "    }\n",
       "\n",
       "    .dataframe tbody tr th {\n",
       "        vertical-align: top;\n",
       "    }\n",
       "\n",
       "    .dataframe thead th {\n",
       "        text-align: right;\n",
       "    }\n",
       "</style>\n",
       "<table border=\"1\" class=\"dataframe\">\n",
       "  <thead>\n",
       "    <tr style=\"text-align: right;\">\n",
       "      <th></th>\n",
       "      <th>params</th>\n",
       "      <th>mean_test_score</th>\n",
       "    </tr>\n",
       "  </thead>\n",
       "  <tbody>\n",
       "    <tr>\n",
       "      <th>0</th>\n",
       "      <td>{'metric': 'euclidean', 'n_neighbors': 3, 'wei...</td>\n",
       "      <td>0.995996</td>\n",
       "    </tr>\n",
       "    <tr>\n",
       "      <th>84</th>\n",
       "      <td>{'metric': 'chebyshev', 'n_neighbors': 11, 'we...</td>\n",
       "      <td>0.995996</td>\n",
       "    </tr>\n",
       "    <tr>\n",
       "      <th>96</th>\n",
       "      <td>{'metric': 'chebyshev', 'n_neighbors': 17, 'we...</td>\n",
       "      <td>0.995996</td>\n",
       "    </tr>\n",
       "    <tr>\n",
       "      <th>95</th>\n",
       "      <td>{'metric': 'chebyshev', 'n_neighbors': 16, 'we...</td>\n",
       "      <td>0.995996</td>\n",
       "    </tr>\n",
       "    <tr>\n",
       "      <th>94</th>\n",
       "      <td>{'metric': 'chebyshev', 'n_neighbors': 16, 'we...</td>\n",
       "      <td>0.995996</td>\n",
       "    </tr>\n",
       "  </tbody>\n",
       "</table>\n",
       "</div>"
      ],
      "text/plain": [
       "                                               params  mean_test_score\n",
       "0   {'metric': 'euclidean', 'n_neighbors': 3, 'wei...         0.995996\n",
       "84  {'metric': 'chebyshev', 'n_neighbors': 11, 'we...         0.995996\n",
       "96  {'metric': 'chebyshev', 'n_neighbors': 17, 'we...         0.995996\n",
       "95  {'metric': 'chebyshev', 'n_neighbors': 16, 'we...         0.995996\n",
       "94  {'metric': 'chebyshev', 'n_neighbors': 16, 'we...         0.995996"
      ]
     },
     "metadata": {},
     "output_type": "display_data"
    },
    {
     "name": "stdout",
     "output_type": "stream",
     "text": [
      "Best KNN parameters:\n",
      " {'metric': 'euclidean', 'n_neighbors': 3, 'weights': 'uniform'}\n"
     ]
    }
   ],
   "source": [
    "display(pd.DataFrame(knn_clf_grid.cv_results_)[['params', 'mean_test_score']]\\\n",
    "                     .sort_values(by='mean_test_score', ascending=False)\\\n",
    "                     .head(5))\n",
    "\n",
    "print('Best KNN parameters:\\n', knn_clf_grid.best_params_)"
   ]
  },
  {
   "cell_type": "code",
   "execution_count": 192,
   "id": "c0a5c99c",
   "metadata": {
    "scrolled": true
   },
   "outputs": [],
   "source": [
    "knn_clf = knn_clf_grid.best_estimator_"
   ]
  },
  {
   "cell_type": "markdown",
   "id": "1d0c77bb",
   "metadata": {},
   "source": [
    "- Result is not good enough with KNN estimator"
   ]
  },
  {
   "cell_type": "markdown",
   "id": "fd3ec9a6",
   "metadata": {},
   "source": [
    "## Submit Test predictions"
   ]
  },
  {
   "cell_type": "code",
   "execution_count": 193,
   "id": "96458246",
   "metadata": {},
   "outputs": [],
   "source": [
    "test_gm = gm.predict_proba(test)\n",
    "\n",
    "test_submission(knn_clf, test_gm)"
   ]
  },
  {
   "cell_type": "code",
   "execution_count": null,
   "id": "9ef5baaa",
   "metadata": {},
   "outputs": [],
   "source": []
  }
 ],
 "metadata": {
  "kernelspec": {
   "display_name": "Python 3 (ipykernel)",
   "language": "python",
   "name": "python3"
  },
  "language_info": {
   "codemirror_mode": {
    "name": "ipython",
    "version": 3
   },
   "file_extension": ".py",
   "mimetype": "text/x-python",
   "name": "python",
   "nbconvert_exporter": "python",
   "pygments_lexer": "ipython3",
   "version": "3.8.10"
  },
  "toc": {
   "base_numbering": 1,
   "nav_menu": {
    "height": "338px",
    "width": "246px"
   },
   "number_sections": true,
   "sideBar": true,
   "skip_h1_title": true,
   "title_cell": "Table of Contents",
   "title_sidebar": "Contents",
   "toc_cell": true,
   "toc_position": {
    "height": "761px",
    "left": "206px",
    "top": "140.562px",
    "width": "426.797px"
   },
   "toc_section_display": true,
   "toc_window_display": true
  }
 },
 "nbformat": 4,
 "nbformat_minor": 5
}
