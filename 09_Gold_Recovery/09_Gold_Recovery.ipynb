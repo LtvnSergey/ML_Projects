{
 "cells": [
  {
   "cell_type": "markdown",
   "metadata": {},
   "source": [
    "<h1><center>Проект Восстановление золота</center></h1>\n"
   ]
  },
  {
   "cell_type": "markdown",
   "metadata": {},
   "source": [
    "# Описание проекта\n",
    "\n",
    "Подготовьте прототип модели машинного обучения для «Цифры». Компания разрабатывает решения для эффективной работы промышленных предприятий.\n",
    "\n",
    "Модель должна предсказать коэффициент восстановления золота из золотосодержащей руды. В вашем распоряжении данные с параметрами добычи и очистки. \n",
    "\n",
    "Модель поможет оптимизировать производство, чтобы не запускать предприятие с убыточными характеристиками.\n",
    "\n",
    "Вам нужно:\n",
    "\n",
    "1. Подготовить данные;\n",
    "2. Провести исследовательский анализ данных;\n",
    "3. Построить и обучить модель.\n"
   ]
  },
  {
   "cell_type": "markdown",
   "metadata": {},
   "source": [
    "# Описание данных\n"
   ]
  },
  {
   "cell_type": "markdown",
   "metadata": {},
   "source": [
    "Данные находятся в трёх файлах:\n",
    "- gold_recovery_train.csv — обучающая выборка;\n",
    "- gold_recovery_test.csv — тестовая выборка;\n",
    "- gold_recovery_full.csv — исходные данные.\n",
    "\n",
    "\n",
    "Данные индексируются датой и временем получения информации (признак date). Соседние по времени параметры часто похожи.\n",
    "Некоторые параметры недоступны, потому что замеряются и/или рассчитываются значительно позже. Из-за этого в тестовой выборке отсутствуют некоторые признаки, которые могут быть в обучающей. Также в тестовом наборе нет целевых признаков.\n",
    "Исходный датасет содержит обучающую и тестовую выборки со всеми признаками.\n",
    "\n",
    "\n",
    "В вашем распоряжении сырые данные: их просто выгрузили из хранилища. Прежде чем приступить к построению модели, проверьте по нашей инструкции их на корректность."
   ]
  },
  {
   "cell_type": "markdown",
   "metadata": {},
   "source": [
    "# 1. Подготовка данных"
   ]
  },
  {
   "cell_type": "markdown",
   "metadata": {},
   "source": [
    "- Импортируем библиотеки"
   ]
  },
  {
   "cell_type": "code",
   "execution_count": 1,
   "metadata": {},
   "outputs": [],
   "source": [
    "import pandas as pd\n",
    "import warnings\n",
    "import seaborn as sns\n",
    "import matplotlib.pyplot as plt\n",
    "import numpy as np\n",
    "\n",
    "from sklearn.metrics import mean_absolute_error\n",
    "from sklearn.preprocessing import MinMaxScaler\n",
    "from sklearn.model_selection import cross_validate, GridSearchCV, RandomizedSearchCV, StratifiedShuffleSplit, ParameterGrid\n",
    "from sklearn.metrics import make_scorer\n",
    "from sklearn.linear_model import SGDRegressor\n",
    "from sklearn.model_selection import ShuffleSplit\n",
    "from sklearn.dummy import DummyRegressor"
   ]
  },
  {
   "cell_type": "markdown",
   "metadata": {},
   "source": [
    "- Загрузим датасеты"
   ]
  },
  {
   "cell_type": "code",
   "execution_count": 2,
   "metadata": {},
   "outputs": [],
   "source": [
    "gold_recovery_train = pd.read_csv('/datasets/gold_recovery_train.csv')\n",
    "gold_recovery_test = pd.read_csv('/datasets/gold_recovery_test.csv')\n",
    "gold_recovery_full = pd.read_csv('/datasets/gold_recovery_full.csv')"
   ]
  },
  {
   "cell_type": "markdown",
   "metadata": {},
   "source": [
    "- Общая информация: Обучающая выборка"
   ]
  },
  {
   "cell_type": "code",
   "execution_count": 3,
   "metadata": {},
   "outputs": [
    {
     "name": "stdout",
     "output_type": "stream",
     "text": [
      "<class 'pandas.core.frame.DataFrame'>\n",
      "RangeIndex: 16860 entries, 0 to 16859\n",
      "Data columns (total 87 columns):\n",
      "date                                                  16860 non-null object\n",
      "final.output.concentrate_ag                           16788 non-null float64\n",
      "final.output.concentrate_pb                           16788 non-null float64\n",
      "final.output.concentrate_sol                          16490 non-null float64\n",
      "final.output.concentrate_au                           16789 non-null float64\n",
      "final.output.recovery                                 15339 non-null float64\n",
      "final.output.tail_ag                                  16794 non-null float64\n",
      "final.output.tail_pb                                  16677 non-null float64\n",
      "final.output.tail_sol                                 16715 non-null float64\n",
      "final.output.tail_au                                  16794 non-null float64\n",
      "primary_cleaner.input.sulfate                         15553 non-null float64\n",
      "primary_cleaner.input.depressant                      15598 non-null float64\n",
      "primary_cleaner.input.feed_size                       16860 non-null float64\n",
      "primary_cleaner.input.xanthate                        15875 non-null float64\n",
      "primary_cleaner.output.concentrate_ag                 16778 non-null float64\n",
      "primary_cleaner.output.concentrate_pb                 16502 non-null float64\n",
      "primary_cleaner.output.concentrate_sol                16224 non-null float64\n",
      "primary_cleaner.output.concentrate_au                 16778 non-null float64\n",
      "primary_cleaner.output.tail_ag                        16777 non-null float64\n",
      "primary_cleaner.output.tail_pb                        16761 non-null float64\n",
      "primary_cleaner.output.tail_sol                       16579 non-null float64\n",
      "primary_cleaner.output.tail_au                        16777 non-null float64\n",
      "primary_cleaner.state.floatbank8_a_air                16820 non-null float64\n",
      "primary_cleaner.state.floatbank8_a_level              16827 non-null float64\n",
      "primary_cleaner.state.floatbank8_b_air                16820 non-null float64\n",
      "primary_cleaner.state.floatbank8_b_level              16833 non-null float64\n",
      "primary_cleaner.state.floatbank8_c_air                16822 non-null float64\n",
      "primary_cleaner.state.floatbank8_c_level              16833 non-null float64\n",
      "primary_cleaner.state.floatbank8_d_air                16821 non-null float64\n",
      "primary_cleaner.state.floatbank8_d_level              16833 non-null float64\n",
      "rougher.calculation.sulfate_to_au_concentrate         16833 non-null float64\n",
      "rougher.calculation.floatbank10_sulfate_to_au_feed    16833 non-null float64\n",
      "rougher.calculation.floatbank11_sulfate_to_au_feed    16833 non-null float64\n",
      "rougher.calculation.au_pb_ratio                       15618 non-null float64\n",
      "rougher.input.feed_ag                                 16778 non-null float64\n",
      "rougher.input.feed_pb                                 16632 non-null float64\n",
      "rougher.input.feed_rate                               16347 non-null float64\n",
      "rougher.input.feed_size                               16443 non-null float64\n",
      "rougher.input.feed_sol                                16568 non-null float64\n",
      "rougher.input.feed_au                                 16777 non-null float64\n",
      "rougher.input.floatbank10_sulfate                     15816 non-null float64\n",
      "rougher.input.floatbank10_xanthate                    16514 non-null float64\n",
      "rougher.input.floatbank11_sulfate                     16237 non-null float64\n",
      "rougher.input.floatbank11_xanthate                    14956 non-null float64\n",
      "rougher.output.concentrate_ag                         16778 non-null float64\n",
      "rougher.output.concentrate_pb                         16778 non-null float64\n",
      "rougher.output.concentrate_sol                        16698 non-null float64\n",
      "rougher.output.concentrate_au                         16778 non-null float64\n",
      "rougher.output.recovery                               14287 non-null float64\n",
      "rougher.output.tail_ag                                14610 non-null float64\n",
      "rougher.output.tail_pb                                16778 non-null float64\n",
      "rougher.output.tail_sol                               14611 non-null float64\n",
      "rougher.output.tail_au                                14611 non-null float64\n",
      "rougher.state.floatbank10_a_air                       16807 non-null float64\n",
      "rougher.state.floatbank10_a_level                     16807 non-null float64\n",
      "rougher.state.floatbank10_b_air                       16807 non-null float64\n",
      "rougher.state.floatbank10_b_level                     16807 non-null float64\n",
      "rougher.state.floatbank10_c_air                       16807 non-null float64\n",
      "rougher.state.floatbank10_c_level                     16814 non-null float64\n",
      "rougher.state.floatbank10_d_air                       16802 non-null float64\n",
      "rougher.state.floatbank10_d_level                     16809 non-null float64\n",
      "rougher.state.floatbank10_e_air                       16257 non-null float64\n",
      "rougher.state.floatbank10_e_level                     16809 non-null float64\n",
      "rougher.state.floatbank10_f_air                       16802 non-null float64\n",
      "rougher.state.floatbank10_f_level                     16802 non-null float64\n",
      "secondary_cleaner.output.tail_ag                      16776 non-null float64\n",
      "secondary_cleaner.output.tail_pb                      16764 non-null float64\n",
      "secondary_cleaner.output.tail_sol                     14874 non-null float64\n",
      "secondary_cleaner.output.tail_au                      16778 non-null float64\n",
      "secondary_cleaner.state.floatbank2_a_air              16497 non-null float64\n",
      "secondary_cleaner.state.floatbank2_a_level            16751 non-null float64\n",
      "secondary_cleaner.state.floatbank2_b_air              16705 non-null float64\n",
      "secondary_cleaner.state.floatbank2_b_level            16748 non-null float64\n",
      "secondary_cleaner.state.floatbank3_a_air              16763 non-null float64\n",
      "secondary_cleaner.state.floatbank3_a_level            16747 non-null float64\n",
      "secondary_cleaner.state.floatbank3_b_air              16752 non-null float64\n",
      "secondary_cleaner.state.floatbank3_b_level            16750 non-null float64\n",
      "secondary_cleaner.state.floatbank4_a_air              16731 non-null float64\n",
      "secondary_cleaner.state.floatbank4_a_level            16747 non-null float64\n",
      "secondary_cleaner.state.floatbank4_b_air              16768 non-null float64\n",
      "secondary_cleaner.state.floatbank4_b_level            16767 non-null float64\n",
      "secondary_cleaner.state.floatbank5_a_air              16775 non-null float64\n",
      "secondary_cleaner.state.floatbank5_a_level            16775 non-null float64\n",
      "secondary_cleaner.state.floatbank5_b_air              16775 non-null float64\n",
      "secondary_cleaner.state.floatbank5_b_level            16776 non-null float64\n",
      "secondary_cleaner.state.floatbank6_a_air              16757 non-null float64\n",
      "secondary_cleaner.state.floatbank6_a_level            16775 non-null float64\n",
      "dtypes: float64(86), object(1)\n",
      "memory usage: 11.2+ MB\n"
     ]
    }
   ],
   "source": [
    "gold_recovery_train.info()"
   ]
  },
  {
   "cell_type": "markdown",
   "metadata": {},
   "source": [
    "- Общая информация: Тестовая выборка"
   ]
  },
  {
   "cell_type": "code",
   "execution_count": 4,
   "metadata": {},
   "outputs": [
    {
     "name": "stdout",
     "output_type": "stream",
     "text": [
      "<class 'pandas.core.frame.DataFrame'>\n",
      "RangeIndex: 5856 entries, 0 to 5855\n",
      "Data columns (total 53 columns):\n",
      "date                                          5856 non-null object\n",
      "primary_cleaner.input.sulfate                 5554 non-null float64\n",
      "primary_cleaner.input.depressant              5572 non-null float64\n",
      "primary_cleaner.input.feed_size               5856 non-null float64\n",
      "primary_cleaner.input.xanthate                5690 non-null float64\n",
      "primary_cleaner.state.floatbank8_a_air        5840 non-null float64\n",
      "primary_cleaner.state.floatbank8_a_level      5840 non-null float64\n",
      "primary_cleaner.state.floatbank8_b_air        5840 non-null float64\n",
      "primary_cleaner.state.floatbank8_b_level      5840 non-null float64\n",
      "primary_cleaner.state.floatbank8_c_air        5840 non-null float64\n",
      "primary_cleaner.state.floatbank8_c_level      5840 non-null float64\n",
      "primary_cleaner.state.floatbank8_d_air        5840 non-null float64\n",
      "primary_cleaner.state.floatbank8_d_level      5840 non-null float64\n",
      "rougher.input.feed_ag                         5840 non-null float64\n",
      "rougher.input.feed_pb                         5840 non-null float64\n",
      "rougher.input.feed_rate                       5816 non-null float64\n",
      "rougher.input.feed_size                       5834 non-null float64\n",
      "rougher.input.feed_sol                        5789 non-null float64\n",
      "rougher.input.feed_au                         5840 non-null float64\n",
      "rougher.input.floatbank10_sulfate             5599 non-null float64\n",
      "rougher.input.floatbank10_xanthate            5733 non-null float64\n",
      "rougher.input.floatbank11_sulfate             5801 non-null float64\n",
      "rougher.input.floatbank11_xanthate            5503 non-null float64\n",
      "rougher.state.floatbank10_a_air               5839 non-null float64\n",
      "rougher.state.floatbank10_a_level             5840 non-null float64\n",
      "rougher.state.floatbank10_b_air               5839 non-null float64\n",
      "rougher.state.floatbank10_b_level             5840 non-null float64\n",
      "rougher.state.floatbank10_c_air               5839 non-null float64\n",
      "rougher.state.floatbank10_c_level             5840 non-null float64\n",
      "rougher.state.floatbank10_d_air               5839 non-null float64\n",
      "rougher.state.floatbank10_d_level             5840 non-null float64\n",
      "rougher.state.floatbank10_e_air               5839 non-null float64\n",
      "rougher.state.floatbank10_e_level             5840 non-null float64\n",
      "rougher.state.floatbank10_f_air               5839 non-null float64\n",
      "rougher.state.floatbank10_f_level             5840 non-null float64\n",
      "secondary_cleaner.state.floatbank2_a_air      5836 non-null float64\n",
      "secondary_cleaner.state.floatbank2_a_level    5840 non-null float64\n",
      "secondary_cleaner.state.floatbank2_b_air      5833 non-null float64\n",
      "secondary_cleaner.state.floatbank2_b_level    5840 non-null float64\n",
      "secondary_cleaner.state.floatbank3_a_air      5822 non-null float64\n",
      "secondary_cleaner.state.floatbank3_a_level    5840 non-null float64\n",
      "secondary_cleaner.state.floatbank3_b_air      5840 non-null float64\n",
      "secondary_cleaner.state.floatbank3_b_level    5840 non-null float64\n",
      "secondary_cleaner.state.floatbank4_a_air      5840 non-null float64\n",
      "secondary_cleaner.state.floatbank4_a_level    5840 non-null float64\n",
      "secondary_cleaner.state.floatbank4_b_air      5840 non-null float64\n",
      "secondary_cleaner.state.floatbank4_b_level    5840 non-null float64\n",
      "secondary_cleaner.state.floatbank5_a_air      5840 non-null float64\n",
      "secondary_cleaner.state.floatbank5_a_level    5840 non-null float64\n",
      "secondary_cleaner.state.floatbank5_b_air      5840 non-null float64\n",
      "secondary_cleaner.state.floatbank5_b_level    5840 non-null float64\n",
      "secondary_cleaner.state.floatbank6_a_air      5840 non-null float64\n",
      "secondary_cleaner.state.floatbank6_a_level    5840 non-null float64\n",
      "dtypes: float64(52), object(1)\n",
      "memory usage: 2.4+ MB\n"
     ]
    }
   ],
   "source": [
    "gold_recovery_test.info()"
   ]
  },
  {
   "cell_type": "markdown",
   "metadata": {},
   "source": [
    "- Общая информация: Исходные данные"
   ]
  },
  {
   "cell_type": "code",
   "execution_count": 5,
   "metadata": {},
   "outputs": [
    {
     "name": "stdout",
     "output_type": "stream",
     "text": [
      "<class 'pandas.core.frame.DataFrame'>\n",
      "RangeIndex: 22716 entries, 0 to 22715\n",
      "Data columns (total 87 columns):\n",
      "date                                                  22716 non-null object\n",
      "final.output.concentrate_ag                           22627 non-null float64\n",
      "final.output.concentrate_pb                           22629 non-null float64\n",
      "final.output.concentrate_sol                          22331 non-null float64\n",
      "final.output.concentrate_au                           22630 non-null float64\n",
      "final.output.recovery                                 20753 non-null float64\n",
      "final.output.tail_ag                                  22633 non-null float64\n",
      "final.output.tail_pb                                  22516 non-null float64\n",
      "final.output.tail_sol                                 22445 non-null float64\n",
      "final.output.tail_au                                  22635 non-null float64\n",
      "primary_cleaner.input.sulfate                         21107 non-null float64\n",
      "primary_cleaner.input.depressant                      21170 non-null float64\n",
      "primary_cleaner.input.feed_size                       22716 non-null float64\n",
      "primary_cleaner.input.xanthate                        21565 non-null float64\n",
      "primary_cleaner.output.concentrate_ag                 22618 non-null float64\n",
      "primary_cleaner.output.concentrate_pb                 22268 non-null float64\n",
      "primary_cleaner.output.concentrate_sol                21918 non-null float64\n",
      "primary_cleaner.output.concentrate_au                 22618 non-null float64\n",
      "primary_cleaner.output.tail_ag                        22614 non-null float64\n",
      "primary_cleaner.output.tail_pb                        22594 non-null float64\n",
      "primary_cleaner.output.tail_sol                       22365 non-null float64\n",
      "primary_cleaner.output.tail_au                        22617 non-null float64\n",
      "primary_cleaner.state.floatbank8_a_air                22660 non-null float64\n",
      "primary_cleaner.state.floatbank8_a_level              22667 non-null float64\n",
      "primary_cleaner.state.floatbank8_b_air                22660 non-null float64\n",
      "primary_cleaner.state.floatbank8_b_level              22673 non-null float64\n",
      "primary_cleaner.state.floatbank8_c_air                22662 non-null float64\n",
      "primary_cleaner.state.floatbank8_c_level              22673 non-null float64\n",
      "primary_cleaner.state.floatbank8_d_air                22661 non-null float64\n",
      "primary_cleaner.state.floatbank8_d_level              22673 non-null float64\n",
      "rougher.calculation.sulfate_to_au_concentrate         22672 non-null float64\n",
      "rougher.calculation.floatbank10_sulfate_to_au_feed    22672 non-null float64\n",
      "rougher.calculation.floatbank11_sulfate_to_au_feed    22672 non-null float64\n",
      "rougher.calculation.au_pb_ratio                       21089 non-null float64\n",
      "rougher.input.feed_ag                                 22618 non-null float64\n",
      "rougher.input.feed_pb                                 22472 non-null float64\n",
      "rougher.input.feed_rate                               22163 non-null float64\n",
      "rougher.input.feed_size                               22277 non-null float64\n",
      "rougher.input.feed_sol                                22357 non-null float64\n",
      "rougher.input.feed_au                                 22617 non-null float64\n",
      "rougher.input.floatbank10_sulfate                     21415 non-null float64\n",
      "rougher.input.floatbank10_xanthate                    22247 non-null float64\n",
      "rougher.input.floatbank11_sulfate                     22038 non-null float64\n",
      "rougher.input.floatbank11_xanthate                    20459 non-null float64\n",
      "rougher.output.concentrate_ag                         22618 non-null float64\n",
      "rougher.output.concentrate_pb                         22618 non-null float64\n",
      "rougher.output.concentrate_sol                        22526 non-null float64\n",
      "rougher.output.concentrate_au                         22618 non-null float64\n",
      "rougher.output.recovery                               19597 non-null float64\n",
      "rougher.output.tail_ag                                19979 non-null float64\n",
      "rougher.output.tail_pb                                22618 non-null float64\n",
      "rougher.output.tail_sol                               19980 non-null float64\n",
      "rougher.output.tail_au                                19980 non-null float64\n",
      "rougher.state.floatbank10_a_air                       22646 non-null float64\n",
      "rougher.state.floatbank10_a_level                     22647 non-null float64\n",
      "rougher.state.floatbank10_b_air                       22646 non-null float64\n",
      "rougher.state.floatbank10_b_level                     22647 non-null float64\n",
      "rougher.state.floatbank10_c_air                       22646 non-null float64\n",
      "rougher.state.floatbank10_c_level                     22654 non-null float64\n",
      "rougher.state.floatbank10_d_air                       22641 non-null float64\n",
      "rougher.state.floatbank10_d_level                     22649 non-null float64\n",
      "rougher.state.floatbank10_e_air                       22096 non-null float64\n",
      "rougher.state.floatbank10_e_level                     22649 non-null float64\n",
      "rougher.state.floatbank10_f_air                       22641 non-null float64\n",
      "rougher.state.floatbank10_f_level                     22642 non-null float64\n",
      "secondary_cleaner.output.tail_ag                      22616 non-null float64\n",
      "secondary_cleaner.output.tail_pb                      22600 non-null float64\n",
      "secondary_cleaner.output.tail_sol                     20501 non-null float64\n",
      "secondary_cleaner.output.tail_au                      22618 non-null float64\n",
      "secondary_cleaner.state.floatbank2_a_air              22333 non-null float64\n",
      "secondary_cleaner.state.floatbank2_a_level            22591 non-null float64\n",
      "secondary_cleaner.state.floatbank2_b_air              22538 non-null float64\n",
      "secondary_cleaner.state.floatbank2_b_level            22588 non-null float64\n",
      "secondary_cleaner.state.floatbank3_a_air              22585 non-null float64\n",
      "secondary_cleaner.state.floatbank3_a_level            22587 non-null float64\n",
      "secondary_cleaner.state.floatbank3_b_air              22592 non-null float64\n",
      "secondary_cleaner.state.floatbank3_b_level            22590 non-null float64\n",
      "secondary_cleaner.state.floatbank4_a_air              22571 non-null float64\n",
      "secondary_cleaner.state.floatbank4_a_level            22587 non-null float64\n",
      "secondary_cleaner.state.floatbank4_b_air              22608 non-null float64\n",
      "secondary_cleaner.state.floatbank4_b_level            22607 non-null float64\n",
      "secondary_cleaner.state.floatbank5_a_air              22615 non-null float64\n",
      "secondary_cleaner.state.floatbank5_a_level            22615 non-null float64\n",
      "secondary_cleaner.state.floatbank5_b_air              22615 non-null float64\n",
      "secondary_cleaner.state.floatbank5_b_level            22616 non-null float64\n",
      "secondary_cleaner.state.floatbank6_a_air              22597 non-null float64\n",
      "secondary_cleaner.state.floatbank6_a_level            22615 non-null float64\n",
      "dtypes: float64(86), object(1)\n",
      "memory usage: 15.1+ MB\n"
     ]
    }
   ],
   "source": [
    "gold_recovery_full.info()"
   ]
  },
  {
   "cell_type": "markdown",
   "metadata": {},
   "source": [
    "- Табличная информация"
   ]
  },
  {
   "cell_type": "code",
   "execution_count": 6,
   "metadata": {
    "scrolled": true
   },
   "outputs": [
    {
     "name": "stdout",
     "output_type": "stream",
     "text": [
      "\n",
      "-------------- Исходные данные --------------\n",
      "\n"
     ]
    },
    {
     "data": {
      "text/html": [
       "<div>\n",
       "<style scoped>\n",
       "    .dataframe tbody tr th:only-of-type {\n",
       "        vertical-align: middle;\n",
       "    }\n",
       "\n",
       "    .dataframe tbody tr th {\n",
       "        vertical-align: top;\n",
       "    }\n",
       "\n",
       "    .dataframe thead th {\n",
       "        text-align: right;\n",
       "    }\n",
       "</style>\n",
       "<table border=\"1\" class=\"dataframe\">\n",
       "  <thead>\n",
       "    <tr style=\"text-align: right;\">\n",
       "      <th></th>\n",
       "      <th>date</th>\n",
       "      <th>final.output.concentrate_ag</th>\n",
       "      <th>final.output.concentrate_pb</th>\n",
       "      <th>final.output.concentrate_sol</th>\n",
       "      <th>final.output.concentrate_au</th>\n",
       "      <th>final.output.recovery</th>\n",
       "      <th>final.output.tail_ag</th>\n",
       "      <th>final.output.tail_pb</th>\n",
       "      <th>final.output.tail_sol</th>\n",
       "      <th>final.output.tail_au</th>\n",
       "      <th>...</th>\n",
       "      <th>secondary_cleaner.state.floatbank4_a_air</th>\n",
       "      <th>secondary_cleaner.state.floatbank4_a_level</th>\n",
       "      <th>secondary_cleaner.state.floatbank4_b_air</th>\n",
       "      <th>secondary_cleaner.state.floatbank4_b_level</th>\n",
       "      <th>secondary_cleaner.state.floatbank5_a_air</th>\n",
       "      <th>secondary_cleaner.state.floatbank5_a_level</th>\n",
       "      <th>secondary_cleaner.state.floatbank5_b_air</th>\n",
       "      <th>secondary_cleaner.state.floatbank5_b_level</th>\n",
       "      <th>secondary_cleaner.state.floatbank6_a_air</th>\n",
       "      <th>secondary_cleaner.state.floatbank6_a_level</th>\n",
       "    </tr>\n",
       "  </thead>\n",
       "  <tbody>\n",
       "    <tr>\n",
       "      <td>0</td>\n",
       "      <td>2016-01-15 00:00:00</td>\n",
       "      <td>6.055403</td>\n",
       "      <td>9.889648</td>\n",
       "      <td>5.507324</td>\n",
       "      <td>42.192020</td>\n",
       "      <td>70.541216</td>\n",
       "      <td>10.411962</td>\n",
       "      <td>0.895447</td>\n",
       "      <td>16.904297</td>\n",
       "      <td>2.143149</td>\n",
       "      <td>...</td>\n",
       "      <td>14.016835</td>\n",
       "      <td>-502.488007</td>\n",
       "      <td>12.099931</td>\n",
       "      <td>-504.715942</td>\n",
       "      <td>9.925633</td>\n",
       "      <td>-498.310211</td>\n",
       "      <td>8.079666</td>\n",
       "      <td>-500.470978</td>\n",
       "      <td>14.151341</td>\n",
       "      <td>-605.841980</td>\n",
       "    </tr>\n",
       "    <tr>\n",
       "      <td>1</td>\n",
       "      <td>2016-01-15 01:00:00</td>\n",
       "      <td>6.029369</td>\n",
       "      <td>9.968944</td>\n",
       "      <td>5.257781</td>\n",
       "      <td>42.701629</td>\n",
       "      <td>69.266198</td>\n",
       "      <td>10.462676</td>\n",
       "      <td>0.927452</td>\n",
       "      <td>16.634514</td>\n",
       "      <td>2.224930</td>\n",
       "      <td>...</td>\n",
       "      <td>13.992281</td>\n",
       "      <td>-505.503262</td>\n",
       "      <td>11.950531</td>\n",
       "      <td>-501.331529</td>\n",
       "      <td>10.039245</td>\n",
       "      <td>-500.169983</td>\n",
       "      <td>7.984757</td>\n",
       "      <td>-500.582168</td>\n",
       "      <td>13.998353</td>\n",
       "      <td>-599.787184</td>\n",
       "    </tr>\n",
       "    <tr>\n",
       "      <td>2</td>\n",
       "      <td>2016-01-15 02:00:00</td>\n",
       "      <td>6.055926</td>\n",
       "      <td>10.213995</td>\n",
       "      <td>5.383759</td>\n",
       "      <td>42.657501</td>\n",
       "      <td>68.116445</td>\n",
       "      <td>10.507046</td>\n",
       "      <td>0.953716</td>\n",
       "      <td>16.208849</td>\n",
       "      <td>2.257889</td>\n",
       "      <td>...</td>\n",
       "      <td>14.015015</td>\n",
       "      <td>-502.520901</td>\n",
       "      <td>11.912783</td>\n",
       "      <td>-501.133383</td>\n",
       "      <td>10.070913</td>\n",
       "      <td>-500.129135</td>\n",
       "      <td>8.013877</td>\n",
       "      <td>-500.517572</td>\n",
       "      <td>14.028663</td>\n",
       "      <td>-601.427363</td>\n",
       "    </tr>\n",
       "    <tr>\n",
       "      <td>3</td>\n",
       "      <td>2016-01-15 03:00:00</td>\n",
       "      <td>6.047977</td>\n",
       "      <td>9.977019</td>\n",
       "      <td>4.858634</td>\n",
       "      <td>42.689819</td>\n",
       "      <td>68.347543</td>\n",
       "      <td>10.422762</td>\n",
       "      <td>0.883763</td>\n",
       "      <td>16.532835</td>\n",
       "      <td>2.146849</td>\n",
       "      <td>...</td>\n",
       "      <td>14.036510</td>\n",
       "      <td>-500.857308</td>\n",
       "      <td>11.999550</td>\n",
       "      <td>-501.193686</td>\n",
       "      <td>9.970366</td>\n",
       "      <td>-499.201640</td>\n",
       "      <td>7.977324</td>\n",
       "      <td>-500.255908</td>\n",
       "      <td>14.005551</td>\n",
       "      <td>-599.996129</td>\n",
       "    </tr>\n",
       "    <tr>\n",
       "      <td>4</td>\n",
       "      <td>2016-01-15 04:00:00</td>\n",
       "      <td>6.148599</td>\n",
       "      <td>10.142511</td>\n",
       "      <td>4.939416</td>\n",
       "      <td>42.774141</td>\n",
       "      <td>66.927016</td>\n",
       "      <td>10.360302</td>\n",
       "      <td>0.792826</td>\n",
       "      <td>16.525686</td>\n",
       "      <td>2.055292</td>\n",
       "      <td>...</td>\n",
       "      <td>14.027298</td>\n",
       "      <td>-499.838632</td>\n",
       "      <td>11.953070</td>\n",
       "      <td>-501.053894</td>\n",
       "      <td>9.925709</td>\n",
       "      <td>-501.686727</td>\n",
       "      <td>7.894242</td>\n",
       "      <td>-500.356035</td>\n",
       "      <td>13.996647</td>\n",
       "      <td>-601.496691</td>\n",
       "    </tr>\n",
       "  </tbody>\n",
       "</table>\n",
       "<p>5 rows × 87 columns</p>\n",
       "</div>"
      ],
      "text/plain": [
       "                  date  final.output.concentrate_ag  \\\n",
       "0  2016-01-15 00:00:00                     6.055403   \n",
       "1  2016-01-15 01:00:00                     6.029369   \n",
       "2  2016-01-15 02:00:00                     6.055926   \n",
       "3  2016-01-15 03:00:00                     6.047977   \n",
       "4  2016-01-15 04:00:00                     6.148599   \n",
       "\n",
       "   final.output.concentrate_pb  final.output.concentrate_sol  \\\n",
       "0                     9.889648                      5.507324   \n",
       "1                     9.968944                      5.257781   \n",
       "2                    10.213995                      5.383759   \n",
       "3                     9.977019                      4.858634   \n",
       "4                    10.142511                      4.939416   \n",
       "\n",
       "   final.output.concentrate_au  final.output.recovery  final.output.tail_ag  \\\n",
       "0                    42.192020              70.541216             10.411962   \n",
       "1                    42.701629              69.266198             10.462676   \n",
       "2                    42.657501              68.116445             10.507046   \n",
       "3                    42.689819              68.347543             10.422762   \n",
       "4                    42.774141              66.927016             10.360302   \n",
       "\n",
       "   final.output.tail_pb  final.output.tail_sol  final.output.tail_au  ...  \\\n",
       "0              0.895447              16.904297              2.143149  ...   \n",
       "1              0.927452              16.634514              2.224930  ...   \n",
       "2              0.953716              16.208849              2.257889  ...   \n",
       "3              0.883763              16.532835              2.146849  ...   \n",
       "4              0.792826              16.525686              2.055292  ...   \n",
       "\n",
       "   secondary_cleaner.state.floatbank4_a_air  \\\n",
       "0                                 14.016835   \n",
       "1                                 13.992281   \n",
       "2                                 14.015015   \n",
       "3                                 14.036510   \n",
       "4                                 14.027298   \n",
       "\n",
       "   secondary_cleaner.state.floatbank4_a_level  \\\n",
       "0                                 -502.488007   \n",
       "1                                 -505.503262   \n",
       "2                                 -502.520901   \n",
       "3                                 -500.857308   \n",
       "4                                 -499.838632   \n",
       "\n",
       "   secondary_cleaner.state.floatbank4_b_air  \\\n",
       "0                                 12.099931   \n",
       "1                                 11.950531   \n",
       "2                                 11.912783   \n",
       "3                                 11.999550   \n",
       "4                                 11.953070   \n",
       "\n",
       "   secondary_cleaner.state.floatbank4_b_level  \\\n",
       "0                                 -504.715942   \n",
       "1                                 -501.331529   \n",
       "2                                 -501.133383   \n",
       "3                                 -501.193686   \n",
       "4                                 -501.053894   \n",
       "\n",
       "   secondary_cleaner.state.floatbank5_a_air  \\\n",
       "0                                  9.925633   \n",
       "1                                 10.039245   \n",
       "2                                 10.070913   \n",
       "3                                  9.970366   \n",
       "4                                  9.925709   \n",
       "\n",
       "   secondary_cleaner.state.floatbank5_a_level  \\\n",
       "0                                 -498.310211   \n",
       "1                                 -500.169983   \n",
       "2                                 -500.129135   \n",
       "3                                 -499.201640   \n",
       "4                                 -501.686727   \n",
       "\n",
       "   secondary_cleaner.state.floatbank5_b_air  \\\n",
       "0                                  8.079666   \n",
       "1                                  7.984757   \n",
       "2                                  8.013877   \n",
       "3                                  7.977324   \n",
       "4                                  7.894242   \n",
       "\n",
       "   secondary_cleaner.state.floatbank5_b_level  \\\n",
       "0                                 -500.470978   \n",
       "1                                 -500.582168   \n",
       "2                                 -500.517572   \n",
       "3                                 -500.255908   \n",
       "4                                 -500.356035   \n",
       "\n",
       "   secondary_cleaner.state.floatbank6_a_air  \\\n",
       "0                                 14.151341   \n",
       "1                                 13.998353   \n",
       "2                                 14.028663   \n",
       "3                                 14.005551   \n",
       "4                                 13.996647   \n",
       "\n",
       "   secondary_cleaner.state.floatbank6_a_level  \n",
       "0                                 -605.841980  \n",
       "1                                 -599.787184  \n",
       "2                                 -601.427363  \n",
       "3                                 -599.996129  \n",
       "4                                 -601.496691  \n",
       "\n",
       "[5 rows x 87 columns]"
      ]
     },
     "metadata": {},
     "output_type": "display_data"
    },
    {
     "name": "stdout",
     "output_type": "stream",
     "text": [
      "\n",
      "-------------- Обучающая выборка --------------\n",
      "\n"
     ]
    },
    {
     "data": {
      "text/html": [
       "<div>\n",
       "<style scoped>\n",
       "    .dataframe tbody tr th:only-of-type {\n",
       "        vertical-align: middle;\n",
       "    }\n",
       "\n",
       "    .dataframe tbody tr th {\n",
       "        vertical-align: top;\n",
       "    }\n",
       "\n",
       "    .dataframe thead th {\n",
       "        text-align: right;\n",
       "    }\n",
       "</style>\n",
       "<table border=\"1\" class=\"dataframe\">\n",
       "  <thead>\n",
       "    <tr style=\"text-align: right;\">\n",
       "      <th></th>\n",
       "      <th>date</th>\n",
       "      <th>final.output.concentrate_ag</th>\n",
       "      <th>final.output.concentrate_pb</th>\n",
       "      <th>final.output.concentrate_sol</th>\n",
       "      <th>final.output.concentrate_au</th>\n",
       "      <th>final.output.recovery</th>\n",
       "      <th>final.output.tail_ag</th>\n",
       "      <th>final.output.tail_pb</th>\n",
       "      <th>final.output.tail_sol</th>\n",
       "      <th>final.output.tail_au</th>\n",
       "      <th>...</th>\n",
       "      <th>secondary_cleaner.state.floatbank4_a_air</th>\n",
       "      <th>secondary_cleaner.state.floatbank4_a_level</th>\n",
       "      <th>secondary_cleaner.state.floatbank4_b_air</th>\n",
       "      <th>secondary_cleaner.state.floatbank4_b_level</th>\n",
       "      <th>secondary_cleaner.state.floatbank5_a_air</th>\n",
       "      <th>secondary_cleaner.state.floatbank5_a_level</th>\n",
       "      <th>secondary_cleaner.state.floatbank5_b_air</th>\n",
       "      <th>secondary_cleaner.state.floatbank5_b_level</th>\n",
       "      <th>secondary_cleaner.state.floatbank6_a_air</th>\n",
       "      <th>secondary_cleaner.state.floatbank6_a_level</th>\n",
       "    </tr>\n",
       "  </thead>\n",
       "  <tbody>\n",
       "    <tr>\n",
       "      <td>0</td>\n",
       "      <td>2016-01-15 00:00:00</td>\n",
       "      <td>6.055403</td>\n",
       "      <td>9.889648</td>\n",
       "      <td>5.507324</td>\n",
       "      <td>42.192020</td>\n",
       "      <td>70.541216</td>\n",
       "      <td>10.411962</td>\n",
       "      <td>0.895447</td>\n",
       "      <td>16.904297</td>\n",
       "      <td>2.143149</td>\n",
       "      <td>...</td>\n",
       "      <td>14.016835</td>\n",
       "      <td>-502.488007</td>\n",
       "      <td>12.099931</td>\n",
       "      <td>-504.715942</td>\n",
       "      <td>9.925633</td>\n",
       "      <td>-498.310211</td>\n",
       "      <td>8.079666</td>\n",
       "      <td>-500.470978</td>\n",
       "      <td>14.151341</td>\n",
       "      <td>-605.841980</td>\n",
       "    </tr>\n",
       "    <tr>\n",
       "      <td>1</td>\n",
       "      <td>2016-01-15 01:00:00</td>\n",
       "      <td>6.029369</td>\n",
       "      <td>9.968944</td>\n",
       "      <td>5.257781</td>\n",
       "      <td>42.701629</td>\n",
       "      <td>69.266198</td>\n",
       "      <td>10.462676</td>\n",
       "      <td>0.927452</td>\n",
       "      <td>16.634514</td>\n",
       "      <td>2.224930</td>\n",
       "      <td>...</td>\n",
       "      <td>13.992281</td>\n",
       "      <td>-505.503262</td>\n",
       "      <td>11.950531</td>\n",
       "      <td>-501.331529</td>\n",
       "      <td>10.039245</td>\n",
       "      <td>-500.169983</td>\n",
       "      <td>7.984757</td>\n",
       "      <td>-500.582168</td>\n",
       "      <td>13.998353</td>\n",
       "      <td>-599.787184</td>\n",
       "    </tr>\n",
       "    <tr>\n",
       "      <td>2</td>\n",
       "      <td>2016-01-15 02:00:00</td>\n",
       "      <td>6.055926</td>\n",
       "      <td>10.213995</td>\n",
       "      <td>5.383759</td>\n",
       "      <td>42.657501</td>\n",
       "      <td>68.116445</td>\n",
       "      <td>10.507046</td>\n",
       "      <td>0.953716</td>\n",
       "      <td>16.208849</td>\n",
       "      <td>2.257889</td>\n",
       "      <td>...</td>\n",
       "      <td>14.015015</td>\n",
       "      <td>-502.520901</td>\n",
       "      <td>11.912783</td>\n",
       "      <td>-501.133383</td>\n",
       "      <td>10.070913</td>\n",
       "      <td>-500.129135</td>\n",
       "      <td>8.013877</td>\n",
       "      <td>-500.517572</td>\n",
       "      <td>14.028663</td>\n",
       "      <td>-601.427363</td>\n",
       "    </tr>\n",
       "    <tr>\n",
       "      <td>3</td>\n",
       "      <td>2016-01-15 03:00:00</td>\n",
       "      <td>6.047977</td>\n",
       "      <td>9.977019</td>\n",
       "      <td>4.858634</td>\n",
       "      <td>42.689819</td>\n",
       "      <td>68.347543</td>\n",
       "      <td>10.422762</td>\n",
       "      <td>0.883763</td>\n",
       "      <td>16.532835</td>\n",
       "      <td>2.146849</td>\n",
       "      <td>...</td>\n",
       "      <td>14.036510</td>\n",
       "      <td>-500.857308</td>\n",
       "      <td>11.999550</td>\n",
       "      <td>-501.193686</td>\n",
       "      <td>9.970366</td>\n",
       "      <td>-499.201640</td>\n",
       "      <td>7.977324</td>\n",
       "      <td>-500.255908</td>\n",
       "      <td>14.005551</td>\n",
       "      <td>-599.996129</td>\n",
       "    </tr>\n",
       "    <tr>\n",
       "      <td>4</td>\n",
       "      <td>2016-01-15 04:00:00</td>\n",
       "      <td>6.148599</td>\n",
       "      <td>10.142511</td>\n",
       "      <td>4.939416</td>\n",
       "      <td>42.774141</td>\n",
       "      <td>66.927016</td>\n",
       "      <td>10.360302</td>\n",
       "      <td>0.792826</td>\n",
       "      <td>16.525686</td>\n",
       "      <td>2.055292</td>\n",
       "      <td>...</td>\n",
       "      <td>14.027298</td>\n",
       "      <td>-499.838632</td>\n",
       "      <td>11.953070</td>\n",
       "      <td>-501.053894</td>\n",
       "      <td>9.925709</td>\n",
       "      <td>-501.686727</td>\n",
       "      <td>7.894242</td>\n",
       "      <td>-500.356035</td>\n",
       "      <td>13.996647</td>\n",
       "      <td>-601.496691</td>\n",
       "    </tr>\n",
       "  </tbody>\n",
       "</table>\n",
       "<p>5 rows × 87 columns</p>\n",
       "</div>"
      ],
      "text/plain": [
       "                  date  final.output.concentrate_ag  \\\n",
       "0  2016-01-15 00:00:00                     6.055403   \n",
       "1  2016-01-15 01:00:00                     6.029369   \n",
       "2  2016-01-15 02:00:00                     6.055926   \n",
       "3  2016-01-15 03:00:00                     6.047977   \n",
       "4  2016-01-15 04:00:00                     6.148599   \n",
       "\n",
       "   final.output.concentrate_pb  final.output.concentrate_sol  \\\n",
       "0                     9.889648                      5.507324   \n",
       "1                     9.968944                      5.257781   \n",
       "2                    10.213995                      5.383759   \n",
       "3                     9.977019                      4.858634   \n",
       "4                    10.142511                      4.939416   \n",
       "\n",
       "   final.output.concentrate_au  final.output.recovery  final.output.tail_ag  \\\n",
       "0                    42.192020              70.541216             10.411962   \n",
       "1                    42.701629              69.266198             10.462676   \n",
       "2                    42.657501              68.116445             10.507046   \n",
       "3                    42.689819              68.347543             10.422762   \n",
       "4                    42.774141              66.927016             10.360302   \n",
       "\n",
       "   final.output.tail_pb  final.output.tail_sol  final.output.tail_au  ...  \\\n",
       "0              0.895447              16.904297              2.143149  ...   \n",
       "1              0.927452              16.634514              2.224930  ...   \n",
       "2              0.953716              16.208849              2.257889  ...   \n",
       "3              0.883763              16.532835              2.146849  ...   \n",
       "4              0.792826              16.525686              2.055292  ...   \n",
       "\n",
       "   secondary_cleaner.state.floatbank4_a_air  \\\n",
       "0                                 14.016835   \n",
       "1                                 13.992281   \n",
       "2                                 14.015015   \n",
       "3                                 14.036510   \n",
       "4                                 14.027298   \n",
       "\n",
       "   secondary_cleaner.state.floatbank4_a_level  \\\n",
       "0                                 -502.488007   \n",
       "1                                 -505.503262   \n",
       "2                                 -502.520901   \n",
       "3                                 -500.857308   \n",
       "4                                 -499.838632   \n",
       "\n",
       "   secondary_cleaner.state.floatbank4_b_air  \\\n",
       "0                                 12.099931   \n",
       "1                                 11.950531   \n",
       "2                                 11.912783   \n",
       "3                                 11.999550   \n",
       "4                                 11.953070   \n",
       "\n",
       "   secondary_cleaner.state.floatbank4_b_level  \\\n",
       "0                                 -504.715942   \n",
       "1                                 -501.331529   \n",
       "2                                 -501.133383   \n",
       "3                                 -501.193686   \n",
       "4                                 -501.053894   \n",
       "\n",
       "   secondary_cleaner.state.floatbank5_a_air  \\\n",
       "0                                  9.925633   \n",
       "1                                 10.039245   \n",
       "2                                 10.070913   \n",
       "3                                  9.970366   \n",
       "4                                  9.925709   \n",
       "\n",
       "   secondary_cleaner.state.floatbank5_a_level  \\\n",
       "0                                 -498.310211   \n",
       "1                                 -500.169983   \n",
       "2                                 -500.129135   \n",
       "3                                 -499.201640   \n",
       "4                                 -501.686727   \n",
       "\n",
       "   secondary_cleaner.state.floatbank5_b_air  \\\n",
       "0                                  8.079666   \n",
       "1                                  7.984757   \n",
       "2                                  8.013877   \n",
       "3                                  7.977324   \n",
       "4                                  7.894242   \n",
       "\n",
       "   secondary_cleaner.state.floatbank5_b_level  \\\n",
       "0                                 -500.470978   \n",
       "1                                 -500.582168   \n",
       "2                                 -500.517572   \n",
       "3                                 -500.255908   \n",
       "4                                 -500.356035   \n",
       "\n",
       "   secondary_cleaner.state.floatbank6_a_air  \\\n",
       "0                                 14.151341   \n",
       "1                                 13.998353   \n",
       "2                                 14.028663   \n",
       "3                                 14.005551   \n",
       "4                                 13.996647   \n",
       "\n",
       "   secondary_cleaner.state.floatbank6_a_level  \n",
       "0                                 -605.841980  \n",
       "1                                 -599.787184  \n",
       "2                                 -601.427363  \n",
       "3                                 -599.996129  \n",
       "4                                 -601.496691  \n",
       "\n",
       "[5 rows x 87 columns]"
      ]
     },
     "metadata": {},
     "output_type": "display_data"
    },
    {
     "name": "stdout",
     "output_type": "stream",
     "text": [
      "\n",
      "-------------- Тестовая выборка --------------\n",
      "\n"
     ]
    },
    {
     "data": {
      "text/html": [
       "<div>\n",
       "<style scoped>\n",
       "    .dataframe tbody tr th:only-of-type {\n",
       "        vertical-align: middle;\n",
       "    }\n",
       "\n",
       "    .dataframe tbody tr th {\n",
       "        vertical-align: top;\n",
       "    }\n",
       "\n",
       "    .dataframe thead th {\n",
       "        text-align: right;\n",
       "    }\n",
       "</style>\n",
       "<table border=\"1\" class=\"dataframe\">\n",
       "  <thead>\n",
       "    <tr style=\"text-align: right;\">\n",
       "      <th></th>\n",
       "      <th>date</th>\n",
       "      <th>primary_cleaner.input.sulfate</th>\n",
       "      <th>primary_cleaner.input.depressant</th>\n",
       "      <th>primary_cleaner.input.feed_size</th>\n",
       "      <th>primary_cleaner.input.xanthate</th>\n",
       "      <th>primary_cleaner.state.floatbank8_a_air</th>\n",
       "      <th>primary_cleaner.state.floatbank8_a_level</th>\n",
       "      <th>primary_cleaner.state.floatbank8_b_air</th>\n",
       "      <th>primary_cleaner.state.floatbank8_b_level</th>\n",
       "      <th>primary_cleaner.state.floatbank8_c_air</th>\n",
       "      <th>...</th>\n",
       "      <th>secondary_cleaner.state.floatbank4_a_air</th>\n",
       "      <th>secondary_cleaner.state.floatbank4_a_level</th>\n",
       "      <th>secondary_cleaner.state.floatbank4_b_air</th>\n",
       "      <th>secondary_cleaner.state.floatbank4_b_level</th>\n",
       "      <th>secondary_cleaner.state.floatbank5_a_air</th>\n",
       "      <th>secondary_cleaner.state.floatbank5_a_level</th>\n",
       "      <th>secondary_cleaner.state.floatbank5_b_air</th>\n",
       "      <th>secondary_cleaner.state.floatbank5_b_level</th>\n",
       "      <th>secondary_cleaner.state.floatbank6_a_air</th>\n",
       "      <th>secondary_cleaner.state.floatbank6_a_level</th>\n",
       "    </tr>\n",
       "  </thead>\n",
       "  <tbody>\n",
       "    <tr>\n",
       "      <td>0</td>\n",
       "      <td>2016-09-01 00:59:59</td>\n",
       "      <td>210.800909</td>\n",
       "      <td>14.993118</td>\n",
       "      <td>8.080000</td>\n",
       "      <td>1.005021</td>\n",
       "      <td>1398.981301</td>\n",
       "      <td>-500.225577</td>\n",
       "      <td>1399.144926</td>\n",
       "      <td>-499.919735</td>\n",
       "      <td>1400.102998</td>\n",
       "      <td>...</td>\n",
       "      <td>12.023554</td>\n",
       "      <td>-497.795834</td>\n",
       "      <td>8.016656</td>\n",
       "      <td>-501.289139</td>\n",
       "      <td>7.946562</td>\n",
       "      <td>-432.317850</td>\n",
       "      <td>4.872511</td>\n",
       "      <td>-500.037437</td>\n",
       "      <td>26.705889</td>\n",
       "      <td>-499.709414</td>\n",
       "    </tr>\n",
       "    <tr>\n",
       "      <td>1</td>\n",
       "      <td>2016-09-01 01:59:59</td>\n",
       "      <td>215.392455</td>\n",
       "      <td>14.987471</td>\n",
       "      <td>8.080000</td>\n",
       "      <td>0.990469</td>\n",
       "      <td>1398.777912</td>\n",
       "      <td>-500.057435</td>\n",
       "      <td>1398.055362</td>\n",
       "      <td>-499.778182</td>\n",
       "      <td>1396.151033</td>\n",
       "      <td>...</td>\n",
       "      <td>12.058140</td>\n",
       "      <td>-498.695773</td>\n",
       "      <td>8.130979</td>\n",
       "      <td>-499.634209</td>\n",
       "      <td>7.958270</td>\n",
       "      <td>-525.839648</td>\n",
       "      <td>4.878850</td>\n",
       "      <td>-500.162375</td>\n",
       "      <td>25.019940</td>\n",
       "      <td>-499.819438</td>\n",
       "    </tr>\n",
       "    <tr>\n",
       "      <td>2</td>\n",
       "      <td>2016-09-01 02:59:59</td>\n",
       "      <td>215.259946</td>\n",
       "      <td>12.884934</td>\n",
       "      <td>7.786667</td>\n",
       "      <td>0.996043</td>\n",
       "      <td>1398.493666</td>\n",
       "      <td>-500.868360</td>\n",
       "      <td>1398.860436</td>\n",
       "      <td>-499.764529</td>\n",
       "      <td>1398.075709</td>\n",
       "      <td>...</td>\n",
       "      <td>11.962366</td>\n",
       "      <td>-498.767484</td>\n",
       "      <td>8.096893</td>\n",
       "      <td>-500.827423</td>\n",
       "      <td>8.071056</td>\n",
       "      <td>-500.801673</td>\n",
       "      <td>4.905125</td>\n",
       "      <td>-499.828510</td>\n",
       "      <td>24.994862</td>\n",
       "      <td>-500.622559</td>\n",
       "    </tr>\n",
       "    <tr>\n",
       "      <td>3</td>\n",
       "      <td>2016-09-01 03:59:59</td>\n",
       "      <td>215.336236</td>\n",
       "      <td>12.006805</td>\n",
       "      <td>7.640000</td>\n",
       "      <td>0.863514</td>\n",
       "      <td>1399.618111</td>\n",
       "      <td>-498.863574</td>\n",
       "      <td>1397.440120</td>\n",
       "      <td>-499.211024</td>\n",
       "      <td>1400.129303</td>\n",
       "      <td>...</td>\n",
       "      <td>12.033091</td>\n",
       "      <td>-498.350935</td>\n",
       "      <td>8.074946</td>\n",
       "      <td>-499.474407</td>\n",
       "      <td>7.897085</td>\n",
       "      <td>-500.868509</td>\n",
       "      <td>4.931400</td>\n",
       "      <td>-499.963623</td>\n",
       "      <td>24.948919</td>\n",
       "      <td>-498.709987</td>\n",
       "    </tr>\n",
       "    <tr>\n",
       "      <td>4</td>\n",
       "      <td>2016-09-01 04:59:59</td>\n",
       "      <td>199.099327</td>\n",
       "      <td>10.682530</td>\n",
       "      <td>7.530000</td>\n",
       "      <td>0.805575</td>\n",
       "      <td>1401.268123</td>\n",
       "      <td>-500.808305</td>\n",
       "      <td>1398.128818</td>\n",
       "      <td>-499.504543</td>\n",
       "      <td>1402.172226</td>\n",
       "      <td>...</td>\n",
       "      <td>12.025367</td>\n",
       "      <td>-500.786497</td>\n",
       "      <td>8.054678</td>\n",
       "      <td>-500.397500</td>\n",
       "      <td>8.107890</td>\n",
       "      <td>-509.526725</td>\n",
       "      <td>4.957674</td>\n",
       "      <td>-500.360026</td>\n",
       "      <td>25.003331</td>\n",
       "      <td>-500.856333</td>\n",
       "    </tr>\n",
       "  </tbody>\n",
       "</table>\n",
       "<p>5 rows × 53 columns</p>\n",
       "</div>"
      ],
      "text/plain": [
       "                  date  primary_cleaner.input.sulfate  \\\n",
       "0  2016-09-01 00:59:59                     210.800909   \n",
       "1  2016-09-01 01:59:59                     215.392455   \n",
       "2  2016-09-01 02:59:59                     215.259946   \n",
       "3  2016-09-01 03:59:59                     215.336236   \n",
       "4  2016-09-01 04:59:59                     199.099327   \n",
       "\n",
       "   primary_cleaner.input.depressant  primary_cleaner.input.feed_size  \\\n",
       "0                         14.993118                         8.080000   \n",
       "1                         14.987471                         8.080000   \n",
       "2                         12.884934                         7.786667   \n",
       "3                         12.006805                         7.640000   \n",
       "4                         10.682530                         7.530000   \n",
       "\n",
       "   primary_cleaner.input.xanthate  primary_cleaner.state.floatbank8_a_air  \\\n",
       "0                        1.005021                             1398.981301   \n",
       "1                        0.990469                             1398.777912   \n",
       "2                        0.996043                             1398.493666   \n",
       "3                        0.863514                             1399.618111   \n",
       "4                        0.805575                             1401.268123   \n",
       "\n",
       "   primary_cleaner.state.floatbank8_a_level  \\\n",
       "0                               -500.225577   \n",
       "1                               -500.057435   \n",
       "2                               -500.868360   \n",
       "3                               -498.863574   \n",
       "4                               -500.808305   \n",
       "\n",
       "   primary_cleaner.state.floatbank8_b_air  \\\n",
       "0                             1399.144926   \n",
       "1                             1398.055362   \n",
       "2                             1398.860436   \n",
       "3                             1397.440120   \n",
       "4                             1398.128818   \n",
       "\n",
       "   primary_cleaner.state.floatbank8_b_level  \\\n",
       "0                               -499.919735   \n",
       "1                               -499.778182   \n",
       "2                               -499.764529   \n",
       "3                               -499.211024   \n",
       "4                               -499.504543   \n",
       "\n",
       "   primary_cleaner.state.floatbank8_c_air  ...  \\\n",
       "0                             1400.102998  ...   \n",
       "1                             1396.151033  ...   \n",
       "2                             1398.075709  ...   \n",
       "3                             1400.129303  ...   \n",
       "4                             1402.172226  ...   \n",
       "\n",
       "   secondary_cleaner.state.floatbank4_a_air  \\\n",
       "0                                 12.023554   \n",
       "1                                 12.058140   \n",
       "2                                 11.962366   \n",
       "3                                 12.033091   \n",
       "4                                 12.025367   \n",
       "\n",
       "   secondary_cleaner.state.floatbank4_a_level  \\\n",
       "0                                 -497.795834   \n",
       "1                                 -498.695773   \n",
       "2                                 -498.767484   \n",
       "3                                 -498.350935   \n",
       "4                                 -500.786497   \n",
       "\n",
       "   secondary_cleaner.state.floatbank4_b_air  \\\n",
       "0                                  8.016656   \n",
       "1                                  8.130979   \n",
       "2                                  8.096893   \n",
       "3                                  8.074946   \n",
       "4                                  8.054678   \n",
       "\n",
       "   secondary_cleaner.state.floatbank4_b_level  \\\n",
       "0                                 -501.289139   \n",
       "1                                 -499.634209   \n",
       "2                                 -500.827423   \n",
       "3                                 -499.474407   \n",
       "4                                 -500.397500   \n",
       "\n",
       "   secondary_cleaner.state.floatbank5_a_air  \\\n",
       "0                                  7.946562   \n",
       "1                                  7.958270   \n",
       "2                                  8.071056   \n",
       "3                                  7.897085   \n",
       "4                                  8.107890   \n",
       "\n",
       "   secondary_cleaner.state.floatbank5_a_level  \\\n",
       "0                                 -432.317850   \n",
       "1                                 -525.839648   \n",
       "2                                 -500.801673   \n",
       "3                                 -500.868509   \n",
       "4                                 -509.526725   \n",
       "\n",
       "   secondary_cleaner.state.floatbank5_b_air  \\\n",
       "0                                  4.872511   \n",
       "1                                  4.878850   \n",
       "2                                  4.905125   \n",
       "3                                  4.931400   \n",
       "4                                  4.957674   \n",
       "\n",
       "   secondary_cleaner.state.floatbank5_b_level  \\\n",
       "0                                 -500.037437   \n",
       "1                                 -500.162375   \n",
       "2                                 -499.828510   \n",
       "3                                 -499.963623   \n",
       "4                                 -500.360026   \n",
       "\n",
       "   secondary_cleaner.state.floatbank6_a_air  \\\n",
       "0                                 26.705889   \n",
       "1                                 25.019940   \n",
       "2                                 24.994862   \n",
       "3                                 24.948919   \n",
       "4                                 25.003331   \n",
       "\n",
       "   secondary_cleaner.state.floatbank6_a_level  \n",
       "0                                 -499.709414  \n",
       "1                                 -499.819438  \n",
       "2                                 -500.622559  \n",
       "3                                 -498.709987  \n",
       "4                                 -500.856333  \n",
       "\n",
       "[5 rows x 53 columns]"
      ]
     },
     "metadata": {},
     "output_type": "display_data"
    }
   ],
   "source": [
    "print()\n",
    "print('-------------- Исходные данные --------------')\n",
    "print()\n",
    "display(gold_recovery_full.head())\n",
    "\n",
    "print()\n",
    "print('-------------- Обучающая выборка --------------')\n",
    "print()\n",
    "display(gold_recovery_train.head())\n",
    "\n",
    "print()\n",
    "print('-------------- Тестовая выборка --------------')\n",
    "print()\n",
    "display(gold_recovery_test.head())"
   ]
  },
  {
   "cell_type": "markdown",
   "metadata": {},
   "source": [
    "- Проверим, что эффективность обогащения рассчитана правильно"
   ]
  },
  {
   "cell_type": "code",
   "execution_count": 7,
   "metadata": {},
   "outputs": [
    {
     "data": {
      "text/html": [
       "<div>\n",
       "<style scoped>\n",
       "    .dataframe tbody tr th:only-of-type {\n",
       "        vertical-align: middle;\n",
       "    }\n",
       "\n",
       "    .dataframe tbody tr th {\n",
       "        vertical-align: top;\n",
       "    }\n",
       "\n",
       "    .dataframe thead th {\n",
       "        text-align: right;\n",
       "    }\n",
       "</style>\n",
       "<table border=\"1\" class=\"dataframe\">\n",
       "  <thead>\n",
       "    <tr style=\"text-align: right;\">\n",
       "      <th></th>\n",
       "      <th>rougher.input.feed_au</th>\n",
       "      <th>rougher.output.concentrate_au</th>\n",
       "      <th>rougher.output.tail_au</th>\n",
       "      <th>rougher.output.recovery</th>\n",
       "    </tr>\n",
       "  </thead>\n",
       "  <tbody>\n",
       "    <tr>\n",
       "      <td>0</td>\n",
       "      <td>6.486150</td>\n",
       "      <td>19.793808</td>\n",
       "      <td>1.170244</td>\n",
       "      <td>87.107763</td>\n",
       "    </tr>\n",
       "    <tr>\n",
       "      <td>1</td>\n",
       "      <td>6.478583</td>\n",
       "      <td>20.050975</td>\n",
       "      <td>1.184827</td>\n",
       "      <td>86.843261</td>\n",
       "    </tr>\n",
       "    <tr>\n",
       "      <td>2</td>\n",
       "      <td>6.362222</td>\n",
       "      <td>19.737170</td>\n",
       "      <td>1.162562</td>\n",
       "      <td>86.842308</td>\n",
       "    </tr>\n",
       "    <tr>\n",
       "      <td>3</td>\n",
       "      <td>6.118189</td>\n",
       "      <td>19.320810</td>\n",
       "      <td>1.079755</td>\n",
       "      <td>87.226430</td>\n",
       "    </tr>\n",
       "    <tr>\n",
       "      <td>4</td>\n",
       "      <td>5.663707</td>\n",
       "      <td>19.216101</td>\n",
       "      <td>1.012642</td>\n",
       "      <td>86.688794</td>\n",
       "    </tr>\n",
       "    <tr>\n",
       "      <td>...</td>\n",
       "      <td>...</td>\n",
       "      <td>...</td>\n",
       "      <td>...</td>\n",
       "      <td>...</td>\n",
       "    </tr>\n",
       "    <tr>\n",
       "      <td>16855</td>\n",
       "      <td>5.335862</td>\n",
       "      <td>18.603550</td>\n",
       "      <td>0.748633</td>\n",
       "      <td>89.574376</td>\n",
       "    </tr>\n",
       "    <tr>\n",
       "      <td>16856</td>\n",
       "      <td>4.838619</td>\n",
       "      <td>18.441436</td>\n",
       "      <td>0.771582</td>\n",
       "      <td>87.724007</td>\n",
       "    </tr>\n",
       "    <tr>\n",
       "      <td>16857</td>\n",
       "      <td>4.525061</td>\n",
       "      <td>15.111231</td>\n",
       "      <td>0.685059</td>\n",
       "      <td>88.890579</td>\n",
       "    </tr>\n",
       "    <tr>\n",
       "      <td>16858</td>\n",
       "      <td>4.362781</td>\n",
       "      <td>17.834772</td>\n",
       "      <td>0.567130</td>\n",
       "      <td>89.858126</td>\n",
       "    </tr>\n",
       "    <tr>\n",
       "      <td>16859</td>\n",
       "      <td>4.365491</td>\n",
       "      <td>17.804134</td>\n",
       "      <td>0.586439</td>\n",
       "      <td>89.514960</td>\n",
       "    </tr>\n",
       "  </tbody>\n",
       "</table>\n",
       "<p>16860 rows × 4 columns</p>\n",
       "</div>"
      ],
      "text/plain": [
       "       rougher.input.feed_au  rougher.output.concentrate_au  \\\n",
       "0                   6.486150                      19.793808   \n",
       "1                   6.478583                      20.050975   \n",
       "2                   6.362222                      19.737170   \n",
       "3                   6.118189                      19.320810   \n",
       "4                   5.663707                      19.216101   \n",
       "...                      ...                            ...   \n",
       "16855               5.335862                      18.603550   \n",
       "16856               4.838619                      18.441436   \n",
       "16857               4.525061                      15.111231   \n",
       "16858               4.362781                      17.834772   \n",
       "16859               4.365491                      17.804134   \n",
       "\n",
       "       rougher.output.tail_au  rougher.output.recovery  \n",
       "0                    1.170244                87.107763  \n",
       "1                    1.184827                86.843261  \n",
       "2                    1.162562                86.842308  \n",
       "3                    1.079755                87.226430  \n",
       "4                    1.012642                86.688794  \n",
       "...                       ...                      ...  \n",
       "16855                0.748633                89.574376  \n",
       "16856                0.771582                87.724007  \n",
       "16857                0.685059                88.890579  \n",
       "16858                0.567130                89.858126  \n",
       "16859                0.586439                89.514960  \n",
       "\n",
       "[16860 rows x 4 columns]"
      ]
     },
     "metadata": {},
     "output_type": "display_data"
    }
   ],
   "source": [
    "display(gold_recovery_train[['rougher.input.feed_au','rougher.output.concentrate_au', 'rougher.output.tail_au', 'rougher.output.recovery']])"
   ]
  },
  {
   "cell_type": "markdown",
   "metadata": {},
   "source": [
    "- Напишем функцию для расчета эффективности обогащения"
   ]
  },
  {
   "cell_type": "code",
   "execution_count": 8,
   "metadata": {},
   "outputs": [],
   "source": [
    "def recovery(row):\n",
    "    \n",
    "    f = row[0]\n",
    "    c = row[1]\n",
    "    t = row[2]\n",
    "    \n",
    "    rec = c*(f-t)/f/(c-t)*100\n",
    "    \n",
    "    return rec"
   ]
  },
  {
   "cell_type": "code",
   "execution_count": 9,
   "metadata": {},
   "outputs": [
    {
     "data": {
      "text/html": [
       "<div>\n",
       "<style scoped>\n",
       "    .dataframe tbody tr th:only-of-type {\n",
       "        vertical-align: middle;\n",
       "    }\n",
       "\n",
       "    .dataframe tbody tr th {\n",
       "        vertical-align: top;\n",
       "    }\n",
       "\n",
       "    .dataframe thead th {\n",
       "        text-align: right;\n",
       "    }\n",
       "</style>\n",
       "<table border=\"1\" class=\"dataframe\">\n",
       "  <thead>\n",
       "    <tr style=\"text-align: right;\">\n",
       "      <th></th>\n",
       "      <th>rougher.output.recovery</th>\n",
       "      <th>rougher.output.recovery_check</th>\n",
       "    </tr>\n",
       "  </thead>\n",
       "  <tbody>\n",
       "    <tr>\n",
       "      <td>0</td>\n",
       "      <td>87.107763</td>\n",
       "      <td>87.107763</td>\n",
       "    </tr>\n",
       "    <tr>\n",
       "      <td>1</td>\n",
       "      <td>86.843261</td>\n",
       "      <td>86.843261</td>\n",
       "    </tr>\n",
       "    <tr>\n",
       "      <td>2</td>\n",
       "      <td>86.842308</td>\n",
       "      <td>86.842308</td>\n",
       "    </tr>\n",
       "    <tr>\n",
       "      <td>3</td>\n",
       "      <td>87.226430</td>\n",
       "      <td>87.226430</td>\n",
       "    </tr>\n",
       "    <tr>\n",
       "      <td>4</td>\n",
       "      <td>86.688794</td>\n",
       "      <td>86.688794</td>\n",
       "    </tr>\n",
       "  </tbody>\n",
       "</table>\n",
       "</div>"
      ],
      "text/plain": [
       "   rougher.output.recovery  rougher.output.recovery_check\n",
       "0                87.107763                      87.107763\n",
       "1                86.843261                      86.843261\n",
       "2                86.842308                      86.842308\n",
       "3                87.226430                      87.226430\n",
       "4                86.688794                      86.688794"
      ]
     },
     "metadata": {},
     "output_type": "display_data"
    }
   ],
   "source": [
    "warnings.filterwarnings('ignore')\n",
    "\n",
    "gold_recovery_train['rougher.output.recovery_check'] = gold_recovery_train[['rougher.input.feed_au','rougher.output.concentrate_au', 'rougher.output.tail_au']].apply(recovery, axis=1)\n",
    "display(gold_recovery_train[['rougher.output.recovery', 'rougher.output.recovery_check']].head(5))"
   ]
  },
  {
   "cell_type": "code",
   "execution_count": 10,
   "metadata": {},
   "outputs": [
    {
     "name": "stdout",
     "output_type": "stream",
     "text": [
      "Количество предоставленных значений эффективности в обучающей выборке:  14287\n",
      "\n",
      "Количество рассчитанных значений эффективности в обучающей выборке:  14577\n"
     ]
    }
   ],
   "source": [
    "print('Количество предоставленных значений эффективности в обучающей выборке: ', gold_recovery_train['rougher.output.recovery'].count())\n",
    "print()\n",
    "print('Количество рассчитанных значений эффективности в обучающей выборке: ', gold_recovery_train['rougher.output.recovery_check'].count())"
   ]
  },
  {
   "cell_type": "markdown",
   "metadata": {},
   "source": [
    "- Количество рассчитанных значений эффективности в обучающей выборке больше, чем предоставленных, следовательно в исходных данных есть пропущенные значения этого параметра"
   ]
  },
  {
   "cell_type": "markdown",
   "metadata": {},
   "source": [
    "- Определим MAE (Mean Average Error) между предоставленными значениями эффективности и рассчитанными по формуле    "
   ]
  },
  {
   "cell_type": "code",
   "execution_count": 11,
   "metadata": {},
   "outputs": [
    {
     "name": "stdout",
     "output_type": "stream",
     "text": [
      "MAE между предоставленными и рассчитанными значениями эффективности = 0.0\n"
     ]
    }
   ],
   "source": [
    "print('MAE между предоставленными и рассчитанными значениями эффективности =', round(mean_absolute_error(gold_recovery_train['rougher.output.recovery'].dropna(), gold_recovery_train['rougher.output.recovery_check'].loc[gold_recovery_train['rougher.output.recovery'].dropna().index]),6))"
   ]
  },
  {
   "cell_type": "markdown",
   "metadata": {},
   "source": [
    "- MAE между предоставленными и рассчитанными значениями эффективности равно 0 до степени точности данных\n",
    "\n",
    "\n",
    "- Следовательно, часть пропущенных значений эффектинвости можно рассчитать по формуле"
   ]
  },
  {
   "cell_type": "code",
   "execution_count": 12,
   "metadata": {},
   "outputs": [],
   "source": [
    " gold_recovery_train.drop(['rougher.output.recovery_check'], axis=1, inplace=True)"
   ]
  },
  {
   "cell_type": "markdown",
   "metadata": {},
   "source": [
    "- Удалим нулейвые и пропущенные значения из обучающей выборки"
   ]
  },
  {
   "cell_type": "code",
   "execution_count": 13,
   "metadata": {},
   "outputs": [
    {
     "name": "stdout",
     "output_type": "stream",
     "text": [
      "<class 'pandas.core.frame.DataFrame'>\n",
      "Int64Index: 11017 entries, 0 to 16859\n",
      "Data columns (total 87 columns):\n",
      "date                                                  11017 non-null object\n",
      "final.output.concentrate_ag                           11017 non-null float64\n",
      "final.output.concentrate_pb                           11017 non-null float64\n",
      "final.output.concentrate_sol                          11017 non-null float64\n",
      "final.output.concentrate_au                           11017 non-null float64\n",
      "final.output.recovery                                 11017 non-null float64\n",
      "final.output.tail_ag                                  11017 non-null float64\n",
      "final.output.tail_pb                                  11017 non-null float64\n",
      "final.output.tail_sol                                 11017 non-null float64\n",
      "final.output.tail_au                                  11017 non-null float64\n",
      "primary_cleaner.input.sulfate                         11017 non-null float64\n",
      "primary_cleaner.input.depressant                      11017 non-null float64\n",
      "primary_cleaner.input.feed_size                       11017 non-null float64\n",
      "primary_cleaner.input.xanthate                        11017 non-null float64\n",
      "primary_cleaner.output.concentrate_ag                 11017 non-null float64\n",
      "primary_cleaner.output.concentrate_pb                 11017 non-null float64\n",
      "primary_cleaner.output.concentrate_sol                11017 non-null float64\n",
      "primary_cleaner.output.concentrate_au                 11017 non-null float64\n",
      "primary_cleaner.output.tail_ag                        11017 non-null float64\n",
      "primary_cleaner.output.tail_pb                        11017 non-null float64\n",
      "primary_cleaner.output.tail_sol                       11017 non-null float64\n",
      "primary_cleaner.output.tail_au                        11017 non-null float64\n",
      "primary_cleaner.state.floatbank8_a_air                11017 non-null float64\n",
      "primary_cleaner.state.floatbank8_a_level              11017 non-null float64\n",
      "primary_cleaner.state.floatbank8_b_air                11017 non-null float64\n",
      "primary_cleaner.state.floatbank8_b_level              11017 non-null float64\n",
      "primary_cleaner.state.floatbank8_c_air                11017 non-null float64\n",
      "primary_cleaner.state.floatbank8_c_level              11017 non-null float64\n",
      "primary_cleaner.state.floatbank8_d_air                11017 non-null float64\n",
      "primary_cleaner.state.floatbank8_d_level              11017 non-null float64\n",
      "rougher.calculation.sulfate_to_au_concentrate         11017 non-null float64\n",
      "rougher.calculation.floatbank10_sulfate_to_au_feed    11017 non-null float64\n",
      "rougher.calculation.floatbank11_sulfate_to_au_feed    11017 non-null float64\n",
      "rougher.calculation.au_pb_ratio                       11017 non-null float64\n",
      "rougher.input.feed_ag                                 11017 non-null float64\n",
      "rougher.input.feed_pb                                 11017 non-null float64\n",
      "rougher.input.feed_rate                               11017 non-null float64\n",
      "rougher.input.feed_size                               11017 non-null float64\n",
      "rougher.input.feed_sol                                11017 non-null float64\n",
      "rougher.input.feed_au                                 11017 non-null float64\n",
      "rougher.input.floatbank10_sulfate                     11017 non-null float64\n",
      "rougher.input.floatbank10_xanthate                    11017 non-null float64\n",
      "rougher.input.floatbank11_sulfate                     11017 non-null float64\n",
      "rougher.input.floatbank11_xanthate                    11017 non-null float64\n",
      "rougher.output.concentrate_ag                         11017 non-null float64\n",
      "rougher.output.concentrate_pb                         11017 non-null float64\n",
      "rougher.output.concentrate_sol                        11017 non-null float64\n",
      "rougher.output.concentrate_au                         11017 non-null float64\n",
      "rougher.output.recovery                               11017 non-null float64\n",
      "rougher.output.tail_ag                                11017 non-null float64\n",
      "rougher.output.tail_pb                                11017 non-null float64\n",
      "rougher.output.tail_sol                               11017 non-null float64\n",
      "rougher.output.tail_au                                11017 non-null float64\n",
      "rougher.state.floatbank10_a_air                       11017 non-null float64\n",
      "rougher.state.floatbank10_a_level                     11017 non-null float64\n",
      "rougher.state.floatbank10_b_air                       11017 non-null float64\n",
      "rougher.state.floatbank10_b_level                     11017 non-null float64\n",
      "rougher.state.floatbank10_c_air                       11017 non-null float64\n",
      "rougher.state.floatbank10_c_level                     11017 non-null float64\n",
      "rougher.state.floatbank10_d_air                       11017 non-null float64\n",
      "rougher.state.floatbank10_d_level                     11017 non-null float64\n",
      "rougher.state.floatbank10_e_air                       11017 non-null float64\n",
      "rougher.state.floatbank10_e_level                     11017 non-null float64\n",
      "rougher.state.floatbank10_f_air                       11017 non-null float64\n",
      "rougher.state.floatbank10_f_level                     11017 non-null float64\n",
      "secondary_cleaner.output.tail_ag                      11017 non-null float64\n",
      "secondary_cleaner.output.tail_pb                      11017 non-null float64\n",
      "secondary_cleaner.output.tail_sol                     11017 non-null float64\n",
      "secondary_cleaner.output.tail_au                      11017 non-null float64\n",
      "secondary_cleaner.state.floatbank2_a_air              11017 non-null float64\n",
      "secondary_cleaner.state.floatbank2_a_level            11017 non-null float64\n",
      "secondary_cleaner.state.floatbank2_b_air              11017 non-null float64\n",
      "secondary_cleaner.state.floatbank2_b_level            11017 non-null float64\n",
      "secondary_cleaner.state.floatbank3_a_air              11017 non-null float64\n",
      "secondary_cleaner.state.floatbank3_a_level            11017 non-null float64\n",
      "secondary_cleaner.state.floatbank3_b_air              11017 non-null float64\n",
      "secondary_cleaner.state.floatbank3_b_level            11017 non-null float64\n",
      "secondary_cleaner.state.floatbank4_a_air              11017 non-null float64\n",
      "secondary_cleaner.state.floatbank4_a_level            11017 non-null float64\n",
      "secondary_cleaner.state.floatbank4_b_air              11017 non-null float64\n",
      "secondary_cleaner.state.floatbank4_b_level            11017 non-null float64\n",
      "secondary_cleaner.state.floatbank5_a_air              11017 non-null float64\n",
      "secondary_cleaner.state.floatbank5_a_level            11017 non-null float64\n",
      "secondary_cleaner.state.floatbank5_b_air              11017 non-null float64\n",
      "secondary_cleaner.state.floatbank5_b_level            11017 non-null float64\n",
      "secondary_cleaner.state.floatbank6_a_air              11017 non-null float64\n",
      "secondary_cleaner.state.floatbank6_a_level            11017 non-null float64\n",
      "dtypes: float64(86), object(1)\n",
      "memory usage: 7.4+ MB\n"
     ]
    }
   ],
   "source": [
    "gold_recovery_train.dropna(inplace=True)\n",
    "gold_recovery_train.info()"
   ]
  },
  {
   "cell_type": "markdown",
   "metadata": {},
   "source": [
    "- Оценим распределения выходных параметров rougher.output.recovery и final.output.recovery"
   ]
  },
  {
   "cell_type": "code",
   "execution_count": 14,
   "metadata": {},
   "outputs": [
    {
     "data": {
      "image/png": "[encoded data removed]",
      "text/plain": [
       "<Figure size 720x720 with 2 Axes>"
      ]
     },
     "metadata": {
      "needs_background": "light"
     },
     "output_type": "display_data"
    }
   ],
   "source": [
    "fig, (ax1, ax2) = plt.subplots(nrows=2, ncols=1, figsize=(10, 10), sharex=True)\n",
    "\n",
    "sns.distplot(gold_recovery_train['rougher.output.recovery'], ax=ax1, color='steelblue')\n",
    "sns.distplot(gold_recovery_train['final.output.recovery'], ax=ax2, color='goldenrod')\n",
    "\n",
    "ax1.set_xlabel('Эффективность обогащения после флотации', fontsize=12)\n",
    "ax2.set_xlabel('Эффективность обогащения финальная', fontsize=12)\n",
    "\n",
    "ax1.set_xlim([0, 100])\n",
    "\n",
    "fig.suptitle('Распределения эффективности обогащения для обучающей выборки', fontsize=16)\n",
    "plt.show()"
   ]
  },
  {
   "cell_type": "markdown",
   "metadata": {},
   "source": [
    "- В распределениях эффективности обогащения присутсвуют нулевые значения, которые больше похоже на выбросы и вряд ли соотвествуют реальному процессу, поэтому удалим их"
   ]
  },
  {
   "cell_type": "code",
   "execution_count": 15,
   "metadata": {},
   "outputs": [],
   "source": [
    "gold_recovery_train = gold_recovery_train[(gold_recovery_train['rougher.output.recovery']>0) & (gold_recovery_train['final.output.recovery']>0)]"
   ]
  },
  {
   "cell_type": "markdown",
   "metadata": {},
   "source": [
    "- Проанализируем признаки, недоступные в тестовой выборке\n",
    "\n",
    "\n",
    "- Разделим все признаки на 4 категории:\n",
    "\n",
    "    1. rougher — флотация\n",
    "    2. primary_cleaner — первичная очистка\n",
    "    3. secondary_cleaner — вторичная очистка\n",
    "    4. final — финальные характеристики\n",
    "    \n"
   ]
  },
  {
   "cell_type": "code",
   "execution_count": 16,
   "metadata": {},
   "outputs": [
    {
     "name": "stdout",
     "output_type": "stream",
     "text": [
      "Признаки этапа флотация, не представленные в тестовой выборке:\n"
     ]
    },
    {
     "data": {
      "text/plain": [
       "['rougher.calculation.sulfate_to_au_concentrate',\n",
       " 'rougher.calculation.floatbank10_sulfate_to_au_feed',\n",
       " 'rougher.calculation.floatbank11_sulfate_to_au_feed',\n",
       " 'rougher.calculation.au_pb_ratio',\n",
       " 'rougher.output.concentrate_ag',\n",
       " 'rougher.output.concentrate_pb',\n",
       " 'rougher.output.concentrate_sol',\n",
       " 'rougher.output.concentrate_au',\n",
       " 'rougher.output.recovery',\n",
       " 'rougher.output.tail_ag',\n",
       " 'rougher.output.tail_pb',\n",
       " 'rougher.output.tail_sol',\n",
       " 'rougher.output.tail_au']"
      ]
     },
     "metadata": {},
     "output_type": "display_data"
    }
   ],
   "source": [
    "rougher_train_cols = [col for col in gold_recovery_train.columns if 'rougher' in col]\n",
    "rougher_test_cols = [col for col in gold_recovery_test.columns if 'rougher' in col]\n",
    "\n",
    "rougher_test_missing_col = []\n",
    "\n",
    "for i in range(len(rougher_train_cols)):\n",
    "    if (rougher_train_cols[i] in rougher_test_cols)==False:\n",
    "        rougher_test_missing_col.append(rougher_train_cols[i])\n",
    "    i=+1\n",
    "\n",
    "print('Признаки этапа флотация, не представленные в тестовой выборке:')\n",
    "\n",
    "display(rougher_test_missing_col)"
   ]
  },
  {
   "cell_type": "markdown",
   "metadata": {},
   "source": [
    "- Для этапа фтолации в тестовой выборке не представлены признаки:\n",
    "\n",
    "    1. Характеристики системы (calculation)\n",
    "    2. Выходная концентрации веществ (output.concentrate)\n",
    "    3. Выходная концентрации веществ в хвостах (output.tail)\n",
    "    4. Эффективность обогащения (output.recovery)"
   ]
  },
  {
   "cell_type": "code",
   "execution_count": 17,
   "metadata": {},
   "outputs": [
    {
     "name": "stdout",
     "output_type": "stream",
     "text": [
      "Признаки этапа первичной очистки, не представленные в тестовой выборке:\n"
     ]
    },
    {
     "data": {
      "text/plain": [
       "['primary_cleaner.output.concentrate_ag',\n",
       " 'primary_cleaner.output.concentrate_pb',\n",
       " 'primary_cleaner.output.concentrate_sol',\n",
       " 'primary_cleaner.output.concentrate_au',\n",
       " 'primary_cleaner.output.tail_ag',\n",
       " 'primary_cleaner.output.tail_pb',\n",
       " 'primary_cleaner.output.tail_sol',\n",
       " 'primary_cleaner.output.tail_au']"
      ]
     },
     "metadata": {},
     "output_type": "display_data"
    }
   ],
   "source": [
    "primary_cleaner_train_cols = [col for col in gold_recovery_train.columns if 'primary_cleaner' in col]\n",
    "primary_cleaner_test_cols = [col for col in gold_recovery_test.columns if 'primary_cleaner' in col]\n",
    "\n",
    "primary_cleaner_test_missing_col = []\n",
    "\n",
    "for i in range(len(primary_cleaner_train_cols)):\n",
    "    if (primary_cleaner_train_cols[i] in primary_cleaner_test_cols)==False:\n",
    "        primary_cleaner_test_missing_col.append(primary_cleaner_train_cols[i])\n",
    "    i=+1\n",
    "\n",
    "print('Признаки этапа первичной очистки, не представленные в тестовой выборке:')\n",
    "\n",
    "display(primary_cleaner_test_missing_col)"
   ]
  },
  {
   "cell_type": "markdown",
   "metadata": {},
   "source": [
    "- Для этапа первичной очистки в тестовой выборке не представлены признаки:\n",
    "\n",
    "    1. Выходная концентрации веществ (output.concentrate)\n",
    "    2. Выходная концентрации веществ в хвостах (output.tail)\n"
   ]
  },
  {
   "cell_type": "code",
   "execution_count": 18,
   "metadata": {},
   "outputs": [
    {
     "name": "stdout",
     "output_type": "stream",
     "text": [
      "Признаки этапа вторичной очистки, не представленные в тестовой выборке:\n"
     ]
    },
    {
     "data": {
      "text/plain": [
       "['secondary_cleaner.output.tail_ag',\n",
       " 'secondary_cleaner.output.tail_pb',\n",
       " 'secondary_cleaner.output.tail_sol',\n",
       " 'secondary_cleaner.output.tail_au']"
      ]
     },
     "metadata": {},
     "output_type": "display_data"
    }
   ],
   "source": [
    "secondary_cleaner_train_cols = [col for col in gold_recovery_train.columns if 'secondary_cleaner' in col]\n",
    "secondary_cleaner_test_cols = [col for col in gold_recovery_test.columns if 'secondary_cleaner' in col]\n",
    "\n",
    "secondary_cleaner_test_missing_col = []\n",
    "\n",
    "for i in range(len(secondary_cleaner_train_cols)):\n",
    "    if (secondary_cleaner_train_cols[i] in secondary_cleaner_test_cols)==False:\n",
    "        secondary_cleaner_test_missing_col.append(secondary_cleaner_train_cols[i])\n",
    "    i=+1\n",
    "\n",
    "print('Признаки этапа вторичной очистки, не представленные в тестовой выборке:')\n",
    "\n",
    "display(secondary_cleaner_test_missing_col)"
   ]
  },
  {
   "cell_type": "markdown",
   "metadata": {},
   "source": [
    "- Для этапа первичной очистки в тестовой выборке не представлены признаки:\n",
    "\n",
    "    1. Выходная концентрации веществ (output.concentrate)\n"
   ]
  },
  {
   "cell_type": "code",
   "execution_count": 19,
   "metadata": {
    "scrolled": true
   },
   "outputs": [
    {
     "name": "stdout",
     "output_type": "stream",
     "text": [
      "Признаки финальные, не представленные в тестовой выборке:\n"
     ]
    },
    {
     "data": {
      "text/plain": [
       "['final.output.concentrate_ag',\n",
       " 'final.output.concentrate_pb',\n",
       " 'final.output.concentrate_sol',\n",
       " 'final.output.concentrate_au',\n",
       " 'final.output.recovery',\n",
       " 'final.output.tail_ag',\n",
       " 'final.output.tail_pb',\n",
       " 'final.output.tail_sol',\n",
       " 'final.output.tail_au']"
      ]
     },
     "metadata": {},
     "output_type": "display_data"
    }
   ],
   "source": [
    "final_train_cols = [col for col in gold_recovery_train.columns if 'final' in col]\n",
    "final_test_cols = [col for col in gold_recovery_test.columns if 'final' in col]\n",
    "\n",
    "final_test_missing_col = []\n",
    "\n",
    "for i in range(len(final_train_cols)):\n",
    "    if (final_train_cols[i] in final_test_cols)==False:\n",
    "        final_test_missing_col.append(final_train_cols[i])\n",
    "    i=+1\n",
    "\n",
    "print('Признаки финальные, не представленные в тестовой выборке:')\n",
    "\n",
    "display(final_test_missing_col)"
   ]
  },
  {
   "cell_type": "markdown",
   "metadata": {},
   "source": [
    "- Среди финальных характеристик в тестовой выборке не представлены признаки:\n",
    "\n",
    "    1. Выходная концентрации веществ (output.concentrate)\n",
    "    2. Выходная концентрации веществ в хвостах (output.tail)\n",
    "    3. Эффективность обогащения (output.recovery)"
   ]
  },
  {
   "cell_type": "markdown",
   "metadata": {},
   "source": [
    "- В целом в тестовой выборке отсутствуют выходные параметры различных этапов"
   ]
  },
  {
   "cell_type": "code",
   "execution_count": 20,
   "metadata": {},
   "outputs": [],
   "source": [
    "missing_columns = rougher_test_missing_col + primary_cleaner_test_missing_col + secondary_cleaner_test_missing_col + final_test_missing_col"
   ]
  },
  {
   "cell_type": "markdown",
   "metadata": {},
   "source": [
    "# 2. Анализ данных"
   ]
  },
  {
   "cell_type": "markdown",
   "metadata": {},
   "source": [
    "- Посмотрим, как меняется концентрация металлов (Au, Ag, Pb) на различных этапах очистки"
   ]
  },
  {
   "cell_type": "code",
   "execution_count": 21,
   "metadata": {},
   "outputs": [
    {
     "data": {
      "image/png": "[encoded data removed]",
      "text/plain": [
       "<Figure size 1224x288 with 3 Axes>"
      ]
     },
     "metadata": {
      "needs_background": "light"
     },
     "output_type": "display_data"
    },
    {
     "data": {
      "image/png": "[encoded data removed]",
      "text/plain": [
       "<Figure size 1224x288 with 3 Axes>"
      ]
     },
     "metadata": {
      "needs_background": "light"
     },
     "output_type": "display_data"
    },
    {
     "data": {
      "image/png": "[encoded data removed]",
      "text/plain": [
       "<Figure size 1224x288 with 3 Axes>"
      ]
     },
     "metadata": {
      "needs_background": "light"
     },
     "output_type": "display_data"
    }
   ],
   "source": [
    "stages = ['rougher', 'primary_cleaner', 'final']\n",
    "metals = ['au', 'ag', 'pb']\n",
    "colors = ['goldenrod', 'limegreen', 'steelblue']\n",
    "\n",
    "for metal in metals:\n",
    "    i = 0\n",
    "    fig, ax = plt.subplots(nrows=1, ncols=3, figsize=(17, 4), sharex=True)\n",
    "\n",
    "    for stage in stages:\n",
    "        sns.distplot(gold_recovery_train[stage+'.output.concentrate_'+metal], ax=ax[i], color=colors[i])\n",
    "        ax[i].set_xlabel('Этап '+stage, fontsize=12)\n",
    "        i+=1\n",
    "\n",
    "    fig.suptitle('Концентрация металла '+metal, fontsize=16)\n",
    "    plt.show()"
   ]
  },
  {
   "cell_type": "markdown",
   "metadata": {},
   "source": [
    "- Концентрация Au увеличивается более чем в 2 раза на финальном этапе\n",
    "\n",
    "- Концентрация Ag уменьшается более чем в 2 раза\n",
    "\n",
    "- Концентрация Pb практически не меняется"
   ]
  },
  {
   "cell_type": "markdown",
   "metadata": {},
   "source": [
    "- Сравним распределения размеров гранул сырья на обучающей и тестовой выборках"
   ]
  },
  {
   "cell_type": "code",
   "execution_count": 22,
   "metadata": {},
   "outputs": [
    {
     "data": {
      "image/png": "[encoded data removed]",
      "text/plain": [
       "<Figure size 1224x288 with 2 Axes>"
      ]
     },
     "metadata": {
      "needs_background": "light"
     },
     "output_type": "display_data"
    },
    {
     "data": {
      "image/png": "[encoded data removed]",
      "text/plain": [
       "<Figure size 1224x288 with 2 Axes>"
      ]
     },
     "metadata": {
      "needs_background": "light"
     },
     "output_type": "display_data"
    }
   ],
   "source": [
    "stages = ['rougher', 'primary_cleaner']\n",
    "\n",
    "for stage in stages:\n",
    "    fig, (ax1, ax2) = plt.subplots(nrows=1, ncols=2, figsize=(17, 4), sharex=True)\n",
    "\n",
    "    sns.distplot(gold_recovery_train[stage+'.input.feed_size'], ax=ax1, color='steelblue')\n",
    "    sns.distplot(gold_recovery_test[stage+'.input.feed_size'].dropna(), ax=ax2, color='limegreen')\n",
    "\n",
    "    ax1.set_xlabel('Обучающая выборка', fontsize=12)\n",
    "    ax2.set_xlabel('Тестовая выборка', fontsize=12)\n",
    "\n",
    "    fig.suptitle('Распределения размеров гранул сырья на обучающей и тестовой выборках на этапе '+stage, fontsize=16)\n",
    "    plt.show()"
   ]
  },
  {
   "cell_type": "markdown",
   "metadata": {},
   "source": [
    "- Распределения размеров гранул сырья на обучающей и тестовой выборках сопоставимы"
   ]
  },
  {
   "cell_type": "markdown",
   "metadata": {},
   "source": [
    "-  Исследуем суммарную концентрацию всех веществ на разных стадиях: в сырье, в черновом и финальном концентратах"
   ]
  },
  {
   "cell_type": "code",
   "execution_count": 23,
   "metadata": {},
   "outputs": [
    {
     "data": {
      "image/png": "[encoded data removed]",
      "text/plain": [
       "<Figure size 720x288 with 1 Axes>"
      ]
     },
     "metadata": {
      "needs_background": "light"
     },
     "output_type": "display_data"
    },
    {
     "data": {
      "image/png": "[encoded data removed]",
      "text/plain": [
       "<Figure size 720x288 with 1 Axes>"
      ]
     },
     "metadata": {
      "needs_background": "light"
     },
     "output_type": "display_data"
    },
    {
     "data": {
      "image/png": "[encoded data removed]",
      "text/plain": [
       "<Figure size 720x288 with 1 Axes>"
      ]
     },
     "metadata": {
      "needs_background": "light"
     },
     "output_type": "display_data"
    }
   ],
   "source": [
    "stages = ['rougher', 'primary_cleaner', 'final']\n",
    "colors = ['goldenrod', 'limegreen', 'steelblue']\n",
    "\n",
    "i = 0\n",
    "for stage in stages:\n",
    "    \n",
    "    fig, ax = plt.subplots(nrows=1, ncols=1, figsize=(10, 4), sharex=True)\n",
    "    summ_concentration = gold_recovery_train[stage+'.output.concentrate_au']+gold_recovery_train[stage+'.output.concentrate_ag']+gold_recovery_train[stage+'.output.concentrate_pb']\n",
    "    \n",
    "    sns.distplot(summ_concentration, ax=ax, color=colors[i])\n",
    "    \n",
    "    ax.set_xlim([0, 70])\n",
    "    ax.set_xlabel('Этап '+stage, fontsize=12)\n",
    "    fig.suptitle('Суммарная концентрация веществ на этапе '+stage, fontsize=16)\n",
    "    plt.show()\n",
    "    \n",
    "    i+=1"
   ]
  },
  {
   "cell_type": "markdown",
   "metadata": {},
   "source": [
    "- Распределения суммарных концентраций выглядят адекватно, за исключением нулевых аномалий, которые следует удалить из обучающей выборки"
   ]
  },
  {
   "cell_type": "code",
   "execution_count": 24,
   "metadata": {},
   "outputs": [],
   "source": [
    "for stage in stages:\n",
    "\n",
    "    gold_recovery_train = gold_recovery_train.loc[ gold_recovery_train[stage+'.output.concentrate_au']+\n",
    "                                                   gold_recovery_train[stage+'.output.concentrate_ag']+\n",
    "                                                   gold_recovery_train[stage+'.output.concentrate_pb'] >0]"
   ]
  },
  {
   "cell_type": "markdown",
   "metadata": {},
   "source": [
    "# 3. Модель"
   ]
  },
  {
   "cell_type": "markdown",
   "metadata": {},
   "source": [
    "- Перед началом исследования зададим значение генератора псевдослучаных значений"
   ]
  },
  {
   "cell_type": "code",
   "execution_count": 25,
   "metadata": {},
   "outputs": [],
   "source": [
    "random_state = 12345"
   ]
  },
  {
   "cell_type": "markdown",
   "metadata": {},
   "source": [
    "- Напишим функцию для вычисления итоговой sMAPE"
   ]
  },
  {
   "cell_type": "code",
   "execution_count": 26,
   "metadata": {},
   "outputs": [],
   "source": [
    "def sMAPE(true, predict):\n",
    "    error = 1/(len(true))*sum(abs(true - predict)/((abs(true) + abs(predict))/2)) * 100\n",
    "    return error"
   ]
  },
  {
   "cell_type": "markdown",
   "metadata": {},
   "source": [
    "- Обучим модель для этапа флотации\n",
    "\n",
    "\n",
    "- Подготовим обучающую выборку\n",
    "\n",
    "\n",
    "- Оставим только те столбцы, которые относятся к этапу флотации в тестовой выборке и целевой признак обогащения"
   ]
  },
  {
   "cell_type": "code",
   "execution_count": 27,
   "metadata": {
    "scrolled": true
   },
   "outputs": [
    {
     "name": "stdout",
     "output_type": "stream",
     "text": [
      "<class 'pandas.core.frame.DataFrame'>\n",
      "Int64Index: 10737 entries, 0 to 16859\n",
      "Data columns (total 23 columns):\n",
      "rougher.input.feed_ag                 10737 non-null float64\n",
      "rougher.input.feed_pb                 10737 non-null float64\n",
      "rougher.input.feed_rate               10737 non-null float64\n",
      "rougher.input.feed_size               10737 non-null float64\n",
      "rougher.input.feed_sol                10737 non-null float64\n",
      "rougher.input.feed_au                 10737 non-null float64\n",
      "rougher.input.floatbank10_sulfate     10737 non-null float64\n",
      "rougher.input.floatbank10_xanthate    10737 non-null float64\n",
      "rougher.input.floatbank11_sulfate     10737 non-null float64\n",
      "rougher.input.floatbank11_xanthate    10737 non-null float64\n",
      "rougher.state.floatbank10_a_air       10737 non-null float64\n",
      "rougher.state.floatbank10_a_level     10737 non-null float64\n",
      "rougher.state.floatbank10_b_air       10737 non-null float64\n",
      "rougher.state.floatbank10_b_level     10737 non-null float64\n",
      "rougher.state.floatbank10_c_air       10737 non-null float64\n",
      "rougher.state.floatbank10_c_level     10737 non-null float64\n",
      "rougher.state.floatbank10_d_air       10737 non-null float64\n",
      "rougher.state.floatbank10_d_level     10737 non-null float64\n",
      "rougher.state.floatbank10_e_air       10737 non-null float64\n",
      "rougher.state.floatbank10_e_level     10737 non-null float64\n",
      "rougher.state.floatbank10_f_air       10737 non-null float64\n",
      "rougher.state.floatbank10_f_level     10737 non-null float64\n",
      "rougher.output.recovery               10737 non-null float64\n",
      "dtypes: float64(23)\n",
      "memory usage: 2.0 MB\n"
     ]
    }
   ],
   "source": [
    "rougher_columns = []\n",
    "for column in gold_recovery_test.columns:\n",
    "    if 'rougher' in column:\n",
    "        rougher_columns.append(column)\n",
    "\n",
    "train_rougher = gold_recovery_train[rougher_columns+['rougher.output.recovery']]\n",
    "\n",
    "train_rougher.info()"
   ]
  },
  {
   "cell_type": "markdown",
   "metadata": {},
   "source": [
    "- Разделим признаки на обучающей выборке"
   ]
  },
  {
   "cell_type": "code",
   "execution_count": 28,
   "metadata": {},
   "outputs": [],
   "source": [
    "train_features_rougher = train_rougher.drop(['rougher.output.recovery'], axis=1)\n",
    "train_target_rougher = train_rougher['rougher.output.recovery']"
   ]
  },
  {
   "cell_type": "code",
   "execution_count": 29,
   "metadata": {},
   "outputs": [
    {
     "data": {
      "text/plain": [
       "(10737, 22)"
      ]
     },
     "execution_count": 29,
     "metadata": {},
     "output_type": "execute_result"
    }
   ],
   "source": [
    "train_features_rougher.shape"
   ]
  },
  {
   "cell_type": "markdown",
   "metadata": {},
   "source": [
    "- Проведем масштабирование признаков"
   ]
  },
  {
   "cell_type": "code",
   "execution_count": 30,
   "metadata": {},
   "outputs": [],
   "source": [
    "scaler_rougher = MinMaxScaler(feature_range=(0, 1))\n",
    "\n",
    "scaler_rougher.fit(train_features_rougher) \n",
    "\n",
    "train_features_rougher = scaler_rougher.transform(train_features_rougher)"
   ]
  },
  {
   "cell_type": "markdown",
   "metadata": {},
   "source": [
    "- Зададим стратегию кросс-валидации"
   ]
  },
  {
   "cell_type": "code",
   "execution_count": 31,
   "metadata": {},
   "outputs": [],
   "source": [
    "cv = ShuffleSplit(n_splits=5, test_size=.25, random_state=random_state)"
   ]
  },
  {
   "cell_type": "markdown",
   "metadata": {},
   "source": [
    "- Зададим модель"
   ]
  },
  {
   "cell_type": "code",
   "execution_count": 32,
   "metadata": {},
   "outputs": [],
   "source": [
    "model_rougher = SGDRegressor(random_state=random_state)"
   ]
  },
  {
   "cell_type": "markdown",
   "metadata": {},
   "source": [
    "- Зададим параметры для подбора"
   ]
  },
  {
   "cell_type": "code",
   "execution_count": 33,
   "metadata": {},
   "outputs": [],
   "source": [
    "parameters_grid = {\n",
    "    'penalty' : ['l2', 'l1', 'elasticnet'],\n",
    "    'max_iter' : range(1000, 3000, 500),\n",
    "    'loss' : ['squared_loss', 'huber', 'epsilon_insensitive', 'squared_epsilon_insensitive']\n",
    "}"
   ]
  },
  {
   "cell_type": "markdown",
   "metadata": {},
   "source": [
    "- Чтобы сократить время поиска оптимальных параметров по заданному гриду, воспользуемся подходом randomized search, позволяющим отбросить значения параметров при которых достигается заведомо низкая точность модели"
   ]
  },
  {
   "cell_type": "code",
   "execution_count": 34,
   "metadata": {},
   "outputs": [],
   "source": [
    "score_sMAPE = make_scorer(score_func=sMAPE, greater_is_better=False)\n",
    "\n",
    "model_rougher_grid_cv = RandomizedSearchCV(model_rougher, parameters_grid, n_iter=10, scoring=score_sMAPE, cv=cv)"
   ]
  },
  {
   "cell_type": "code",
   "execution_count": 35,
   "metadata": {},
   "outputs": [
    {
     "name": "stdout",
     "output_type": "stream",
     "text": [
      "CPU times: user 25 s, sys: 4.06 s, total: 29.1 s\n",
      "Wall time: 29.6 s\n"
     ]
    },
    {
     "data": {
      "text/plain": [
       "RandomizedSearchCV(cv=ShuffleSplit(n_splits=5, random_state=12345, test_size=0.25, train_size=None),\n",
       "                   error_score='raise-deprecating',\n",
       "                   estimator=SGDRegressor(alpha=0.0001, average=False,\n",
       "                                          early_stopping=False, epsilon=0.1,\n",
       "                                          eta0=0.01, fit_intercept=True,\n",
       "                                          l1_ratio=0.15,\n",
       "                                          learning_rate='invscaling',\n",
       "                                          loss='squared_loss', max_iter=1000,\n",
       "                                          n_iter_no_change=5, penalty='l2',\n",
       "                                          po...\n",
       "                                          warm_start=False),\n",
       "                   iid='warn', n_iter=10, n_jobs=None,\n",
       "                   param_distributions={'loss': ['squared_loss', 'huber',\n",
       "                                                 'epsilon_insensitive',\n",
       "                                                 'squared_epsilon_insensitive'],\n",
       "                                        'max_iter': range(1000, 3000, 500),\n",
       "                                        'penalty': ['l2', 'l1', 'elasticnet']},\n",
       "                   pre_dispatch='2*n_jobs', random_state=None, refit=True,\n",
       "                   return_train_score=False,\n",
       "                   scoring=make_scorer(sMAPE, greater_is_better=False),\n",
       "                   verbose=0)"
      ]
     },
     "execution_count": 35,
     "metadata": {},
     "output_type": "execute_result"
    }
   ],
   "source": [
    "%%time\n",
    "model_rougher_grid_cv.fit(train_features_rougher, train_target_rougher)"
   ]
  },
  {
   "cell_type": "code",
   "execution_count": 36,
   "metadata": {},
   "outputs": [
    {
     "name": "stdout",
     "output_type": "stream",
     "text": [
      "sMAPE наилучшей модели на кросс-валидационной выборке: 4.74156263755115\n",
      "\n",
      "Параметры для наилучшей модели на кросс-валидационной выборке:\n",
      "\n",
      "{'penalty': 'l1', 'max_iter': 1500, 'loss': 'squared_epsilon_insensitive'}\n"
     ]
    }
   ],
   "source": [
    "print('sMAPE наилучшей модели на кросс-валидационной выборке:', abs(model_rougher_grid_cv.best_score_))\n",
    "print()\n",
    "print('Параметры для наилучшей модели на кросс-валидационной выборке:')\n",
    "print()\n",
    "print(model_rougher_grid_cv.best_params_)"
   ]
  },
  {
   "cell_type": "markdown",
   "metadata": {},
   "source": [
    "- Резульатат sMAPE для модели флотации удовлетворительный\n",
    "\n",
    "\n",
    "- Стоит учитывать, что RandomizedSearchCV возвращает значение метрики с обратным знаком"
   ]
  },
  {
   "cell_type": "code",
   "execution_count": 37,
   "metadata": {},
   "outputs": [
    {
     "data": {
      "text/plain": [
       "SGDRegressor(alpha=0.0001, average=False, early_stopping=False, epsilon=0.1,\n",
       "             eta0=0.01, fit_intercept=True, l1_ratio=0.15,\n",
       "             learning_rate='invscaling', loss='squared_epsilon_insensitive',\n",
       "             max_iter=2500, n_iter_no_change=5, penalty='l1', power_t=0.25,\n",
       "             random_state=12345, shuffle=True, tol=0.001,\n",
       "             validation_fraction=0.1, verbose=0, warm_start=False)"
      ]
     },
     "execution_count": 37,
     "metadata": {},
     "output_type": "execute_result"
    }
   ],
   "source": [
    "model_rougher = SGDRegressor(penalty='l1', max_iter=2500, loss='squared_epsilon_insensitive', random_state=random_state)\n",
    "\n",
    "model_rougher.fit(train_features_rougher, train_target_rougher)"
   ]
  },
  {
   "cell_type": "markdown",
   "metadata": {},
   "source": [
    "- Аналогично получим модель для финального этапа, но уже со всеми признаками"
   ]
  },
  {
   "cell_type": "code",
   "execution_count": 38,
   "metadata": {},
   "outputs": [
    {
     "name": "stdout",
     "output_type": "stream",
     "text": [
      "<class 'pandas.core.frame.DataFrame'>\n",
      "Int64Index: 10737 entries, 0 to 16859\n",
      "Data columns (total 53 columns):\n",
      "primary_cleaner.input.sulfate                 10737 non-null float64\n",
      "primary_cleaner.input.depressant              10737 non-null float64\n",
      "primary_cleaner.input.feed_size               10737 non-null float64\n",
      "primary_cleaner.input.xanthate                10737 non-null float64\n",
      "primary_cleaner.state.floatbank8_a_air        10737 non-null float64\n",
      "primary_cleaner.state.floatbank8_a_level      10737 non-null float64\n",
      "primary_cleaner.state.floatbank8_b_air        10737 non-null float64\n",
      "primary_cleaner.state.floatbank8_b_level      10737 non-null float64\n",
      "primary_cleaner.state.floatbank8_c_air        10737 non-null float64\n",
      "primary_cleaner.state.floatbank8_c_level      10737 non-null float64\n",
      "primary_cleaner.state.floatbank8_d_air        10737 non-null float64\n",
      "primary_cleaner.state.floatbank8_d_level      10737 non-null float64\n",
      "rougher.input.feed_ag                         10737 non-null float64\n",
      "rougher.input.feed_pb                         10737 non-null float64\n",
      "rougher.input.feed_rate                       10737 non-null float64\n",
      "rougher.input.feed_size                       10737 non-null float64\n",
      "rougher.input.feed_sol                        10737 non-null float64\n",
      "rougher.input.feed_au                         10737 non-null float64\n",
      "rougher.input.floatbank10_sulfate             10737 non-null float64\n",
      "rougher.input.floatbank10_xanthate            10737 non-null float64\n",
      "rougher.input.floatbank11_sulfate             10737 non-null float64\n",
      "rougher.input.floatbank11_xanthate            10737 non-null float64\n",
      "rougher.state.floatbank10_a_air               10737 non-null float64\n",
      "rougher.state.floatbank10_a_level             10737 non-null float64\n",
      "rougher.state.floatbank10_b_air               10737 non-null float64\n",
      "rougher.state.floatbank10_b_level             10737 non-null float64\n",
      "rougher.state.floatbank10_c_air               10737 non-null float64\n",
      "rougher.state.floatbank10_c_level             10737 non-null float64\n",
      "rougher.state.floatbank10_d_air               10737 non-null float64\n",
      "rougher.state.floatbank10_d_level             10737 non-null float64\n",
      "rougher.state.floatbank10_e_air               10737 non-null float64\n",
      "rougher.state.floatbank10_e_level             10737 non-null float64\n",
      "rougher.state.floatbank10_f_air               10737 non-null float64\n",
      "rougher.state.floatbank10_f_level             10737 non-null float64\n",
      "secondary_cleaner.state.floatbank2_a_air      10737 non-null float64\n",
      "secondary_cleaner.state.floatbank2_a_level    10737 non-null float64\n",
      "secondary_cleaner.state.floatbank2_b_air      10737 non-null float64\n",
      "secondary_cleaner.state.floatbank2_b_level    10737 non-null float64\n",
      "secondary_cleaner.state.floatbank3_a_air      10737 non-null float64\n",
      "secondary_cleaner.state.floatbank3_a_level    10737 non-null float64\n",
      "secondary_cleaner.state.floatbank3_b_air      10737 non-null float64\n",
      "secondary_cleaner.state.floatbank3_b_level    10737 non-null float64\n",
      "secondary_cleaner.state.floatbank4_a_air      10737 non-null float64\n",
      "secondary_cleaner.state.floatbank4_a_level    10737 non-null float64\n",
      "secondary_cleaner.state.floatbank4_b_air      10737 non-null float64\n",
      "secondary_cleaner.state.floatbank4_b_level    10737 non-null float64\n",
      "secondary_cleaner.state.floatbank5_a_air      10737 non-null float64\n",
      "secondary_cleaner.state.floatbank5_a_level    10737 non-null float64\n",
      "secondary_cleaner.state.floatbank5_b_air      10737 non-null float64\n",
      "secondary_cleaner.state.floatbank5_b_level    10737 non-null float64\n",
      "secondary_cleaner.state.floatbank6_a_air      10737 non-null float64\n",
      "secondary_cleaner.state.floatbank6_a_level    10737 non-null float64\n",
      "final.output.recovery                         10737 non-null float64\n",
      "dtypes: float64(53)\n",
      "memory usage: 4.4 MB\n"
     ]
    }
   ],
   "source": [
    "final_columns = []\n",
    "for column in gold_recovery_train.columns:\n",
    "    if column in gold_recovery_test.columns:\n",
    "        final_columns.append(column)\n",
    "\n",
    "        \n",
    "train_final = gold_recovery_train[final_columns+['final.output.recovery']].drop(['date'], axis=1)\n",
    "\n",
    "train_final.info()"
   ]
  },
  {
   "cell_type": "markdown",
   "metadata": {},
   "source": [
    "- Разделим признаки на обучающей выборке"
   ]
  },
  {
   "cell_type": "code",
   "execution_count": 39,
   "metadata": {},
   "outputs": [],
   "source": [
    "train_features_final = train_final.drop(['final.output.recovery'], axis=1)\n",
    "train_target_final = train_final['final.output.recovery']"
   ]
  },
  {
   "cell_type": "markdown",
   "metadata": {},
   "source": [
    "- Проведем масштабирование признаков"
   ]
  },
  {
   "cell_type": "code",
   "execution_count": 40,
   "metadata": {},
   "outputs": [],
   "source": [
    "scaler_final = MinMaxScaler(feature_range=(0, 1))\n",
    "\n",
    "scaler_final.fit(train_features_final) \n",
    "\n",
    "train_features_final = scaler_final.transform(train_features_final)"
   ]
  },
  {
   "cell_type": "markdown",
   "metadata": {},
   "source": [
    "- Зададим модель"
   ]
  },
  {
   "cell_type": "code",
   "execution_count": 41,
   "metadata": {},
   "outputs": [],
   "source": [
    "model_final = SGDRegressor(random_state=random_state)"
   ]
  },
  {
   "cell_type": "markdown",
   "metadata": {},
   "source": [
    "- Чтобы сократить время поиска оптимальных параметров по заданному гриду, воспользуемся подходом randomized search, позволяющим отбросить значения параметров при которых достигается заведомо низкая точность модели"
   ]
  },
  {
   "cell_type": "code",
   "execution_count": 42,
   "metadata": {},
   "outputs": [],
   "source": [
    "model_final_grid_cv = RandomizedSearchCV(model_final, parameters_grid, n_iter=10, scoring=score_sMAPE, cv=cv)"
   ]
  },
  {
   "cell_type": "code",
   "execution_count": 43,
   "metadata": {},
   "outputs": [
    {
     "name": "stdout",
     "output_type": "stream",
     "text": [
      "CPU times: user 27 s, sys: 4.31 s, total: 31.3 s\n",
      "Wall time: 31.6 s\n"
     ]
    },
    {
     "data": {
      "text/plain": [
       "RandomizedSearchCV(cv=ShuffleSplit(n_splits=5, random_state=12345, test_size=0.25, train_size=None),\n",
       "                   error_score='raise-deprecating',\n",
       "                   estimator=SGDRegressor(alpha=0.0001, average=False,\n",
       "                                          early_stopping=False, epsilon=0.1,\n",
       "                                          eta0=0.01, fit_intercept=True,\n",
       "                                          l1_ratio=0.15,\n",
       "                                          learning_rate='invscaling',\n",
       "                                          loss='squared_loss', max_iter=1000,\n",
       "                                          n_iter_no_change=5, penalty='l2',\n",
       "                                          po...\n",
       "                                          warm_start=False),\n",
       "                   iid='warn', n_iter=10, n_jobs=None,\n",
       "                   param_distributions={'loss': ['squared_loss', 'huber',\n",
       "                                                 'epsilon_insensitive',\n",
       "                                                 'squared_epsilon_insensitive'],\n",
       "                                        'max_iter': range(1000, 3000, 500),\n",
       "                                        'penalty': ['l2', 'l1', 'elasticnet']},\n",
       "                   pre_dispatch='2*n_jobs', random_state=None, refit=True,\n",
       "                   return_train_score=False,\n",
       "                   scoring=make_scorer(sMAPE, greater_is_better=False),\n",
       "                   verbose=0)"
      ]
     },
     "execution_count": 43,
     "metadata": {},
     "output_type": "execute_result"
    }
   ],
   "source": [
    "%%time\n",
    "model_final_grid_cv.fit(train_features_final, train_target_final)"
   ]
  },
  {
   "cell_type": "code",
   "execution_count": 44,
   "metadata": {},
   "outputs": [
    {
     "name": "stdout",
     "output_type": "stream",
     "text": [
      "sMAPE наилучшей модели на кросс-валидационной выборке: 7.060859937323921\n",
      "\n",
      "Параметры для наилучшей модели на кросс-валидационной выборке:\n",
      "\n",
      "{'penalty': 'l1', 'max_iter': 2500, 'loss': 'squared_loss'}\n"
     ]
    }
   ],
   "source": [
    "print('sMAPE наилучшей модели на кросс-валидационной выборке:', abs(model_final_grid_cv.best_score_))\n",
    "print()\n",
    "print('Параметры для наилучшей модели на кросс-валидационной выборке:')\n",
    "print()\n",
    "print(model_final_grid_cv.best_params_)"
   ]
  },
  {
   "cell_type": "markdown",
   "metadata": {},
   "source": [
    "- Резульатат sMAPE для модели финального этапа удовлетворительный"
   ]
  },
  {
   "cell_type": "code",
   "execution_count": 45,
   "metadata": {},
   "outputs": [
    {
     "data": {
      "text/plain": [
       "SGDRegressor(alpha=0.0001, average=False, early_stopping=False, epsilon=0.1,\n",
       "             eta0=0.01, fit_intercept=True, l1_ratio=0.15,\n",
       "             learning_rate='invscaling', loss='squared_epsilon_insensitive',\n",
       "             max_iter=2000, n_iter_no_change=5, penalty='l1', power_t=0.25,\n",
       "             random_state=12345, shuffle=True, tol=0.001,\n",
       "             validation_fraction=0.1, verbose=0, warm_start=False)"
      ]
     },
     "execution_count": 45,
     "metadata": {},
     "output_type": "execute_result"
    }
   ],
   "source": [
    "model_final = SGDRegressor(penalty='l1', max_iter=2000, loss='squared_epsilon_insensitive', random_state=random_state)\n",
    "\n",
    "model_final.fit(train_features_final, train_target_final)"
   ]
  },
  {
   "cell_type": "markdown",
   "metadata": {},
   "source": [
    "## Проверим решение на тестовой выборке\n",
    "\n",
    "\n",
    "- В тестовой выборке представлены признаки для предсказания, а настоящие результаты возьмем из исходной выборки"
   ]
  },
  {
   "cell_type": "code",
   "execution_count": 46,
   "metadata": {},
   "outputs": [
    {
     "name": "stdout",
     "output_type": "stream",
     "text": [
      "<class 'pandas.core.frame.DataFrame'>\n",
      "RangeIndex: 5856 entries, 0 to 5855\n",
      "Data columns (total 55 columns):\n",
      "date                                          5856 non-null object\n",
      "primary_cleaner.input.sulfate                 5554 non-null float64\n",
      "primary_cleaner.input.depressant              5572 non-null float64\n",
      "primary_cleaner.input.feed_size               5856 non-null float64\n",
      "primary_cleaner.input.xanthate                5690 non-null float64\n",
      "primary_cleaner.state.floatbank8_a_air        5840 non-null float64\n",
      "primary_cleaner.state.floatbank8_a_level      5840 non-null float64\n",
      "primary_cleaner.state.floatbank8_b_air        5840 non-null float64\n",
      "primary_cleaner.state.floatbank8_b_level      5840 non-null float64\n",
      "primary_cleaner.state.floatbank8_c_air        5840 non-null float64\n",
      "primary_cleaner.state.floatbank8_c_level      5840 non-null float64\n",
      "primary_cleaner.state.floatbank8_d_air        5840 non-null float64\n",
      "primary_cleaner.state.floatbank8_d_level      5840 non-null float64\n",
      "rougher.input.feed_ag                         5840 non-null float64\n",
      "rougher.input.feed_pb                         5840 non-null float64\n",
      "rougher.input.feed_rate                       5816 non-null float64\n",
      "rougher.input.feed_size                       5834 non-null float64\n",
      "rougher.input.feed_sol                        5789 non-null float64\n",
      "rougher.input.feed_au                         5840 non-null float64\n",
      "rougher.input.floatbank10_sulfate             5599 non-null float64\n",
      "rougher.input.floatbank10_xanthate            5733 non-null float64\n",
      "rougher.input.floatbank11_sulfate             5801 non-null float64\n",
      "rougher.input.floatbank11_xanthate            5503 non-null float64\n",
      "rougher.state.floatbank10_a_air               5839 non-null float64\n",
      "rougher.state.floatbank10_a_level             5840 non-null float64\n",
      "rougher.state.floatbank10_b_air               5839 non-null float64\n",
      "rougher.state.floatbank10_b_level             5840 non-null float64\n",
      "rougher.state.floatbank10_c_air               5839 non-null float64\n",
      "rougher.state.floatbank10_c_level             5840 non-null float64\n",
      "rougher.state.floatbank10_d_air               5839 non-null float64\n",
      "rougher.state.floatbank10_d_level             5840 non-null float64\n",
      "rougher.state.floatbank10_e_air               5839 non-null float64\n",
      "rougher.state.floatbank10_e_level             5840 non-null float64\n",
      "rougher.state.floatbank10_f_air               5839 non-null float64\n",
      "rougher.state.floatbank10_f_level             5840 non-null float64\n",
      "secondary_cleaner.state.floatbank2_a_air      5836 non-null float64\n",
      "secondary_cleaner.state.floatbank2_a_level    5840 non-null float64\n",
      "secondary_cleaner.state.floatbank2_b_air      5833 non-null float64\n",
      "secondary_cleaner.state.floatbank2_b_level    5840 non-null float64\n",
      "secondary_cleaner.state.floatbank3_a_air      5822 non-null float64\n",
      "secondary_cleaner.state.floatbank3_a_level    5840 non-null float64\n",
      "secondary_cleaner.state.floatbank3_b_air      5840 non-null float64\n",
      "secondary_cleaner.state.floatbank3_b_level    5840 non-null float64\n",
      "secondary_cleaner.state.floatbank4_a_air      5840 non-null float64\n",
      "secondary_cleaner.state.floatbank4_a_level    5840 non-null float64\n",
      "secondary_cleaner.state.floatbank4_b_air      5840 non-null float64\n",
      "secondary_cleaner.state.floatbank4_b_level    5840 non-null float64\n",
      "secondary_cleaner.state.floatbank5_a_air      5840 non-null float64\n",
      "secondary_cleaner.state.floatbank5_a_level    5840 non-null float64\n",
      "secondary_cleaner.state.floatbank5_b_air      5840 non-null float64\n",
      "secondary_cleaner.state.floatbank5_b_level    5840 non-null float64\n",
      "secondary_cleaner.state.floatbank6_a_air      5840 non-null float64\n",
      "secondary_cleaner.state.floatbank6_a_level    5840 non-null float64\n",
      "rougher.output.recovery                       5310 non-null float64\n",
      "final.output.recovery                         5414 non-null float64\n",
      "dtypes: float64(54), object(1)\n",
      "memory usage: 2.5+ MB\n"
     ]
    }
   ],
   "source": [
    "gold_recovery_test[['rougher.output.recovery', 'final.output.recovery']] = gold_recovery_full.set_index('date')[['rougher.output.recovery', 'final.output.recovery']].loc[gold_recovery_test.set_index('date').index].reset_index().drop('date', axis=1)\n",
    "gold_recovery_test.info()"
   ]
  },
  {
   "cell_type": "markdown",
   "metadata": {},
   "source": [
    "- Удалим пропуски из тестовой выборки"
   ]
  },
  {
   "cell_type": "code",
   "execution_count": 47,
   "metadata": {},
   "outputs": [],
   "source": [
    "gold_recovery_test.dropna(inplace=True)"
   ]
  },
  {
   "cell_type": "markdown",
   "metadata": {},
   "source": [
    "- Подготовим признаки для этапа флотации"
   ]
  },
  {
   "cell_type": "code",
   "execution_count": 48,
   "metadata": {},
   "outputs": [],
   "source": [
    "test_rougher = gold_recovery_test[rougher_columns+['rougher.output.recovery']]\n",
    "\n",
    "test_features_rougher = test_rougher.drop(['rougher.output.recovery'], axis=1)\n",
    "test_target_rougher = test_rougher['rougher.output.recovery']\n",
    "\n",
    "test_features_rougher = scaler_rougher.transform(test_features_rougher)"
   ]
  },
  {
   "cell_type": "markdown",
   "metadata": {},
   "source": [
    "- Рассчитаем sMAPE для этапа флотации"
   ]
  },
  {
   "cell_type": "code",
   "execution_count": 49,
   "metadata": {},
   "outputs": [
    {
     "name": "stdout",
     "output_type": "stream",
     "text": [
      "sMAPE этапа флотации:  7.84367074067682\n"
     ]
    }
   ],
   "source": [
    "predict_rougher = model_rougher.predict(test_features_rougher)\n",
    "sMAPE_rougher = sMAPE(test_target_rougher, predict_rougher)\n",
    "print('sMAPE этапа флотации: ', sMAPE_rougher)"
   ]
  },
  {
   "cell_type": "markdown",
   "metadata": {},
   "source": [
    "- Подготовим признаки для финального этапа"
   ]
  },
  {
   "cell_type": "code",
   "execution_count": 50,
   "metadata": {},
   "outputs": [],
   "source": [
    "test_final = gold_recovery_test[final_columns+['final.output.recovery']].drop(['date'], axis=1)\n",
    "\n",
    "test_features_final = test_final.drop(['final.output.recovery'], axis=1)\n",
    "test_target_final = test_final['final.output.recovery']\n",
    "\n",
    "test_features_final = scaler_final.transform(test_features_final)"
   ]
  },
  {
   "cell_type": "markdown",
   "metadata": {},
   "source": [
    "- Рассчитаем sMAPE для финального этапа"
   ]
  },
  {
   "cell_type": "code",
   "execution_count": 51,
   "metadata": {},
   "outputs": [
    {
     "name": "stdout",
     "output_type": "stream",
     "text": [
      "sMAPE финального этапа:  8.726821342537448\n"
     ]
    }
   ],
   "source": [
    "predict_final = model_final.predict(test_features_final)\n",
    "\n",
    "sMAPE_final = sMAPE(test_target_final, predict_final)\n",
    "\n",
    "print('sMAPE финального этапа: ', sMAPE_final)"
   ]
  },
  {
   "cell_type": "markdown",
   "metadata": {},
   "source": [
    "- Рассчитаем итоговый sMAPE"
   ]
  },
  {
   "cell_type": "code",
   "execution_count": 52,
   "metadata": {},
   "outputs": [
    {
     "name": "stdout",
     "output_type": "stream",
     "text": [
      "Итоговый sMAPE составляет:  8.506033692072291\n"
     ]
    }
   ],
   "source": [
    "sMAPE_result = 0.25*sMAPE_rougher + 0.75*sMAPE_final\n",
    "\n",
    "print('Итоговый sMAPE составляет: ',sMAPE_result)"
   ]
  },
  {
   "cell_type": "markdown",
   "metadata": {},
   "source": [
    "## Сравним результаты обучения с константной моделью"
   ]
  },
  {
   "cell_type": "markdown",
   "metadata": {},
   "source": [
    "- Рассчитаем sMAPE константной модели этапа флотации"
   ]
  },
  {
   "cell_type": "code",
   "execution_count": 53,
   "metadata": {},
   "outputs": [
    {
     "name": "stdout",
     "output_type": "stream",
     "text": [
      "sMAPE константной модели этапа флотации:  8.612817646733935\n"
     ]
    }
   ],
   "source": [
    "dummy_model_rougher = DummyRegressor(strategy='median')\n",
    "    \n",
    "dummy_model_rougher.fit(train_features_rougher, train_target_rougher)\n",
    "\n",
    "dummy_predict_rougher = dummy_model_rougher.predict(test_features_rougher)\n",
    "\n",
    "sMAPE_dummy_rougher = sMAPE(test_target_rougher, dummy_predict_rougher)\n",
    "\n",
    "print('sMAPE константной модели этапа флотации: ', sMAPE_dummy_rougher)"
   ]
  },
  {
   "cell_type": "markdown",
   "metadata": {},
   "source": [
    "- Рассчитаем sMAPE константной модели финального этапа"
   ]
  },
  {
   "cell_type": "code",
   "execution_count": 54,
   "metadata": {},
   "outputs": [
    {
     "name": "stdout",
     "output_type": "stream",
     "text": [
      "sMAPE константной модели финального этапа:  9.25569088156039\n"
     ]
    }
   ],
   "source": [
    "dummy_model_final = DummyRegressor(strategy='median')\n",
    "    \n",
    "dummy_model_final.fit(train_features_final, train_target_final)\n",
    "\n",
    "dummy_predict_final = dummy_model_final.predict(test_features_final)\n",
    "\n",
    "sMAPE_dummy_final = sMAPE(test_target_final, dummy_predict_final)\n",
    "\n",
    "print('sMAPE константной модели финального этапа: ', sMAPE_dummy_final)"
   ]
  },
  {
   "cell_type": "markdown",
   "metadata": {},
   "source": [
    "- Рассчитаем итоговый sMAPE константной модели"
   ]
  },
  {
   "cell_type": "code",
   "execution_count": 55,
   "metadata": {},
   "outputs": [
    {
     "name": "stdout",
     "output_type": "stream",
     "text": [
      "Итоговый sMAPE константной модели составляет:  9.094972572853777\n"
     ]
    }
   ],
   "source": [
    "sMAPE_dummy_result = 0.25*sMAPE_dummy_rougher + 0.75*sMAPE_dummy_final\n",
    "\n",
    "print('Итоговый sMAPE константной модели составляет: ',sMAPE_dummy_result)"
   ]
  },
  {
   "cell_type": "markdown",
   "metadata": {},
   "source": [
    "- Сравним итоговые значения sMAPE"
   ]
  },
  {
   "cell_type": "code",
   "execution_count": 56,
   "metadata": {},
   "outputs": [
    {
     "data": {
      "text/html": [
       "<div>\n",
       "<style scoped>\n",
       "    .dataframe tbody tr th:only-of-type {\n",
       "        vertical-align: middle;\n",
       "    }\n",
       "\n",
       "    .dataframe tbody tr th {\n",
       "        vertical-align: top;\n",
       "    }\n",
       "\n",
       "    .dataframe thead th {\n",
       "        text-align: right;\n",
       "    }\n",
       "</style>\n",
       "<table border=\"1\" class=\"dataframe\">\n",
       "  <thead>\n",
       "    <tr style=\"text-align: right;\">\n",
       "      <th></th>\n",
       "      <th>sMAPE этапа флотации</th>\n",
       "      <th>sMAPE финального этапа</th>\n",
       "      <th>sMAPE итоговый</th>\n",
       "    </tr>\n",
       "    <tr>\n",
       "      <th>Модель</th>\n",
       "      <th></th>\n",
       "      <th></th>\n",
       "      <th></th>\n",
       "    </tr>\n",
       "  </thead>\n",
       "  <tbody>\n",
       "    <tr>\n",
       "      <td>SGDRegressor</td>\n",
       "      <td>7.8</td>\n",
       "      <td>8.7</td>\n",
       "      <td>8.5</td>\n",
       "    </tr>\n",
       "    <tr>\n",
       "      <td>Константная</td>\n",
       "      <td>8.6</td>\n",
       "      <td>9.3</td>\n",
       "      <td>9.1</td>\n",
       "    </tr>\n",
       "  </tbody>\n",
       "</table>\n",
       "</div>"
      ],
      "text/plain": [
       "              sMAPE этапа флотации  sMAPE финального этапа  sMAPE итоговый\n",
       "Модель                                                                    \n",
       "SGDRegressor                   7.8                     8.7             8.5\n",
       "Константная                    8.6                     9.3             9.1"
      ]
     },
     "metadata": {},
     "output_type": "display_data"
    }
   ],
   "source": [
    "data = {'Модель':['SGDRegressor', 'Константная'],\n",
    "        'sMAPE этапа флотации' : [sMAPE_rougher, sMAPE_dummy_rougher],\n",
    "        'sMAPE финального этапа' : [sMAPE_final, sMAPE_dummy_final],\n",
    "        'sMAPE итоговый' : [sMAPE_result, sMAPE_dummy_result]\n",
    "       }\n",
    "\n",
    "results = pd.DataFrame(data)\n",
    "\n",
    "display(results.sort_values(by='sMAPE итоговый', ascending=True).round(1).set_index('Модель'))"
   ]
  },
  {
   "cell_type": "markdown",
   "metadata": {},
   "source": [
    "- Полученная модель SGDRegressor показала более хорошие резульаты метрики sMAPE по сравнению с константной моделью на всех этапах процесс, что говорит об адекватности ее использования"
   ]
  },
  {
   "cell_type": "markdown",
   "metadata": {},
   "source": [
    "- В итоге можно сделать вывод, что значение метрики sMAPE для финального этапа оказалось значительно выше, чем для этапа флотации "
   ]
  }
 ],
 "metadata": {
  "kernelspec": {
   "display_name": "Python 3",
   "language": "python",
   "name": "python3"
  },
  "language_info": {
   "codemirror_mode": {
    "name": "ipython",
    "version": 3
   },
   "file_extension": ".py",
   "mimetype": "text/x-python",
   "name": "python",
   "nbconvert_exporter": "python",
   "pygments_lexer": "ipython3",
   "version": "3.8.5"
  },
  "toc": {
   "base_numbering": 1,
   "nav_menu": {},
   "number_sections": true,
   "sideBar": true,
   "skip_h1_title": true,
   "title_cell": "Table of Contents",
   "title_sidebar": "Contents",
   "toc_cell": false,
   "toc_position": {},
   "toc_section_display": true,
   "toc_window_display": false
  }
 },
 "nbformat": 4,
 "nbformat_minor": 2
}
